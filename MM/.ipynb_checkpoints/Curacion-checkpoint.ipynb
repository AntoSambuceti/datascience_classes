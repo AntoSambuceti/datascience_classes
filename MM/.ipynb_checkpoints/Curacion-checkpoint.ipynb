{
 "cells": [
  {
   "cell_type": "markdown",
   "id": "01e449e8-a788-47fc-97c6-e85de8002a62",
   "metadata": {
    "tags": []
   },
   "source": [
    "# Analisis y curacion de datos - Datos faltantes y ruidosos"
   ]
  },
  {
   "cell_type": "markdown",
   "id": "0ad71829-63bd-4e7e-9b74-51785d03c508",
   "metadata": {
    "tags": []
   },
   "source": [
    "## Datos Ruidosos"
   ]
  },
  {
   "cell_type": "markdown",
   "id": "23a5f5bd-b91a-4cd2-8ce7-406dbbb7f1a8",
   "metadata": {},
   "source": [
    "Casi todos los conjuntos de datos contienen algo de ruido, y cuanto menos ruido haya, mejor (\"más limpio\") será el conjunto de datos. Algunos tipos de ruido son más fáciles de corregir que otros. A veces, eliminar el ruido por completo es simplemente imposible y todo lo que puede hacer es volver a muestrear o esperar lo mejor, teniendo en cuenta que en procesamiento de datos, <span style=\"color:FireBrick\">**cuando entra basura, sale basura.**</span>"
   ]
  },
  {
   "cell_type": "markdown",
   "id": "ef007bfb-fdfa-474a-b2e0-6eff887c22d0",
   "metadata": {},
   "source": [
    "### Tipos de datos ruidosos"
   ]
  },
  {
   "cell_type": "markdown",
   "id": "ffbf98a5-f2ad-4bf8-9b1c-c7220e351a1e",
   "metadata": {},
   "source": [
    "* El <span style=\"color:FireBrick\">**dato erróneo**</span>  es un dato recolectado con algun error, que lo separa de la generalidad. Debe ser inspeccionado y tratado especialmente para determinar si es un <span style=\"color:FireBrick\">**ruido**</span> o un dato importante con baja probabilidad de ocurrir, es decir un  <span style=\"color:FireBrick\">**dato atípico**</span> o <span style=\"color:FireBrick\">**outlier**</span>."
   ]
  },
  {
   "cell_type": "markdown",
   "id": "faf5ba2b-d5a6-4044-b100-add1fb629479",
   "metadata": {},
   "source": [
    "* El <span style=\"color:FireBrick\">**dato faltante**</span> es el un dato que no esta registrado en la database. Dependiendo como se hayan recolectado los datos y escrito el archivo de datos, pueden estar marcados con un <span style=\"color:FireBrick\">**NaN**</span>, o con un número fuera de rango, como <span style=\"color:FireBrick\">**0**</span> o <span style=\"color:FireBrick\">**-1**</span>. Es muy importante reconocer la codificación de datos faltantes, para no confundirlos con un dato válido recolectado. \n",
    "\n"
   ]
  },
  {
   "cell_type": "markdown",
   "id": "8ef5a851-d568-416d-8ab4-ba01c51020b0",
   "metadata": {
    "tags": []
   },
   "source": [
    "### Datos Erróneos\n",
    "\n",
    "Los datos erróneos se dividen en <span style=\"color:FireBrick\">**datos atípicos**</span> y <span style=\"color:FireBrick\">**datos mal codificados**</span>.\n",
    "\n",
    "Los <span style=\"color:FireBrick\">**datos atípicos**</span> son datos reales, sin embargo, pueden producir demasiada desviacion sobre los estadisticos de tendencia central, lo cual los hace candidatos a ser retirados del dataset. \n",
    "\n",
    "Los <span style=\"color:FireBrick\">**datos mal codificados**</span> son la fuente de error mas comun, que en muchos casos no puede ser detectada. Es importante detectar cuando los datos faltantes fueron codificados como valores fuera de rango, por ejemplo el valor <span style=\"color:FireBrick\">**cero**</span>."
   ]
  },
  {
   "cell_type": "markdown",
   "id": "5e06cb64-e1e5-4ad9-89aa-06100efa0b82",
   "metadata": {},
   "source": [
    "### Datos Faltantes\n",
    "\n",
    "Los datos faltantes se dividen en <span style=\"color:FireBrick\">**datos perdidos**</span> y <span style=\"color:FireBrick\">**datos inexistentes**</span>. "
   ]
  },
  {
   "cell_type": "markdown",
   "id": "6ccd3e41-b84a-48c6-814f-b48520e646c5",
   "metadata": {},
   "source": [
    "* Un <span style=\"color:FireBrick\">**dato perdido**</span> es un dato que uno sabe que existe pero dada una recolección fallida o incompleta, no se conoce su valor."
   ]
  },
  {
   "cell_type": "markdown",
   "id": "4bd610cc-20e9-4008-96d0-80871e5d8cea",
   "metadata": {},
   "source": [
    "* Un  <span style=\"color:FireBrick\">**dato inexistente**</span> es un dato faltante, por lo cual es ruido, pero a la vez, no lo es, pues no existe. Esto es, no puede ser recolectado. "
   ]
  },
  {
   "cell_type": "markdown",
   "id": "e2dacfaf-2111-4b47-b3db-4e1a44fe7122",
   "metadata": {},
   "source": [
    "Python no reconoce la diferencia, por lo cual uno debe ser muy cauteloso cuando trabaja con datos de ambas clases. Al leer un archivo con espacios en blanco, automáticamente asigna a ese dato un <span style=\"color:FireBrick\">**NaN**</span> numérico con capacidad de ser imputado. \n"
   ]
  },
  {
   "cell_type": "markdown",
   "id": "f8ef9d27-b798-4bb7-be06-297290f43715",
   "metadata": {},
   "source": [
    "* <span style=\"color:FireBrick\">**NaN**</span> es Not a Number, equivalente a dato no valido. \n",
    "\n",
    "* <span style=\"color:FireBrick\">**None**</span> es un internal Python type (NoneType) y es mas parecido al ''no existente'' o \"vacio\" que al  \"numerically invalid\" en este contexto."
   ]
  },
  {
   "cell_type": "markdown",
   "id": "c2710034-8e84-4bb2-8b0c-41153333ea82",
   "metadata": {},
   "source": [
    "### Dataset: Primer mirada a los datos\n",
    "\n",
    "<span style=\"color:FireBrick\">**Para lidiar con los valores erróneos**</span>, hay que estudiar las distribuciones de las variables y detectar los valores atípicos, teniendo en cuenta la forma de recolección de los datos. Un dato atípico puede ser un valor posible de una variable, o puede ser un error al recolectar los datos. Hay valores atípicos que enmascaran valores faltantes.\n",
    "\n",
    "<span style=\"color:FireBrick\">**Para lidiar con los valores perdidos**</span>, es necesario usar la intuición para averiguar por qué falta el valor. Una de las preguntas más importantes que puede hacerse para ayudar a resolver esto es la siguiente:\n",
    "\n",
    "- <span style=\"color:FireBrick\">**¿Falta este valor porque no se registró o porque no existe?**</span>\n",
    "\n",
    "Por ejemplo\n",
    "\n",
    "- Una casa de 2 dormitorios no incluiría una respuesta para el tamaño del tercer dormitorio.\n",
    "\n",
    "\n",
    "- Alguien que está siendo encuestado puede optar por no compartir sus ingresos.\n",
    "\n",
    "Si falta un valor porque <span style=\"color:FireBrick\">**no existe**</span> (como la altura del hijo mayor de alguien que no tiene hijos), no tiene sentido intentar adivinar cuál podría ser. Estos valores que probablemente desee mantener como NaN, o codificados por un valor constante muy lejos del rango real de la variable. \n",
    "\n",
    "Por otro lado, si falta un valor <span style=\"color:FireBrick\">**porque no se registró**</span>, puede intentar adivinar cuál podría haber sido es valor basándose en los otros valores en esa columna y fila. \n",
    "\n",
    "En estadística, <span style=\"color:FireBrick\">**predecir**</span> es otorgar valor a un dato que todavia no ha sido muestreado, e <span style=\"color:FireBrick\">**imputar**</span> es estimar un valor que puede haber sido muestreado pero no se lo conoce. \n",
    "\n"
   ]
  },
  {
   "cell_type": "markdown",
   "id": "eec0a975-aaf4-4919-9e7b-1cf46df49a0d",
   "metadata": {},
   "source": [
    "### Razones que contribuyen a tener datos faltantes\n",
    "\n",
    "Es importante entender las razones de la pérdida de los datos. En general, se modela la pérdida en tres categorias\n",
    "\n",
    "<span style=\"color:Red\"> 1. Missing Completely at Random (MCAR)</span>\n",
    "\n",
    "Los valores faltantes de una variable dada (Y) no estan asociados con otras variables del dataset dado o con la misma variable (Y). \n",
    "\n",
    "<span style=\"color:Red\"> 2. Missing at Random (MAR)</span>\n",
    "\n",
    "MAR ocurre la pérdida de los datos no es aleatoria, pero puede ser explicada completamente como funcion de otras variables con informacion completa. \n",
    "\n",
    "<span style=\"color:Red\"> 3. Missing Not at Random (MNAR)</span>\n",
    "\n",
    "La pérdida depende de datos no observados o del valor perdido. \n",
    "\n",
    "\n",
    "\n"
   ]
  },
  {
   "cell_type": "markdown",
   "id": "56619bb9-f32f-4daf-ada5-1db2a47a7d1a",
   "metadata": {},
   "source": [
    "### Tratamiento del valor faltante"
   ]
  },
  {
   "cell_type": "markdown",
   "id": "fcc3d66f-8d45-49f1-b136-d70b0be79626",
   "metadata": {},
   "source": [
    "* Eliminar\n",
    "\n",
    "Si la pérdida es completamente aleatoria, MCAR, generalmente el porcentaje de casos con datos faltantes es pequeño, se elimina el caso completo. \n",
    "\n",
    "Si una columna contiene muchos valores faltantes, digamos más del 80%, y la característica no es significativa, es posible que se desee eliminar esa característica. \n",
    "\n",
    "* Imputar\n",
    "\n",
    "Técnicas básicas de imputación reemplazan el dato faltante por\n",
    "\n",
    "    - Un valor constante que tiene significado dentro del dominio, como 0, distinto de todos los demás valores.\n",
    "\n",
    "    - Un valor de otro registro seleccionado al azar.\n",
    "\n",
    "    - Un valor medio, mediano o de moda para la columna.\n",
    "\n",
    "Técnicas avanzadas de imputación reemplazan el dato faltante por\n",
    "\n",
    "    - Un valor estimado por otro modelo predictivo.\n"
   ]
  },
  {
   "cell_type": "markdown",
   "id": "4733b58c-0f4a-4f9e-8e3d-24d306d58159",
   "metadata": {
    "tags": []
   },
   "source": [
    "## Importancion de librerias"
   ]
  },
  {
   "cell_type": "code",
   "execution_count": 81,
   "id": "aca4a524-6156-422e-9cd2-6d865a975270",
   "metadata": {},
   "outputs": [],
   "source": [
    "import matplotlib.pyplot as plt\n",
    "import missingno as msno\n",
    "import numpy as np\n",
    "import pandas as pd\n",
    "import seaborn as sns\n",
    "from sklearn.impute import SimpleImputer\n",
    "\n",
    "from datetime import datetime\n",
    "from dateutil.relativedelta import relativedelta\n",
    "from sklearn.impute import SimpleImputer"
   ]
  },
  {
   "cell_type": "markdown",
   "id": "e70823b3-04e9-4d19-9fa9-6c3bd9f7f3ca",
   "metadata": {
    "tags": []
   },
   "source": [
    "## Importancion de datasets"
   ]
  },
  {
   "cell_type": "code",
   "execution_count": 44,
   "id": "0acbad3e-9e2c-4bf0-ba1b-2eb15191ee7a",
   "metadata": {},
   "outputs": [],
   "source": [
    "url = 'https://raw.githubusercontent.com/MentoriaDiploDatos/Presentacion/main/data.csv'"
   ]
  },
  {
   "cell_type": "code",
   "execution_count": 45,
   "id": "4eaa093e-a695-427c-9cb6-091da61b47ce",
   "metadata": {},
   "outputs": [
    {
     "name": "stderr",
     "output_type": "stream",
     "text": [
      "/var/folders/7p/g2x25rt54zj85__vsg7pyp3c0000gn/T/ipykernel_2569/566845790.py:1: DtypeWarning: Columns (16) have mixed types. Specify dtype option on import or set low_memory=False.\n",
      "  df = pd.read_csv(url, sep=';')\n"
     ]
    }
   ],
   "source": [
    "df = pd.read_csv(url, sep=';')"
   ]
  },
  {
   "cell_type": "code",
   "execution_count": 46,
   "id": "bb4ab10b-6b08-4b5e-b906-52d4eda7c4e0",
   "metadata": {},
   "outputs": [
    {
     "data": {
      "text/html": [
       "<div>\n",
       "<style scoped>\n",
       "    .dataframe tbody tr th:only-of-type {\n",
       "        vertical-align: middle;\n",
       "    }\n",
       "\n",
       "    .dataframe tbody tr th {\n",
       "        vertical-align: top;\n",
       "    }\n",
       "\n",
       "    .dataframe thead th {\n",
       "        text-align: right;\n",
       "    }\n",
       "</style>\n",
       "<table border=\"1\" class=\"dataframe\">\n",
       "  <thead>\n",
       "    <tr style=\"text-align: right;\">\n",
       "      <th></th>\n",
       "      <th>numero_licencia</th>\n",
       "      <th>fecha_creacion</th>\n",
       "      <th>dispositivo_acceso</th>\n",
       "      <th>dias_solicitados</th>\n",
       "      <th>fecha_inicio</th>\n",
       "      <th>fecha_fin</th>\n",
       "      <th>diagnostico</th>\n",
       "      <th>id_diagnostico</th>\n",
       "      <th>id_usuario</th>\n",
       "      <th>fecha_nacimiento</th>\n",
       "      <th>genero</th>\n",
       "      <th>tipo_licencia</th>\n",
       "      <th>estado_civil</th>\n",
       "      <th>dias_aprobados</th>\n",
       "      <th>decision_medica</th>\n",
       "      <th>id_auditor</th>\n",
       "      <th>motivo_rechazo</th>\n",
       "      <th>categoria_diagnostico</th>\n",
       "    </tr>\n",
       "  </thead>\n",
       "  <tbody>\n",
       "    <tr>\n",
       "      <th>0</th>\n",
       "      <td>1</td>\n",
       "      <td>2021-01-01 00:10:10.418</td>\n",
       "      <td>APP</td>\n",
       "      <td>2.0</td>\n",
       "      <td>2021-01-01</td>\n",
       "      <td>2021-01-01</td>\n",
       "      <td>EFECTOS ADVERSOS DE VACUNAS VIRALES</td>\n",
       "      <td>NaN</td>\n",
       "      <td>15508</td>\n",
       "      <td>1979-11-28</td>\n",
       "      <td>FEMALE</td>\n",
       "      <td>Médica</td>\n",
       "      <td>OTHER</td>\n",
       "      <td>2.0</td>\n",
       "      <td>EDITAR_Y_APROBAR</td>\n",
       "      <td>14721.0</td>\n",
       "      <td>NaN</td>\n",
       "      <td>NaN</td>\n",
       "    </tr>\n",
       "    <tr>\n",
       "      <th>1</th>\n",
       "      <td>105</td>\n",
       "      <td>2021-01-02 14:14:20.330</td>\n",
       "      <td>APP</td>\n",
       "      <td>2.0</td>\n",
       "      <td>2021-01-02</td>\n",
       "      <td>2021-01-03</td>\n",
       "      <td>EFECTOS ADVERSOS DE VACUNAS VIRALES</td>\n",
       "      <td>NaN</td>\n",
       "      <td>15508</td>\n",
       "      <td>1979-11-08</td>\n",
       "      <td>FEMALE</td>\n",
       "      <td>Médica</td>\n",
       "      <td>OTHER</td>\n",
       "      <td>2.0</td>\n",
       "      <td>EDITAR_Y_APROBAR</td>\n",
       "      <td>14721.0</td>\n",
       "      <td>NaN</td>\n",
       "      <td>NaN</td>\n",
       "    </tr>\n",
       "    <tr>\n",
       "      <th>2</th>\n",
       "      <td>113806</td>\n",
       "      <td>2021-08-26 09:32:09.396</td>\n",
       "      <td>APP</td>\n",
       "      <td>1.0</td>\n",
       "      <td>2021-08-26</td>\n",
       "      <td>2021-08-26</td>\n",
       "      <td>COLELITIASIS</td>\n",
       "      <td>NaN</td>\n",
       "      <td>3661</td>\n",
       "      <td>1980-10-25</td>\n",
       "      <td>FEMALE</td>\n",
       "      <td>Médica</td>\n",
       "      <td>SINGLE</td>\n",
       "      <td>0.0</td>\n",
       "      <td>RECHAZAR</td>\n",
       "      <td>14721.0</td>\n",
       "      <td>NaN</td>\n",
       "      <td>NaN</td>\n",
       "    </tr>\n",
       "    <tr>\n",
       "      <th>3</th>\n",
       "      <td>333787</td>\n",
       "      <td>2022-08-03 20:29:25.519</td>\n",
       "      <td>APP</td>\n",
       "      <td>1.0</td>\n",
       "      <td>2022-08-03</td>\n",
       "      <td>2022-08-03</td>\n",
       "      <td>LUMBAGO NO ESPECIFICADO. CONTRACTURA DORSAL IN...</td>\n",
       "      <td>22.0</td>\n",
       "      <td>11761</td>\n",
       "      <td>1986-12-01</td>\n",
       "      <td>MALE</td>\n",
       "      <td>Médica</td>\n",
       "      <td>SINGLE</td>\n",
       "      <td>1.0</td>\n",
       "      <td>EDITAR_Y_APROBAR</td>\n",
       "      <td>14721.0</td>\n",
       "      <td>Se aprueba la licencia</td>\n",
       "      <td>TRAUMATOLOGIA Y ORTOPEDIA</td>\n",
       "    </tr>\n",
       "    <tr>\n",
       "      <th>4</th>\n",
       "      <td>428763</td>\n",
       "      <td>2022-12-26 12:41:18.734</td>\n",
       "      <td>APP</td>\n",
       "      <td>2.0</td>\n",
       "      <td>2022-12-26</td>\n",
       "      <td>2022-12-27</td>\n",
       "      <td>COLITIS Y GASTROENTERITIS NO INFECCIOSAS</td>\n",
       "      <td>6.0</td>\n",
       "      <td>11761</td>\n",
       "      <td>1986-12-21</td>\n",
       "      <td>MALE</td>\n",
       "      <td>Médica</td>\n",
       "      <td>SINGLE</td>\n",
       "      <td>2.0</td>\n",
       "      <td>EDITAR_Y_APROBAR</td>\n",
       "      <td>14721.0</td>\n",
       "      <td>Se aprueba la licencia</td>\n",
       "      <td>GASTROINTESTINAL</td>\n",
       "    </tr>\n",
       "  </tbody>\n",
       "</table>\n",
       "</div>"
      ],
      "text/plain": [
       "   numero_licencia           fecha_creacion dispositivo_acceso  \\\n",
       "0                1  2021-01-01 00:10:10.418                APP   \n",
       "1              105  2021-01-02 14:14:20.330                APP   \n",
       "2           113806  2021-08-26 09:32:09.396                APP   \n",
       "3           333787  2022-08-03 20:29:25.519                APP   \n",
       "4           428763  2022-12-26 12:41:18.734                APP   \n",
       "\n",
       "   dias_solicitados fecha_inicio   fecha_fin  \\\n",
       "0               2.0   2021-01-01  2021-01-01   \n",
       "1               2.0   2021-01-02  2021-01-03   \n",
       "2               1.0   2021-08-26  2021-08-26   \n",
       "3               1.0   2022-08-03  2022-08-03   \n",
       "4               2.0   2022-12-26  2022-12-27   \n",
       "\n",
       "                                         diagnostico  id_diagnostico  \\\n",
       "0                EFECTOS ADVERSOS DE VACUNAS VIRALES             NaN   \n",
       "1                EFECTOS ADVERSOS DE VACUNAS VIRALES             NaN   \n",
       "2                                       COLELITIASIS             NaN   \n",
       "3  LUMBAGO NO ESPECIFICADO. CONTRACTURA DORSAL IN...            22.0   \n",
       "4           COLITIS Y GASTROENTERITIS NO INFECCIOSAS             6.0   \n",
       "\n",
       "   id_usuario fecha_nacimiento  genero tipo_licencia estado_civil  \\\n",
       "0       15508       1979-11-28  FEMALE        Médica        OTHER   \n",
       "1       15508       1979-11-08  FEMALE        Médica        OTHER   \n",
       "2        3661       1980-10-25  FEMALE        Médica       SINGLE   \n",
       "3       11761       1986-12-01    MALE        Médica       SINGLE   \n",
       "4       11761       1986-12-21    MALE        Médica       SINGLE   \n",
       "\n",
       "   dias_aprobados   decision_medica  id_auditor          motivo_rechazo  \\\n",
       "0             2.0  EDITAR_Y_APROBAR     14721.0                     NaN   \n",
       "1             2.0  EDITAR_Y_APROBAR     14721.0                     NaN   \n",
       "2             0.0          RECHAZAR     14721.0                     NaN   \n",
       "3             1.0  EDITAR_Y_APROBAR     14721.0  Se aprueba la licencia   \n",
       "4             2.0  EDITAR_Y_APROBAR     14721.0  Se aprueba la licencia   \n",
       "\n",
       "       categoria_diagnostico  \n",
       "0                        NaN  \n",
       "1                        NaN  \n",
       "2                        NaN  \n",
       "3  TRAUMATOLOGIA Y ORTOPEDIA  \n",
       "4           GASTROINTESTINAL  "
      ]
     },
     "execution_count": 46,
     "metadata": {},
     "output_type": "execute_result"
    }
   ],
   "source": [
    "df.head(5)"
   ]
  },
  {
   "cell_type": "markdown",
   "id": "9f0d2ce8-2660-4318-8343-0b9d660b50fb",
   "metadata": {},
   "source": [
    "### Visualización de datos nulos"
   ]
  },
  {
   "cell_type": "code",
   "execution_count": 47,
   "id": "4cf4142c-39c3-438f-84ae-903636c8c5f3",
   "metadata": {},
   "outputs": [
    {
     "name": "stdout",
     "output_type": "stream",
     "text": [
      "<class 'pandas.core.frame.DataFrame'>\n",
      "RangeIndex: 430081 entries, 0 to 430080\n",
      "Data columns (total 18 columns):\n",
      " #   Column                 Non-Null Count   Dtype  \n",
      "---  ------                 --------------   -----  \n",
      " 0   numero_licencia        430081 non-null  int64  \n",
      " 1   fecha_creacion         430081 non-null  object \n",
      " 2   dispositivo_acceso     430081 non-null  object \n",
      " 3   dias_solicitados       424046 non-null  float64\n",
      " 4   fecha_inicio           430081 non-null  object \n",
      " 5   fecha_fin              430080 non-null  object \n",
      " 6   diagnostico            430081 non-null  object \n",
      " 7   id_diagnostico         273060 non-null  float64\n",
      " 8   id_usuario             430081 non-null  int64  \n",
      " 9   fecha_nacimiento       430081 non-null  object \n",
      " 10  genero                 430081 non-null  object \n",
      " 11  tipo_licencia          430081 non-null  object \n",
      " 12  estado_civil           430081 non-null  object \n",
      " 13  dias_aprobados         427003 non-null  float64\n",
      " 14  decision_medica        427003 non-null  object \n",
      " 15  id_auditor             427002 non-null  float64\n",
      " 16  motivo_rechazo         187814 non-null  object \n",
      " 17  categoria_diagnostico  271153 non-null  object \n",
      "dtypes: float64(4), int64(2), object(12)\n",
      "memory usage: 59.1+ MB\n"
     ]
    }
   ],
   "source": [
    "df.info()"
   ]
  },
  {
   "cell_type": "code",
   "execution_count": 48,
   "id": "ebd50704-f505-43db-9443-eac2ac6b9be9",
   "metadata": {},
   "outputs": [
    {
     "data": {
      "text/plain": [
       "numero_licencia               0\n",
       "fecha_creacion                0\n",
       "dispositivo_acceso            0\n",
       "dias_solicitados           6035\n",
       "fecha_inicio                  0\n",
       "fecha_fin                     1\n",
       "diagnostico                   0\n",
       "id_diagnostico           157021\n",
       "id_usuario                    0\n",
       "fecha_nacimiento              0\n",
       "genero                        0\n",
       "tipo_licencia                 0\n",
       "estado_civil                  0\n",
       "dias_aprobados             3078\n",
       "decision_medica            3078\n",
       "id_auditor                 3079\n",
       "motivo_rechazo           242267\n",
       "categoria_diagnostico    158928\n",
       "dtype: int64"
      ]
     },
     "execution_count": 48,
     "metadata": {},
     "output_type": "execute_result"
    }
   ],
   "source": [
    "df.isna().sum()"
   ]
  },
  {
   "cell_type": "code",
   "execution_count": 49,
   "id": "8b3fa8f7-081b-4118-9220-45450757988c",
   "metadata": {},
   "outputs": [
    {
     "data": {
      "text/html": [
       "<div>\n",
       "<style scoped>\n",
       "    .dataframe tbody tr th:only-of-type {\n",
       "        vertical-align: middle;\n",
       "    }\n",
       "\n",
       "    .dataframe tbody tr th {\n",
       "        vertical-align: top;\n",
       "    }\n",
       "\n",
       "    .dataframe thead th {\n",
       "        text-align: right;\n",
       "    }\n",
       "</style>\n",
       "<table border=\"1\" class=\"dataframe\">\n",
       "  <thead>\n",
       "    <tr style=\"text-align: right;\">\n",
       "      <th></th>\n",
       "      <th>numero_licencia</th>\n",
       "      <th>fecha_creacion</th>\n",
       "      <th>dispositivo_acceso</th>\n",
       "      <th>dias_solicitados</th>\n",
       "      <th>fecha_inicio</th>\n",
       "      <th>fecha_fin</th>\n",
       "      <th>diagnostico</th>\n",
       "      <th>id_diagnostico</th>\n",
       "      <th>id_usuario</th>\n",
       "      <th>fecha_nacimiento</th>\n",
       "      <th>genero</th>\n",
       "      <th>tipo_licencia</th>\n",
       "      <th>estado_civil</th>\n",
       "      <th>dias_aprobados</th>\n",
       "      <th>decision_medica</th>\n",
       "      <th>id_auditor</th>\n",
       "      <th>motivo_rechazo</th>\n",
       "      <th>categoria_diagnostico</th>\n",
       "    </tr>\n",
       "  </thead>\n",
       "  <tbody>\n",
       "    <tr>\n",
       "      <th>377354</th>\n",
       "      <td>382804</td>\n",
       "      <td>2022-10-13 11:27:47.117</td>\n",
       "      <td>WEB</td>\n",
       "      <td>10.0</td>\n",
       "      <td>2022-10-13</td>\n",
       "      <td>2022-10-21</td>\n",
       "      <td>RADICULOPATIA O NEURITIS BRAQUIAL, LUMBOSACRA,...</td>\n",
       "      <td>323.0</td>\n",
       "      <td>78929</td>\n",
       "      <td>1956-07-04</td>\n",
       "      <td>MALE</td>\n",
       "      <td>Médica</td>\n",
       "      <td>OTHER</td>\n",
       "      <td>NaN</td>\n",
       "      <td>NaN</td>\n",
       "      <td>NaN</td>\n",
       "      <td>NaN</td>\n",
       "      <td>TRAUMATOLOGIA Y ORTOPEDIA</td>\n",
       "    </tr>\n",
       "    <tr>\n",
       "      <th>377355</th>\n",
       "      <td>388907</td>\n",
       "      <td>2022-10-21 00:13:40.509</td>\n",
       "      <td>APP</td>\n",
       "      <td>14.0</td>\n",
       "      <td>2022-10-21</td>\n",
       "      <td>2022-11-02</td>\n",
       "      <td>TUMOR MALIGNO DE LA VEJIGA URINARIA</td>\n",
       "      <td>374.0</td>\n",
       "      <td>74183</td>\n",
       "      <td>1961-12-26</td>\n",
       "      <td>MALE</td>\n",
       "      <td>Médica</td>\n",
       "      <td>OTHER</td>\n",
       "      <td>NaN</td>\n",
       "      <td>NaN</td>\n",
       "      <td>NaN</td>\n",
       "      <td>NaN</td>\n",
       "      <td>MALIGNOS</td>\n",
       "    </tr>\n",
       "    <tr>\n",
       "      <th>377356</th>\n",
       "      <td>423040</td>\n",
       "      <td>2022-12-14 12:07:41.758</td>\n",
       "      <td>WEB</td>\n",
       "      <td>30.0</td>\n",
       "      <td>2022-12-14</td>\n",
       "      <td>2023-01-11</td>\n",
       "      <td>TRASTORNO DE ANSIEDAD GENERALIZADA</td>\n",
       "      <td>30.0</td>\n",
       "      <td>79341</td>\n",
       "      <td>1965-07-04</td>\n",
       "      <td>MALE</td>\n",
       "      <td>Médica</td>\n",
       "      <td>OTHER</td>\n",
       "      <td>NaN</td>\n",
       "      <td>NaN</td>\n",
       "      <td>NaN</td>\n",
       "      <td>NaN</td>\n",
       "      <td>SALUD MENTAL</td>\n",
       "    </tr>\n",
       "    <tr>\n",
       "      <th>377357</th>\n",
       "      <td>427856</td>\n",
       "      <td>2022-12-22 17:06:23.539</td>\n",
       "      <td>APP</td>\n",
       "      <td>60.0</td>\n",
       "      <td>2022-12-22</td>\n",
       "      <td>2023-02-19</td>\n",
       "      <td>TRASTORNO DEPRESIVO RECURRENTE</td>\n",
       "      <td>37.0</td>\n",
       "      <td>79557</td>\n",
       "      <td>1958-08-05</td>\n",
       "      <td>FEMALE</td>\n",
       "      <td>Médica</td>\n",
       "      <td>OTHER</td>\n",
       "      <td>NaN</td>\n",
       "      <td>NaN</td>\n",
       "      <td>NaN</td>\n",
       "      <td>NaN</td>\n",
       "      <td>SALUD MENTAL</td>\n",
       "    </tr>\n",
       "    <tr>\n",
       "      <th>377358</th>\n",
       "      <td>425859</td>\n",
       "      <td>2022-12-19 12:25:51.443</td>\n",
       "      <td>APP</td>\n",
       "      <td>10.0</td>\n",
       "      <td>2022-12-19</td>\n",
       "      <td>2022-12-25</td>\n",
       "      <td>CIRUGIAS DE LA NARIZ Y DE LOS SENOS PARANASALES</td>\n",
       "      <td>229.0</td>\n",
       "      <td>65317</td>\n",
       "      <td>1989-02-11</td>\n",
       "      <td>FEMALE</td>\n",
       "      <td>Médica</td>\n",
       "      <td>SINGLE</td>\n",
       "      <td>NaN</td>\n",
       "      <td>NaN</td>\n",
       "      <td>NaN</td>\n",
       "      <td>NaN</td>\n",
       "      <td>CIRUGIA</td>\n",
       "    </tr>\n",
       "  </tbody>\n",
       "</table>\n",
       "</div>"
      ],
      "text/plain": [
       "        numero_licencia           fecha_creacion dispositivo_acceso  \\\n",
       "377354           382804  2022-10-13 11:27:47.117                WEB   \n",
       "377355           388907  2022-10-21 00:13:40.509                APP   \n",
       "377356           423040  2022-12-14 12:07:41.758                WEB   \n",
       "377357           427856  2022-12-22 17:06:23.539                APP   \n",
       "377358           425859  2022-12-19 12:25:51.443                APP   \n",
       "\n",
       "        dias_solicitados fecha_inicio   fecha_fin  \\\n",
       "377354              10.0   2022-10-13  2022-10-21   \n",
       "377355              14.0   2022-10-21  2022-11-02   \n",
       "377356              30.0   2022-12-14  2023-01-11   \n",
       "377357              60.0   2022-12-22  2023-02-19   \n",
       "377358              10.0   2022-12-19  2022-12-25   \n",
       "\n",
       "                                              diagnostico  id_diagnostico  \\\n",
       "377354  RADICULOPATIA O NEURITIS BRAQUIAL, LUMBOSACRA,...           323.0   \n",
       "377355                TUMOR MALIGNO DE LA VEJIGA URINARIA           374.0   \n",
       "377356                 TRASTORNO DE ANSIEDAD GENERALIZADA            30.0   \n",
       "377357                     TRASTORNO DEPRESIVO RECURRENTE            37.0   \n",
       "377358    CIRUGIAS DE LA NARIZ Y DE LOS SENOS PARANASALES           229.0   \n",
       "\n",
       "        id_usuario fecha_nacimiento  genero tipo_licencia estado_civil  \\\n",
       "377354       78929       1956-07-04    MALE        Médica        OTHER   \n",
       "377355       74183       1961-12-26    MALE        Médica        OTHER   \n",
       "377356       79341       1965-07-04    MALE        Médica        OTHER   \n",
       "377357       79557       1958-08-05  FEMALE        Médica        OTHER   \n",
       "377358       65317       1989-02-11  FEMALE        Médica       SINGLE   \n",
       "\n",
       "        dias_aprobados decision_medica  id_auditor motivo_rechazo  \\\n",
       "377354             NaN             NaN         NaN            NaN   \n",
       "377355             NaN             NaN         NaN            NaN   \n",
       "377356             NaN             NaN         NaN            NaN   \n",
       "377357             NaN             NaN         NaN            NaN   \n",
       "377358             NaN             NaN         NaN            NaN   \n",
       "\n",
       "            categoria_diagnostico  \n",
       "377354  TRAUMATOLOGIA Y ORTOPEDIA  \n",
       "377355                   MALIGNOS  \n",
       "377356               SALUD MENTAL  \n",
       "377357               SALUD MENTAL  \n",
       "377358                    CIRUGIA  "
      ]
     },
     "execution_count": 49,
     "metadata": {},
     "output_type": "execute_result"
    }
   ],
   "source": [
    "df[df['decision_medica'].isna()].tail(5)"
   ]
  },
  {
   "cell_type": "code",
   "execution_count": 50,
   "id": "410390fd-84c3-4edb-b1ae-a1774997e835",
   "metadata": {},
   "outputs": [
    {
     "data": {
      "text/html": [
       "<div>\n",
       "<style scoped>\n",
       "    .dataframe tbody tr th:only-of-type {\n",
       "        vertical-align: middle;\n",
       "    }\n",
       "\n",
       "    .dataframe tbody tr th {\n",
       "        vertical-align: top;\n",
       "    }\n",
       "\n",
       "    .dataframe thead th {\n",
       "        text-align: right;\n",
       "    }\n",
       "</style>\n",
       "<table border=\"1\" class=\"dataframe\">\n",
       "  <thead>\n",
       "    <tr style=\"text-align: right;\">\n",
       "      <th></th>\n",
       "      <th>numero_licencia</th>\n",
       "      <th>fecha_creacion</th>\n",
       "      <th>dispositivo_acceso</th>\n",
       "      <th>dias_solicitados</th>\n",
       "      <th>fecha_inicio</th>\n",
       "      <th>fecha_fin</th>\n",
       "      <th>diagnostico</th>\n",
       "      <th>id_diagnostico</th>\n",
       "      <th>id_usuario</th>\n",
       "      <th>fecha_nacimiento</th>\n",
       "      <th>genero</th>\n",
       "      <th>tipo_licencia</th>\n",
       "      <th>estado_civil</th>\n",
       "      <th>dias_aprobados</th>\n",
       "      <th>decision_medica</th>\n",
       "      <th>id_auditor</th>\n",
       "      <th>motivo_rechazo</th>\n",
       "      <th>categoria_diagnostico</th>\n",
       "    </tr>\n",
       "  </thead>\n",
       "  <tbody>\n",
       "    <tr>\n",
       "      <th>374907</th>\n",
       "      <td>199766</td>\n",
       "      <td>2021-12-30 20:28:32.987</td>\n",
       "      <td>WEB</td>\n",
       "      <td>10.0</td>\n",
       "      <td>2021-12-30</td>\n",
       "      <td>2022-01-08</td>\n",
       "      <td>CONTACTO ESTRECHO</td>\n",
       "      <td>36.0</td>\n",
       "      <td>41119</td>\n",
       "      <td>1970-06-12</td>\n",
       "      <td>FEMALE</td>\n",
       "      <td>Médica</td>\n",
       "      <td>OTHER</td>\n",
       "      <td>NaN</td>\n",
       "      <td>NaN</td>\n",
       "      <td>NaN</td>\n",
       "      <td>NaN</td>\n",
       "      <td>SIN DEFINICION</td>\n",
       "    </tr>\n",
       "    <tr>\n",
       "      <th>375518</th>\n",
       "      <td>38544</td>\n",
       "      <td>2021-04-26 10:50:07.203</td>\n",
       "      <td>WEB</td>\n",
       "      <td>7.0</td>\n",
       "      <td>2021-04-26</td>\n",
       "      <td>2021-05-02</td>\n",
       "      <td>CONTACTO ESTRECHO</td>\n",
       "      <td>NaN</td>\n",
       "      <td>46736</td>\n",
       "      <td>1965-05-12</td>\n",
       "      <td>FEMALE</td>\n",
       "      <td>Médica</td>\n",
       "      <td>OTHER</td>\n",
       "      <td>NaN</td>\n",
       "      <td>NaN</td>\n",
       "      <td>NaN</td>\n",
       "      <td>NaN</td>\n",
       "      <td>NaN</td>\n",
       "    </tr>\n",
       "    <tr>\n",
       "      <th>375613</th>\n",
       "      <td>42444</td>\n",
       "      <td>2021-05-01 11:02:27.602</td>\n",
       "      <td>APP</td>\n",
       "      <td>8.0</td>\n",
       "      <td>2021-05-01</td>\n",
       "      <td>2021-05-08</td>\n",
       "      <td>CONTACTO ESTRECHO</td>\n",
       "      <td>NaN</td>\n",
       "      <td>36442</td>\n",
       "      <td>1980-08-26</td>\n",
       "      <td>FEMALE</td>\n",
       "      <td>Médica</td>\n",
       "      <td>OTHER</td>\n",
       "      <td>NaN</td>\n",
       "      <td>NaN</td>\n",
       "      <td>NaN</td>\n",
       "      <td>NaN</td>\n",
       "      <td>NaN</td>\n",
       "    </tr>\n",
       "    <tr>\n",
       "      <th>374705</th>\n",
       "      <td>67986</td>\n",
       "      <td>2021-06-11 17:18:37.072</td>\n",
       "      <td>APP</td>\n",
       "      <td>5.0</td>\n",
       "      <td>2021-06-11</td>\n",
       "      <td>2021-06-15</td>\n",
       "      <td>CONTACTO ESTRECHO</td>\n",
       "      <td>NaN</td>\n",
       "      <td>37846</td>\n",
       "      <td>1990-07-13</td>\n",
       "      <td>FEMALE</td>\n",
       "      <td>Médica</td>\n",
       "      <td>SINGLE</td>\n",
       "      <td>NaN</td>\n",
       "      <td>NaN</td>\n",
       "      <td>NaN</td>\n",
       "      <td>NaN</td>\n",
       "      <td>NaN</td>\n",
       "    </tr>\n",
       "    <tr>\n",
       "      <th>376368</th>\n",
       "      <td>241107</td>\n",
       "      <td>2022-03-26 13:46:27.545</td>\n",
       "      <td>WEB</td>\n",
       "      <td>12.0</td>\n",
       "      <td>2022-03-26</td>\n",
       "      <td>2022-04-05</td>\n",
       "      <td>TRAUMATISMO CEREBRAL DIFUSO. COMPRESION TRAUMA...</td>\n",
       "      <td>418.0</td>\n",
       "      <td>56478</td>\n",
       "      <td>1975-09-17</td>\n",
       "      <td>FEMALE</td>\n",
       "      <td>Médica</td>\n",
       "      <td>OTHER</td>\n",
       "      <td>NaN</td>\n",
       "      <td>NaN</td>\n",
       "      <td>NaN</td>\n",
       "      <td>NaN</td>\n",
       "      <td>CEREBRO Y NEUROLOGIA</td>\n",
       "    </tr>\n",
       "  </tbody>\n",
       "</table>\n",
       "</div>"
      ],
      "text/plain": [
       "        numero_licencia           fecha_creacion dispositivo_acceso  \\\n",
       "374907           199766  2021-12-30 20:28:32.987                WEB   \n",
       "375518            38544  2021-04-26 10:50:07.203                WEB   \n",
       "375613            42444  2021-05-01 11:02:27.602                APP   \n",
       "374705            67986  2021-06-11 17:18:37.072                APP   \n",
       "376368           241107  2022-03-26 13:46:27.545                WEB   \n",
       "\n",
       "        dias_solicitados fecha_inicio   fecha_fin  \\\n",
       "374907              10.0   2021-12-30  2022-01-08   \n",
       "375518               7.0   2021-04-26  2021-05-02   \n",
       "375613               8.0   2021-05-01  2021-05-08   \n",
       "374705               5.0   2021-06-11  2021-06-15   \n",
       "376368              12.0   2022-03-26  2022-04-05   \n",
       "\n",
       "                                              diagnostico  id_diagnostico  \\\n",
       "374907                                  CONTACTO ESTRECHO            36.0   \n",
       "375518                                  CONTACTO ESTRECHO             NaN   \n",
       "375613                                  CONTACTO ESTRECHO             NaN   \n",
       "374705                                  CONTACTO ESTRECHO             NaN   \n",
       "376368  TRAUMATISMO CEREBRAL DIFUSO. COMPRESION TRAUMA...           418.0   \n",
       "\n",
       "        id_usuario fecha_nacimiento  genero tipo_licencia estado_civil  \\\n",
       "374907       41119       1970-06-12  FEMALE        Médica        OTHER   \n",
       "375518       46736       1965-05-12  FEMALE        Médica        OTHER   \n",
       "375613       36442       1980-08-26  FEMALE        Médica        OTHER   \n",
       "374705       37846       1990-07-13  FEMALE        Médica       SINGLE   \n",
       "376368       56478       1975-09-17  FEMALE        Médica        OTHER   \n",
       "\n",
       "        dias_aprobados decision_medica  id_auditor motivo_rechazo  \\\n",
       "374907             NaN             NaN         NaN            NaN   \n",
       "375518             NaN             NaN         NaN            NaN   \n",
       "375613             NaN             NaN         NaN            NaN   \n",
       "374705             NaN             NaN         NaN            NaN   \n",
       "376368             NaN             NaN         NaN            NaN   \n",
       "\n",
       "       categoria_diagnostico  \n",
       "374907        SIN DEFINICION  \n",
       "375518                   NaN  \n",
       "375613                   NaN  \n",
       "374705                   NaN  \n",
       "376368  CEREBRO Y NEUROLOGIA  "
      ]
     },
     "execution_count": 50,
     "metadata": {},
     "output_type": "execute_result"
    }
   ],
   "source": [
    "df[df['id_auditor'].isna()].sample(5)"
   ]
  },
  {
   "cell_type": "markdown",
   "id": "291d8da4-e7e4-45a0-8548-a3cb7db5a48f",
   "metadata": {},
   "source": [
    "Debemos visualizar y analizar los datos nulos antes de realizar transformaciones a los datos."
   ]
  },
  {
   "cell_type": "code",
   "execution_count": 51,
   "id": "fe0f4a95-dc35-4c9b-a3f7-0e911fcbebcd",
   "metadata": {},
   "outputs": [
    {
     "data": {
      "text/plain": [
       "0"
      ]
     },
     "execution_count": 51,
     "metadata": {},
     "output_type": "execute_result"
    }
   ],
   "source": [
    "df['id_auditor'].astype('str').isna().sum()"
   ]
  },
  {
   "cell_type": "code",
   "execution_count": 52,
   "id": "a38a46a2-c31c-4b4e-a681-d119054b245e",
   "metadata": {},
   "outputs": [],
   "source": [
    "df['id_auditor'] = df['id_auditor'].apply(lambda x: str(x))"
   ]
  },
  {
   "cell_type": "code",
   "execution_count": 53,
   "id": "b6b9a0dc-8359-41ec-832b-71199c3626d1",
   "metadata": {},
   "outputs": [
    {
     "data": {
      "text/html": [
       "<div>\n",
       "<style scoped>\n",
       "    .dataframe tbody tr th:only-of-type {\n",
       "        vertical-align: middle;\n",
       "    }\n",
       "\n",
       "    .dataframe tbody tr th {\n",
       "        vertical-align: top;\n",
       "    }\n",
       "\n",
       "    .dataframe thead th {\n",
       "        text-align: right;\n",
       "    }\n",
       "</style>\n",
       "<table border=\"1\" class=\"dataframe\">\n",
       "  <thead>\n",
       "    <tr style=\"text-align: right;\">\n",
       "      <th></th>\n",
       "      <th>numero_licencia</th>\n",
       "      <th>fecha_creacion</th>\n",
       "      <th>dispositivo_acceso</th>\n",
       "      <th>dias_solicitados</th>\n",
       "      <th>fecha_inicio</th>\n",
       "      <th>fecha_fin</th>\n",
       "      <th>diagnostico</th>\n",
       "      <th>id_diagnostico</th>\n",
       "      <th>id_usuario</th>\n",
       "      <th>fecha_nacimiento</th>\n",
       "      <th>genero</th>\n",
       "      <th>tipo_licencia</th>\n",
       "      <th>estado_civil</th>\n",
       "      <th>dias_aprobados</th>\n",
       "      <th>decision_medica</th>\n",
       "      <th>id_auditor</th>\n",
       "      <th>motivo_rechazo</th>\n",
       "      <th>categoria_diagnostico</th>\n",
       "    </tr>\n",
       "  </thead>\n",
       "  <tbody>\n",
       "    <tr>\n",
       "      <th>374482</th>\n",
       "      <td>57437</td>\n",
       "      <td>2021-05-26 10:22:45.875</td>\n",
       "      <td>WEB</td>\n",
       "      <td>2.0</td>\n",
       "      <td>2021-05-26</td>\n",
       "      <td>2021-05-27</td>\n",
       "      <td>CONTACTO ESTRECHO</td>\n",
       "      <td>NaN</td>\n",
       "      <td>17217</td>\n",
       "      <td>1970-12-30</td>\n",
       "      <td>FEMALE</td>\n",
       "      <td>Médica</td>\n",
       "      <td>DIVORCED</td>\n",
       "      <td>NaN</td>\n",
       "      <td>NaN</td>\n",
       "      <td>nan</td>\n",
       "      <td>NaN</td>\n",
       "      <td>NaN</td>\n",
       "    </tr>\n",
       "  </tbody>\n",
       "</table>\n",
       "</div>"
      ],
      "text/plain": [
       "        numero_licencia           fecha_creacion dispositivo_acceso  \\\n",
       "374482            57437  2021-05-26 10:22:45.875                WEB   \n",
       "\n",
       "        dias_solicitados fecha_inicio   fecha_fin        diagnostico  \\\n",
       "374482               2.0   2021-05-26  2021-05-27  CONTACTO ESTRECHO   \n",
       "\n",
       "        id_diagnostico  id_usuario fecha_nacimiento  genero tipo_licencia  \\\n",
       "374482             NaN       17217       1970-12-30  FEMALE        Médica   \n",
       "\n",
       "       estado_civil  dias_aprobados decision_medica id_auditor motivo_rechazo  \\\n",
       "374482     DIVORCED             NaN             NaN        nan            NaN   \n",
       "\n",
       "       categoria_diagnostico  \n",
       "374482                   NaN  "
      ]
     },
     "execution_count": 53,
     "metadata": {},
     "output_type": "execute_result"
    }
   ],
   "source": [
    "df.iloc[[374482]]"
   ]
  },
  {
   "cell_type": "markdown",
   "id": "90ff2dcd-d43c-4a97-9abd-a697aee84953",
   "metadata": {},
   "source": [
    "#### Análisis con librería missigno"
   ]
  },
  {
   "cell_type": "code",
   "execution_count": 54,
   "id": "4c378cc2-6842-462f-92d2-5b5fc2e3854d",
   "metadata": {},
   "outputs": [
    {
     "data": {
      "text/plain": [
       "<AxesSubplot:>"
      ]
     },
     "execution_count": 54,
     "metadata": {},
     "output_type": "execute_result"
    },
    {
     "data": {
      "image/png": "[encoded data removed]",
      "text/plain": [
       "<Figure size 864x432 with 3 Axes>"
      ]
     },
     "metadata": {
      "needs_background": "light"
     },
     "output_type": "display_data"
    }
   ],
   "source": [
    "msno.bar(df,figsize=(12, 6), sort=\"ascending\",fontsize=12, color='tomato',label_rotation=90) "
   ]
  },
  {
   "cell_type": "code",
   "execution_count": 55,
   "id": "61ccfe7b-079a-4f81-9f39-d497e0de3ef4",
   "metadata": {},
   "outputs": [
    {
     "data": {
      "text/plain": [
       "<AxesSubplot:>"
      ]
     },
     "execution_count": 55,
     "metadata": {},
     "output_type": "execute_result"
    },
    {
     "data": {
      "image/png": "[encoded data removed]",
      "text/plain": [
       "<Figure size 864x432 with 2 Axes>"
      ]
     },
     "metadata": {
      "needs_background": "light"
     },
     "output_type": "display_data"
    }
   ],
   "source": [
    "msno.matrix(df,figsize=(12, 6), fontsize=12, color=[0,0,0.2],label_rotation=90) "
   ]
  },
  {
   "cell_type": "code",
   "execution_count": 56,
   "id": "96bb6cbc-45bb-46b4-ac31-e6e577d7dbd2",
   "metadata": {},
   "outputs": [
    {
     "data": {
      "text/plain": [
       "<AxesSubplot:>"
      ]
     },
     "execution_count": 56,
     "metadata": {},
     "output_type": "execute_result"
    },
    {
     "data": {
      "image/png": "[encoded data removed]",
      "text/plain": [
       "<Figure size 864x432 with 2 Axes>"
      ]
     },
     "metadata": {
      "needs_background": "light"
     },
     "output_type": "display_data"
    }
   ],
   "source": [
    "msno.heatmap(df,figsize=(12, 6), fontsize=12,label_rotation=90)"
   ]
  },
  {
   "cell_type": "code",
   "execution_count": 57,
   "id": "2c3657db-f13f-4671-8b58-37343544ac2b",
   "metadata": {},
   "outputs": [
    {
     "data": {
      "text/plain": [
       "numero_licencia           0.0\n",
       "fecha_creacion            0.0\n",
       "dispositivo_acceso        0.0\n",
       "dias_solicitados          1.0\n",
       "fecha_inicio              0.0\n",
       "fecha_fin                 0.0\n",
       "diagnostico               0.0\n",
       "id_diagnostico           37.0\n",
       "id_usuario                0.0\n",
       "fecha_nacimiento          0.0\n",
       "genero                    0.0\n",
       "tipo_licencia             0.0\n",
       "estado_civil              0.0\n",
       "dias_aprobados            1.0\n",
       "decision_medica           1.0\n",
       "id_auditor                0.0\n",
       "motivo_rechazo           56.0\n",
       "categoria_diagnostico    37.0\n",
       "dtype: float64"
      ]
     },
     "execution_count": 57,
     "metadata": {},
     "output_type": "execute_result"
    }
   ],
   "source": [
    "round(df.isna().sum()/df.shape[0],2)*100"
   ]
  },
  {
   "cell_type": "markdown",
   "id": "e3bb4790-f37a-4fe6-abd1-a31d48744e77",
   "metadata": {},
   "source": [
    "#### Técnicas de imputación: Eliminar"
   ]
  },
  {
   "cell_type": "markdown",
   "id": "623d8812-e076-457b-a13b-cd33800b8440",
   "metadata": {},
   "source": [
    "Eliminar filas completas con nulos en alguna columna en particular."
   ]
  },
  {
   "cell_type": "code",
   "execution_count": 58,
   "id": "f485a469-30e0-46ca-88ec-5e9d9029f30f",
   "metadata": {},
   "outputs": [
    {
     "data": {
      "text/plain": [
       "3078"
      ]
     },
     "execution_count": 58,
     "metadata": {},
     "output_type": "execute_result"
    }
   ],
   "source": [
    "df['decision_medica'].isna().sum()"
   ]
  },
  {
   "cell_type": "code",
   "execution_count": 59,
   "id": "b20e246a-0bc8-4054-8af2-37006c6ab1b8",
   "metadata": {},
   "outputs": [
    {
     "data": {
      "text/plain": [
       "0"
      ]
     },
     "execution_count": 59,
     "metadata": {},
     "output_type": "execute_result"
    }
   ],
   "source": [
    "df.dropna(subset=['decision_medica'],how='any',inplace=True)\n",
    "df['decision_medica'].isna().sum()"
   ]
  },
  {
   "cell_type": "code",
   "execution_count": 60,
   "id": "79d28169-7319-40bc-8f8e-5b63e921d25d",
   "metadata": {},
   "outputs": [
    {
     "data": {
      "text/plain": [
       "(427003, 18)"
      ]
     },
     "execution_count": 60,
     "metadata": {},
     "output_type": "execute_result"
    }
   ],
   "source": [
    "df.shape"
   ]
  },
  {
   "cell_type": "code",
   "execution_count": 61,
   "id": "2f205b3f-ce88-46be-9fd1-5a2b379a6ac4",
   "metadata": {},
   "outputs": [
    {
     "data": {
      "text/plain": [
       "numero_licencia               0\n",
       "fecha_creacion                0\n",
       "dispositivo_acceso            0\n",
       "dias_solicitados           6034\n",
       "fecha_inicio                  0\n",
       "fecha_fin                     0\n",
       "diagnostico                   0\n",
       "id_diagnostico           155134\n",
       "id_usuario                    0\n",
       "fecha_nacimiento              0\n",
       "genero                        0\n",
       "tipo_licencia                 0\n",
       "estado_civil                  0\n",
       "dias_aprobados                0\n",
       "decision_medica               0\n",
       "id_auditor                    0\n",
       "motivo_rechazo           239189\n",
       "categoria_diagnostico    157025\n",
       "dtype: int64"
      ]
     },
     "execution_count": 61,
     "metadata": {},
     "output_type": "execute_result"
    }
   ],
   "source": [
    "df.isna().sum()"
   ]
  },
  {
   "cell_type": "code",
   "execution_count": 62,
   "id": "c58022f5-17f4-42b5-b65d-7d145dd9787f",
   "metadata": {},
   "outputs": [
    {
     "data": {
      "text/plain": [
       "3078"
      ]
     },
     "execution_count": 62,
     "metadata": {},
     "output_type": "execute_result"
    }
   ],
   "source": [
    "430081 - 427003"
   ]
  },
  {
   "cell_type": "markdown",
   "id": "4e17ca3a-cf58-4784-b405-10c2cbbb8128",
   "metadata": {},
   "source": [
    "Eliminar columnas completas que no me aportan valor y tienen alto porcentaje de datos nulos "
   ]
  },
  {
   "cell_type": "code",
   "execution_count": 63,
   "id": "56392b83-b9b7-488d-9b73-abb14e2332f3",
   "metadata": {},
   "outputs": [],
   "source": [
    "df.drop(columns=['motivo_rechazo'],inplace=True) "
   ]
  },
  {
   "cell_type": "markdown",
   "id": "8b4edfc9-9a1d-4a62-ad4a-2b6669d1263f",
   "metadata": {},
   "source": [
    "#### Técnicas de imputación: Imputar"
   ]
  },
  {
   "cell_type": "markdown",
   "id": "f44f889d-d2ef-4512-a78f-be41b76e452d",
   "metadata": {},
   "source": [
    "- De forma manual"
   ]
  },
  {
   "cell_type": "code",
   "execution_count": 64,
   "id": "775a4b9d-4de4-4de3-a4a7-703c5b7a389d",
   "metadata": {},
   "outputs": [
    {
     "data": {
      "text/plain": [
       "count    420969.000000\n",
       "mean          5.359012\n",
       "std           8.387828\n",
       "min           0.000000\n",
       "25%           2.000000\n",
       "50%           3.000000\n",
       "75%           7.000000\n",
       "max         365.000000\n",
       "Name: dias_solicitados, dtype: float64"
      ]
     },
     "execution_count": 64,
     "metadata": {},
     "output_type": "execute_result"
    }
   ],
   "source": [
    "df['dias_solicitados'].describe()"
   ]
  },
  {
   "cell_type": "code",
   "execution_count": 65,
   "id": "a9f4a3fb-dc5e-4087-a8fb-004a3d8df0cc",
   "metadata": {},
   "outputs": [],
   "source": [
    "df_mean = df.copy()\n",
    "df_const = df.copy()\n",
    "df_aprob = df.copy()"
   ]
  },
  {
   "cell_type": "code",
   "execution_count": 134,
   "id": "8038040c-eff6-4c3e-a760-c2b577323316",
   "metadata": {},
   "outputs": [
    {
     "data": {
      "text/plain": [
       "(427003, 18)"
      ]
     },
     "execution_count": 134,
     "metadata": {},
     "output_type": "execute_result"
    }
   ],
   "source": [
    "df.shape"
   ]
  },
  {
   "cell_type": "code",
   "execution_count": 66,
   "id": "46e58b2c-87db-40cf-97e5-ab5670108c22",
   "metadata": {},
   "outputs": [],
   "source": [
    "df_const.loc[df_const['dias_solicitados'].isna(),'dias_solicitados'] = df_const['dias_solicitados'].fillna(0)"
   ]
  },
  {
   "cell_type": "code",
   "execution_count": 67,
   "id": "6b29eaf7-8836-40e5-930c-9032fa335c39",
   "metadata": {
    "tags": []
   },
   "outputs": [
    {
     "data": {
      "text/plain": [
       "count    427003.000000\n",
       "mean          5.283284\n",
       "std           8.352338\n",
       "min           0.000000\n",
       "25%           2.000000\n",
       "50%           2.000000\n",
       "75%           7.000000\n",
       "max         365.000000\n",
       "Name: dias_solicitados, dtype: float64"
      ]
     },
     "execution_count": 67,
     "metadata": {},
     "output_type": "execute_result"
    }
   ],
   "source": [
    "df_const['dias_solicitados'].describe()"
   ]
  },
  {
   "cell_type": "code",
   "execution_count": 68,
   "id": "0257b38a-d1ac-4ed1-b383-64b34a2f8b3a",
   "metadata": {},
   "outputs": [],
   "source": [
    "mean = df['dias_solicitados'].mean()"
   ]
  },
  {
   "cell_type": "code",
   "execution_count": 69,
   "id": "2d1dfb03-5c99-4934-ae78-23268c187e3a",
   "metadata": {
    "tags": []
   },
   "outputs": [
    {
     "data": {
      "text/plain": [
       "count    427003.000000\n",
       "mean          5.359012\n",
       "std           8.328353\n",
       "min           0.000000\n",
       "25%           2.000000\n",
       "50%           3.000000\n",
       "75%           7.000000\n",
       "max         365.000000\n",
       "Name: dias_solicitados, dtype: float64"
      ]
     },
     "execution_count": 69,
     "metadata": {},
     "output_type": "execute_result"
    }
   ],
   "source": [
    "df_mean.loc[df_mean['dias_solicitados'].isna(),'dias_solicitados'] = df_mean['dias_solicitados'].fillna(mean)\n",
    "df_mean['dias_solicitados'].describe()"
   ]
  },
  {
   "cell_type": "code",
   "execution_count": 70,
   "id": "5052d0fe-3848-4bdf-a6ba-bc7bff6cc862",
   "metadata": {},
   "outputs": [],
   "source": [
    "df_aprob.loc[df_aprob['dias_solicitados'].isna(),'dias_solicitados'] = df_aprob.loc[df_aprob['dias_solicitados'].isna()]['dias_aprobados']"
   ]
  },
  {
   "cell_type": "code",
   "execution_count": 71,
   "id": "c056b2d6-7f41-4bd7-ab4a-b5f92e6ab598",
   "metadata": {},
   "outputs": [
    {
     "data": {
      "text/plain": [
       "count    427003.000000\n",
       "mean          5.414037\n",
       "std           8.400207\n",
       "min           0.000000\n",
       "25%           2.000000\n",
       "50%           3.000000\n",
       "75%           7.000000\n",
       "max         365.000000\n",
       "Name: dias_solicitados, dtype: float64"
      ]
     },
     "execution_count": 71,
     "metadata": {},
     "output_type": "execute_result"
    }
   ],
   "source": [
    "df_aprob['dias_solicitados'].describe()"
   ]
  },
  {
   "cell_type": "markdown",
   "id": "f273361f-e36b-4c70-b3d5-2ba17e42026b",
   "metadata": {},
   "source": [
    "- Con Simple Imputer"
   ]
  },
  {
   "cell_type": "code",
   "execution_count": 139,
   "id": "8a3ffd0c-3bfc-41e3-bdde-5d3d97dd93c8",
   "metadata": {
    "tags": []
   },
   "outputs": [
    {
     "data": {
      "text/plain": [
       "count    427003.000000\n",
       "mean          5.359012\n",
       "std           8.328353\n",
       "min           0.000000\n",
       "25%           2.000000\n",
       "50%           3.000000\n",
       "75%           7.000000\n",
       "max         365.000000\n",
       "Name: dias_solicitados, dtype: float64"
      ]
     },
     "execution_count": 139,
     "metadata": {},
     "output_type": "execute_result"
    }
   ],
   "source": [
    "const_imputer = SimpleImputer(missing_values=np.nan,strategy='constant',fill_value=0) \n",
    "\n",
    "df_const = df.copy()\n",
    "\n",
    "df_const.loc[:,'dias_solicitados'] = const_imputer.fit_transform(df_const[['dias_solicitados']])\n",
    "df_const['dias_solicitados'].describe()"
   ]
  },
  {
   "cell_type": "code",
   "execution_count": 141,
   "id": "5d045809-6a6c-4a4f-8c31-5b35fc9c3473",
   "metadata": {
    "collapsed": true,
    "jupyter": {
     "outputs_hidden": true
    },
    "tags": []
   },
   "outputs": [
    {
     "name": "stdout",
     "output_type": "stream",
     "text": [
      "Help on class SimpleImputer in module sklearn.impute._base:\n",
      "\n",
      "class SimpleImputer(_BaseImputer)\n",
      " |  SimpleImputer(*, missing_values=nan, strategy='mean', fill_value=None, verbose=0, copy=True, add_indicator=False)\n",
      " |  \n",
      " |  Imputation transformer for completing missing values.\n",
      " |  \n",
      " |  Read more in the :ref:`User Guide <impute>`.\n",
      " |  \n",
      " |  .. versionadded:: 0.20\n",
      " |     `SimpleImputer` replaces the previous `sklearn.preprocessing.Imputer`\n",
      " |     estimator which is now removed.\n",
      " |  \n",
      " |  Parameters\n",
      " |  ----------\n",
      " |  missing_values : int, float, str, np.nan or None, default=np.nan\n",
      " |      The placeholder for the missing values. All occurrences of\n",
      " |      `missing_values` will be imputed. For pandas' dataframes with\n",
      " |      nullable integer dtypes with missing values, `missing_values`\n",
      " |      should be set to `np.nan`, since `pd.NA` will be converted to `np.nan`.\n",
      " |  \n",
      " |  strategy : str, default='mean'\n",
      " |      The imputation strategy.\n",
      " |  \n",
      " |      - If \"mean\", then replace missing values using the mean along\n",
      " |        each column. Can only be used with numeric data.\n",
      " |      - If \"median\", then replace missing values using the median along\n",
      " |        each column. Can only be used with numeric data.\n",
      " |      - If \"most_frequent\", then replace missing using the most frequent\n",
      " |        value along each column. Can be used with strings or numeric data.\n",
      " |        If there is more than one such value, only the smallest is returned.\n",
      " |      - If \"constant\", then replace missing values with fill_value. Can be\n",
      " |        used with strings or numeric data.\n",
      " |  \n",
      " |      .. versionadded:: 0.20\n",
      " |         strategy=\"constant\" for fixed value imputation.\n",
      " |  \n",
      " |  fill_value : str or numerical value, default=None\n",
      " |      When strategy == \"constant\", fill_value is used to replace all\n",
      " |      occurrences of missing_values.\n",
      " |      If left to the default, fill_value will be 0 when imputing numerical\n",
      " |      data and \"missing_value\" for strings or object data types.\n",
      " |  \n",
      " |  verbose : int, default=0\n",
      " |      Controls the verbosity of the imputer.\n",
      " |  \n",
      " |  copy : bool, default=True\n",
      " |      If True, a copy of `X` will be created. If False, imputation will\n",
      " |      be done in-place whenever possible. Note that, in the following cases,\n",
      " |      a new copy will always be made, even if `copy=False`:\n",
      " |  \n",
      " |      - If `X` is not an array of floating values;\n",
      " |      - If `X` is encoded as a CSR matrix;\n",
      " |      - If `add_indicator=True`.\n",
      " |  \n",
      " |  add_indicator : bool, default=False\n",
      " |      If True, a :class:`MissingIndicator` transform will stack onto output\n",
      " |      of the imputer's transform. This allows a predictive estimator\n",
      " |      to account for missingness despite imputation. If a feature has no\n",
      " |      missing values at fit/train time, the feature won't appear on\n",
      " |      the missing indicator even if there are missing values at\n",
      " |      transform/test time.\n",
      " |  \n",
      " |  Attributes\n",
      " |  ----------\n",
      " |  statistics_ : array of shape (n_features,)\n",
      " |      The imputation fill value for each feature.\n",
      " |      Computing statistics can result in `np.nan` values.\n",
      " |      During :meth:`transform`, features corresponding to `np.nan`\n",
      " |      statistics will be discarded.\n",
      " |  \n",
      " |  indicator_ : :class:`~sklearn.impute.MissingIndicator`\n",
      " |      Indicator used to add binary indicators for missing values.\n",
      " |      `None` if `add_indicator=False`.\n",
      " |  \n",
      " |  n_features_in_ : int\n",
      " |      Number of features seen during :term:`fit`.\n",
      " |  \n",
      " |      .. versionadded:: 0.24\n",
      " |  \n",
      " |  feature_names_in_ : ndarray of shape (`n_features_in_`,)\n",
      " |      Names of features seen during :term:`fit`. Defined only when `X`\n",
      " |      has feature names that are all strings.\n",
      " |  \n",
      " |      .. versionadded:: 1.0\n",
      " |  \n",
      " |  See Also\n",
      " |  --------\n",
      " |  IterativeImputer : Multivariate imputation of missing values.\n",
      " |  \n",
      " |  Notes\n",
      " |  -----\n",
      " |  Columns which only contained missing values at :meth:`fit` are discarded\n",
      " |  upon :meth:`transform` if strategy is not `\"constant\"`.\n",
      " |  \n",
      " |  Examples\n",
      " |  --------\n",
      " |  >>> import numpy as np\n",
      " |  >>> from sklearn.impute import SimpleImputer\n",
      " |  >>> imp_mean = SimpleImputer(missing_values=np.nan, strategy='mean')\n",
      " |  >>> imp_mean.fit([[7, 2, 3], [4, np.nan, 6], [10, 5, 9]])\n",
      " |  SimpleImputer()\n",
      " |  >>> X = [[np.nan, 2, 3], [4, np.nan, 6], [10, np.nan, 9]]\n",
      " |  >>> print(imp_mean.transform(X))\n",
      " |  [[ 7.   2.   3. ]\n",
      " |   [ 4.   3.5  6. ]\n",
      " |   [10.   3.5  9. ]]\n",
      " |  \n",
      " |  Method resolution order:\n",
      " |      SimpleImputer\n",
      " |      _BaseImputer\n",
      " |      sklearn.base.TransformerMixin\n",
      " |      sklearn.base.BaseEstimator\n",
      " |      builtins.object\n",
      " |  \n",
      " |  Methods defined here:\n",
      " |  \n",
      " |  __init__(self, *, missing_values=nan, strategy='mean', fill_value=None, verbose=0, copy=True, add_indicator=False)\n",
      " |      Initialize self.  See help(type(self)) for accurate signature.\n",
      " |  \n",
      " |  fit(self, X, y=None)\n",
      " |      Fit the imputer on `X`.\n",
      " |      \n",
      " |      Parameters\n",
      " |      ----------\n",
      " |      X : {array-like, sparse matrix}, shape (n_samples, n_features)\n",
      " |          Input data, where `n_samples` is the number of samples and\n",
      " |          `n_features` is the number of features.\n",
      " |      \n",
      " |      y : Ignored\n",
      " |          Not used, present here for API consistency by convention.\n",
      " |      \n",
      " |      Returns\n",
      " |      -------\n",
      " |      self : object\n",
      " |          Fitted estimator.\n",
      " |  \n",
      " |  inverse_transform(self, X)\n",
      " |      Convert the data back to the original representation.\n",
      " |      \n",
      " |      Inverts the `transform` operation performed on an array.\n",
      " |      This operation can only be performed after :class:`SimpleImputer` is\n",
      " |      instantiated with `add_indicator=True`.\n",
      " |      \n",
      " |      Note that `inverse_transform` can only invert the transform in\n",
      " |      features that have binary indicators for missing values. If a feature\n",
      " |      has no missing values at `fit` time, the feature won't have a binary\n",
      " |      indicator, and the imputation done at `transform` time won't be\n",
      " |      inverted.\n",
      " |      \n",
      " |      .. versionadded:: 0.24\n",
      " |      \n",
      " |      Parameters\n",
      " |      ----------\n",
      " |      X : array-like of shape                 (n_samples, n_features + n_features_missing_indicator)\n",
      " |          The imputed data to be reverted to original data. It has to be\n",
      " |          an augmented array of imputed data and the missing indicator mask.\n",
      " |      \n",
      " |      Returns\n",
      " |      -------\n",
      " |      X_original : ndarray of shape (n_samples, n_features)\n",
      " |          The original `X` with missing values as it was prior\n",
      " |          to imputation.\n",
      " |  \n",
      " |  transform(self, X)\n",
      " |      Impute all missing values in `X`.\n",
      " |      \n",
      " |      Parameters\n",
      " |      ----------\n",
      " |      X : {array-like, sparse matrix}, shape (n_samples, n_features)\n",
      " |          The input data to complete.\n",
      " |      \n",
      " |      Returns\n",
      " |      -------\n",
      " |      X_imputed : {ndarray, sparse matrix} of shape                 (n_samples, n_features_out)\n",
      " |          `X` with imputed values.\n",
      " |  \n",
      " |  ----------------------------------------------------------------------\n",
      " |  Methods inherited from sklearn.base.TransformerMixin:\n",
      " |  \n",
      " |  fit_transform(self, X, y=None, **fit_params)\n",
      " |      Fit to data, then transform it.\n",
      " |      \n",
      " |      Fits transformer to `X` and `y` with optional parameters `fit_params`\n",
      " |      and returns a transformed version of `X`.\n",
      " |      \n",
      " |      Parameters\n",
      " |      ----------\n",
      " |      X : array-like of shape (n_samples, n_features)\n",
      " |          Input samples.\n",
      " |      \n",
      " |      y :  array-like of shape (n_samples,) or (n_samples, n_outputs),                 default=None\n",
      " |          Target values (None for unsupervised transformations).\n",
      " |      \n",
      " |      **fit_params : dict\n",
      " |          Additional fit parameters.\n",
      " |      \n",
      " |      Returns\n",
      " |      -------\n",
      " |      X_new : ndarray array of shape (n_samples, n_features_new)\n",
      " |          Transformed array.\n",
      " |  \n",
      " |  ----------------------------------------------------------------------\n",
      " |  Data descriptors inherited from sklearn.base.TransformerMixin:\n",
      " |  \n",
      " |  __dict__\n",
      " |      dictionary for instance variables (if defined)\n",
      " |  \n",
      " |  __weakref__\n",
      " |      list of weak references to the object (if defined)\n",
      " |  \n",
      " |  ----------------------------------------------------------------------\n",
      " |  Methods inherited from sklearn.base.BaseEstimator:\n",
      " |  \n",
      " |  __getstate__(self)\n",
      " |  \n",
      " |  __repr__(self, N_CHAR_MAX=700)\n",
      " |      Return repr(self).\n",
      " |  \n",
      " |  __setstate__(self, state)\n",
      " |  \n",
      " |  get_params(self, deep=True)\n",
      " |      Get parameters for this estimator.\n",
      " |      \n",
      " |      Parameters\n",
      " |      ----------\n",
      " |      deep : bool, default=True\n",
      " |          If True, will return the parameters for this estimator and\n",
      " |          contained subobjects that are estimators.\n",
      " |      \n",
      " |      Returns\n",
      " |      -------\n",
      " |      params : dict\n",
      " |          Parameter names mapped to their values.\n",
      " |  \n",
      " |  set_params(self, **params)\n",
      " |      Set the parameters of this estimator.\n",
      " |      \n",
      " |      The method works on simple estimators as well as on nested objects\n",
      " |      (such as :class:`~sklearn.pipeline.Pipeline`). The latter have\n",
      " |      parameters of the form ``<component>__<parameter>`` so that it's\n",
      " |      possible to update each component of a nested object.\n",
      " |      \n",
      " |      Parameters\n",
      " |      ----------\n",
      " |      **params : dict\n",
      " |          Estimator parameters.\n",
      " |      \n",
      " |      Returns\n",
      " |      -------\n",
      " |      self : estimator instance\n",
      " |          Estimator instance.\n",
      "\n"
     ]
    }
   ],
   "source": [
    "help(SimpleImputer)"
   ]
  },
  {
   "cell_type": "code",
   "execution_count": 96,
   "id": "c1493f0c-8271-4fa6-a20f-ceb83ee5c238",
   "metadata": {},
   "outputs": [
    {
     "data": {
      "text/plain": [
       "count    427003.000000\n",
       "mean          5.359012\n",
       "std           8.328353\n",
       "min           0.000000\n",
       "25%           2.000000\n",
       "50%           3.000000\n",
       "75%           7.000000\n",
       "max         365.000000\n",
       "Name: dias_solicitados, dtype: float64"
      ]
     },
     "execution_count": 96,
     "metadata": {},
     "output_type": "execute_result"
    }
   ],
   "source": [
    "mean_imputer = SimpleImputer(missing_values=np.nan,strategy='mean') \n",
    "\n",
    "df_mean = df.copy()\n",
    "\n",
    "df_mean.loc[:,'dias_solicitados'] = mean_imputer.fit_transform(df_mean[['dias_solicitados']])\n",
    "df_mean['dias_solicitados'].describe()"
   ]
  },
  {
   "cell_type": "code",
   "execution_count": null,
   "id": "f5697574-354b-4cc4-bafd-67813ada9108",
   "metadata": {},
   "outputs": [],
   "source": []
  },
  {
   "cell_type": "code",
   "execution_count": 133,
   "id": "2bf34253-6a26-4055-be44-d721b31a2943",
   "metadata": {
    "collapsed": true,
    "jupyter": {
     "outputs_hidden": true
    },
    "tags": []
   },
   "outputs": [
    {
     "ename": "TypeError",
     "evalue": "Cannot cast DatetimeArray to dtype float64",
     "output_type": "error",
     "traceback": [
      "\u001b[0;31m---------------------------------------------------------------------------\u001b[0m",
      "\u001b[0;31mTypeError\u001b[0m                                 Traceback (most recent call last)",
      "Input \u001b[0;32mIn [133]\u001b[0m, in \u001b[0;36m<cell line: 5>\u001b[0;34m()\u001b[0m\n\u001b[1;32m      1\u001b[0m mean_imputer \u001b[38;5;241m=\u001b[39m SimpleImputer(missing_values\u001b[38;5;241m=\u001b[39mnp\u001b[38;5;241m.\u001b[39mnan,strategy\u001b[38;5;241m=\u001b[39m\u001b[38;5;124m'\u001b[39m\u001b[38;5;124mmean\u001b[39m\u001b[38;5;124m'\u001b[39m) \n\u001b[1;32m      3\u001b[0m df_prueba \u001b[38;5;241m=\u001b[39m df\u001b[38;5;241m.\u001b[39mcopy()\n\u001b[0;32m----> 5\u001b[0m df_prueba\u001b[38;5;241m.\u001b[39mloc[:,:] \u001b[38;5;241m=\u001b[39m \u001b[43mmean_imputer\u001b[49m\u001b[38;5;241;43m.\u001b[39;49m\u001b[43mfit_transform\u001b[49m\u001b[43m(\u001b[49m\u001b[43mdf_prueba\u001b[49m\u001b[43m)\u001b[49m\n\u001b[1;32m      6\u001b[0m df_prueba[\u001b[38;5;124m'\u001b[39m\u001b[38;5;124mdias_solicitados\u001b[39m\u001b[38;5;124m'\u001b[39m]\u001b[38;5;241m.\u001b[39mdescribe()\n",
      "File \u001b[0;32m~/opt/anaconda3/lib/python3.9/site-packages/sklearn/base.py:852\u001b[0m, in \u001b[0;36mTransformerMixin.fit_transform\u001b[0;34m(self, X, y, **fit_params)\u001b[0m\n\u001b[1;32m    848\u001b[0m \u001b[38;5;66;03m# non-optimized default implementation; override when a better\u001b[39;00m\n\u001b[1;32m    849\u001b[0m \u001b[38;5;66;03m# method is possible for a given clustering algorithm\u001b[39;00m\n\u001b[1;32m    850\u001b[0m \u001b[38;5;28;01mif\u001b[39;00m y \u001b[38;5;129;01mis\u001b[39;00m \u001b[38;5;28;01mNone\u001b[39;00m:\n\u001b[1;32m    851\u001b[0m     \u001b[38;5;66;03m# fit method of arity 1 (unsupervised transformation)\u001b[39;00m\n\u001b[0;32m--> 852\u001b[0m     \u001b[38;5;28;01mreturn\u001b[39;00m \u001b[38;5;28;43mself\u001b[39;49m\u001b[38;5;241;43m.\u001b[39;49m\u001b[43mfit\u001b[49m\u001b[43m(\u001b[49m\u001b[43mX\u001b[49m\u001b[43m,\u001b[49m\u001b[43m \u001b[49m\u001b[38;5;241;43m*\u001b[39;49m\u001b[38;5;241;43m*\u001b[39;49m\u001b[43mfit_params\u001b[49m\u001b[43m)\u001b[49m\u001b[38;5;241m.\u001b[39mtransform(X)\n\u001b[1;32m    853\u001b[0m \u001b[38;5;28;01melse\u001b[39;00m:\n\u001b[1;32m    854\u001b[0m     \u001b[38;5;66;03m# fit method of arity 2 (supervised transformation)\u001b[39;00m\n\u001b[1;32m    855\u001b[0m     \u001b[38;5;28;01mreturn\u001b[39;00m \u001b[38;5;28mself\u001b[39m\u001b[38;5;241m.\u001b[39mfit(X, y, \u001b[38;5;241m*\u001b[39m\u001b[38;5;241m*\u001b[39mfit_params)\u001b[38;5;241m.\u001b[39mtransform(X)\n",
      "File \u001b[0;32m~/opt/anaconda3/lib/python3.9/site-packages/sklearn/impute/_base.py:319\u001b[0m, in \u001b[0;36mSimpleImputer.fit\u001b[0;34m(self, X, y)\u001b[0m\n\u001b[1;32m    302\u001b[0m \u001b[38;5;28;01mdef\u001b[39;00m \u001b[38;5;21mfit\u001b[39m(\u001b[38;5;28mself\u001b[39m, X, y\u001b[38;5;241m=\u001b[39m\u001b[38;5;28;01mNone\u001b[39;00m):\n\u001b[1;32m    303\u001b[0m     \u001b[38;5;124;03m\"\"\"Fit the imputer on `X`.\u001b[39;00m\n\u001b[1;32m    304\u001b[0m \n\u001b[1;32m    305\u001b[0m \u001b[38;5;124;03m    Parameters\u001b[39;00m\n\u001b[0;32m   (...)\u001b[0m\n\u001b[1;32m    317\u001b[0m \u001b[38;5;124;03m        Fitted estimator.\u001b[39;00m\n\u001b[1;32m    318\u001b[0m \u001b[38;5;124;03m    \"\"\"\u001b[39;00m\n\u001b[0;32m--> 319\u001b[0m     X \u001b[38;5;241m=\u001b[39m \u001b[38;5;28;43mself\u001b[39;49m\u001b[38;5;241;43m.\u001b[39;49m\u001b[43m_validate_input\u001b[49m\u001b[43m(\u001b[49m\u001b[43mX\u001b[49m\u001b[43m,\u001b[49m\u001b[43m \u001b[49m\u001b[43min_fit\u001b[49m\u001b[38;5;241;43m=\u001b[39;49m\u001b[38;5;28;43;01mTrue\u001b[39;49;00m\u001b[43m)\u001b[49m\n\u001b[1;32m    321\u001b[0m     \u001b[38;5;66;03m# default fill_value is 0 for numerical input and \"missing_value\"\u001b[39;00m\n\u001b[1;32m    322\u001b[0m     \u001b[38;5;66;03m# otherwise\u001b[39;00m\n\u001b[1;32m    323\u001b[0m     \u001b[38;5;28;01mif\u001b[39;00m \u001b[38;5;28mself\u001b[39m\u001b[38;5;241m.\u001b[39mfill_value \u001b[38;5;129;01mis\u001b[39;00m \u001b[38;5;28;01mNone\u001b[39;00m:\n",
      "File \u001b[0;32m~/opt/anaconda3/lib/python3.9/site-packages/sklearn/impute/_base.py:270\u001b[0m, in \u001b[0;36mSimpleImputer._validate_input\u001b[0;34m(self, X, in_fit)\u001b[0m\n\u001b[1;32m    267\u001b[0m     force_all_finite \u001b[38;5;241m=\u001b[39m \u001b[38;5;124m\"\u001b[39m\u001b[38;5;124mallow-nan\u001b[39m\u001b[38;5;124m\"\u001b[39m\n\u001b[1;32m    269\u001b[0m \u001b[38;5;28;01mtry\u001b[39;00m:\n\u001b[0;32m--> 270\u001b[0m     X \u001b[38;5;241m=\u001b[39m \u001b[38;5;28;43mself\u001b[39;49m\u001b[38;5;241;43m.\u001b[39;49m\u001b[43m_validate_data\u001b[49m\u001b[43m(\u001b[49m\n\u001b[1;32m    271\u001b[0m \u001b[43m        \u001b[49m\u001b[43mX\u001b[49m\u001b[43m,\u001b[49m\n\u001b[1;32m    272\u001b[0m \u001b[43m        \u001b[49m\u001b[43mreset\u001b[49m\u001b[38;5;241;43m=\u001b[39;49m\u001b[43min_fit\u001b[49m\u001b[43m,\u001b[49m\n\u001b[1;32m    273\u001b[0m \u001b[43m        \u001b[49m\u001b[43maccept_sparse\u001b[49m\u001b[38;5;241;43m=\u001b[39;49m\u001b[38;5;124;43m\"\u001b[39;49m\u001b[38;5;124;43mcsc\u001b[39;49m\u001b[38;5;124;43m\"\u001b[39;49m\u001b[43m,\u001b[49m\n\u001b[1;32m    274\u001b[0m \u001b[43m        \u001b[49m\u001b[43mdtype\u001b[49m\u001b[38;5;241;43m=\u001b[39;49m\u001b[43mdtype\u001b[49m\u001b[43m,\u001b[49m\n\u001b[1;32m    275\u001b[0m \u001b[43m        \u001b[49m\u001b[43mforce_all_finite\u001b[49m\u001b[38;5;241;43m=\u001b[39;49m\u001b[43mforce_all_finite\u001b[49m\u001b[43m,\u001b[49m\n\u001b[1;32m    276\u001b[0m \u001b[43m        \u001b[49m\u001b[43mcopy\u001b[49m\u001b[38;5;241;43m=\u001b[39;49m\u001b[38;5;28;43mself\u001b[39;49m\u001b[38;5;241;43m.\u001b[39;49m\u001b[43mcopy\u001b[49m\u001b[43m,\u001b[49m\n\u001b[1;32m    277\u001b[0m \u001b[43m    \u001b[49m\u001b[43m)\u001b[49m\n\u001b[1;32m    278\u001b[0m \u001b[38;5;28;01mexcept\u001b[39;00m \u001b[38;5;167;01mValueError\u001b[39;00m \u001b[38;5;28;01mas\u001b[39;00m ve:\n\u001b[1;32m    279\u001b[0m     \u001b[38;5;28;01mif\u001b[39;00m \u001b[38;5;124m\"\u001b[39m\u001b[38;5;124mcould not convert\u001b[39m\u001b[38;5;124m\"\u001b[39m \u001b[38;5;129;01min\u001b[39;00m \u001b[38;5;28mstr\u001b[39m(ve):\n",
      "File \u001b[0;32m~/opt/anaconda3/lib/python3.9/site-packages/sklearn/base.py:566\u001b[0m, in \u001b[0;36mBaseEstimator._validate_data\u001b[0;34m(self, X, y, reset, validate_separately, **check_params)\u001b[0m\n\u001b[1;32m    564\u001b[0m     \u001b[38;5;28;01mraise\u001b[39;00m \u001b[38;5;167;01mValueError\u001b[39;00m(\u001b[38;5;124m\"\u001b[39m\u001b[38;5;124mValidation should be done on X, y or both.\u001b[39m\u001b[38;5;124m\"\u001b[39m)\n\u001b[1;32m    565\u001b[0m \u001b[38;5;28;01melif\u001b[39;00m \u001b[38;5;129;01mnot\u001b[39;00m no_val_X \u001b[38;5;129;01mand\u001b[39;00m no_val_y:\n\u001b[0;32m--> 566\u001b[0m     X \u001b[38;5;241m=\u001b[39m \u001b[43mcheck_array\u001b[49m\u001b[43m(\u001b[49m\u001b[43mX\u001b[49m\u001b[43m,\u001b[49m\u001b[43m \u001b[49m\u001b[38;5;241;43m*\u001b[39;49m\u001b[38;5;241;43m*\u001b[39;49m\u001b[43mcheck_params\u001b[49m\u001b[43m)\u001b[49m\n\u001b[1;32m    567\u001b[0m     out \u001b[38;5;241m=\u001b[39m X\n\u001b[1;32m    568\u001b[0m \u001b[38;5;28;01melif\u001b[39;00m no_val_X \u001b[38;5;129;01mand\u001b[39;00m \u001b[38;5;129;01mnot\u001b[39;00m no_val_y:\n",
      "File \u001b[0;32m~/opt/anaconda3/lib/python3.9/site-packages/sklearn/utils/validation.py:685\u001b[0m, in \u001b[0;36mcheck_array\u001b[0;34m(array, accept_sparse, accept_large_sparse, dtype, order, copy, force_all_finite, ensure_2d, allow_nd, ensure_min_samples, ensure_min_features, estimator)\u001b[0m\n\u001b[1;32m    681\u001b[0m         dtype \u001b[38;5;241m=\u001b[39m dtype[\u001b[38;5;241m0\u001b[39m]\n\u001b[1;32m    683\u001b[0m \u001b[38;5;28;01mif\u001b[39;00m has_pd_integer_array:\n\u001b[1;32m    684\u001b[0m     \u001b[38;5;66;03m# If there are any pandas integer extension arrays,\u001b[39;00m\n\u001b[0;32m--> 685\u001b[0m     array \u001b[38;5;241m=\u001b[39m \u001b[43marray\u001b[49m\u001b[38;5;241;43m.\u001b[39;49m\u001b[43mastype\u001b[49m\u001b[43m(\u001b[49m\u001b[43mdtype\u001b[49m\u001b[43m)\u001b[49m\n\u001b[1;32m    687\u001b[0m \u001b[38;5;28;01mif\u001b[39;00m force_all_finite \u001b[38;5;129;01mnot\u001b[39;00m \u001b[38;5;129;01min\u001b[39;00m (\u001b[38;5;28;01mTrue\u001b[39;00m, \u001b[38;5;28;01mFalse\u001b[39;00m, \u001b[38;5;124m\"\u001b[39m\u001b[38;5;124mallow-nan\u001b[39m\u001b[38;5;124m\"\u001b[39m):\n\u001b[1;32m    688\u001b[0m     \u001b[38;5;28;01mraise\u001b[39;00m \u001b[38;5;167;01mValueError\u001b[39;00m(\n\u001b[1;32m    689\u001b[0m         \u001b[38;5;124m'\u001b[39m\u001b[38;5;124mforce_all_finite should be a bool or \u001b[39m\u001b[38;5;124m\"\u001b[39m\u001b[38;5;124mallow-nan\u001b[39m\u001b[38;5;124m\"\u001b[39m\u001b[38;5;124m. Got \u001b[39m\u001b[38;5;132;01m{!r}\u001b[39;00m\u001b[38;5;124m instead\u001b[39m\u001b[38;5;124m'\u001b[39m\u001b[38;5;241m.\u001b[39mformat(\n\u001b[1;32m    690\u001b[0m             force_all_finite\n\u001b[1;32m    691\u001b[0m         )\n\u001b[1;32m    692\u001b[0m     )\n",
      "File \u001b[0;32m~/opt/anaconda3/lib/python3.9/site-packages/pandas/core/generic.py:5912\u001b[0m, in \u001b[0;36mNDFrame.astype\u001b[0;34m(self, dtype, copy, errors)\u001b[0m\n\u001b[1;32m   5905\u001b[0m     results \u001b[38;5;241m=\u001b[39m [\n\u001b[1;32m   5906\u001b[0m         \u001b[38;5;28mself\u001b[39m\u001b[38;5;241m.\u001b[39miloc[:, i]\u001b[38;5;241m.\u001b[39mastype(dtype, copy\u001b[38;5;241m=\u001b[39mcopy)\n\u001b[1;32m   5907\u001b[0m         \u001b[38;5;28;01mfor\u001b[39;00m i \u001b[38;5;129;01min\u001b[39;00m \u001b[38;5;28mrange\u001b[39m(\u001b[38;5;28mlen\u001b[39m(\u001b[38;5;28mself\u001b[39m\u001b[38;5;241m.\u001b[39mcolumns))\n\u001b[1;32m   5908\u001b[0m     ]\n\u001b[1;32m   5910\u001b[0m \u001b[38;5;28;01melse\u001b[39;00m:\n\u001b[1;32m   5911\u001b[0m     \u001b[38;5;66;03m# else, only a single dtype is given\u001b[39;00m\n\u001b[0;32m-> 5912\u001b[0m     new_data \u001b[38;5;241m=\u001b[39m \u001b[38;5;28;43mself\u001b[39;49m\u001b[38;5;241;43m.\u001b[39;49m\u001b[43m_mgr\u001b[49m\u001b[38;5;241;43m.\u001b[39;49m\u001b[43mastype\u001b[49m\u001b[43m(\u001b[49m\u001b[43mdtype\u001b[49m\u001b[38;5;241;43m=\u001b[39;49m\u001b[43mdtype\u001b[49m\u001b[43m,\u001b[49m\u001b[43m \u001b[49m\u001b[43mcopy\u001b[49m\u001b[38;5;241;43m=\u001b[39;49m\u001b[43mcopy\u001b[49m\u001b[43m,\u001b[49m\u001b[43m \u001b[49m\u001b[43merrors\u001b[49m\u001b[38;5;241;43m=\u001b[39;49m\u001b[43merrors\u001b[49m\u001b[43m)\u001b[49m\n\u001b[1;32m   5913\u001b[0m     \u001b[38;5;28;01mreturn\u001b[39;00m \u001b[38;5;28mself\u001b[39m\u001b[38;5;241m.\u001b[39m_constructor(new_data)\u001b[38;5;241m.\u001b[39m__finalize__(\u001b[38;5;28mself\u001b[39m, method\u001b[38;5;241m=\u001b[39m\u001b[38;5;124m\"\u001b[39m\u001b[38;5;124mastype\u001b[39m\u001b[38;5;124m\"\u001b[39m)\n\u001b[1;32m   5915\u001b[0m \u001b[38;5;66;03m# GH 33113: handle empty frame or series\u001b[39;00m\n",
      "File \u001b[0;32m~/opt/anaconda3/lib/python3.9/site-packages/pandas/core/internals/managers.py:419\u001b[0m, in \u001b[0;36mBaseBlockManager.astype\u001b[0;34m(self, dtype, copy, errors)\u001b[0m\n\u001b[1;32m    418\u001b[0m \u001b[38;5;28;01mdef\u001b[39;00m \u001b[38;5;21mastype\u001b[39m(\u001b[38;5;28mself\u001b[39m: T, dtype, copy: \u001b[38;5;28mbool\u001b[39m \u001b[38;5;241m=\u001b[39m \u001b[38;5;28;01mFalse\u001b[39;00m, errors: \u001b[38;5;28mstr\u001b[39m \u001b[38;5;241m=\u001b[39m \u001b[38;5;124m\"\u001b[39m\u001b[38;5;124mraise\u001b[39m\u001b[38;5;124m\"\u001b[39m) \u001b[38;5;241m-\u001b[39m\u001b[38;5;241m>\u001b[39m T:\n\u001b[0;32m--> 419\u001b[0m     \u001b[38;5;28;01mreturn\u001b[39;00m \u001b[38;5;28;43mself\u001b[39;49m\u001b[38;5;241;43m.\u001b[39;49m\u001b[43mapply\u001b[49m\u001b[43m(\u001b[49m\u001b[38;5;124;43m\"\u001b[39;49m\u001b[38;5;124;43mastype\u001b[39;49m\u001b[38;5;124;43m\"\u001b[39;49m\u001b[43m,\u001b[49m\u001b[43m \u001b[49m\u001b[43mdtype\u001b[49m\u001b[38;5;241;43m=\u001b[39;49m\u001b[43mdtype\u001b[49m\u001b[43m,\u001b[49m\u001b[43m \u001b[49m\u001b[43mcopy\u001b[49m\u001b[38;5;241;43m=\u001b[39;49m\u001b[43mcopy\u001b[49m\u001b[43m,\u001b[49m\u001b[43m \u001b[49m\u001b[43merrors\u001b[49m\u001b[38;5;241;43m=\u001b[39;49m\u001b[43merrors\u001b[49m\u001b[43m)\u001b[49m\n",
      "File \u001b[0;32m~/opt/anaconda3/lib/python3.9/site-packages/pandas/core/internals/managers.py:304\u001b[0m, in \u001b[0;36mBaseBlockManager.apply\u001b[0;34m(self, f, align_keys, ignore_failures, **kwargs)\u001b[0m\n\u001b[1;32m    302\u001b[0m         applied \u001b[38;5;241m=\u001b[39m b\u001b[38;5;241m.\u001b[39mapply(f, \u001b[38;5;241m*\u001b[39m\u001b[38;5;241m*\u001b[39mkwargs)\n\u001b[1;32m    303\u001b[0m     \u001b[38;5;28;01melse\u001b[39;00m:\n\u001b[0;32m--> 304\u001b[0m         applied \u001b[38;5;241m=\u001b[39m \u001b[38;5;28;43mgetattr\u001b[39;49m\u001b[43m(\u001b[49m\u001b[43mb\u001b[49m\u001b[43m,\u001b[49m\u001b[43m \u001b[49m\u001b[43mf\u001b[49m\u001b[43m)\u001b[49m\u001b[43m(\u001b[49m\u001b[38;5;241;43m*\u001b[39;49m\u001b[38;5;241;43m*\u001b[39;49m\u001b[43mkwargs\u001b[49m\u001b[43m)\u001b[49m\n\u001b[1;32m    305\u001b[0m \u001b[38;5;28;01mexcept\u001b[39;00m (\u001b[38;5;167;01mTypeError\u001b[39;00m, \u001b[38;5;167;01mNotImplementedError\u001b[39;00m):\n\u001b[1;32m    306\u001b[0m     \u001b[38;5;28;01mif\u001b[39;00m \u001b[38;5;129;01mnot\u001b[39;00m ignore_failures:\n",
      "File \u001b[0;32m~/opt/anaconda3/lib/python3.9/site-packages/pandas/core/internals/blocks.py:580\u001b[0m, in \u001b[0;36mBlock.astype\u001b[0;34m(self, dtype, copy, errors)\u001b[0m\n\u001b[1;32m    562\u001b[0m \u001b[38;5;124;03m\"\"\"\u001b[39;00m\n\u001b[1;32m    563\u001b[0m \u001b[38;5;124;03mCoerce to the new dtype.\u001b[39;00m\n\u001b[1;32m    564\u001b[0m \n\u001b[0;32m   (...)\u001b[0m\n\u001b[1;32m    576\u001b[0m \u001b[38;5;124;03mBlock\u001b[39;00m\n\u001b[1;32m    577\u001b[0m \u001b[38;5;124;03m\"\"\"\u001b[39;00m\n\u001b[1;32m    578\u001b[0m values \u001b[38;5;241m=\u001b[39m \u001b[38;5;28mself\u001b[39m\u001b[38;5;241m.\u001b[39mvalues\n\u001b[0;32m--> 580\u001b[0m new_values \u001b[38;5;241m=\u001b[39m \u001b[43mastype_array_safe\u001b[49m\u001b[43m(\u001b[49m\u001b[43mvalues\u001b[49m\u001b[43m,\u001b[49m\u001b[43m \u001b[49m\u001b[43mdtype\u001b[49m\u001b[43m,\u001b[49m\u001b[43m \u001b[49m\u001b[43mcopy\u001b[49m\u001b[38;5;241;43m=\u001b[39;49m\u001b[43mcopy\u001b[49m\u001b[43m,\u001b[49m\u001b[43m \u001b[49m\u001b[43merrors\u001b[49m\u001b[38;5;241;43m=\u001b[39;49m\u001b[43merrors\u001b[49m\u001b[43m)\u001b[49m\n\u001b[1;32m    582\u001b[0m new_values \u001b[38;5;241m=\u001b[39m maybe_coerce_values(new_values)\n\u001b[1;32m    583\u001b[0m newb \u001b[38;5;241m=\u001b[39m \u001b[38;5;28mself\u001b[39m\u001b[38;5;241m.\u001b[39mmake_block(new_values)\n",
      "File \u001b[0;32m~/opt/anaconda3/lib/python3.9/site-packages/pandas/core/dtypes/cast.py:1292\u001b[0m, in \u001b[0;36mastype_array_safe\u001b[0;34m(values, dtype, copy, errors)\u001b[0m\n\u001b[1;32m   1289\u001b[0m     dtype \u001b[38;5;241m=\u001b[39m dtype\u001b[38;5;241m.\u001b[39mnumpy_dtype\n\u001b[1;32m   1291\u001b[0m \u001b[38;5;28;01mtry\u001b[39;00m:\n\u001b[0;32m-> 1292\u001b[0m     new_values \u001b[38;5;241m=\u001b[39m \u001b[43mastype_array\u001b[49m\u001b[43m(\u001b[49m\u001b[43mvalues\u001b[49m\u001b[43m,\u001b[49m\u001b[43m \u001b[49m\u001b[43mdtype\u001b[49m\u001b[43m,\u001b[49m\u001b[43m \u001b[49m\u001b[43mcopy\u001b[49m\u001b[38;5;241;43m=\u001b[39;49m\u001b[43mcopy\u001b[49m\u001b[43m)\u001b[49m\n\u001b[1;32m   1293\u001b[0m \u001b[38;5;28;01mexcept\u001b[39;00m (\u001b[38;5;167;01mValueError\u001b[39;00m, \u001b[38;5;167;01mTypeError\u001b[39;00m):\n\u001b[1;32m   1294\u001b[0m     \u001b[38;5;66;03m# e.g. astype_nansafe can fail on object-dtype of strings\u001b[39;00m\n\u001b[1;32m   1295\u001b[0m     \u001b[38;5;66;03m#  trying to convert to float\u001b[39;00m\n\u001b[1;32m   1296\u001b[0m     \u001b[38;5;28;01mif\u001b[39;00m errors \u001b[38;5;241m==\u001b[39m \u001b[38;5;124m\"\u001b[39m\u001b[38;5;124mignore\u001b[39m\u001b[38;5;124m\"\u001b[39m:\n",
      "File \u001b[0;32m~/opt/anaconda3/lib/python3.9/site-packages/pandas/core/dtypes/cast.py:1234\u001b[0m, in \u001b[0;36mastype_array\u001b[0;34m(values, dtype, copy)\u001b[0m\n\u001b[1;32m   1230\u001b[0m     \u001b[38;5;28;01mreturn\u001b[39;00m values\n\u001b[1;32m   1232\u001b[0m \u001b[38;5;28;01mif\u001b[39;00m \u001b[38;5;129;01mnot\u001b[39;00m \u001b[38;5;28misinstance\u001b[39m(values, np\u001b[38;5;241m.\u001b[39mndarray):\n\u001b[1;32m   1233\u001b[0m     \u001b[38;5;66;03m# i.e. ExtensionArray\u001b[39;00m\n\u001b[0;32m-> 1234\u001b[0m     values \u001b[38;5;241m=\u001b[39m \u001b[43mvalues\u001b[49m\u001b[38;5;241;43m.\u001b[39;49m\u001b[43mastype\u001b[49m\u001b[43m(\u001b[49m\u001b[43mdtype\u001b[49m\u001b[43m,\u001b[49m\u001b[43m \u001b[49m\u001b[43mcopy\u001b[49m\u001b[38;5;241;43m=\u001b[39;49m\u001b[43mcopy\u001b[49m\u001b[43m)\u001b[49m\n\u001b[1;32m   1236\u001b[0m \u001b[38;5;28;01melse\u001b[39;00m:\n\u001b[1;32m   1237\u001b[0m     values \u001b[38;5;241m=\u001b[39m astype_nansafe(values, dtype, copy\u001b[38;5;241m=\u001b[39mcopy)\n",
      "File \u001b[0;32m~/opt/anaconda3/lib/python3.9/site-packages/pandas/core/arrays/datetimes.py:666\u001b[0m, in \u001b[0;36mDatetimeArray.astype\u001b[0;34m(self, dtype, copy)\u001b[0m\n\u001b[1;32m    664\u001b[0m \u001b[38;5;28;01melif\u001b[39;00m is_period_dtype(dtype):\n\u001b[1;32m    665\u001b[0m     \u001b[38;5;28;01mreturn\u001b[39;00m \u001b[38;5;28mself\u001b[39m\u001b[38;5;241m.\u001b[39mto_period(freq\u001b[38;5;241m=\u001b[39mdtype\u001b[38;5;241m.\u001b[39mfreq)\n\u001b[0;32m--> 666\u001b[0m \u001b[38;5;28;01mreturn\u001b[39;00m \u001b[43mdtl\u001b[49m\u001b[38;5;241;43m.\u001b[39;49m\u001b[43mDatetimeLikeArrayMixin\u001b[49m\u001b[38;5;241;43m.\u001b[39;49m\u001b[43mastype\u001b[49m\u001b[43m(\u001b[49m\u001b[38;5;28;43mself\u001b[39;49m\u001b[43m,\u001b[49m\u001b[43m \u001b[49m\u001b[43mdtype\u001b[49m\u001b[43m,\u001b[49m\u001b[43m \u001b[49m\u001b[43mcopy\u001b[49m\u001b[43m)\u001b[49m\n",
      "File \u001b[0;32m~/opt/anaconda3/lib/python3.9/site-packages/pandas/core/arrays/datetimelike.py:449\u001b[0m, in \u001b[0;36mDatetimeLikeArrayMixin.astype\u001b[0;34m(self, dtype, copy)\u001b[0m\n\u001b[1;32m    442\u001b[0m \u001b[38;5;28;01melif\u001b[39;00m (\n\u001b[1;32m    443\u001b[0m     is_datetime_or_timedelta_dtype(dtype)\n\u001b[1;32m    444\u001b[0m     \u001b[38;5;129;01mand\u001b[39;00m \u001b[38;5;129;01mnot\u001b[39;00m is_dtype_equal(\u001b[38;5;28mself\u001b[39m\u001b[38;5;241m.\u001b[39mdtype, dtype)\n\u001b[1;32m    445\u001b[0m ) \u001b[38;5;129;01mor\u001b[39;00m is_float_dtype(dtype):\n\u001b[1;32m    446\u001b[0m     \u001b[38;5;66;03m# disallow conversion between datetime/timedelta,\u001b[39;00m\n\u001b[1;32m    447\u001b[0m     \u001b[38;5;66;03m# and conversions for any datetimelike to float\u001b[39;00m\n\u001b[1;32m    448\u001b[0m     msg \u001b[38;5;241m=\u001b[39m \u001b[38;5;124mf\u001b[39m\u001b[38;5;124m\"\u001b[39m\u001b[38;5;124mCannot cast \u001b[39m\u001b[38;5;132;01m{\u001b[39;00m\u001b[38;5;28mtype\u001b[39m(\u001b[38;5;28mself\u001b[39m)\u001b[38;5;241m.\u001b[39m\u001b[38;5;18m__name__\u001b[39m\u001b[38;5;132;01m}\u001b[39;00m\u001b[38;5;124m to dtype \u001b[39m\u001b[38;5;132;01m{\u001b[39;00mdtype\u001b[38;5;132;01m}\u001b[39;00m\u001b[38;5;124m\"\u001b[39m\n\u001b[0;32m--> 449\u001b[0m     \u001b[38;5;28;01mraise\u001b[39;00m \u001b[38;5;167;01mTypeError\u001b[39;00m(msg)\n\u001b[1;32m    450\u001b[0m \u001b[38;5;28;01melse\u001b[39;00m:\n\u001b[1;32m    451\u001b[0m     \u001b[38;5;28;01mreturn\u001b[39;00m np\u001b[38;5;241m.\u001b[39masarray(\u001b[38;5;28mself\u001b[39m, dtype\u001b[38;5;241m=\u001b[39mdtype)\n",
      "\u001b[0;31mTypeError\u001b[0m: Cannot cast DatetimeArray to dtype float64"
     ]
    }
   ],
   "source": [
    "mean_imputer = SimpleImputer(missing_values=np.nan,strategy='mean') \n",
    "\n",
    "df_prueba = df.copy()\n",
    "\n",
    "df_prueba.loc[:,:] = mean_imputer.fit_transform(df_prueba)\n",
    "df_prueba['dias_solicitados'].describe()"
   ]
  },
  {
   "cell_type": "code",
   "execution_count": null,
   "id": "32ffeb13-0e03-4476-9159-f33d09a2968f",
   "metadata": {},
   "outputs": [],
   "source": []
  },
  {
   "cell_type": "code",
   "execution_count": 97,
   "id": "9aa3e777-6d15-4840-8d9f-5f16ea1c804b",
   "metadata": {},
   "outputs": [
    {
     "data": {
      "image/png": "[encoded data removed]",
      "text/plain": [
       "<Figure size 1440x576 with 4 Axes>"
      ]
     },
     "metadata": {
      "needs_background": "light"
     },
     "output_type": "display_data"
    }
   ],
   "source": [
    "fig, axes = plt.subplots(1,4,figsize=(20,8))\n",
    "\n",
    "sns.boxenplot(data=df[~df['dias_solicitados'].isna()][['dias_solicitados']],color='salmon',ax=axes[0]).ticklabel_format(style='plain', axis='y')    \n",
    "axes[0].ticklabel_format(style='plain', axis='y')#para sacar la notacion cientifica, sino comentar\n",
    "axes[0].set_title(\"Dias solicitados\")\n",
    "\n",
    "sns.boxenplot(data=df_const[['dias_solicitados']],color='yellow',ax=axes[1]).ticklabel_format(style='plain', axis='y')    \n",
    "axes[1].ticklabel_format(style='plain', axis='y')#para sacar la notacion cientifica, sino comentar\n",
    "axes[1].set_title(\"Dias solicitados imputados con 0\") \n",
    "\n",
    "sns.boxenplot(data=df_mean[['dias_solicitados']],color='blue',ax=axes[2]).ticklabel_format(style='plain', axis='y')    \n",
    "axes[2].ticklabel_format(style='plain', axis='y')#para sacar la notacion cientifica, sino comentar\n",
    "axes[2].set_title(\"Dias solicitados imputados con media\")\n",
    "\n",
    "sns.boxenplot(data=df_aprob[['dias_solicitados']],color='orange',ax=axes[3]).ticklabel_format(style='plain', axis='y')    \n",
    "axes[3].ticklabel_format(style='plain', axis='y')#para sacar la notacion cientifica, sino comentar\n",
    "axes[3].set_title(\"Dias solicitados imputados con dias aprobados\")\n",
    "\n",
    "plt.show()"
   ]
  },
  {
   "cell_type": "code",
   "execution_count": 98,
   "id": "30507855-b828-4486-89e6-64a7ba9e82b6",
   "metadata": {},
   "outputs": [
    {
     "data": {
      "text/plain": [
       "count    427003.000000\n",
       "mean          5.359012\n",
       "std           8.328353\n",
       "min           0.000000\n",
       "25%           2.000000\n",
       "50%           3.000000\n",
       "75%           7.000000\n",
       "max         365.000000\n",
       "Name: dias_solicitados, dtype: float64"
      ]
     },
     "execution_count": 98,
     "metadata": {},
     "output_type": "execute_result"
    }
   ],
   "source": [
    "mean_imputer = SimpleImputer(missing_values=np.nan,strategy='mean') \n",
    "\n",
    "df.loc[:,'dias_solicitados'] = mean_imputer.fit_transform(df[['dias_solicitados']])\n",
    "df['dias_solicitados'].describe()"
   ]
  },
  {
   "cell_type": "markdown",
   "id": "7e658ec1-02dc-473c-9bcb-b8943656ca3c",
   "metadata": {},
   "source": [
    "### Asegurar tipo de variable"
   ]
  },
  {
   "cell_type": "code",
   "execution_count": 73,
   "id": "d5098e49-4216-4ffe-b845-ffbad0dee21c",
   "metadata": {},
   "outputs": [
    {
     "name": "stdout",
     "output_type": "stream",
     "text": [
      "<class 'pandas.core.frame.DataFrame'>\n",
      "Int64Index: 427003 entries, 0 to 430080\n",
      "Data columns (total 17 columns):\n",
      " #   Column                 Non-Null Count   Dtype  \n",
      "---  ------                 --------------   -----  \n",
      " 0   numero_licencia        427003 non-null  int64  \n",
      " 1   fecha_creacion         427003 non-null  object \n",
      " 2   dispositivo_acceso     427003 non-null  object \n",
      " 3   dias_solicitados       420969 non-null  float64\n",
      " 4   fecha_inicio           427003 non-null  object \n",
      " 5   fecha_fin              427003 non-null  object \n",
      " 6   diagnostico            427003 non-null  object \n",
      " 7   id_diagnostico         271869 non-null  float64\n",
      " 8   id_usuario             427003 non-null  int64  \n",
      " 9   fecha_nacimiento       427003 non-null  object \n",
      " 10  genero                 427003 non-null  object \n",
      " 11  tipo_licencia          427003 non-null  object \n",
      " 12  estado_civil           427003 non-null  object \n",
      " 13  dias_aprobados         427003 non-null  float64\n",
      " 14  decision_medica        427003 non-null  object \n",
      " 15  id_auditor             427003 non-null  object \n",
      " 16  categoria_diagnostico  269978 non-null  object \n",
      "dtypes: float64(3), int64(2), object(12)\n",
      "memory usage: 74.8+ MB\n"
     ]
    }
   ],
   "source": [
    "df.info()"
   ]
  },
  {
   "cell_type": "code",
   "execution_count": 74,
   "id": "2ff684ba-23c8-4638-beb7-656e00870956",
   "metadata": {},
   "outputs": [],
   "source": [
    "df['numero_licencia'] = df['numero_licencia'].astype('str')\n",
    "df['dias_solicitados'] = df['dias_solicitados'].astype('Int64')\n",
    "df['dias_aprobados'] = df['dias_aprobados'].astype('Int64')\n",
    "df['fecha_creacion'] = df['fecha_creacion'].apply(pd.to_datetime)\n",
    "df['fecha_inicio'] = df['fecha_inicio'].apply(pd.to_datetime)\n",
    "df['fecha_fin'] = df['fecha_fin'].apply(pd.to_datetime)\n",
    "df['id_diagnostico'] = df['id_diagnostico'].astype('str')\n",
    "df['fecha_nacimiento'] = df['fecha_nacimiento'].apply(pd.to_datetime)\n",
    "df['id_auditor'] = df['id_auditor'].astype('str')"
   ]
  },
  {
   "cell_type": "code",
   "execution_count": 75,
   "id": "ba96ce5d-2f18-4d00-934f-35a906100f87",
   "metadata": {},
   "outputs": [
    {
     "name": "stdout",
     "output_type": "stream",
     "text": [
      "<class 'pandas.core.frame.DataFrame'>\n",
      "Int64Index: 427003 entries, 0 to 430080\n",
      "Data columns (total 17 columns):\n",
      " #   Column                 Non-Null Count   Dtype         \n",
      "---  ------                 --------------   -----         \n",
      " 0   numero_licencia        427003 non-null  object        \n",
      " 1   fecha_creacion         427003 non-null  datetime64[ns]\n",
      " 2   dispositivo_acceso     427003 non-null  object        \n",
      " 3   dias_solicitados       420969 non-null  Int64         \n",
      " 4   fecha_inicio           427003 non-null  datetime64[ns]\n",
      " 5   fecha_fin              427003 non-null  datetime64[ns]\n",
      " 6   diagnostico            427003 non-null  object        \n",
      " 7   id_diagnostico         427003 non-null  object        \n",
      " 8   id_usuario             427003 non-null  int64         \n",
      " 9   fecha_nacimiento       427003 non-null  datetime64[ns]\n",
      " 10  genero                 427003 non-null  object        \n",
      " 11  tipo_licencia          427003 non-null  object        \n",
      " 12  estado_civil           427003 non-null  object        \n",
      " 13  dias_aprobados         427003 non-null  Int64         \n",
      " 14  decision_medica        427003 non-null  object        \n",
      " 15  id_auditor             427003 non-null  object        \n",
      " 16  categoria_diagnostico  269978 non-null  object        \n",
      "dtypes: Int64(2), datetime64[ns](4), int64(1), object(10)\n",
      "memory usage: 75.6+ MB\n"
     ]
    }
   ],
   "source": [
    "df.info()"
   ]
  },
  {
   "cell_type": "markdown",
   "id": "301d4f2d-68ff-447e-a4ce-a3df6766cecf",
   "metadata": {},
   "source": [
    "### Datos ruidosos, outliers?"
   ]
  },
  {
   "cell_type": "markdown",
   "id": "48038e2b-a4a0-432b-8fd5-63d75ce7ee54",
   "metadata": {},
   "source": [
    "Si calculamos la edad de las personas, podemos visualizar como se distruye esa variable."
   ]
  },
  {
   "cell_type": "code",
   "execution_count": 76,
   "id": "909172a0-fdb3-4a14-a1c5-e681f6953409",
   "metadata": {},
   "outputs": [],
   "source": [
    "df['edad'] = (pd.Timestamp.now() - df['fecha_nacimiento'])/np.timedelta64(1, 'Y')\n",
    "df['edad']= df.edad.apply(int)"
   ]
  },
  {
   "cell_type": "code",
   "execution_count": 77,
   "id": "dd76e036-89f1-4331-8f4d-5faba0db6307",
   "metadata": {},
   "outputs": [
    {
     "data": {
      "text/plain": [
       "count    427003.000000\n",
       "mean         45.068730\n",
       "std           9.989827\n",
       "min          19.000000\n",
       "25%          37.000000\n",
       "50%          45.000000\n",
       "75%          53.000000\n",
       "max         124.000000\n",
       "Name: edad, dtype: float64"
      ]
     },
     "execution_count": 77,
     "metadata": {},
     "output_type": "execute_result"
    }
   ],
   "source": [
    "df['edad'].describe()"
   ]
  },
  {
   "cell_type": "code",
   "execution_count": 142,
   "id": "fb648f1d-c1be-4104-9bc1-727ac3261bb0",
   "metadata": {},
   "outputs": [
    {
     "data": {
      "image/png": "[encoded data removed]",
      "text/plain": [
       "<Figure size 288x432 with 1 Axes>"
      ]
     },
     "metadata": {
      "needs_background": "light"
     },
     "output_type": "display_data"
    }
   ],
   "source": [
    "fig, ax = plt.subplots(figsize=(4,6))\n",
    "\n",
    "sns.boxenplot(data=df['edad'],color='green').ticklabel_format(style='plain', axis='y')    \n",
    "ax.ticklabel_format(style='plain', axis='y')#para sacar la notacion cientifica, sino comentar\n",
    "ax.set_title(\"Edad\") \n",
    "\n",
    "plt.show()"
   ]
  },
  {
   "cell_type": "code",
   "execution_count": null,
   "id": "9d682e24-01cb-4656-a4e5-98caeed3d544",
   "metadata": {},
   "outputs": [],
   "source": []
  },
  {
   "cell_type": "code",
   "execution_count": 148,
   "id": "0d25e1fd-8701-46b8-b836-1752cf45eeac",
   "metadata": {},
   "outputs": [],
   "source": [
    "edad_maxima = df['edad'].quantile(0.995)"
   ]
  },
  {
   "cell_type": "code",
   "execution_count": 151,
   "id": "51bf3b5d-4dda-4cad-8473-0f3ac4b0f9cb",
   "metadata": {},
   "outputs": [
    {
     "data": {
      "text/html": [
       "<div>\n",
       "<style scoped>\n",
       "    .dataframe tbody tr th:only-of-type {\n",
       "        vertical-align: middle;\n",
       "    }\n",
       "\n",
       "    .dataframe tbody tr th {\n",
       "        vertical-align: top;\n",
       "    }\n",
       "\n",
       "    .dataframe thead th {\n",
       "        text-align: right;\n",
       "    }\n",
       "</style>\n",
       "<table border=\"1\" class=\"dataframe\">\n",
       "  <thead>\n",
       "    <tr style=\"text-align: right;\">\n",
       "      <th></th>\n",
       "      <th>numero_licencia</th>\n",
       "      <th>fecha_creacion</th>\n",
       "      <th>dispositivo_acceso</th>\n",
       "      <th>dias_solicitados</th>\n",
       "      <th>fecha_inicio</th>\n",
       "      <th>fecha_fin</th>\n",
       "      <th>diagnostico</th>\n",
       "      <th>id_diagnostico</th>\n",
       "      <th>id_usuario</th>\n",
       "      <th>fecha_nacimiento</th>\n",
       "      <th>genero</th>\n",
       "      <th>tipo_licencia</th>\n",
       "      <th>estado_civil</th>\n",
       "      <th>dias_aprobados</th>\n",
       "      <th>decision_medica</th>\n",
       "      <th>id_auditor</th>\n",
       "      <th>categoria_diagnostico</th>\n",
       "      <th>edad</th>\n",
       "    </tr>\n",
       "  </thead>\n",
       "  <tbody>\n",
       "    <tr>\n",
       "      <th>126218</th>\n",
       "      <td>329972</td>\n",
       "      <td>2022-07-26 13:31:47.708</td>\n",
       "      <td>APP</td>\n",
       "      <td>4.0</td>\n",
       "      <td>2022-07-26</td>\n",
       "      <td>2022-07-29</td>\n",
       "      <td>INFECCION DE VIAS URINARIAS, SITIO NO ESPECIFI...</td>\n",
       "      <td>2.0</td>\n",
       "      <td>57639</td>\n",
       "      <td>1955-11-12</td>\n",
       "      <td>FEMALE</td>\n",
       "      <td>Médica</td>\n",
       "      <td>OTHER</td>\n",
       "      <td>4</td>\n",
       "      <td>APROBAR</td>\n",
       "      <td>0.0</td>\n",
       "      <td>GENITAL MASCULINO</td>\n",
       "      <td>68</td>\n",
       "    </tr>\n",
       "    <tr>\n",
       "      <th>116324</th>\n",
       "      <td>241152</td>\n",
       "      <td>2022-03-26 17:53:18.902</td>\n",
       "      <td>WEB</td>\n",
       "      <td>3.0</td>\n",
       "      <td>2022-03-26</td>\n",
       "      <td>2022-03-28</td>\n",
       "      <td>SINCOPE Y COLAPSO</td>\n",
       "      <td>276.0</td>\n",
       "      <td>72564</td>\n",
       "      <td>1956-02-29</td>\n",
       "      <td>FEMALE</td>\n",
       "      <td>Médica</td>\n",
       "      <td>OTHER</td>\n",
       "      <td>3</td>\n",
       "      <td>APROBAR</td>\n",
       "      <td>0.0</td>\n",
       "      <td>SINTOMAS Y SIGNOS</td>\n",
       "      <td>68</td>\n",
       "    </tr>\n",
       "    <tr>\n",
       "      <th>204510</th>\n",
       "      <td>395999</td>\n",
       "      <td>2022-11-01 11:18:49.509</td>\n",
       "      <td>WEB</td>\n",
       "      <td>20.0</td>\n",
       "      <td>2022-11-01</td>\n",
       "      <td>2022-11-19</td>\n",
       "      <td>Procedimientos Quirurgicos - Cirugias</td>\n",
       "      <td>88.0</td>\n",
       "      <td>79137</td>\n",
       "      <td>1956-03-14</td>\n",
       "      <td>FEMALE</td>\n",
       "      <td>Médica</td>\n",
       "      <td>OTHER</td>\n",
       "      <td>20</td>\n",
       "      <td>EDITAR_Y_APROBAR</td>\n",
       "      <td>67339.0</td>\n",
       "      <td>OTROS PROCEDIMIENTOS QUIRURGICOS SIN ESPECIFICAR</td>\n",
       "      <td>68</td>\n",
       "    </tr>\n",
       "    <tr>\n",
       "      <th>381301</th>\n",
       "      <td>14208</td>\n",
       "      <td>2021-03-16 08:08:29.186</td>\n",
       "      <td>WEB</td>\n",
       "      <td>30.0</td>\n",
       "      <td>2021-03-16</td>\n",
       "      <td>2021-04-03</td>\n",
       "      <td>TRASTORNO DE PANICO (ATAQUE DE PÁNICO)</td>\n",
       "      <td>nan</td>\n",
       "      <td>31941</td>\n",
       "      <td>1955-05-20</td>\n",
       "      <td>MALE</td>\n",
       "      <td>Médica</td>\n",
       "      <td>MARRIED</td>\n",
       "      <td>20</td>\n",
       "      <td>EDITAR_Y_APROBAR</td>\n",
       "      <td>1144.0</td>\n",
       "      <td>NaN</td>\n",
       "      <td>68</td>\n",
       "    </tr>\n",
       "    <tr>\n",
       "      <th>89008</th>\n",
       "      <td>82615</td>\n",
       "      <td>2021-07-06 09:24:18.198</td>\n",
       "      <td>WEB</td>\n",
       "      <td>4.0</td>\n",
       "      <td>2021-07-06</td>\n",
       "      <td>2021-07-08</td>\n",
       "      <td>BURSITIS DEL TROCANTER. TENDINITIS TROCANTEREA</td>\n",
       "      <td>nan</td>\n",
       "      <td>55097</td>\n",
       "      <td>1955-10-03</td>\n",
       "      <td>FEMALE</td>\n",
       "      <td>Médica</td>\n",
       "      <td>OTHER</td>\n",
       "      <td>4</td>\n",
       "      <td>APROBAR</td>\n",
       "      <td>0.0</td>\n",
       "      <td>NaN</td>\n",
       "      <td>68</td>\n",
       "    </tr>\n",
       "    <tr>\n",
       "      <th>...</th>\n",
       "      <td>...</td>\n",
       "      <td>...</td>\n",
       "      <td>...</td>\n",
       "      <td>...</td>\n",
       "      <td>...</td>\n",
       "      <td>...</td>\n",
       "      <td>...</td>\n",
       "      <td>...</td>\n",
       "      <td>...</td>\n",
       "      <td>...</td>\n",
       "      <td>...</td>\n",
       "      <td>...</td>\n",
       "      <td>...</td>\n",
       "      <td>...</td>\n",
       "      <td>...</td>\n",
       "      <td>...</td>\n",
       "      <td>...</td>\n",
       "      <td>...</td>\n",
       "    </tr>\n",
       "    <tr>\n",
       "      <th>125349</th>\n",
       "      <td>316782</td>\n",
       "      <td>2022-07-04 10:47:04.846</td>\n",
       "      <td>APP</td>\n",
       "      <td>1.0</td>\n",
       "      <td>2022-07-04</td>\n",
       "      <td>2022-07-04</td>\n",
       "      <td>SINCOPE Y COLAPSO</td>\n",
       "      <td>276.0</td>\n",
       "      <td>77147</td>\n",
       "      <td>2003-09-26</td>\n",
       "      <td>FEMALE</td>\n",
       "      <td>Médica</td>\n",
       "      <td>OTHER</td>\n",
       "      <td>1</td>\n",
       "      <td>APROBAR</td>\n",
       "      <td>0.0</td>\n",
       "      <td>SINTOMAS Y SIGNOS</td>\n",
       "      <td>20</td>\n",
       "    </tr>\n",
       "    <tr>\n",
       "      <th>313857</th>\n",
       "      <td>371070</td>\n",
       "      <td>2022-09-26 09:14:02.420</td>\n",
       "      <td>APP</td>\n",
       "      <td>2.0</td>\n",
       "      <td>2022-09-26</td>\n",
       "      <td>2022-09-27</td>\n",
       "      <td>FARINGITIS AGUDA</td>\n",
       "      <td>54.0</td>\n",
       "      <td>74344</td>\n",
       "      <td>2003-09-24</td>\n",
       "      <td>MALE</td>\n",
       "      <td>Médica</td>\n",
       "      <td>OTHER</td>\n",
       "      <td>2</td>\n",
       "      <td>EDITAR_Y_APROBAR</td>\n",
       "      <td>12347.0</td>\n",
       "      <td>RESPIRATORIO</td>\n",
       "      <td>20</td>\n",
       "    </tr>\n",
       "    <tr>\n",
       "      <th>319791</th>\n",
       "      <td>408324</td>\n",
       "      <td>2022-11-22 09:41:53.969</td>\n",
       "      <td>APP</td>\n",
       "      <td>1.0</td>\n",
       "      <td>2022-11-22</td>\n",
       "      <td>2022-11-22</td>\n",
       "      <td>FIEBRE PERSISTENTE. SINDROME FEBRIL</td>\n",
       "      <td>12.0</td>\n",
       "      <td>73913</td>\n",
       "      <td>2003-11-14</td>\n",
       "      <td>FEMALE</td>\n",
       "      <td>Médica</td>\n",
       "      <td>OTHER</td>\n",
       "      <td>1</td>\n",
       "      <td>EDITAR_Y_APROBAR</td>\n",
       "      <td>177.0</td>\n",
       "      <td>INFECCIONES</td>\n",
       "      <td>20</td>\n",
       "    </tr>\n",
       "    <tr>\n",
       "      <th>198063</th>\n",
       "      <td>387084</td>\n",
       "      <td>2022-10-19 09:49:07.152</td>\n",
       "      <td>APP</td>\n",
       "      <td>2.0</td>\n",
       "      <td>2022-10-19</td>\n",
       "      <td>2022-10-20</td>\n",
       "      <td>FARINGITIS AGUDA</td>\n",
       "      <td>54.0</td>\n",
       "      <td>76896</td>\n",
       "      <td>2004-06-19</td>\n",
       "      <td>FEMALE</td>\n",
       "      <td>Médica</td>\n",
       "      <td>OTHER</td>\n",
       "      <td>2</td>\n",
       "      <td>EDITAR_Y_APROBAR</td>\n",
       "      <td>14240.0</td>\n",
       "      <td>RESPIRATORIO</td>\n",
       "      <td>19</td>\n",
       "    </tr>\n",
       "    <tr>\n",
       "      <th>137383</th>\n",
       "      <td>380395</td>\n",
       "      <td>2022-10-11 08:55:33.256</td>\n",
       "      <td>WEB</td>\n",
       "      <td>21.0</td>\n",
       "      <td>2022-10-11</td>\n",
       "      <td>2022-10-13</td>\n",
       "      <td>LUXACION,ESGUINCE Y TORCEDURA DE ARTICULACIONE...</td>\n",
       "      <td>4.0</td>\n",
       "      <td>78722</td>\n",
       "      <td>2004-07-01</td>\n",
       "      <td>FEMALE</td>\n",
       "      <td>Médica</td>\n",
       "      <td>OTHER</td>\n",
       "      <td>4</td>\n",
       "      <td>EDITAR_Y_APROBAR</td>\n",
       "      <td>878.0</td>\n",
       "      <td>TRAUMATISMOS</td>\n",
       "      <td>19</td>\n",
       "    </tr>\n",
       "  </tbody>\n",
       "</table>\n",
       "<p>424768 rows × 18 columns</p>\n",
       "</div>"
      ],
      "text/plain": [
       "       numero_licencia          fecha_creacion dispositivo_acceso  \\\n",
       "126218          329972 2022-07-26 13:31:47.708                APP   \n",
       "116324          241152 2022-03-26 17:53:18.902                WEB   \n",
       "204510          395999 2022-11-01 11:18:49.509                WEB   \n",
       "381301           14208 2021-03-16 08:08:29.186                WEB   \n",
       "89008            82615 2021-07-06 09:24:18.198                WEB   \n",
       "...                ...                     ...                ...   \n",
       "125349          316782 2022-07-04 10:47:04.846                APP   \n",
       "313857          371070 2022-09-26 09:14:02.420                APP   \n",
       "319791          408324 2022-11-22 09:41:53.969                APP   \n",
       "198063          387084 2022-10-19 09:49:07.152                APP   \n",
       "137383          380395 2022-10-11 08:55:33.256                WEB   \n",
       "\n",
       "        dias_solicitados fecha_inicio  fecha_fin  \\\n",
       "126218               4.0   2022-07-26 2022-07-29   \n",
       "116324               3.0   2022-03-26 2022-03-28   \n",
       "204510              20.0   2022-11-01 2022-11-19   \n",
       "381301              30.0   2021-03-16 2021-04-03   \n",
       "89008                4.0   2021-07-06 2021-07-08   \n",
       "...                  ...          ...        ...   \n",
       "125349               1.0   2022-07-04 2022-07-04   \n",
       "313857               2.0   2022-09-26 2022-09-27   \n",
       "319791               1.0   2022-11-22 2022-11-22   \n",
       "198063               2.0   2022-10-19 2022-10-20   \n",
       "137383              21.0   2022-10-11 2022-10-13   \n",
       "\n",
       "                                              diagnostico id_diagnostico  \\\n",
       "126218  INFECCION DE VIAS URINARIAS, SITIO NO ESPECIFI...            2.0   \n",
       "116324                                  SINCOPE Y COLAPSO          276.0   \n",
       "204510              Procedimientos Quirurgicos - Cirugias           88.0   \n",
       "381301             TRASTORNO DE PANICO (ATAQUE DE PÁNICO)            nan   \n",
       "89008      BURSITIS DEL TROCANTER. TENDINITIS TROCANTEREA            nan   \n",
       "...                                                   ...            ...   \n",
       "125349                                  SINCOPE Y COLAPSO          276.0   \n",
       "313857                                   FARINGITIS AGUDA           54.0   \n",
       "319791                FIEBRE PERSISTENTE. SINDROME FEBRIL           12.0   \n",
       "198063                                   FARINGITIS AGUDA           54.0   \n",
       "137383  LUXACION,ESGUINCE Y TORCEDURA DE ARTICULACIONE...            4.0   \n",
       "\n",
       "        id_usuario fecha_nacimiento  genero tipo_licencia estado_civil  \\\n",
       "126218       57639       1955-11-12  FEMALE        Médica        OTHER   \n",
       "116324       72564       1956-02-29  FEMALE        Médica        OTHER   \n",
       "204510       79137       1956-03-14  FEMALE        Médica        OTHER   \n",
       "381301       31941       1955-05-20    MALE        Médica      MARRIED   \n",
       "89008        55097       1955-10-03  FEMALE        Médica        OTHER   \n",
       "...            ...              ...     ...           ...          ...   \n",
       "125349       77147       2003-09-26  FEMALE        Médica        OTHER   \n",
       "313857       74344       2003-09-24    MALE        Médica        OTHER   \n",
       "319791       73913       2003-11-14  FEMALE        Médica        OTHER   \n",
       "198063       76896       2004-06-19  FEMALE        Médica        OTHER   \n",
       "137383       78722       2004-07-01  FEMALE        Médica        OTHER   \n",
       "\n",
       "        dias_aprobados   decision_medica id_auditor  \\\n",
       "126218               4           APROBAR        0.0   \n",
       "116324               3           APROBAR        0.0   \n",
       "204510              20  EDITAR_Y_APROBAR    67339.0   \n",
       "381301              20  EDITAR_Y_APROBAR     1144.0   \n",
       "89008                4           APROBAR        0.0   \n",
       "...                ...               ...        ...   \n",
       "125349               1           APROBAR        0.0   \n",
       "313857               2  EDITAR_Y_APROBAR    12347.0   \n",
       "319791               1  EDITAR_Y_APROBAR      177.0   \n",
       "198063               2  EDITAR_Y_APROBAR    14240.0   \n",
       "137383               4  EDITAR_Y_APROBAR      878.0   \n",
       "\n",
       "                                   categoria_diagnostico  edad  \n",
       "126218                                 GENITAL MASCULINO    68  \n",
       "116324                                 SINTOMAS Y SIGNOS    68  \n",
       "204510  OTROS PROCEDIMIENTOS QUIRURGICOS SIN ESPECIFICAR    68  \n",
       "381301                                               NaN    68  \n",
       "89008                                                NaN    68  \n",
       "...                                                  ...   ...  \n",
       "125349                                 SINTOMAS Y SIGNOS    20  \n",
       "313857                                      RESPIRATORIO    20  \n",
       "319791                                       INFECCIONES    20  \n",
       "198063                                      RESPIRATORIO    19  \n",
       "137383                                      TRAUMATISMOS    19  \n",
       "\n",
       "[424768 rows x 18 columns]"
      ]
     },
     "execution_count": 151,
     "metadata": {},
     "output_type": "execute_result"
    }
   ],
   "source": [
    "df[df['edad'] < edad_maxima].sort_values(by='edad',ascending=False)"
   ]
  },
  {
   "cell_type": "code",
   "execution_count": null,
   "id": "5b336860-e940-4257-8049-3b005ff77700",
   "metadata": {},
   "outputs": [],
   "source": []
  },
  {
   "cell_type": "code",
   "execution_count": null,
   "id": "d314e234-391e-4a4a-9fb9-5084f8188ad9",
   "metadata": {},
   "outputs": [],
   "source": []
  },
  {
   "cell_type": "code",
   "execution_count": 143,
   "id": "80131327-ebd8-4e21-a937-e186400d9ed2",
   "metadata": {},
   "outputs": [
    {
     "data": {
      "text/html": [
       "<div>\n",
       "<style scoped>\n",
       "    .dataframe tbody tr th:only-of-type {\n",
       "        vertical-align: middle;\n",
       "    }\n",
       "\n",
       "    .dataframe tbody tr th {\n",
       "        vertical-align: top;\n",
       "    }\n",
       "\n",
       "    .dataframe thead th {\n",
       "        text-align: right;\n",
       "    }\n",
       "</style>\n",
       "<table border=\"1\" class=\"dataframe\">\n",
       "  <thead>\n",
       "    <tr style=\"text-align: right;\">\n",
       "      <th></th>\n",
       "      <th>dias_solicitados</th>\n",
       "      <th>dias_aprobados</th>\n",
       "    </tr>\n",
       "  </thead>\n",
       "  <tbody>\n",
       "    <tr>\n",
       "      <th>count</th>\n",
       "      <td>427003.000000</td>\n",
       "      <td>427003.000000</td>\n",
       "    </tr>\n",
       "    <tr>\n",
       "      <th>mean</th>\n",
       "      <td>5.359012</td>\n",
       "      <td>3.879624</td>\n",
       "    </tr>\n",
       "    <tr>\n",
       "      <th>std</th>\n",
       "      <td>8.328353</td>\n",
       "      <td>4.416187</td>\n",
       "    </tr>\n",
       "    <tr>\n",
       "      <th>min</th>\n",
       "      <td>0.000000</td>\n",
       "      <td>0.000000</td>\n",
       "    </tr>\n",
       "    <tr>\n",
       "      <th>25%</th>\n",
       "      <td>2.000000</td>\n",
       "      <td>1.000000</td>\n",
       "    </tr>\n",
       "    <tr>\n",
       "      <th>50%</th>\n",
       "      <td>3.000000</td>\n",
       "      <td>2.000000</td>\n",
       "    </tr>\n",
       "    <tr>\n",
       "      <th>75%</th>\n",
       "      <td>7.000000</td>\n",
       "      <td>5.000000</td>\n",
       "    </tr>\n",
       "    <tr>\n",
       "      <th>max</th>\n",
       "      <td>365.000000</td>\n",
       "      <td>60.000000</td>\n",
       "    </tr>\n",
       "  </tbody>\n",
       "</table>\n",
       "</div>"
      ],
      "text/plain": [
       "       dias_solicitados  dias_aprobados\n",
       "count     427003.000000   427003.000000\n",
       "mean           5.359012        3.879624\n",
       "std            8.328353        4.416187\n",
       "min            0.000000        0.000000\n",
       "25%            2.000000        1.000000\n",
       "50%            3.000000        2.000000\n",
       "75%            7.000000        5.000000\n",
       "max          365.000000       60.000000"
      ]
     },
     "execution_count": 143,
     "metadata": {},
     "output_type": "execute_result"
    }
   ],
   "source": [
    "df[['dias_solicitados','dias_aprobados']].describe()"
   ]
  },
  {
   "cell_type": "code",
   "execution_count": 101,
   "id": "5f7e0d09-a0ef-4109-8e56-294fbdff74bf",
   "metadata": {},
   "outputs": [
    {
     "data": {
      "image/png": "[encoded data removed]",
      "text/plain": [
       "<Figure size 864x576 with 2 Axes>"
      ]
     },
     "metadata": {
      "needs_background": "light"
     },
     "output_type": "display_data"
    }
   ],
   "source": [
    "fig, axes = plt.subplots(1,2,figsize=(12,8))\n",
    "\n",
    "sns.boxenplot(data=df['dias_solicitados'],color='salmon',ax=axes[0]).ticklabel_format(style='plain', axis='y')    \n",
    "axes[0].ticklabel_format(style='plain', axis='y')#para sacar la notacion cientifica, sino comentar\n",
    "axes[0].set_title(\"Dias solicitados\")\n",
    "\n",
    "sns.boxenplot(data=df['dias_aprobados'],color='yellow',ax=axes[1]).ticklabel_format(style='plain', axis='y')    \n",
    "axes[1].ticklabel_format(style='plain', axis='y')#para sacar la notacion cientifica, sino comentar\n",
    "axes[1].set_title(\"Dias aprobados\") \n",
    "\n",
    "plt.show()"
   ]
  },
  {
   "cell_type": "code",
   "execution_count": 99,
   "id": "761a1aa8-5247-4789-8a63-036856986a89",
   "metadata": {},
   "outputs": [
    {
     "data": {
      "text/plain": [
       "30.0"
      ]
     },
     "execution_count": 99,
     "metadata": {},
     "output_type": "execute_result"
    }
   ],
   "source": [
    "df.dias_solicitados.quantile(0.98)"
   ]
  },
  {
   "cell_type": "code",
   "execution_count": 100,
   "id": "2346179e-f90b-4a68-9b4c-4f3ba38b5c7d",
   "metadata": {},
   "outputs": [
    {
     "data": {
      "text/plain": [
       "17"
      ]
     },
     "execution_count": 100,
     "metadata": {},
     "output_type": "execute_result"
    }
   ],
   "source": [
    "df.dias_aprobados.quantile(0.98)"
   ]
  },
  {
   "cell_type": "code",
   "execution_count": 103,
   "id": "f13abc36-145d-4f33-b6ec-30960f3ccb53",
   "metadata": {},
   "outputs": [
    {
     "data": {
      "image/png": "[encoded data removed]",
      "text/plain": [
       "<Figure size 864x576 with 2 Axes>"
      ]
     },
     "metadata": {
      "needs_background": "light"
     },
     "output_type": "display_data"
    }
   ],
   "source": [
    "fig, axes = plt.subplots(1,2,figsize=(12,8))\n",
    "\n",
    "sns.boxenplot(data=df[df['dias_solicitados'] < df.dias_solicitados.quantile(0.98)]['dias_solicitados']\n",
    "              ,color='salmon',ax=axes[0]).ticklabel_format(style='plain', axis='y')    \n",
    "axes[0].ticklabel_format(style='plain', axis='y')#para sacar la notacion cientifica, sino comentar\n",
    "axes[0].set_title(\"Dias solicitados\")\n",
    "\n",
    "sns.boxenplot(data=df[df['dias_aprobados'] < df.dias_aprobados.quantile(0.98)]['dias_aprobados']\n",
    "              ,color='yellow',ax=axes[1]).ticklabel_format(style='plain', axis='y')    \n",
    "axes[1].ticklabel_format(style='plain', axis='y')#para sacar la notacion cientifica, sino comentar\n",
    "axes[1].set_title(\"Dias aprobados\") \n",
    "\n",
    "plt.show()"
   ]
  },
  {
   "cell_type": "code",
   "execution_count": 129,
   "id": "097ab095-f2ad-4342-bc48-1598b48f1e86",
   "metadata": {},
   "outputs": [
    {
     "data": {
      "text/plain": [
       "[1, 2, 3, 4, 5, 6, 7, 8, 9, 10, 11]"
      ]
     },
     "execution_count": 129,
     "metadata": {},
     "output_type": "execute_result"
    }
   ],
   "source": [
    "numbers = list(range(1,12,1))\n",
    "numbers"
   ]
  },
  {
   "cell_type": "code",
   "execution_count": 130,
   "id": "4937ce80-32f4-45ef-8b71-5f823db43437",
   "metadata": {},
   "outputs": [
    {
     "data": {
      "text/plain": [
       "3.5"
      ]
     },
     "execution_count": 130,
     "metadata": {},
     "output_type": "execute_result"
    }
   ],
   "source": [
    "np.quantile(numbers,0.25)"
   ]
  },
  {
   "cell_type": "code",
   "execution_count": 131,
   "id": "63dc0940-27c8-42ee-96eb-6c31d5696236",
   "metadata": {},
   "outputs": [
    {
     "data": {
      "text/plain": [
       "6.0"
      ]
     },
     "execution_count": 131,
     "metadata": {},
     "output_type": "execute_result"
    }
   ],
   "source": [
    "np.quantile(numbers,0.50)"
   ]
  },
  {
   "cell_type": "code",
   "execution_count": 132,
   "id": "7663a36c-c2f1-4276-982b-88075919d36c",
   "metadata": {},
   "outputs": [
    {
     "data": {
      "text/plain": [
       "8.5"
      ]
     },
     "execution_count": 132,
     "metadata": {},
     "output_type": "execute_result"
    }
   ],
   "source": [
    "np.quantile(numbers,0.75)"
   ]
  }
 ],
 "metadata": {
  "kernelspec": {
   "display_name": "Python 3 (ipykernel)",
   "language": "python",
   "name": "python3"
  },
  "language_info": {
   "codemirror_mode": {
    "name": "ipython",
    "version": 3
   },
   "file_extension": ".py",
   "mimetype": "text/x-python",
   "name": "python",
   "nbconvert_exporter": "python",
   "pygments_lexer": "ipython3",
   "version": "3.9.12"
  }
 },
 "nbformat": 4,
 "nbformat_minor": 5
}
