{
 "cells": [
  {
   "cell_type": "markdown",
   "id": "3147a567-a7fa-4385-a26b-24661656e81d",
   "metadata": {},
   "source": [
    "# Aprendizaje supervisado - entrenamiento de modelos de machine learning"
   ]
  },
  {
   "cell_type": "markdown",
   "id": "0f79679e-1e5d-4f11-bae2-77f2e16c92f6",
   "metadata": {
    "tags": []
   },
   "source": [
    "## Importación de librerías"
   ]
  },
  {
   "cell_type": "code",
   "execution_count": 4,
   "id": "79c475cf-9081-46eb-a9ab-0bd33d01f5b2",
   "metadata": {
    "tags": []
   },
   "outputs": [],
   "source": [
    "import matplotlib.pyplot as plt\n",
    "import numpy as np\n",
    "import pandas as pd\n",
    "import warnings\n",
    "\n",
    "from scipy.stats import norm\n",
    "\n",
    "warnings.filterwarnings('ignore')"
   ]
  },
  {
   "cell_type": "markdown",
   "id": "0ec11541-767b-4d36-8799-e45efda5e20f",
   "metadata": {},
   "source": [
    "## Importación de datos"
   ]
  },
  {
   "cell_type": "code",
   "execution_count": 6,
   "id": "b1bbd0d0-6daa-48c0-8df5-efc121a28528",
   "metadata": {
    "tags": []
   },
   "outputs": [],
   "source": [
    "data = pd.read_csv(\"data_encoded.csv\")"
   ]
  },
  {
   "cell_type": "code",
   "execution_count": 7,
   "id": "e948505b-818e-40c1-8539-30cbb6dfb335",
   "metadata": {
    "tags": []
   },
   "outputs": [
    {
     "data": {
      "text/html": [
       "<div>\n",
       "<style scoped>\n",
       "    .dataframe tbody tr th:only-of-type {\n",
       "        vertical-align: middle;\n",
       "    }\n",
       "\n",
       "    .dataframe tbody tr th {\n",
       "        vertical-align: top;\n",
       "    }\n",
       "\n",
       "    .dataframe thead th {\n",
       "        text-align: right;\n",
       "    }\n",
       "</style>\n",
       "<table border=\"1\" class=\"dataframe\">\n",
       "  <thead>\n",
       "    <tr style=\"text-align: right;\">\n",
       "      <th></th>\n",
       "      <th>age</th>\n",
       "      <th>gender</th>\n",
       "      <th>education_level</th>\n",
       "      <th>marital_status</th>\n",
       "      <th>credit_score</th>\n",
       "      <th>loan_status</th>\n",
       "      <th>new_occupation</th>\n",
       "      <th>new_income</th>\n",
       "    </tr>\n",
       "  </thead>\n",
       "  <tbody>\n",
       "    <tr>\n",
       "      <th>0</th>\n",
       "      <td>32</td>\n",
       "      <td>1</td>\n",
       "      <td>1</td>\n",
       "      <td>0</td>\n",
       "      <td>720</td>\n",
       "      <td>1</td>\n",
       "      <td>4</td>\n",
       "      <td>5</td>\n",
       "    </tr>\n",
       "    <tr>\n",
       "      <th>1</th>\n",
       "      <td>45</td>\n",
       "      <td>0</td>\n",
       "      <td>4</td>\n",
       "      <td>1</td>\n",
       "      <td>680</td>\n",
       "      <td>1</td>\n",
       "      <td>3</td>\n",
       "      <td>4</td>\n",
       "    </tr>\n",
       "    <tr>\n",
       "      <th>2</th>\n",
       "      <td>28</td>\n",
       "      <td>1</td>\n",
       "      <td>3</td>\n",
       "      <td>1</td>\n",
       "      <td>590</td>\n",
       "      <td>0</td>\n",
       "      <td>3</td>\n",
       "      <td>0</td>\n",
       "    </tr>\n",
       "    <tr>\n",
       "      <th>3</th>\n",
       "      <td>51</td>\n",
       "      <td>0</td>\n",
       "      <td>1</td>\n",
       "      <td>0</td>\n",
       "      <td>780</td>\n",
       "      <td>1</td>\n",
       "      <td>0</td>\n",
       "      <td>5</td>\n",
       "    </tr>\n",
       "    <tr>\n",
       "      <th>4</th>\n",
       "      <td>36</td>\n",
       "      <td>1</td>\n",
       "      <td>1</td>\n",
       "      <td>0</td>\n",
       "      <td>710</td>\n",
       "      <td>1</td>\n",
       "      <td>0</td>\n",
       "      <td>5</td>\n",
       "    </tr>\n",
       "  </tbody>\n",
       "</table>\n",
       "</div>"
      ],
      "text/plain": [
       "   age  gender  education_level  marital_status  credit_score  loan_status  \\\n",
       "0   32       1                1               0           720            1   \n",
       "1   45       0                4               1           680            1   \n",
       "2   28       1                3               1           590            0   \n",
       "3   51       0                1               0           780            1   \n",
       "4   36       1                1               0           710            1   \n",
       "\n",
       "   new_occupation  new_income  \n",
       "0               4           5  \n",
       "1               3           4  \n",
       "2               3           0  \n",
       "3               0           5  \n",
       "4               0           5  "
      ]
     },
     "execution_count": 7,
     "metadata": {},
     "output_type": "execute_result"
    }
   ],
   "source": [
    "data.head()"
   ]
  },
  {
   "cell_type": "markdown",
   "id": "c966ccde-8f37-43ac-9e3b-aac5c1bd5ccc",
   "metadata": {},
   "source": [
    "## Entrenamiento del modelo"
   ]
  },
  {
   "cell_type": "markdown",
   "id": "5d2832c7-89a2-4211-b256-04b47e06875f",
   "metadata": {},
   "source": [
    "### División entre Train y Test "
   ]
  },
  {
   "cell_type": "code",
   "execution_count": 10,
   "id": "13d498e4-548f-4b05-aab4-4ee790d2ceb6",
   "metadata": {
    "tags": []
   },
   "outputs": [],
   "source": [
    "from sklearn.model_selection import train_test_split"
   ]
  },
  {
   "cell_type": "code",
   "execution_count": 11,
   "id": "b27b9e16-b35a-4367-aa9f-9ee0140d667c",
   "metadata": {
    "tags": []
   },
   "outputs": [],
   "source": [
    "x=data.drop(['loan_status'],axis=1)\n",
    "y=data['loan_status']"
   ]
  },
  {
   "cell_type": "code",
   "execution_count": 12,
   "id": "f4b4945a-e090-45a1-8c0f-40fb49a0cb3c",
   "metadata": {
    "tags": []
   },
   "outputs": [],
   "source": [
    "x_train, x_test, y_train, y_test = train_test_split(x, y, test_size=0.20, random_state=0, shuffle=True)"
   ]
  },
  {
   "cell_type": "code",
   "execution_count": 13,
   "id": "9924aff4-fe36-44b2-a845-2c544f8feb93",
   "metadata": {
    "tags": []
   },
   "outputs": [
    {
     "data": {
      "text/plain": [
       "(48, 7)"
      ]
     },
     "execution_count": 13,
     "metadata": {},
     "output_type": "execute_result"
    }
   ],
   "source": [
    "x_train.shape"
   ]
  },
  {
   "cell_type": "code",
   "execution_count": 14,
   "id": "323bbc8f-7eba-440d-8345-3b1447a877eb",
   "metadata": {
    "tags": []
   },
   "outputs": [
    {
     "data": {
      "text/plain": [
       "(13, 7)"
      ]
     },
     "execution_count": 14,
     "metadata": {},
     "output_type": "execute_result"
    }
   ],
   "source": [
    "x_test.shape"
   ]
  },
  {
   "cell_type": "markdown",
   "id": "a1d8c72b-d07e-4b08-b0b0-b1d6f2b7ae1b",
   "metadata": {},
   "source": [
    "### Escalado de los datos"
   ]
  },
  {
   "cell_type": "code",
   "execution_count": 16,
   "id": "79b31999-d6ef-48e1-9b12-4f265b627f20",
   "metadata": {
    "tags": []
   },
   "outputs": [],
   "source": [
    "from sklearn.preprocessing import MaxAbsScaler\n",
    "from sklearn.preprocessing import MinMaxScaler\n",
    "from sklearn.preprocessing import StandardScaler"
   ]
  },
  {
   "cell_type": "code",
   "execution_count": 17,
   "id": "5db58b1a-fdbe-47e2-ae04-52187f3ab404",
   "metadata": {
    "tags": []
   },
   "outputs": [],
   "source": [
    "scaler = StandardScaler()"
   ]
  },
  {
   "cell_type": "code",
   "execution_count": 18,
   "id": "8244d366-585f-4c03-af6d-8519a9f0bfea",
   "metadata": {
    "collapsed": true,
    "jupyter": {
     "outputs_hidden": true
    },
    "tags": []
   },
   "outputs": [
    {
     "data": {
      "text/plain": [
       "array([[-0.87549217, -0.8819171 ,  1.44069218,  1.29099445, -0.63364597,\n",
       "        -0.54301184, -0.64983859],\n",
       "       [ 1.18925237, -0.8819171 , -0.04647394, -0.77459667,  1.31961133,\n",
       "         0.3769141 ,  0.6774913 ],\n",
       "       [-1.11840329, -0.8819171 , -1.53364006,  1.29099445, -0.77316435,\n",
       "         0.3769141 , -0.64983859],\n",
       "       [-1.23985886, -0.8819171 , -0.790057  ,  1.29099445, -1.61027462,\n",
       "        -0.84965381, -1.97716848],\n",
       "       [-0.99694773, -0.8819171 , -0.790057  ,  1.29099445, -1.33123786,\n",
       "        -0.84965381, -1.97716848],\n",
       "       [ 0.82488569,  1.13389342,  1.44069218, -0.77459667,  0.62201944,\n",
       "        -1.15629579,  0.6774913 ],\n",
       "       [-0.63258105,  1.13389342, -0.790057  , -0.77459667,  0.9010562 ,\n",
       "         0.68355608,  0.6774913 ],\n",
       "       [-0.99694773, -0.8819171 , -0.790057  ,  1.29099445, -1.05220111,\n",
       "        -1.15629579, -1.31350353],\n",
       "       [ 1.43216349, -0.8819171 , -0.790057  , -0.77459667,  0.06394592,\n",
       "        -1.46293777,  0.01382635],\n",
       "       [ 0.94634125,  1.13389342, -0.790057  , -0.77459667,  1.04057457,\n",
       "        -1.46293777,  0.6774913 ],\n",
       "       [ 1.55361906, -0.8819171 , -0.04647394, -0.77459667,  1.31961133,\n",
       "        -0.54301184,  0.6774913 ],\n",
       "       [-0.87549217,  1.13389342,  1.44069218,  1.29099445, -0.21509083,\n",
       "         0.99019805,  0.6774913 ],\n",
       "       [-1.48276998, -0.8819171 ,  0.69710912,  1.29099445, -2.02882976,\n",
       "        -1.46293777, -1.97716848],\n",
       "       [ 0.70343013, -0.8819171 ,  1.44069218, -0.77459667,  0.48250106,\n",
       "         0.68355608,  0.6774913 ],\n",
       "       [-1.23985886, -0.8819171 , -0.790057  ,  1.29099445, -0.91268273,\n",
       "        -1.15629579, -0.64983859],\n",
       "       [-1.60422554, -0.8819171 , -1.53364006,  1.29099445, -1.05220111,\n",
       "         0.3769141 , -1.31350353],\n",
       "       [ 2.0394413 , -0.8819171 ,  1.44069218, -0.77459667,  0.62201944,\n",
       "         0.99019805,  0.6774913 ],\n",
       "       [-0.38966993,  1.13389342, -0.790057  , -0.77459667,  0.34298268,\n",
       "        -0.23636986,  0.6774913 ],\n",
       "       [-0.02530324,  1.13389342, -0.790057  , -0.77459667,  0.48250106,\n",
       "        -0.23636986,  0.6774913 ],\n",
       "       [ 0.09615232,  1.13389342, -0.790057  , -0.77459667,  0.06394592,\n",
       "         1.91012399,  0.6774913 ],\n",
       "       [ 0.70343013,  1.13389342, -0.790057  , -0.77459667,  0.62201944,\n",
       "        -1.46293777,  0.6774913 ],\n",
       "       [-0.02530324,  1.13389342,  1.44069218, -0.77459667,  0.48250106,\n",
       "         0.68355608,  0.6774913 ],\n",
       "       [ 0.21760788, -0.8819171 , -0.790057  , -0.77459667,  0.2034643 ,\n",
       "         1.60348201,  0.6774913 ],\n",
       "       [-1.11840329, -0.8819171 , -0.04647394,  1.29099445, -0.07557246,\n",
       "         0.3769141 ,  0.6774913 ],\n",
       "       [-1.36131442, -0.8819171 ,  0.69710912,  1.29099445, -2.16834814,\n",
       "         0.07027212, -2.64083342],\n",
       "       [ 0.460519  , -0.8819171 , -0.04647394, -0.77459667,  1.18009295,\n",
       "         0.3769141 ,  0.6774913 ],\n",
       "       [-0.1467588 , -0.8819171 ,  1.44069218, -0.77459667,  0.34298268,\n",
       "        -0.23636986,  0.6774913 ],\n",
       "       [-0.38966993,  1.13389342, -0.790057  , -0.77459667,  0.06394592,\n",
       "         0.68355608,  0.6774913 ],\n",
       "       [-0.63258105,  1.13389342,  0.69710912,  1.29099445, -1.19171948,\n",
       "         1.60348201, -1.31350353],\n",
       "       [ 0.33906344,  1.13389342, -0.790057  , -0.77459667,  0.34298268,\n",
       "         0.68355608,  0.6774913 ],\n",
       "       [ 0.94634125, -0.8819171 ,  1.44069218,  1.29099445, -0.49412759,\n",
       "        -0.54301184,  0.01382635],\n",
       "       [-1.36131442,  1.13389342,  0.69710912,  1.29099445, -1.47075624,\n",
       "         1.60348201, -1.31350353],\n",
       "       [-0.75403661,  1.13389342, -0.790057  ,  1.29099445, -0.49412759,\n",
       "         0.68355608,  0.01382635],\n",
       "       [ 0.33906344,  1.13389342, -1.53364006, -0.77459667, -0.35460921,\n",
       "         0.07027212,  0.01382635],\n",
       "       [ 0.58197456,  1.13389342, -0.04647394, -0.77459667,  1.04057457,\n",
       "         1.29684003,  0.6774913 ],\n",
       "       [-0.51112549, -0.8819171 , -0.790057  ,  1.29099445, -1.19171948,\n",
       "         0.99019805, -1.31350353],\n",
       "       [-0.26821436,  1.13389342,  1.44069218, -0.77459667,  0.76153782,\n",
       "        -0.23636986,  0.6774913 ],\n",
       "       [ 0.460519  ,  1.13389342,  1.44069218, -0.77459667,  0.62201944,\n",
       "        -1.46293777,  0.6774913 ],\n",
       "       [-1.48276998, -0.8819171 ,  0.69710912,  1.29099445, -1.88931138,\n",
       "        -1.46293777, -1.97716848],\n",
       "       [ 1.91798574, -0.8819171 , -0.04647394, -0.77459667,  1.04057457,\n",
       "        -0.54301184,  0.6774913 ],\n",
       "       [ 1.31070793, -0.8819171 , -0.04647394, -0.77459667,  1.45912971,\n",
       "         0.3769141 ,  0.6774913 ],\n",
       "       [-0.51112549, -0.8819171 , -1.53364006,  1.29099445, -1.33123786,\n",
       "        -0.84965381, -1.31350353],\n",
       "       [ 0.21760788,  1.13389342,  1.44069218, -0.77459667,  0.76153782,\n",
       "        -1.15629579,  0.6774913 ],\n",
       "       [ 1.67507462, -0.8819171 , -0.790057  , -0.77459667,  0.9010562 ,\n",
       "        -1.46293777,  0.6774913 ],\n",
       "       [-0.63258105,  1.13389342, -0.790057  , -0.77459667,  0.06394592,\n",
       "        -0.23636986,  0.6774913 ],\n",
       "       [ 0.82488569, -0.8819171 ,  1.44069218, -0.77459667,  0.34298268,\n",
       "         1.60348201,  0.6774913 ],\n",
       "       [ 1.31070793, -0.8819171 , -0.04647394, -0.77459667,  1.59864809,\n",
       "         0.3769141 ,  0.6774913 ],\n",
       "       [ 0.58197456,  1.13389342, -0.04647394, -0.77459667,  1.18009295,\n",
       "         1.29684003,  0.6774913 ]])"
      ]
     },
     "execution_count": 18,
     "metadata": {},
     "output_type": "execute_result"
    }
   ],
   "source": [
    "x_train = scaler.fit_transform(x_train)\n",
    "x_train"
   ]
  },
  {
   "cell_type": "markdown",
   "id": "85fd96fb-a769-433d-843e-38d6b2994d97",
   "metadata": {},
   "source": [
    "### Entrenamiento : Árbol de decisión"
   ]
  },
  {
   "cell_type": "code",
   "execution_count": 20,
   "id": "cf02744d-1e3f-4a20-b4dd-a4e36681408b",
   "metadata": {
    "tags": []
   },
   "outputs": [],
   "source": [
    "from sklearn.tree import DecisionTreeClassifier\n",
    "\n",
    "clf=DecisionTreeClassifier(max_depth=5)"
   ]
  },
  {
   "cell_type": "code",
   "execution_count": 21,
   "id": "a9a31c75-5b15-4f1c-b435-ac6f1caa4f65",
   "metadata": {
    "tags": []
   },
   "outputs": [
    {
     "data": {
      "text/html": [
       "<style>#sk-container-id-1 {color: black;background-color: white;}#sk-container-id-1 pre{padding: 0;}#sk-container-id-1 div.sk-toggleable {background-color: white;}#sk-container-id-1 label.sk-toggleable__label {cursor: pointer;display: block;width: 100%;margin-bottom: 0;padding: 0.3em;box-sizing: border-box;text-align: center;}#sk-container-id-1 label.sk-toggleable__label-arrow:before {content: \"▸\";float: left;margin-right: 0.25em;color: #696969;}#sk-container-id-1 label.sk-toggleable__label-arrow:hover:before {color: black;}#sk-container-id-1 div.sk-estimator:hover label.sk-toggleable__label-arrow:before {color: black;}#sk-container-id-1 div.sk-toggleable__content {max-height: 0;max-width: 0;overflow: hidden;text-align: left;background-color: #f0f8ff;}#sk-container-id-1 div.sk-toggleable__content pre {margin: 0.2em;color: black;border-radius: 0.25em;background-color: #f0f8ff;}#sk-container-id-1 input.sk-toggleable__control:checked~div.sk-toggleable__content {max-height: 200px;max-width: 100%;overflow: auto;}#sk-container-id-1 input.sk-toggleable__control:checked~label.sk-toggleable__label-arrow:before {content: \"▾\";}#sk-container-id-1 div.sk-estimator input.sk-toggleable__control:checked~label.sk-toggleable__label {background-color: #d4ebff;}#sk-container-id-1 div.sk-label input.sk-toggleable__control:checked~label.sk-toggleable__label {background-color: #d4ebff;}#sk-container-id-1 input.sk-hidden--visually {border: 0;clip: rect(1px 1px 1px 1px);clip: rect(1px, 1px, 1px, 1px);height: 1px;margin: -1px;overflow: hidden;padding: 0;position: absolute;width: 1px;}#sk-container-id-1 div.sk-estimator {font-family: monospace;background-color: #f0f8ff;border: 1px dotted black;border-radius: 0.25em;box-sizing: border-box;margin-bottom: 0.5em;}#sk-container-id-1 div.sk-estimator:hover {background-color: #d4ebff;}#sk-container-id-1 div.sk-parallel-item::after {content: \"\";width: 100%;border-bottom: 1px solid gray;flex-grow: 1;}#sk-container-id-1 div.sk-label:hover label.sk-toggleable__label {background-color: #d4ebff;}#sk-container-id-1 div.sk-serial::before {content: \"\";position: absolute;border-left: 1px solid gray;box-sizing: border-box;top: 0;bottom: 0;left: 50%;z-index: 0;}#sk-container-id-1 div.sk-serial {display: flex;flex-direction: column;align-items: center;background-color: white;padding-right: 0.2em;padding-left: 0.2em;position: relative;}#sk-container-id-1 div.sk-item {position: relative;z-index: 1;}#sk-container-id-1 div.sk-parallel {display: flex;align-items: stretch;justify-content: center;background-color: white;position: relative;}#sk-container-id-1 div.sk-item::before, #sk-container-id-1 div.sk-parallel-item::before {content: \"\";position: absolute;border-left: 1px solid gray;box-sizing: border-box;top: 0;bottom: 0;left: 50%;z-index: -1;}#sk-container-id-1 div.sk-parallel-item {display: flex;flex-direction: column;z-index: 1;position: relative;background-color: white;}#sk-container-id-1 div.sk-parallel-item:first-child::after {align-self: flex-end;width: 50%;}#sk-container-id-1 div.sk-parallel-item:last-child::after {align-self: flex-start;width: 50%;}#sk-container-id-1 div.sk-parallel-item:only-child::after {width: 0;}#sk-container-id-1 div.sk-dashed-wrapped {border: 1px dashed gray;margin: 0 0.4em 0.5em 0.4em;box-sizing: border-box;padding-bottom: 0.4em;background-color: white;}#sk-container-id-1 div.sk-label label {font-family: monospace;font-weight: bold;display: inline-block;line-height: 1.2em;}#sk-container-id-1 div.sk-label-container {text-align: center;}#sk-container-id-1 div.sk-container {/* jupyter's `normalize.less` sets `[hidden] { display: none; }` but bootstrap.min.css set `[hidden] { display: none !important; }` so we also need the `!important` here to be able to override the default hidden behavior on the sphinx rendered scikit-learn.org. See: https://github.com/scikit-learn/scikit-learn/issues/21755 */display: inline-block !important;position: relative;}#sk-container-id-1 div.sk-text-repr-fallback {display: none;}</style><div id=\"sk-container-id-1\" class=\"sk-top-container\"><div class=\"sk-text-repr-fallback\"><pre>DecisionTreeClassifier(max_depth=5)</pre><b>In a Jupyter environment, please rerun this cell to show the HTML representation or trust the notebook. <br />On GitHub, the HTML representation is unable to render, please try loading this page with nbviewer.org.</b></div><div class=\"sk-container\" hidden><div class=\"sk-item\"><div class=\"sk-estimator sk-toggleable\"><input class=\"sk-toggleable__control sk-hidden--visually\" id=\"sk-estimator-id-1\" type=\"checkbox\" checked><label for=\"sk-estimator-id-1\" class=\"sk-toggleable__label sk-toggleable__label-arrow\">DecisionTreeClassifier</label><div class=\"sk-toggleable__content\"><pre>DecisionTreeClassifier(max_depth=5)</pre></div></div></div></div></div>"
      ],
      "text/plain": [
       "DecisionTreeClassifier(max_depth=5)"
      ]
     },
     "execution_count": 21,
     "metadata": {},
     "output_type": "execute_result"
    }
   ],
   "source": [
    "clf.fit(x_train,y_train)"
   ]
  },
  {
   "cell_type": "markdown",
   "id": "6dfbfc57-e059-4e5f-b7d7-64217f1a1023",
   "metadata": {},
   "source": [
    "### Evaluación"
   ]
  },
  {
   "cell_type": "code",
   "execution_count": 23,
   "id": "cdf83485-fd3d-4b10-8ce4-856b2e0c77dd",
   "metadata": {
    "tags": []
   },
   "outputs": [],
   "source": [
    "# Predict\n",
    "y_train_pred = clf.predict(x_train)"
   ]
  },
  {
   "cell_type": "code",
   "execution_count": 24,
   "id": "b1808c42-74d5-4e15-9ad3-b55f87339f32",
   "metadata": {
    "tags": []
   },
   "outputs": [],
   "source": [
    "x_test = scaler.transform(x_test)"
   ]
  },
  {
   "cell_type": "code",
   "execution_count": 25,
   "id": "21337700-7ce2-4152-8f67-d033e576da2d",
   "metadata": {
    "tags": []
   },
   "outputs": [],
   "source": [
    "y_test_pred = clf.predict(x_test)"
   ]
  },
  {
   "cell_type": "code",
   "execution_count": 26,
   "id": "b2511d01-cfe8-4fa6-a834-a4878e7db4c5",
   "metadata": {
    "tags": []
   },
   "outputs": [],
   "source": [
    "from sklearn import metrics\n",
    "from sklearn import metrics"
   ]
  },
  {
   "cell_type": "code",
   "execution_count": 28,
   "id": "775f7d69-44c4-441d-9880-55aa9bb8708b",
   "metadata": {
    "tags": []
   },
   "outputs": [
    {
     "name": "stdout",
     "output_type": "stream",
     "text": [
      "==============================================\n",
      "Reporte de clasificación del conjunto de train\n",
      "==============================================\n",
      "              precision    recall  f1-score   support\n",
      "\n",
      "           0       1.00      1.00      1.00        13\n",
      "           1       1.00      1.00      1.00        35\n",
      "\n",
      "    accuracy                           1.00        48\n",
      "   macro avg       1.00      1.00      1.00        48\n",
      "weighted avg       1.00      1.00      1.00        48\n",
      "\n"
     ]
    }
   ],
   "source": [
    "# Evaluate train\n",
    "text = \"Reporte de clasificación del conjunto de train\" \n",
    "print(len(text)*\"=\")\n",
    "print(text)\n",
    "print(len(text)*\"=\")\n",
    "print(metrics.classification_report(y_train, y_train_pred))"
   ]
  },
  {
   "cell_type": "code",
   "execution_count": 29,
   "id": "9c383274-a33b-48cb-b67b-636c12ed2e93",
   "metadata": {
    "tags": []
   },
   "outputs": [
    {
     "name": "stdout",
     "output_type": "stream",
     "text": [
      "==============================================\n",
      "Reporte de clasificación del conjunto de train\n",
      "==============================================\n",
      "              precision    recall  f1-score   support\n",
      "\n",
      "           0       0.75      1.00      0.86         3\n",
      "           1       1.00      0.90      0.95        10\n",
      "\n",
      "    accuracy                           0.92        13\n",
      "   macro avg       0.88      0.95      0.90        13\n",
      "weighted avg       0.94      0.92      0.93        13\n",
      "\n"
     ]
    }
   ],
   "source": [
    "# Evaluate train\n",
    "text = \"Reporte de clasificación del conjunto de train\" \n",
    "print(len(text)*\"=\")\n",
    "print(text)\n",
    "print(len(text)*\"=\")\n",
    "print(metrics.classification_report(y_test, y_test_pred))"
   ]
  },
  {
   "cell_type": "code",
   "execution_count": 30,
   "id": "21dbcdc6-373e-4aef-8999-c99b8f7801f7",
   "metadata": {
    "tags": []
   },
   "outputs": [
    {
     "data": {
      "text/plain": [
       "<Figure size 640x480 with 0 Axes>"
      ]
     },
     "metadata": {},
     "output_type": "display_data"
    },
    {
     "data": {
      "image/png": "[encoded data removed]",
      "text/plain": [
       "<Figure size 640x480 with 2 Axes>"
      ]
     },
     "metadata": {},
     "output_type": "display_data"
    }
   ],
   "source": [
    "plt.figure()\n",
    "metrics.ConfusionMatrixDisplay.from_predictions(y_train,y_train_pred)\n",
    "plt.title('Conjunto de Train')\n",
    "plt.show()"
   ]
  },
  {
   "cell_type": "code",
   "execution_count": 31,
   "id": "c34b72fc-ac69-457f-9f75-6118dffe9e7a",
   "metadata": {
    "tags": []
   },
   "outputs": [
    {
     "data": {
      "text/plain": [
       "<Figure size 640x480 with 0 Axes>"
      ]
     },
     "metadata": {},
     "output_type": "display_data"
    },
    {
     "data": {
      "image/png": "[encoded data removed]",
      "text/plain": [
       "<Figure size 640x480 with 2 Axes>"
      ]
     },
     "metadata": {},
     "output_type": "display_data"
    }
   ],
   "source": [
    "plt.figure()\n",
    "metrics.ConfusionMatrixDisplay.from_predictions(y_test,y_test_pred)\n",
    "plt.title('Conjunto de Test')\n",
    "plt.show()"
   ]
  }
 ],
 "metadata": {
  "kernelspec": {
   "display_name": "Python 3 (ipykernel)",
   "language": "python",
   "name": "python3"
  },
  "language_info": {
   "codemirror_mode": {
    "name": "ipython",
    "version": 3
   },
   "file_extension": ".py",
   "mimetype": "text/x-python",
   "name": "python",
   "nbconvert_exporter": "python",
   "pygments_lexer": "ipython3",
   "version": "3.11.7"
  }
 },
 "nbformat": 4,
 "nbformat_minor": 5
}
