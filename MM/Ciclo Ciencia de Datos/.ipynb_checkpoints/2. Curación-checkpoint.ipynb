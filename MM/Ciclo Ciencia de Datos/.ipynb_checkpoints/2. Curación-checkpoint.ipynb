{
 "cells": [
  {
   "cell_type": "markdown",
   "id": "e4a9b117-8811-4a74-b38a-f6a340b29529",
   "metadata": {},
   "source": [
    "# Análisis y Curación de datos - Feature Engineering"
   ]
  },
  {
   "cell_type": "markdown",
   "id": "f171c22a-d6e9-48ac-b06e-b51505d12015",
   "metadata": {
    "tags": []
   },
   "source": [
    "## Importación de librerías"
   ]
  },
  {
   "cell_type": "code",
   "execution_count": 11,
   "id": "bff08102-fc21-4222-8008-9a9ca75fd3de",
   "metadata": {},
   "outputs": [],
   "source": [
    "import matplotlib.pyplot as plt\n",
    "import numpy as np\n",
    "import pandas as pd\n",
    "import seaborn as sns\n",
    "import warnings\n",
    "\n",
    "from scipy.stats import norm\n",
    "\n",
    "warnings.filterwarnings('ignore')"
   ]
  },
  {
   "cell_type": "markdown",
   "id": "6aba3ef3-babc-4567-b09c-1646dd6d3300",
   "metadata": {
    "tags": []
   },
   "source": [
    "## Importación de datos "
   ]
  },
  {
   "cell_type": "code",
   "execution_count": 12,
   "id": "7e63f923-0cff-417a-9f8a-06a4d87ce0e1",
   "metadata": {},
   "outputs": [],
   "source": [
    "data = pd.read_csv(\"loan.csv\")"
   ]
  },
  {
   "cell_type": "code",
   "execution_count": 13,
   "id": "8a876125-d9b5-4d69-b5b4-248a14741c76",
   "metadata": {},
   "outputs": [
    {
     "data": {
      "text/html": [
       "<div>\n",
       "<style scoped>\n",
       "    .dataframe tbody tr th:only-of-type {\n",
       "        vertical-align: middle;\n",
       "    }\n",
       "\n",
       "    .dataframe tbody tr th {\n",
       "        vertical-align: top;\n",
       "    }\n",
       "\n",
       "    .dataframe thead th {\n",
       "        text-align: right;\n",
       "    }\n",
       "</style>\n",
       "<table border=\"1\" class=\"dataframe\">\n",
       "  <thead>\n",
       "    <tr style=\"text-align: right;\">\n",
       "      <th></th>\n",
       "      <th>age</th>\n",
       "      <th>gender</th>\n",
       "      <th>occupation</th>\n",
       "      <th>education_level</th>\n",
       "      <th>marital_status</th>\n",
       "      <th>income</th>\n",
       "      <th>credit_score</th>\n",
       "      <th>loan_status</th>\n",
       "    </tr>\n",
       "  </thead>\n",
       "  <tbody>\n",
       "    <tr>\n",
       "      <th>0</th>\n",
       "      <td>32</td>\n",
       "      <td>Male</td>\n",
       "      <td>Engineer</td>\n",
       "      <td>Bachelor's</td>\n",
       "      <td>Married</td>\n",
       "      <td>85000</td>\n",
       "      <td>720</td>\n",
       "      <td>Approved</td>\n",
       "    </tr>\n",
       "    <tr>\n",
       "      <th>1</th>\n",
       "      <td>45</td>\n",
       "      <td>Female</td>\n",
       "      <td>Teacher</td>\n",
       "      <td>Master's</td>\n",
       "      <td>Single</td>\n",
       "      <td>62000</td>\n",
       "      <td>680</td>\n",
       "      <td>Approved</td>\n",
       "    </tr>\n",
       "    <tr>\n",
       "      <th>2</th>\n",
       "      <td>28</td>\n",
       "      <td>Male</td>\n",
       "      <td>Student</td>\n",
       "      <td>High School</td>\n",
       "      <td>Single</td>\n",
       "      <td>25000</td>\n",
       "      <td>590</td>\n",
       "      <td>Denied</td>\n",
       "    </tr>\n",
       "    <tr>\n",
       "      <th>3</th>\n",
       "      <td>51</td>\n",
       "      <td>Female</td>\n",
       "      <td>Manager</td>\n",
       "      <td>Bachelor's</td>\n",
       "      <td>Married</td>\n",
       "      <td>105000</td>\n",
       "      <td>780</td>\n",
       "      <td>Approved</td>\n",
       "    </tr>\n",
       "    <tr>\n",
       "      <th>4</th>\n",
       "      <td>36</td>\n",
       "      <td>Male</td>\n",
       "      <td>Accountant</td>\n",
       "      <td>Bachelor's</td>\n",
       "      <td>Married</td>\n",
       "      <td>75000</td>\n",
       "      <td>710</td>\n",
       "      <td>Approved</td>\n",
       "    </tr>\n",
       "  </tbody>\n",
       "</table>\n",
       "</div>"
      ],
      "text/plain": [
       "   age  gender  occupation education_level marital_status  income  \\\n",
       "0   32    Male    Engineer      Bachelor's        Married   85000   \n",
       "1   45  Female     Teacher        Master's         Single   62000   \n",
       "2   28    Male     Student     High School         Single   25000   \n",
       "3   51  Female     Manager      Bachelor's        Married  105000   \n",
       "4   36    Male  Accountant      Bachelor's        Married   75000   \n",
       "\n",
       "   credit_score loan_status  \n",
       "0           720    Approved  \n",
       "1           680    Approved  \n",
       "2           590      Denied  \n",
       "3           780    Approved  \n",
       "4           710    Approved  "
      ]
     },
     "execution_count": 13,
     "metadata": {},
     "output_type": "execute_result"
    }
   ],
   "source": [
    "data.head()"
   ]
  },
  {
   "cell_type": "markdown",
   "id": "106e96bb-2b75-4600-958c-84b0b3afd661",
   "metadata": {},
   "source": [
    "## Recategorización de variables"
   ]
  },
  {
   "cell_type": "code",
   "execution_count": 14,
   "id": "ad15b5d5-92c3-401f-a76e-b88c40706ecd",
   "metadata": {},
   "outputs": [
    {
     "data": {
      "text/plain": [
       "array(['Engineer', 'Teacher', 'Student', 'Manager', 'Accountant', 'Nurse',\n",
       "       'Lawyer', 'Artist', 'IT', 'Doctor', 'Consultant', 'Analyst',\n",
       "       'Salesman', 'Marketing', 'Architect', 'Designer', 'Pharmacist',\n",
       "       'Researcher', 'Professor', 'Pilot', 'Receptionist', 'Banker',\n",
       "       'Writer', 'Chef', 'Veterinarian', 'Sales', 'HR', 'Electrician',\n",
       "       'Realtor', 'Photographer', 'Editor', 'Programmer', 'Dentist',\n",
       "       'Musician', 'Psychologist', 'Server', 'Software', 'Stylist'],\n",
       "      dtype=object)"
      ]
     },
     "execution_count": 14,
     "metadata": {},
     "output_type": "execute_result"
    }
   ],
   "source": [
    "data['occupation'].unique()"
   ]
  },
  {
   "cell_type": "code",
   "execution_count": 15,
   "id": "e3011d06-49e7-418e-aa48-73e3c1ca2f9d",
   "metadata": {},
   "outputs": [
    {
     "data": {
      "text/plain": [
       "Engineer        5\n",
       "Analyst         2\n",
       "Chef            2\n",
       "Writer          2\n",
       "Banker          2\n",
       "Receptionist    2\n",
       "Teacher         2\n",
       "Professor       2\n",
       "Designer        2\n",
       "Marketing       2\n",
       "Salesman        2\n",
       "Architect       2\n",
       "Consultant      2\n",
       "Doctor          2\n",
       "IT              2\n",
       "Artist          2\n",
       "Lawyer          2\n",
       "Nurse           2\n",
       "Accountant      2\n",
       "Manager         2\n",
       "Photographer    1\n",
       "Server          1\n",
       "Psychologist    1\n",
       "Software        1\n",
       "Musician        1\n",
       "Dentist         1\n",
       "Programmer      1\n",
       "Editor          1\n",
       "Pilot           1\n",
       "Realtor         1\n",
       "Electrician     1\n",
       "HR              1\n",
       "Sales           1\n",
       "Veterinarian    1\n",
       "Researcher      1\n",
       "Pharmacist      1\n",
       "Student         1\n",
       "Stylist         1\n",
       "Name: occupation, dtype: int64"
      ]
     },
     "execution_count": 15,
     "metadata": {},
     "output_type": "execute_result"
    }
   ],
   "source": [
    "data['occupation'].value_counts()"
   ]
  },
  {
   "cell_type": "code",
   "execution_count": 30,
   "id": "206939a0-2982-4bc9-a1de-58d2b0e74a97",
   "metadata": {},
   "outputs": [],
   "source": [
    "dic_occupation = {'engineer': ['Engineer'],\n",
    "                  'pilot':['Pilot'],\n",
    "                  'lawyer':['Lawyer'],\n",
    "                  'language': ['Editor','Writer','Researcher'],\n",
    "                  'gastronomy' : ['Chef','Server'],\n",
    "                  'marketing and sales': ['Salesman', 'Marketing', 'Sales'],\n",
    "                  'art': ['Musician','Artist','Stylist','Photographer'],\n",
    "                  'architecture': ['Architect', 'Designer','Electrician'],\n",
    "                  'it': ['IT','Programmer','Software','Analyst','HR'],\n",
    "                  'health': ['Dentist','Pharmacist','Psychologist','Doctor','Nurse','Veterinarian'],\n",
    "                  'education': ['Teacher','Professor','Student'],\n",
    "                  'administration and finance' : ['Manager', 'Accountant','Consultant', 'Realtor','Receptionist','Banker']\n",
    "}"
   ]
  },
  {
   "cell_type": "code",
   "execution_count": 32,
   "id": "e509b9ce-2741-4f56-88e4-3efb8d064373",
   "metadata": {},
   "outputs": [
    {
     "data": {
      "text/html": [
       "<div>\n",
       "<style scoped>\n",
       "    .dataframe tbody tr th:only-of-type {\n",
       "        vertical-align: middle;\n",
       "    }\n",
       "\n",
       "    .dataframe tbody tr th {\n",
       "        vertical-align: top;\n",
       "    }\n",
       "\n",
       "    .dataframe thead th {\n",
       "        text-align: right;\n",
       "    }\n",
       "</style>\n",
       "<table border=\"1\" class=\"dataframe\">\n",
       "  <thead>\n",
       "    <tr style=\"text-align: right;\">\n",
       "      <th></th>\n",
       "      <th>occupation</th>\n",
       "      <th>new_occupation</th>\n",
       "    </tr>\n",
       "  </thead>\n",
       "  <tbody>\n",
       "    <tr>\n",
       "      <th>52</th>\n",
       "      <td>Engineer</td>\n",
       "      <td>engineer</td>\n",
       "    </tr>\n",
       "    <tr>\n",
       "      <th>27</th>\n",
       "      <td>HR</td>\n",
       "      <td>it</td>\n",
       "    </tr>\n",
       "    <tr>\n",
       "      <th>37</th>\n",
       "      <td>Server</td>\n",
       "      <td>gastronomy</td>\n",
       "    </tr>\n",
       "    <tr>\n",
       "      <th>42</th>\n",
       "      <td>Manager</td>\n",
       "      <td>administration and finance</td>\n",
       "    </tr>\n",
       "    <tr>\n",
       "      <th>51</th>\n",
       "      <td>Designer</td>\n",
       "      <td>architecture</td>\n",
       "    </tr>\n",
       "  </tbody>\n",
       "</table>\n",
       "</div>"
      ],
      "text/plain": [
       "   occupation              new_occupation\n",
       "52   Engineer                    engineer\n",
       "27         HR                          it\n",
       "37     Server                  gastronomy\n",
       "42    Manager  administration and finance\n",
       "51   Designer                architecture"
      ]
     },
     "execution_count": 32,
     "metadata": {},
     "output_type": "execute_result"
    }
   ],
   "source": [
    "data['new_occupation']= data['occupation']\n",
    "for i in dic_occupation:\n",
    "    data['new_occupation'] = data['new_occupation'].replace(dic_occupation[i], i)\n",
    "data[['occupation','new_occupation']].sample(5)"
   ]
  },
  {
   "cell_type": "code",
   "execution_count": 36,
   "id": "5cb36a8c-563b-466f-8f9e-6cb130f8a43b",
   "metadata": {},
   "outputs": [
    {
     "data": {
      "image/png": "[encoded data removed]",
      "text/plain": [
       "<Figure size 1584x576 with 1 Axes>"
      ]
     },
     "metadata": {
      "needs_background": "light"
     },
     "output_type": "display_data"
    }
   ],
   "source": [
    "fig = plt.figure(figsize=(22,8))\n",
    "sns.countplot(data=data, x='new_occupation',\n",
    "                color='blue')\n",
    "plt.xticks(rotation=45)\n",
    "#plt.ylabel(\"Conteo de observaciones por periodo\")\n",
    "#plt.xlabel(\"Periodo\")\n",
    "plt.ticklabel_format(style='plain', axis='y')"
   ]
  },
  {
   "cell_type": "markdown",
   "id": "dc02e6d6-c434-43f6-bd55-17ad997c2054",
   "metadata": {},
   "source": [
    "## Creación de rangos"
   ]
  },
  {
   "cell_type": "code",
   "execution_count": 50,
   "id": "030c895d-a766-4e0e-ad95-674deb9b1af4",
   "metadata": {},
   "outputs": [
    {
     "data": {
      "text/plain": [
       "Index(['age', 'gender', 'occupation', 'education_level', 'marital_status',\n",
       "       'income', 'credit_score', 'loan_status', 'new_occupation',\n",
       "       'new_decision_medica_2'],\n",
       "      dtype='object')"
      ]
     },
     "execution_count": 50,
     "metadata": {},
     "output_type": "execute_result"
    }
   ],
   "source": [
    "data.columns"
   ]
  },
  {
   "cell_type": "code",
   "execution_count": 52,
   "id": "093a22d7-bcc1-4852-9d02-60c804328440",
   "metadata": {},
   "outputs": [
    {
     "data": {
      "text/plain": [
       "count        61.000000\n",
       "mean      78983.606557\n",
       "std       33772.025802\n",
       "min       25000.000000\n",
       "25%       52000.000000\n",
       "50%       78000.000000\n",
       "75%       98000.000000\n",
       "max      180000.000000\n",
       "Name: income, dtype: float64"
      ]
     },
     "execution_count": 52,
     "metadata": {},
     "output_type": "execute_result"
    }
   ],
   "source": [
    "data['income'].describe()"
   ]
  },
  {
   "cell_type": "code",
   "execution_count": 55,
   "id": "070e2a99-e880-48a6-a0fd-be4ac68246bb",
   "metadata": {},
   "outputs": [],
   "source": [
    "def to_categorical(column, bin_size=10000, min_cut=20000, max_cut=70000):\n",
    "    if min_cut is None:\n",
    "        min_cut = int(round(column.min())) - 1\n",
    "    value_max = int(np.ceil(column.max()))\n",
    "    max_cut = min(max_cut, value_max)\n",
    "    intervals = [(x, x + bin_size) for x in range(min_cut, max_cut, bin_size)]\n",
    "    if max_cut != value_max:\n",
    "        intervals.append((max_cut, value_max))\n",
    "    print(intervals)\n",
    "    return pd.cut(column, pd.IntervalIndex.from_tuples(intervals))"
   ]
  },
  {
   "cell_type": "code",
   "execution_count": 56,
   "id": "666d836d-5669-4958-87dc-ea2bc34360fb",
   "metadata": {},
   "outputs": [
    {
     "name": "stdout",
     "output_type": "stream",
     "text": [
      "[(20000, 30000), (30000, 40000), (40000, 50000), (50000, 60000), (60000, 70000), (70000, 180000)]\n"
     ]
    }
   ],
   "source": [
    "data['new_income'] = to_categorical(data.income)"
   ]
  },
  {
   "cell_type": "code",
   "execution_count": null,
   "id": "6fc90069-5bda-4d85-adc2-ed09bfc4f26d",
   "metadata": {},
   "outputs": [],
   "source": []
  }
 ],
 "metadata": {
  "kernelspec": {
   "display_name": "Python 3 (ipykernel)",
   "language": "python",
   "name": "python3"
  },
  "language_info": {
   "codemirror_mode": {
    "name": "ipython",
    "version": 3
   },
   "file_extension": ".py",
   "mimetype": "text/x-python",
   "name": "python",
   "nbconvert_exporter": "python",
   "pygments_lexer": "ipython3",
   "version": "3.9.12"
  }
 },
 "nbformat": 4,
 "nbformat_minor": 5
}
