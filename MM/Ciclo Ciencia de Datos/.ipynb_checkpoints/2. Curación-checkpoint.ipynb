{
 "cells": [
  {
   "cell_type": "markdown",
   "id": "e4a9b117-8811-4a74-b38a-f6a340b29529",
   "metadata": {},
   "source": [
    "# Análisis y Curación de datos - Feature Engineering"
   ]
  },
  {
   "cell_type": "markdown",
   "id": "f171c22a-d6e9-48ac-b06e-b51505d12015",
   "metadata": {
    "tags": []
   },
   "source": [
    "## Importación de librerías"
   ]
  },
  {
   "cell_type": "code",
   "execution_count": 3,
   "id": "bff08102-fc21-4222-8008-9a9ca75fd3de",
   "metadata": {},
   "outputs": [],
   "source": [
    "import matplotlib.pyplot as plt\n",
    "import numpy as np\n",
    "import pandas as pd\n",
    "import seaborn as sns\n",
    "import warnings\n",
    "\n",
    "from scipy.stats import norm\n",
    "\n",
    "warnings.filterwarnings('ignore')"
   ]
  },
  {
   "cell_type": "markdown",
   "id": "6aba3ef3-babc-4567-b09c-1646dd6d3300",
   "metadata": {
    "tags": []
   },
   "source": [
    "## Importación de datos "
   ]
  },
  {
   "cell_type": "code",
   "execution_count": 5,
   "id": "7e63f923-0cff-417a-9f8a-06a4d87ce0e1",
   "metadata": {},
   "outputs": [],
   "source": [
    "data = pd.read_csv(\"loan.csv\")"
   ]
  },
  {
   "cell_type": "code",
   "execution_count": 6,
   "id": "8a876125-d9b5-4d69-b5b4-248a14741c76",
   "metadata": {},
   "outputs": [
    {
     "data": {
      "text/html": [
       "<div>\n",
       "<style scoped>\n",
       "    .dataframe tbody tr th:only-of-type {\n",
       "        vertical-align: middle;\n",
       "    }\n",
       "\n",
       "    .dataframe tbody tr th {\n",
       "        vertical-align: top;\n",
       "    }\n",
       "\n",
       "    .dataframe thead th {\n",
       "        text-align: right;\n",
       "    }\n",
       "</style>\n",
       "<table border=\"1\" class=\"dataframe\">\n",
       "  <thead>\n",
       "    <tr style=\"text-align: right;\">\n",
       "      <th></th>\n",
       "      <th>age</th>\n",
       "      <th>gender</th>\n",
       "      <th>occupation</th>\n",
       "      <th>education_level</th>\n",
       "      <th>marital_status</th>\n",
       "      <th>income</th>\n",
       "      <th>credit_score</th>\n",
       "      <th>loan_status</th>\n",
       "    </tr>\n",
       "  </thead>\n",
       "  <tbody>\n",
       "    <tr>\n",
       "      <th>0</th>\n",
       "      <td>32</td>\n",
       "      <td>Male</td>\n",
       "      <td>Engineer</td>\n",
       "      <td>Bachelor's</td>\n",
       "      <td>Married</td>\n",
       "      <td>85000</td>\n",
       "      <td>720</td>\n",
       "      <td>Approved</td>\n",
       "    </tr>\n",
       "    <tr>\n",
       "      <th>1</th>\n",
       "      <td>45</td>\n",
       "      <td>Female</td>\n",
       "      <td>Teacher</td>\n",
       "      <td>Master's</td>\n",
       "      <td>Single</td>\n",
       "      <td>62000</td>\n",
       "      <td>680</td>\n",
       "      <td>Approved</td>\n",
       "    </tr>\n",
       "    <tr>\n",
       "      <th>2</th>\n",
       "      <td>28</td>\n",
       "      <td>Male</td>\n",
       "      <td>Student</td>\n",
       "      <td>High School</td>\n",
       "      <td>Single</td>\n",
       "      <td>25000</td>\n",
       "      <td>590</td>\n",
       "      <td>Denied</td>\n",
       "    </tr>\n",
       "    <tr>\n",
       "      <th>3</th>\n",
       "      <td>51</td>\n",
       "      <td>Female</td>\n",
       "      <td>Manager</td>\n",
       "      <td>Bachelor's</td>\n",
       "      <td>Married</td>\n",
       "      <td>105000</td>\n",
       "      <td>780</td>\n",
       "      <td>Approved</td>\n",
       "    </tr>\n",
       "    <tr>\n",
       "      <th>4</th>\n",
       "      <td>36</td>\n",
       "      <td>Male</td>\n",
       "      <td>Accountant</td>\n",
       "      <td>Bachelor's</td>\n",
       "      <td>Married</td>\n",
       "      <td>75000</td>\n",
       "      <td>710</td>\n",
       "      <td>Approved</td>\n",
       "    </tr>\n",
       "  </tbody>\n",
       "</table>\n",
       "</div>"
      ],
      "text/plain": [
       "   age  gender  occupation education_level marital_status  income  \\\n",
       "0   32    Male    Engineer      Bachelor's        Married   85000   \n",
       "1   45  Female     Teacher        Master's         Single   62000   \n",
       "2   28    Male     Student     High School         Single   25000   \n",
       "3   51  Female     Manager      Bachelor's        Married  105000   \n",
       "4   36    Male  Accountant      Bachelor's        Married   75000   \n",
       "\n",
       "   credit_score loan_status  \n",
       "0           720    Approved  \n",
       "1           680    Approved  \n",
       "2           590      Denied  \n",
       "3           780    Approved  \n",
       "4           710    Approved  "
      ]
     },
     "execution_count": 6,
     "metadata": {},
     "output_type": "execute_result"
    }
   ],
   "source": [
    "data.head()"
   ]
  },
  {
   "cell_type": "markdown",
   "id": "106e96bb-2b75-4600-958c-84b0b3afd661",
   "metadata": {},
   "source": [
    "## Recategorización de variables"
   ]
  },
  {
   "cell_type": "code",
   "execution_count": 8,
   "id": "ad15b5d5-92c3-401f-a76e-b88c40706ecd",
   "metadata": {},
   "outputs": [
    {
     "data": {
      "text/plain": [
       "array(['Engineer', 'Teacher', 'Student', 'Manager', 'Accountant', 'Nurse',\n",
       "       'Lawyer', 'Artist', 'IT', 'Doctor', 'Consultant', 'Analyst',\n",
       "       'Salesman', 'Marketing', 'Architect', 'Designer', 'Pharmacist',\n",
       "       'Researcher', 'Professor', 'Pilot', 'Receptionist', 'Banker',\n",
       "       'Writer', 'Chef', 'Veterinarian', 'Sales', 'HR', 'Electrician',\n",
       "       'Realtor', 'Photographer', 'Editor', 'Programmer', 'Dentist',\n",
       "       'Musician', 'Psychologist', 'Server', 'Software', 'Stylist'],\n",
       "      dtype=object)"
      ]
     },
     "execution_count": 8,
     "metadata": {},
     "output_type": "execute_result"
    }
   ],
   "source": [
    "data['occupation'].unique()"
   ]
  },
  {
   "cell_type": "code",
   "execution_count": 9,
   "id": "e3011d06-49e7-418e-aa48-73e3c1ca2f9d",
   "metadata": {},
   "outputs": [
    {
     "data": {
      "text/plain": [
       "occupation\n",
       "Engineer        5\n",
       "Analyst         2\n",
       "Chef            2\n",
       "Writer          2\n",
       "Banker          2\n",
       "Receptionist    2\n",
       "Teacher         2\n",
       "Professor       2\n",
       "Designer        2\n",
       "Marketing       2\n",
       "Salesman        2\n",
       "Architect       2\n",
       "Consultant      2\n",
       "Doctor          2\n",
       "IT              2\n",
       "Artist          2\n",
       "Lawyer          2\n",
       "Nurse           2\n",
       "Accountant      2\n",
       "Manager         2\n",
       "Photographer    1\n",
       "Server          1\n",
       "Psychologist    1\n",
       "Software        1\n",
       "Musician        1\n",
       "Dentist         1\n",
       "Programmer      1\n",
       "Editor          1\n",
       "Pilot           1\n",
       "Realtor         1\n",
       "Electrician     1\n",
       "HR              1\n",
       "Sales           1\n",
       "Veterinarian    1\n",
       "Researcher      1\n",
       "Pharmacist      1\n",
       "Student         1\n",
       "Stylist         1\n",
       "Name: count, dtype: int64"
      ]
     },
     "execution_count": 9,
     "metadata": {},
     "output_type": "execute_result"
    }
   ],
   "source": [
    "data['occupation'].value_counts()"
   ]
  },
  {
   "cell_type": "code",
   "execution_count": 10,
   "id": "206939a0-2982-4bc9-a1de-58d2b0e74a97",
   "metadata": {},
   "outputs": [],
   "source": [
    "dic_occupation = {'engineer': ['Engineer'],\n",
    "                  'pilot':['Pilot'],\n",
    "                  'lawyer':['Lawyer'],\n",
    "                  'language': ['Editor','Writer','Researcher'],\n",
    "                  'gastronomy' : ['Chef','Server'],\n",
    "                  'marketing and sales': ['Salesman', 'Marketing', 'Sales'],\n",
    "                  'art': ['Musician','Artist','Stylist','Photographer'],\n",
    "                  'architecture': ['Architect', 'Designer','Electrician'],\n",
    "                  'it': ['IT','Programmer','Software','Analyst','HR'],\n",
    "                  'health': ['Dentist','Pharmacist','Psychologist','Doctor','Nurse','Veterinarian'],\n",
    "                  'education': ['Teacher','Professor','Student'],\n",
    "                  'administration and finance' : ['Manager', 'Accountant','Consultant', 'Realtor','Receptionist','Banker']\n",
    "}"
   ]
  },
  {
   "cell_type": "code",
   "execution_count": 11,
   "id": "e509b9ce-2741-4f56-88e4-3efb8d064373",
   "metadata": {},
   "outputs": [
    {
     "data": {
      "text/html": [
       "<div>\n",
       "<style scoped>\n",
       "    .dataframe tbody tr th:only-of-type {\n",
       "        vertical-align: middle;\n",
       "    }\n",
       "\n",
       "    .dataframe tbody tr th {\n",
       "        vertical-align: top;\n",
       "    }\n",
       "\n",
       "    .dataframe thead th {\n",
       "        text-align: right;\n",
       "    }\n",
       "</style>\n",
       "<table border=\"1\" class=\"dataframe\">\n",
       "  <thead>\n",
       "    <tr style=\"text-align: right;\">\n",
       "      <th></th>\n",
       "      <th>occupation</th>\n",
       "      <th>new_occupation</th>\n",
       "    </tr>\n",
       "  </thead>\n",
       "  <tbody>\n",
       "    <tr>\n",
       "      <th>54</th>\n",
       "      <td>Salesman</td>\n",
       "      <td>marketing and sales</td>\n",
       "    </tr>\n",
       "    <tr>\n",
       "      <th>50</th>\n",
       "      <td>Consultant</td>\n",
       "      <td>administration and finance</td>\n",
       "    </tr>\n",
       "    <tr>\n",
       "      <th>36</th>\n",
       "      <td>Engineer</td>\n",
       "      <td>engineer</td>\n",
       "    </tr>\n",
       "    <tr>\n",
       "      <th>51</th>\n",
       "      <td>Designer</td>\n",
       "      <td>architecture</td>\n",
       "    </tr>\n",
       "    <tr>\n",
       "      <th>47</th>\n",
       "      <td>Doctor</td>\n",
       "      <td>health</td>\n",
       "    </tr>\n",
       "  </tbody>\n",
       "</table>\n",
       "</div>"
      ],
      "text/plain": [
       "    occupation              new_occupation\n",
       "54    Salesman         marketing and sales\n",
       "50  Consultant  administration and finance\n",
       "36    Engineer                    engineer\n",
       "51    Designer                architecture\n",
       "47      Doctor                      health"
      ]
     },
     "execution_count": 11,
     "metadata": {},
     "output_type": "execute_result"
    }
   ],
   "source": [
    "data['new_occupation']= data['occupation']\n",
    "for i in dic_occupation:\n",
    "    data['new_occupation'] = data['new_occupation'].replace(dic_occupation[i], i)\n",
    "data[['occupation','new_occupation']].sample(5)"
   ]
  },
  {
   "cell_type": "code",
   "execution_count": 12,
   "id": "5cb36a8c-563b-466f-8f9e-6cb130f8a43b",
   "metadata": {},
   "outputs": [
    {
     "data": {
      "image/png": "[encoded data removed]",
      "text/plain": [
       "<Figure size 2200x800 with 1 Axes>"
      ]
     },
     "metadata": {},
     "output_type": "display_data"
    }
   ],
   "source": [
    "fig = plt.figure(figsize=(22,8))\n",
    "sns.countplot(data=data, x='new_occupation',\n",
    "                color='blue')\n",
    "plt.xticks(rotation=45)\n",
    "plt.ylabel(\"Conteo de observaciones por profesion\")\n",
    "plt.xlabel(\"Profesion\")\n",
    "plt.ticklabel_format(style='plain', axis='y')"
   ]
  },
  {
   "cell_type": "markdown",
   "id": "dc02e6d6-c434-43f6-bd55-17ad997c2054",
   "metadata": {},
   "source": [
    "## Creación de rangos"
   ]
  },
  {
   "cell_type": "code",
   "execution_count": 14,
   "id": "093a22d7-bcc1-4852-9d02-60c804328440",
   "metadata": {},
   "outputs": [
    {
     "data": {
      "text/plain": [
       "count        61.000000\n",
       "mean      78983.606557\n",
       "std       33772.025802\n",
       "min       25000.000000\n",
       "25%       52000.000000\n",
       "50%       78000.000000\n",
       "75%       98000.000000\n",
       "max      180000.000000\n",
       "Name: income, dtype: float64"
      ]
     },
     "execution_count": 14,
     "metadata": {},
     "output_type": "execute_result"
    }
   ],
   "source": [
    "data['income'].describe()"
   ]
  },
  {
   "cell_type": "code",
   "execution_count": 15,
   "id": "5060862c-8bfa-4780-b362-92927d5b04ef",
   "metadata": {},
   "outputs": [],
   "source": [
    "# Definir los límites de los rangos\n",
    "limites_income = [20000, 30000, 40000, 50000, 60000, 70000, float('inf')]\n",
    "\n",
    "# Definir las etiquetas para los rangos\n",
    "etiquetas_income = ['20000-30000', '30000-40000', '40000-50000', '50000-60000','60000-70000', '70000+']\n",
    "\n",
    "# Crear la columna 'rango_dias_solicitados' con los rangos correspondientes\n",
    "data['new_income'] = pd.cut(data['income'], bins=limites_income, labels=etiquetas_income, right=False)"
   ]
  },
  {
   "cell_type": "code",
   "execution_count": 16,
   "id": "6fc90069-5bda-4d85-adc2-ed09bfc4f26d",
   "metadata": {},
   "outputs": [
    {
     "data": {
      "text/html": [
       "<div>\n",
       "<style scoped>\n",
       "    .dataframe tbody tr th:only-of-type {\n",
       "        vertical-align: middle;\n",
       "    }\n",
       "\n",
       "    .dataframe tbody tr th {\n",
       "        vertical-align: top;\n",
       "    }\n",
       "\n",
       "    .dataframe thead th {\n",
       "        text-align: right;\n",
       "    }\n",
       "</style>\n",
       "<table border=\"1\" class=\"dataframe\">\n",
       "  <thead>\n",
       "    <tr style=\"text-align: right;\">\n",
       "      <th></th>\n",
       "      <th>income</th>\n",
       "      <th>new_income</th>\n",
       "    </tr>\n",
       "  </thead>\n",
       "  <tbody>\n",
       "    <tr>\n",
       "      <th>57</th>\n",
       "      <td>32000</td>\n",
       "      <td>30000-40000</td>\n",
       "    </tr>\n",
       "    <tr>\n",
       "      <th>55</th>\n",
       "      <td>120000</td>\n",
       "      <td>70000+</td>\n",
       "    </tr>\n",
       "    <tr>\n",
       "      <th>16</th>\n",
       "      <td>88000</td>\n",
       "      <td>70000+</td>\n",
       "    </tr>\n",
       "    <tr>\n",
       "      <th>58</th>\n",
       "      <td>95000</td>\n",
       "      <td>70000+</td>\n",
       "    </tr>\n",
       "    <tr>\n",
       "      <th>31</th>\n",
       "      <td>85000</td>\n",
       "      <td>70000+</td>\n",
       "    </tr>\n",
       "  </tbody>\n",
       "</table>\n",
       "</div>"
      ],
      "text/plain": [
       "    income   new_income\n",
       "57   32000  30000-40000\n",
       "55  120000       70000+\n",
       "16   88000       70000+\n",
       "58   95000       70000+\n",
       "31   85000       70000+"
      ]
     },
     "execution_count": 16,
     "metadata": {},
     "output_type": "execute_result"
    }
   ],
   "source": [
    "data[['income','new_income']].sample(5)"
   ]
  },
  {
   "cell_type": "code",
   "execution_count": 17,
   "id": "3afe8b23-697c-41b5-9983-4acff8c26b4c",
   "metadata": {
    "tags": []
   },
   "outputs": [
    {
     "data": {
      "image/png": "[encoded data removed]",
      "text/plain": [
       "<Figure size 2200x800 with 1 Axes>"
      ]
     },
     "metadata": {},
     "output_type": "display_data"
    }
   ],
   "source": [
    "fig = plt.figure(figsize=(22,8))\n",
    "sns.countplot(data=data, x='new_income',\n",
    "                color='blue')\n",
    "plt.xticks(rotation=45)\n",
    "plt.ylabel(\"Conteo de observaciones por rango de ingresos\")\n",
    "plt.xlabel(\"Rango de ingresos\")\n",
    "plt.ticklabel_format(style='plain', axis='y')"
   ]
  },
  {
   "cell_type": "markdown",
   "id": "ad03bc53-560e-4317-8dc2-ff47de8f4a4c",
   "metadata": {},
   "source": [
    "## Codificación de variables categóricas "
   ]
  },
  {
   "cell_type": "code",
   "execution_count": 19,
   "id": "d93eddeb-a4e1-49b0-a9c3-df2e9bff69e9",
   "metadata": {},
   "outputs": [
    {
     "data": {
      "text/html": [
       "<div>\n",
       "<style scoped>\n",
       "    .dataframe tbody tr th:only-of-type {\n",
       "        vertical-align: middle;\n",
       "    }\n",
       "\n",
       "    .dataframe tbody tr th {\n",
       "        vertical-align: top;\n",
       "    }\n",
       "\n",
       "    .dataframe thead th {\n",
       "        text-align: right;\n",
       "    }\n",
       "</style>\n",
       "<table border=\"1\" class=\"dataframe\">\n",
       "  <thead>\n",
       "    <tr style=\"text-align: right;\">\n",
       "      <th></th>\n",
       "      <th>age</th>\n",
       "      <th>gender</th>\n",
       "      <th>occupation</th>\n",
       "      <th>education_level</th>\n",
       "      <th>marital_status</th>\n",
       "      <th>income</th>\n",
       "      <th>credit_score</th>\n",
       "      <th>loan_status</th>\n",
       "      <th>new_occupation</th>\n",
       "      <th>new_income</th>\n",
       "    </tr>\n",
       "  </thead>\n",
       "  <tbody>\n",
       "    <tr>\n",
       "      <th>0</th>\n",
       "      <td>32</td>\n",
       "      <td>Male</td>\n",
       "      <td>Engineer</td>\n",
       "      <td>Bachelor's</td>\n",
       "      <td>Married</td>\n",
       "      <td>85000</td>\n",
       "      <td>720</td>\n",
       "      <td>Approved</td>\n",
       "      <td>engineer</td>\n",
       "      <td>70000+</td>\n",
       "    </tr>\n",
       "    <tr>\n",
       "      <th>1</th>\n",
       "      <td>45</td>\n",
       "      <td>Female</td>\n",
       "      <td>Teacher</td>\n",
       "      <td>Master's</td>\n",
       "      <td>Single</td>\n",
       "      <td>62000</td>\n",
       "      <td>680</td>\n",
       "      <td>Approved</td>\n",
       "      <td>education</td>\n",
       "      <td>60000-70000</td>\n",
       "    </tr>\n",
       "    <tr>\n",
       "      <th>2</th>\n",
       "      <td>28</td>\n",
       "      <td>Male</td>\n",
       "      <td>Student</td>\n",
       "      <td>High School</td>\n",
       "      <td>Single</td>\n",
       "      <td>25000</td>\n",
       "      <td>590</td>\n",
       "      <td>Denied</td>\n",
       "      <td>education</td>\n",
       "      <td>20000-30000</td>\n",
       "    </tr>\n",
       "    <tr>\n",
       "      <th>3</th>\n",
       "      <td>51</td>\n",
       "      <td>Female</td>\n",
       "      <td>Manager</td>\n",
       "      <td>Bachelor's</td>\n",
       "      <td>Married</td>\n",
       "      <td>105000</td>\n",
       "      <td>780</td>\n",
       "      <td>Approved</td>\n",
       "      <td>administration and finance</td>\n",
       "      <td>70000+</td>\n",
       "    </tr>\n",
       "    <tr>\n",
       "      <th>4</th>\n",
       "      <td>36</td>\n",
       "      <td>Male</td>\n",
       "      <td>Accountant</td>\n",
       "      <td>Bachelor's</td>\n",
       "      <td>Married</td>\n",
       "      <td>75000</td>\n",
       "      <td>710</td>\n",
       "      <td>Approved</td>\n",
       "      <td>administration and finance</td>\n",
       "      <td>70000+</td>\n",
       "    </tr>\n",
       "  </tbody>\n",
       "</table>\n",
       "</div>"
      ],
      "text/plain": [
       "   age  gender  occupation education_level marital_status  income  \\\n",
       "0   32    Male    Engineer      Bachelor's        Married   85000   \n",
       "1   45  Female     Teacher        Master's         Single   62000   \n",
       "2   28    Male     Student     High School         Single   25000   \n",
       "3   51  Female     Manager      Bachelor's        Married  105000   \n",
       "4   36    Male  Accountant      Bachelor's        Married   75000   \n",
       "\n",
       "   credit_score loan_status              new_occupation   new_income  \n",
       "0           720    Approved                    engineer       70000+  \n",
       "1           680    Approved                   education  60000-70000  \n",
       "2           590      Denied                   education  20000-30000  \n",
       "3           780    Approved  administration and finance       70000+  \n",
       "4           710    Approved  administration and finance       70000+  "
      ]
     },
     "execution_count": 19,
     "metadata": {},
     "output_type": "execute_result"
    }
   ],
   "source": [
    "data.head()"
   ]
  },
  {
   "cell_type": "code",
   "execution_count": 20,
   "id": "a3d9477f-7178-44da-831f-80d618808b91",
   "metadata": {
    "tags": []
   },
   "outputs": [],
   "source": [
    "data_encoded = data.drop(columns={'occupation','income'})"
   ]
  },
  {
   "cell_type": "code",
   "execution_count": 21,
   "id": "89b36195-6c76-4076-b6b4-0ae98389e8f9",
   "metadata": {},
   "outputs": [
    {
     "data": {
      "text/plain": [
       "['age', 'credit_score']"
      ]
     },
     "execution_count": 21,
     "metadata": {},
     "output_type": "execute_result"
    }
   ],
   "source": [
    "numerical_columns = data_encoded.select_dtypes(include='number').columns.to_list()\n",
    "numerical_columns"
   ]
  },
  {
   "cell_type": "code",
   "execution_count": 22,
   "id": "48193a7c-dfee-4573-855b-4a421e6d8efe",
   "metadata": {},
   "outputs": [],
   "source": [
    "categorical_columns = data_encoded.select_dtypes(include=['object','category']).columns.to_list()\n",
    "categorical_columns.remove('loan_status')"
   ]
  },
  {
   "cell_type": "code",
   "execution_count": 23,
   "id": "aa9b3e5e-4b25-46e3-a46c-404b069812ba",
   "metadata": {
    "tags": []
   },
   "outputs": [
    {
     "data": {
      "text/plain": [
       "['gender', 'education_level', 'marital_status', 'new_occupation', 'new_income']"
      ]
     },
     "execution_count": 23,
     "metadata": {},
     "output_type": "execute_result"
    }
   ],
   "source": [
    "categorical_columns"
   ]
  },
  {
   "cell_type": "markdown",
   "id": "6183c089-2c5f-4546-a595-06dce253a82c",
   "metadata": {},
   "source": [
    "### Label Encoder"
   ]
  },
  {
   "cell_type": "code",
   "execution_count": 25,
   "id": "855c8804-5ccf-4448-be8d-d6a08ca68ea1",
   "metadata": {},
   "outputs": [],
   "source": [
    "from sklearn.preprocessing import LabelEncoder\n",
    "\n",
    "gender_level_ =LabelEncoder()\n",
    "education_level_=LabelEncoder()\n",
    "marital_status_=LabelEncoder()\n",
    "new_occupation_=LabelEncoder()\n",
    "new_income_ =LabelEncoder()\n",
    "\n"
   ]
  },
  {
   "cell_type": "code",
   "execution_count": 26,
   "id": "fc10efe2-0b6a-4842-84a8-62fb3d566d63",
   "metadata": {},
   "outputs": [
    {
     "data": {
      "text/html": [
       "<div>\n",
       "<style scoped>\n",
       "    .dataframe tbody tr th:only-of-type {\n",
       "        vertical-align: middle;\n",
       "    }\n",
       "\n",
       "    .dataframe tbody tr th {\n",
       "        vertical-align: top;\n",
       "    }\n",
       "\n",
       "    .dataframe thead th {\n",
       "        text-align: right;\n",
       "    }\n",
       "</style>\n",
       "<table border=\"1\" class=\"dataframe\">\n",
       "  <thead>\n",
       "    <tr style=\"text-align: right;\">\n",
       "      <th></th>\n",
       "      <th>age</th>\n",
       "      <th>gender</th>\n",
       "      <th>education_level</th>\n",
       "      <th>marital_status</th>\n",
       "      <th>credit_score</th>\n",
       "      <th>loan_status</th>\n",
       "      <th>new_occupation</th>\n",
       "      <th>new_income</th>\n",
       "    </tr>\n",
       "  </thead>\n",
       "  <tbody>\n",
       "    <tr>\n",
       "      <th>0</th>\n",
       "      <td>32</td>\n",
       "      <td>1</td>\n",
       "      <td>1</td>\n",
       "      <td>0</td>\n",
       "      <td>720</td>\n",
       "      <td>Approved</td>\n",
       "      <td>4</td>\n",
       "      <td>5</td>\n",
       "    </tr>\n",
       "    <tr>\n",
       "      <th>1</th>\n",
       "      <td>45</td>\n",
       "      <td>0</td>\n",
       "      <td>4</td>\n",
       "      <td>1</td>\n",
       "      <td>680</td>\n",
       "      <td>Approved</td>\n",
       "      <td>3</td>\n",
       "      <td>4</td>\n",
       "    </tr>\n",
       "    <tr>\n",
       "      <th>2</th>\n",
       "      <td>28</td>\n",
       "      <td>1</td>\n",
       "      <td>3</td>\n",
       "      <td>1</td>\n",
       "      <td>590</td>\n",
       "      <td>Denied</td>\n",
       "      <td>3</td>\n",
       "      <td>0</td>\n",
       "    </tr>\n",
       "    <tr>\n",
       "      <th>3</th>\n",
       "      <td>51</td>\n",
       "      <td>0</td>\n",
       "      <td>1</td>\n",
       "      <td>0</td>\n",
       "      <td>780</td>\n",
       "      <td>Approved</td>\n",
       "      <td>0</td>\n",
       "      <td>5</td>\n",
       "    </tr>\n",
       "    <tr>\n",
       "      <th>4</th>\n",
       "      <td>36</td>\n",
       "      <td>1</td>\n",
       "      <td>1</td>\n",
       "      <td>0</td>\n",
       "      <td>710</td>\n",
       "      <td>Approved</td>\n",
       "      <td>0</td>\n",
       "      <td>5</td>\n",
       "    </tr>\n",
       "  </tbody>\n",
       "</table>\n",
       "</div>"
      ],
      "text/plain": [
       "   age  gender  education_level  marital_status  credit_score loan_status  \\\n",
       "0   32       1                1               0           720    Approved   \n",
       "1   45       0                4               1           680    Approved   \n",
       "2   28       1                3               1           590      Denied   \n",
       "3   51       0                1               0           780    Approved   \n",
       "4   36       1                1               0           710    Approved   \n",
       "\n",
       "   new_occupation  new_income  \n",
       "0               4           5  \n",
       "1               3           4  \n",
       "2               3           0  \n",
       "3               0           5  \n",
       "4               0           5  "
      ]
     },
     "execution_count": 26,
     "metadata": {},
     "output_type": "execute_result"
    }
   ],
   "source": [
    "data_encoded['gender'] = gender_level_.fit_transform(data_encoded['gender'])\n",
    "data_encoded['education_level'] = education_level_.fit_transform(data_encoded['education_level'])\n",
    "data_encoded['marital_status'] = marital_status_.fit_transform(data_encoded['marital_status'])\n",
    "data_encoded['new_occupation'] = new_occupation_.fit_transform(data_encoded['new_occupation'])\n",
    "data_encoded['new_income'] = new_income_.fit_transform(data_encoded['new_income'])\n",
    "\n",
    "data_encoded.head()"
   ]
  },
  {
   "cell_type": "markdown",
   "id": "f3c1008e-bbea-4e03-82e7-f575bc8b9cbd",
   "metadata": {},
   "source": [
    "### OneHotEncoder"
   ]
  },
  {
   "cell_type": "code",
   "execution_count": 28,
   "id": "ac53ea03-c705-462a-864a-b7ddbc73afad",
   "metadata": {},
   "outputs": [],
   "source": [
    "from sklearn.preprocessing import OneHotEncoder"
   ]
  },
  {
   "cell_type": "code",
   "execution_count": 29,
   "id": "ddc0ba4e-6364-4ed3-be84-fd6fda165d27",
   "metadata": {
    "tags": []
   },
   "outputs": [],
   "source": [
    "data_encoded2 = data.drop(columns={'occupation','income'})"
   ]
  },
  {
   "cell_type": "code",
   "execution_count": 30,
   "id": "e345e1e9-62cf-4a86-bcf2-be4204b089ce",
   "metadata": {},
   "outputs": [
    {
     "data": {
      "text/plain": [
       "[array(['Female', 'Male'], dtype=object),\n",
       " array([\"Associate's\", \"Bachelor's\", 'Doctoral', 'High School', \"Master's\"],\n",
       "       dtype=object),\n",
       " array(['Married', 'Single'], dtype=object),\n",
       " array(['administration and finance', 'architecture', 'art', 'education',\n",
       "        'engineer', 'gastronomy', 'health', 'it', 'language', 'lawyer',\n",
       "        'marketing and sales', 'pilot'], dtype=object),\n",
       " array(['20000-30000', '30000-40000', '40000-50000', '50000-60000',\n",
       "        '60000-70000', '70000+'], dtype=object)]"
      ]
     },
     "execution_count": 30,
     "metadata": {},
     "output_type": "execute_result"
    }
   ],
   "source": [
    "encoder = OneHotEncoder(sparse=False)\n",
    "encoder.fit(data_encoded2[categorical_columns])\n",
    "# We can inspect the categories found by the encoder\n",
    "encoder.categories_"
   ]
  },
  {
   "cell_type": "code",
   "execution_count": 31,
   "id": "d14f4481-d184-47d3-8b26-c5cc7290085e",
   "metadata": {},
   "outputs": [
    {
     "data": {
      "text/html": [
       "<div>\n",
       "<style scoped>\n",
       "    .dataframe tbody tr th:only-of-type {\n",
       "        vertical-align: middle;\n",
       "    }\n",
       "\n",
       "    .dataframe tbody tr th {\n",
       "        vertical-align: top;\n",
       "    }\n",
       "\n",
       "    .dataframe thead th {\n",
       "        text-align: right;\n",
       "    }\n",
       "</style>\n",
       "<table border=\"1\" class=\"dataframe\">\n",
       "  <thead>\n",
       "    <tr style=\"text-align: right;\">\n",
       "      <th></th>\n",
       "      <th>gender</th>\n",
       "      <th>education_level</th>\n",
       "      <th>marital_status</th>\n",
       "      <th>new_occupation</th>\n",
       "      <th>new_income</th>\n",
       "    </tr>\n",
       "  </thead>\n",
       "  <tbody>\n",
       "    <tr>\n",
       "      <th>0</th>\n",
       "      <td>Male</td>\n",
       "      <td>Bachelor's</td>\n",
       "      <td>Married</td>\n",
       "      <td>engineer</td>\n",
       "      <td>70000+</td>\n",
       "    </tr>\n",
       "    <tr>\n",
       "      <th>1</th>\n",
       "      <td>Female</td>\n",
       "      <td>Master's</td>\n",
       "      <td>Single</td>\n",
       "      <td>education</td>\n",
       "      <td>60000-70000</td>\n",
       "    </tr>\n",
       "    <tr>\n",
       "      <th>2</th>\n",
       "      <td>Male</td>\n",
       "      <td>High School</td>\n",
       "      <td>Single</td>\n",
       "      <td>education</td>\n",
       "      <td>20000-30000</td>\n",
       "    </tr>\n",
       "    <tr>\n",
       "      <th>3</th>\n",
       "      <td>Female</td>\n",
       "      <td>Bachelor's</td>\n",
       "      <td>Married</td>\n",
       "      <td>administration and finance</td>\n",
       "      <td>70000+</td>\n",
       "    </tr>\n",
       "    <tr>\n",
       "      <th>4</th>\n",
       "      <td>Male</td>\n",
       "      <td>Bachelor's</td>\n",
       "      <td>Married</td>\n",
       "      <td>administration and finance</td>\n",
       "      <td>70000+</td>\n",
       "    </tr>\n",
       "    <tr>\n",
       "      <th>...</th>\n",
       "      <td>...</td>\n",
       "      <td>...</td>\n",
       "      <td>...</td>\n",
       "      <td>...</td>\n",
       "      <td>...</td>\n",
       "    </tr>\n",
       "    <tr>\n",
       "      <th>56</th>\n",
       "      <td>Male</td>\n",
       "      <td>Master's</td>\n",
       "      <td>Married</td>\n",
       "      <td>architecture</td>\n",
       "      <td>70000+</td>\n",
       "    </tr>\n",
       "    <tr>\n",
       "      <th>57</th>\n",
       "      <td>Female</td>\n",
       "      <td>High School</td>\n",
       "      <td>Single</td>\n",
       "      <td>administration and finance</td>\n",
       "      <td>30000-40000</td>\n",
       "    </tr>\n",
       "    <tr>\n",
       "      <th>58</th>\n",
       "      <td>Male</td>\n",
       "      <td>Bachelor's</td>\n",
       "      <td>Married</td>\n",
       "      <td>administration and finance</td>\n",
       "      <td>70000+</td>\n",
       "    </tr>\n",
       "    <tr>\n",
       "      <th>59</th>\n",
       "      <td>Female</td>\n",
       "      <td>Master's</td>\n",
       "      <td>Single</td>\n",
       "      <td>language</td>\n",
       "      <td>50000-60000</td>\n",
       "    </tr>\n",
       "    <tr>\n",
       "      <th>60</th>\n",
       "      <td>Male</td>\n",
       "      <td>Associate's</td>\n",
       "      <td>Married</td>\n",
       "      <td>gastronomy</td>\n",
       "      <td>60000-70000</td>\n",
       "    </tr>\n",
       "  </tbody>\n",
       "</table>\n",
       "<p>61 rows × 5 columns</p>\n",
       "</div>"
      ],
      "text/plain": [
       "    gender education_level marital_status              new_occupation  \\\n",
       "0     Male      Bachelor's        Married                    engineer   \n",
       "1   Female        Master's         Single                   education   \n",
       "2     Male     High School         Single                   education   \n",
       "3   Female      Bachelor's        Married  administration and finance   \n",
       "4     Male      Bachelor's        Married  administration and finance   \n",
       "..     ...             ...            ...                         ...   \n",
       "56    Male        Master's        Married                architecture   \n",
       "57  Female     High School         Single  administration and finance   \n",
       "58    Male      Bachelor's        Married  administration and finance   \n",
       "59  Female        Master's         Single                    language   \n",
       "60    Male     Associate's        Married                  gastronomy   \n",
       "\n",
       "     new_income  \n",
       "0        70000+  \n",
       "1   60000-70000  \n",
       "2   20000-30000  \n",
       "3        70000+  \n",
       "4        70000+  \n",
       "..          ...  \n",
       "56       70000+  \n",
       "57  30000-40000  \n",
       "58       70000+  \n",
       "59  50000-60000  \n",
       "60  60000-70000  \n",
       "\n",
       "[61 rows x 5 columns]"
      ]
     },
     "execution_count": 31,
     "metadata": {},
     "output_type": "execute_result"
    }
   ],
   "source": [
    "data_encoded2[categorical_columns]"
   ]
  },
  {
   "cell_type": "code",
   "execution_count": 32,
   "id": "32ba1be4-ae94-4379-9411-ed35664ece0e",
   "metadata": {
    "tags": []
   },
   "outputs": [
    {
     "data": {
      "text/plain": [
       "27"
      ]
     },
     "execution_count": 32,
     "metadata": {},
     "output_type": "execute_result"
    }
   ],
   "source": [
    "data_encoded2['gender'].nunique() + data_encoded2['education_level'].nunique() + data_encoded2['marital_status'].nunique() + data_encoded2['new_occupation'].nunique() + data_encoded2['new_income'].nunique()"
   ]
  },
  {
   "cell_type": "code",
   "execution_count": 33,
   "id": "20a3dbd2-18b8-4b39-8dc8-319d362ab8ff",
   "metadata": {
    "tags": []
   },
   "outputs": [
    {
     "data": {
      "text/plain": [
       "2"
      ]
     },
     "execution_count": 33,
     "metadata": {},
     "output_type": "execute_result"
    }
   ],
   "source": [
    "data_encoded2[numerical_columns].shape[1]"
   ]
  },
  {
   "cell_type": "code",
   "execution_count": 34,
   "id": "6276d84b-3280-42e7-9f4b-7a5322d06775",
   "metadata": {},
   "outputs": [
    {
     "data": {
      "text/plain": [
       "(61, 27)"
      ]
     },
     "execution_count": 34,
     "metadata": {},
     "output_type": "execute_result"
    }
   ],
   "source": [
    "encoded_types = encoder.transform(data_encoded2[categorical_columns])\n",
    "encoded_types[:].shape"
   ]
  },
  {
   "cell_type": "code",
   "execution_count": 35,
   "id": "753e8ff4-50ad-4d65-af30-956b4a7257f0",
   "metadata": {},
   "outputs": [
    {
     "data": {
      "text/plain": [
       "array([[ 32, 720],\n",
       "       [ 45, 680],\n",
       "       [ 28, 590],\n",
       "       [ 51, 780],\n",
       "       [ 36, 710],\n",
       "       [ 24, 640],\n",
       "       [ 42, 790],\n",
       "       [ 29, 620],\n",
       "       [ 37, 750],\n",
       "       [ 48, 820]])"
      ]
     },
     "execution_count": 35,
     "metadata": {},
     "output_type": "execute_result"
    }
   ],
   "source": [
    "data_numeric = data_encoded2[numerical_columns].values\n",
    "data_numeric[:10]"
   ]
  },
  {
   "cell_type": "code",
   "execution_count": 36,
   "id": "1d6e6c46-8741-4635-b935-2dec448ba441",
   "metadata": {},
   "outputs": [
    {
     "data": {
      "text/plain": [
       "(61, 29)"
      ]
     },
     "execution_count": 36,
     "metadata": {},
     "output_type": "execute_result"
    }
   ],
   "source": [
    "matriz = np.hstack((encoded_types, data_numeric))\n",
    "matriz.shape"
   ]
  },
  {
   "cell_type": "code",
   "execution_count": 37,
   "id": "ed16aa44-470b-48c6-bdd1-b3b4bc2ece06",
   "metadata": {
    "tags": []
   },
   "outputs": [],
   "source": [
    "data_encoded['loan_status'] =data_encoded['loan_status'].apply(lambda x: 1 if x == 'Approved' else 0)"
   ]
  },
  {
   "cell_type": "markdown",
   "id": "7be50a6a-1e49-46b9-94c2-7b6557f9164d",
   "metadata": {
    "tags": []
   },
   "source": [
    "## Importación de librerías"
   ]
  },
  {
   "cell_type": "code",
   "execution_count": 39,
   "id": "1dedd88d-7b04-4873-ad35-86654c0014e9",
   "metadata": {
    "tags": []
   },
   "outputs": [],
   "source": [
    "data_encoded.to_csv('data_encoded.csv',index=False)"
   ]
  }
 ],
 "metadata": {
  "kernelspec": {
   "display_name": "Python 3 (ipykernel)",
   "language": "python",
   "name": "python3"
  },
  "language_info": {
   "codemirror_mode": {
    "name": "ipython",
    "version": 3
   },
   "file_extension": ".py",
   "mimetype": "text/x-python",
   "name": "python",
   "nbconvert_exporter": "python",
   "pygments_lexer": "ipython3",
   "version": "3.11.7"
  }
 },
 "nbformat": 4,
 "nbformat_minor": 5
}
