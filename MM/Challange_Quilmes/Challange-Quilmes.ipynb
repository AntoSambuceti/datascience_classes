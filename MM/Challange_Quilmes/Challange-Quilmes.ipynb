{
 "cells": [
  {
   "cell_type": "markdown",
   "id": "571fa9a1-cfbe-44cc-9653-754c862a889b",
   "metadata": {},
   "source": [
    "# Ejercicio Data Science Quilmes"
   ]
  },
  {
   "cell_type": "markdown",
   "id": "33eae0d6-4e3b-4709-8f89-87be0095bb32",
   "metadata": {},
   "source": [
    "## Importancion de librerias"
   ]
  },
  {
   "cell_type": "code",
   "execution_count": 3,
   "id": "53c2a6f5-1cee-4e9f-9741-76c1c5f69b3d",
   "metadata": {},
   "outputs": [],
   "source": [
    "import matplotlib\n",
    "import matplotlib.pyplot as plt\n",
    "import numpy \n",
    "import pandas as pd\n",
    "import seaborn"
   ]
  },
  {
   "cell_type": "markdown",
   "id": "0d3861f2-e25a-4482-8584-7ac33619d6fb",
   "metadata": {},
   "source": [
    "## Importancion de datasets"
   ]
  },
  {
   "cell_type": "code",
   "execution_count": 5,
   "id": "0b615156-2e44-41f7-a176-d61051f3db79",
   "metadata": {},
   "outputs": [
    {
     "name": "stdout",
     "output_type": "stream",
     "text": [
      "Blacklist tiene 5937 filas\n",
      "Channel_segmentation tiene 38 filas\n",
      "Clients tiene 49458 filas\n",
      "Coupons tiene 805757 filas\n",
      "Sales_2022_sementre_1 tiene 588683 filas\n",
      "Sales_2022_sementre_2 tiene 613864 filas\n",
      "Sales_2023_semestre_1 tiene 571918 filas\n"
     ]
    }
   ],
   "source": [
    "df_blacklist = pd.read_csv('Datos/blacklist.csv',sep=',')\n",
    "print(f'Blacklist tiene {len(df_blacklist)} filas')\n",
    "df_segmentacion =  pd.read_csv('Datos/channel_segmentation.csv',sep=',')\n",
    "print(f'Channel_segmentation tiene {len(df_segmentacion)} filas')\n",
    "df_client =  pd.read_csv('Datos/clients.csv',sep=',')\n",
    "print(f'Clients tiene {len(df_client)} filas')\n",
    "df_coupons =  pd.read_csv('Datos/coupons.csv',sep=',')\n",
    "print(f'Coupons tiene {len(df_coupons)} filas')\n",
    "df_sales1 =  pd.read_csv('Datos/sales_2022_sementre_1.csv',sep=',')\n",
    "print(f'Sales_2022_sementre_1 tiene {len(df_sales1)} filas')\n",
    "df_sales2 =  pd.read_csv('Datos/sales_2022_semestre_2.csv',sep=',')\n",
    "print(f'Sales_2022_sementre_2 tiene {len(df_sales2)} filas')\n",
    "df_sales3 =  pd.read_csv('Datos/sales_2023_semestre_1.csv',sep=',')\n",
    "print(f'Sales_2023_semestre_1 tiene {len(df_sales3)} filas')"
   ]
  },
  {
   "cell_type": "code",
   "execution_count": 6,
   "id": "6aefe5c0-54e8-4b57-8748-29b58eee5ad7",
   "metadata": {
    "tags": []
   },
   "outputs": [
    {
     "data": {
      "text/html": [
       "<div>\n",
       "<style scoped>\n",
       "    .dataframe tbody tr th:only-of-type {\n",
       "        vertical-align: middle;\n",
       "    }\n",
       "\n",
       "    .dataframe tbody tr th {\n",
       "        vertical-align: top;\n",
       "    }\n",
       "\n",
       "    .dataframe thead th {\n",
       "        text-align: right;\n",
       "    }\n",
       "</style>\n",
       "<table border=\"1\" class=\"dataframe\">\n",
       "  <thead>\n",
       "    <tr style=\"text-align: right;\">\n",
       "      <th></th>\n",
       "      <th>cliente_id</th>\n",
       "    </tr>\n",
       "  </thead>\n",
       "  <tbody>\n",
       "    <tr>\n",
       "      <th>0</th>\n",
       "      <td>2076569343</td>\n",
       "    </tr>\n",
       "    <tr>\n",
       "      <th>1</th>\n",
       "      <td>486609981</td>\n",
       "    </tr>\n",
       "    <tr>\n",
       "      <th>2</th>\n",
       "      <td>-2133238226</td>\n",
       "    </tr>\n",
       "  </tbody>\n",
       "</table>\n",
       "</div>"
      ],
      "text/plain": [
       "   cliente_id\n",
       "0  2076569343\n",
       "1   486609981\n",
       "2 -2133238226"
      ]
     },
     "execution_count": 6,
     "metadata": {},
     "output_type": "execute_result"
    }
   ],
   "source": [
    "df_blacklist.head(3)"
   ]
  },
  {
   "cell_type": "code",
   "execution_count": 7,
   "id": "1c46053b-3b22-468f-ac28-34982da3dc17",
   "metadata": {
    "tags": []
   },
   "outputs": [
    {
     "data": {
      "text/html": [
       "<div>\n",
       "<style scoped>\n",
       "    .dataframe tbody tr th:only-of-type {\n",
       "        vertical-align: middle;\n",
       "    }\n",
       "\n",
       "    .dataframe tbody tr th {\n",
       "        vertical-align: top;\n",
       "    }\n",
       "\n",
       "    .dataframe thead th {\n",
       "        text-align: right;\n",
       "    }\n",
       "</style>\n",
       "<table border=\"1\" class=\"dataframe\">\n",
       "  <thead>\n",
       "    <tr style=\"text-align: right;\">\n",
       "      <th></th>\n",
       "      <th>channel_id</th>\n",
       "      <th>channel_segmentation</th>\n",
       "    </tr>\n",
       "  </thead>\n",
       "  <tbody>\n",
       "    <tr>\n",
       "      <th>0</th>\n",
       "      <td>565501238</td>\n",
       "      <td>NO</td>\n",
       "    </tr>\n",
       "    <tr>\n",
       "      <th>1</th>\n",
       "      <td>1377949257</td>\n",
       "      <td>NO</td>\n",
       "    </tr>\n",
       "    <tr>\n",
       "      <th>2</th>\n",
       "      <td>1059805429</td>\n",
       "      <td>OTROS</td>\n",
       "    </tr>\n",
       "  </tbody>\n",
       "</table>\n",
       "</div>"
      ],
      "text/plain": [
       "   channel_id channel_segmentation\n",
       "0   565501238                   NO\n",
       "1  1377949257                   NO\n",
       "2  1059805429                OTROS"
      ]
     },
     "execution_count": 7,
     "metadata": {},
     "output_type": "execute_result"
    }
   ],
   "source": [
    "df_segmentacion.head(3)"
   ]
  },
  {
   "cell_type": "code",
   "execution_count": 8,
   "id": "496b3303-1f3e-429a-829f-f193f8cf5b52",
   "metadata": {
    "tags": []
   },
   "outputs": [
    {
     "data": {
      "text/plain": [
       "array(['NO', 'OTROS', 'RESTAURANTE', 'PUB', 'TRADICIONAL', 'SMK',\n",
       "       'AUTOSERVICIOS', 'KIOSCOS', 'INSTITUCIONES', 'MAYORISTA'],\n",
       "      dtype=object)"
      ]
     },
     "execution_count": 8,
     "metadata": {},
     "output_type": "execute_result"
    }
   ],
   "source": [
    "df_segmentacion.channel_segmentation.unique()"
   ]
  },
  {
   "cell_type": "code",
   "execution_count": 9,
   "id": "d6ff9968-da14-4767-ba7c-d5b3107b99f2",
   "metadata": {
    "tags": []
   },
   "outputs": [
    {
     "data": {
      "text/html": [
       "<div>\n",
       "<style scoped>\n",
       "    .dataframe tbody tr th:only-of-type {\n",
       "        vertical-align: middle;\n",
       "    }\n",
       "\n",
       "    .dataframe tbody tr th {\n",
       "        vertical-align: top;\n",
       "    }\n",
       "\n",
       "    .dataframe thead th {\n",
       "        text-align: right;\n",
       "    }\n",
       "</style>\n",
       "<table border=\"1\" class=\"dataframe\">\n",
       "  <thead>\n",
       "    <tr style=\"text-align: right;\">\n",
       "      <th></th>\n",
       "      <th>cliente_id</th>\n",
       "      <th>channel_id</th>\n",
       "      <th>region</th>\n",
       "    </tr>\n",
       "  </thead>\n",
       "  <tbody>\n",
       "    <tr>\n",
       "      <th>0</th>\n",
       "      <td>-1726485189</td>\n",
       "      <td>1759010777</td>\n",
       "      <td>COSTA ATLANTICA</td>\n",
       "    </tr>\n",
       "    <tr>\n",
       "      <th>1</th>\n",
       "      <td>-928788236</td>\n",
       "      <td>1625004744</td>\n",
       "      <td>GBA MINORISTAS</td>\n",
       "    </tr>\n",
       "    <tr>\n",
       "      <th>2</th>\n",
       "      <td>1641917107</td>\n",
       "      <td>1625004744</td>\n",
       "      <td>COSTA ATLANTICA</td>\n",
       "    </tr>\n",
       "  </tbody>\n",
       "</table>\n",
       "</div>"
      ],
      "text/plain": [
       "   cliente_id  channel_id           region\n",
       "0 -1726485189  1759010777  COSTA ATLANTICA\n",
       "1  -928788236  1625004744   GBA MINORISTAS\n",
       "2  1641917107  1625004744  COSTA ATLANTICA"
      ]
     },
     "execution_count": 9,
     "metadata": {},
     "output_type": "execute_result"
    }
   ],
   "source": [
    "df_client.head(3)"
   ]
  },
  {
   "cell_type": "code",
   "execution_count": 10,
   "id": "92bbb164-c256-4549-ba30-9c56e4719926",
   "metadata": {
    "tags": []
   },
   "outputs": [
    {
     "data": {
      "text/html": [
       "<div>\n",
       "<style scoped>\n",
       "    .dataframe tbody tr th:only-of-type {\n",
       "        vertical-align: middle;\n",
       "    }\n",
       "\n",
       "    .dataframe tbody tr th {\n",
       "        vertical-align: top;\n",
       "    }\n",
       "\n",
       "    .dataframe thead th {\n",
       "        text-align: right;\n",
       "    }\n",
       "</style>\n",
       "<table border=\"1\" class=\"dataframe\">\n",
       "  <thead>\n",
       "    <tr style=\"text-align: right;\">\n",
       "      <th></th>\n",
       "      <th>cliente_id</th>\n",
       "      <th>business</th>\n",
       "      <th>brand</th>\n",
       "      <th>yearmonth</th>\n",
       "      <th>sales_with_coupons</th>\n",
       "    </tr>\n",
       "  </thead>\n",
       "  <tbody>\n",
       "    <tr>\n",
       "      <th>0</th>\n",
       "      <td>-1133775360</td>\n",
       "      <td>CZA</td>\n",
       "      <td>brahma_dorada</td>\n",
       "      <td>202307</td>\n",
       "      <td>53</td>\n",
       "    </tr>\n",
       "    <tr>\n",
       "      <th>1</th>\n",
       "      <td>-2013629997</td>\n",
       "      <td>CZA</td>\n",
       "      <td>andes</td>\n",
       "      <td>202304</td>\n",
       "      <td>483</td>\n",
       "    </tr>\n",
       "    <tr>\n",
       "      <th>2</th>\n",
       "      <td>-1623564940</td>\n",
       "      <td>CZA</td>\n",
       "      <td>quilmes</td>\n",
       "      <td>202310</td>\n",
       "      <td>41</td>\n",
       "    </tr>\n",
       "  </tbody>\n",
       "</table>\n",
       "</div>"
      ],
      "text/plain": [
       "   cliente_id business          brand  yearmonth  sales_with_coupons\n",
       "0 -1133775360      CZA  brahma_dorada     202307                  53\n",
       "1 -2013629997      CZA          andes     202304                 483\n",
       "2 -1623564940      CZA        quilmes     202310                  41"
      ]
     },
     "execution_count": 10,
     "metadata": {},
     "output_type": "execute_result"
    }
   ],
   "source": [
    "df_coupons.head(3)"
   ]
  },
  {
   "cell_type": "markdown",
   "id": "79411813-f318-4608-8055-3ae095f93d94",
   "metadata": {
    "tags": []
   },
   "source": [
    "## Preparado de los datos"
   ]
  },
  {
   "cell_type": "markdown",
   "id": "ddfce046-2bf6-4325-9304-74249287b319",
   "metadata": {},
   "source": [
    "### Tipo de datos"
   ]
  },
  {
   "cell_type": "code",
   "execution_count": 13,
   "id": "51106d56-15d5-4c6d-a5b7-24c66ef08f1e",
   "metadata": {},
   "outputs": [
    {
     "name": "stdout",
     "output_type": "stream",
     "text": [
      "<class 'pandas.core.frame.DataFrame'>\n",
      "RangeIndex: 49458 entries, 0 to 49457\n",
      "Data columns (total 3 columns):\n",
      " #   Column      Non-Null Count  Dtype \n",
      "---  ------      --------------  ----- \n",
      " 0   cliente_id  49458 non-null  int64 \n",
      " 1   channel_id  49458 non-null  int64 \n",
      " 2   region      49458 non-null  object\n",
      "dtypes: int64(2), object(1)\n",
      "memory usage: 1.1+ MB\n"
     ]
    }
   ],
   "source": [
    "df_client.info()"
   ]
  },
  {
   "cell_type": "markdown",
   "id": "8f1d5530-f170-45b2-bd01-9a48f47dbd66",
   "metadata": {},
   "source": [
    "Es correcto que las columnas cliente_id y channel_id sean datos de tipo entero? Al realizar analisis de las mismas, como que tipo de datos deberiamos tratarlas? \n",
    "\n",
    "Chequear para los otros dataset y convertir los tipos de datos de ser necesario. "
   ]
  },
  {
   "cell_type": "markdown",
   "id": "9a49eded-126b-45c1-a1bb-d97dcb3e04ff",
   "metadata": {},
   "source": [
    "### Duplicados"
   ]
  },
  {
   "cell_type": "code",
   "execution_count": 16,
   "id": "9763b701-d4c1-47b4-bf64-05ab983dce7d",
   "metadata": {},
   "outputs": [
    {
     "data": {
      "text/plain": [
       "(49458, 3)"
      ]
     },
     "execution_count": 16,
     "metadata": {},
     "output_type": "execute_result"
    }
   ],
   "source": [
    "df_client.shape"
   ]
  },
  {
   "cell_type": "markdown",
   "id": "cf2dbbad-dd0c-4336-8b48-953b74c82e8f",
   "metadata": {},
   "source": [
    "Observo cuantos clientes estan presentes en mas de un canal/region."
   ]
  },
  {
   "cell_type": "code",
   "execution_count": 18,
   "id": "3f28d30d-66e9-48d7-b760-c50e18fa1a38",
   "metadata": {},
   "outputs": [
    {
     "data": {
      "text/html": [
       "<div>\n",
       "<style scoped>\n",
       "    .dataframe tbody tr th:only-of-type {\n",
       "        vertical-align: middle;\n",
       "    }\n",
       "\n",
       "    .dataframe tbody tr th {\n",
       "        vertical-align: top;\n",
       "    }\n",
       "\n",
       "    .dataframe thead th {\n",
       "        text-align: right;\n",
       "    }\n",
       "</style>\n",
       "<table border=\"1\" class=\"dataframe\">\n",
       "  <thead>\n",
       "    <tr style=\"text-align: right;\">\n",
       "      <th></th>\n",
       "      <th>channel_id</th>\n",
       "      <th>region</th>\n",
       "    </tr>\n",
       "    <tr>\n",
       "      <th>cliente_id</th>\n",
       "      <th></th>\n",
       "      <th></th>\n",
       "    </tr>\n",
       "  </thead>\n",
       "  <tbody>\n",
       "    <tr>\n",
       "      <th>-723357213</th>\n",
       "      <td>2</td>\n",
       "      <td>2</td>\n",
       "    </tr>\n",
       "    <tr>\n",
       "      <th>-1834569221</th>\n",
       "      <td>2</td>\n",
       "      <td>2</td>\n",
       "    </tr>\n",
       "    <tr>\n",
       "      <th>1167709665</th>\n",
       "      <td>2</td>\n",
       "      <td>2</td>\n",
       "    </tr>\n",
       "    <tr>\n",
       "      <th>481102357</th>\n",
       "      <td>2</td>\n",
       "      <td>2</td>\n",
       "    </tr>\n",
       "    <tr>\n",
       "      <th>1913960401</th>\n",
       "      <td>2</td>\n",
       "      <td>2</td>\n",
       "    </tr>\n",
       "    <tr>\n",
       "      <th>714444859</th>\n",
       "      <td>1</td>\n",
       "      <td>1</td>\n",
       "    </tr>\n",
       "    <tr>\n",
       "      <th>713495976</th>\n",
       "      <td>1</td>\n",
       "      <td>1</td>\n",
       "    </tr>\n",
       "    <tr>\n",
       "      <th>712809958</th>\n",
       "      <td>1</td>\n",
       "      <td>1</td>\n",
       "    </tr>\n",
       "    <tr>\n",
       "      <th>713007622</th>\n",
       "      <td>1</td>\n",
       "      <td>1</td>\n",
       "    </tr>\n",
       "    <tr>\n",
       "      <th>713163764</th>\n",
       "      <td>1</td>\n",
       "      <td>1</td>\n",
       "    </tr>\n",
       "  </tbody>\n",
       "</table>\n",
       "</div>"
      ],
      "text/plain": [
       "             channel_id  region\n",
       "cliente_id                     \n",
       "-723357213            2       2\n",
       "-1834569221           2       2\n",
       " 1167709665           2       2\n",
       " 481102357            2       2\n",
       " 1913960401           2       2\n",
       " 714444859            1       1\n",
       " 713495976            1       1\n",
       " 712809958            1       1\n",
       " 713007622            1       1\n",
       " 713163764            1       1"
      ]
     },
     "execution_count": 18,
     "metadata": {},
     "output_type": "execute_result"
    }
   ],
   "source": [
    "df_client.groupby('cliente_id').count().sort_values(by='channel_id',ascending=False).head(10)"
   ]
  },
  {
   "cell_type": "code",
   "execution_count": 19,
   "id": "7b7cc98d-b3f6-48e6-9bc2-3aff27ca2d57",
   "metadata": {},
   "outputs": [
    {
     "data": {
      "text/html": [
       "<div>\n",
       "<style scoped>\n",
       "    .dataframe tbody tr th:only-of-type {\n",
       "        vertical-align: middle;\n",
       "    }\n",
       "\n",
       "    .dataframe tbody tr th {\n",
       "        vertical-align: top;\n",
       "    }\n",
       "\n",
       "    .dataframe thead th {\n",
       "        text-align: right;\n",
       "    }\n",
       "</style>\n",
       "<table border=\"1\" class=\"dataframe\">\n",
       "  <thead>\n",
       "    <tr style=\"text-align: right;\">\n",
       "      <th></th>\n",
       "      <th>cliente_id</th>\n",
       "      <th>channel_id</th>\n",
       "      <th>region</th>\n",
       "    </tr>\n",
       "  </thead>\n",
       "  <tbody>\n",
       "    <tr>\n",
       "      <th>7638</th>\n",
       "      <td>-723357213</td>\n",
       "      <td>1625004744</td>\n",
       "      <td>LITORAL</td>\n",
       "    </tr>\n",
       "    <tr>\n",
       "      <th>49455</th>\n",
       "      <td>-723357213</td>\n",
       "      <td>1625004744</td>\n",
       "      <td>LITORAL</td>\n",
       "    </tr>\n",
       "  </tbody>\n",
       "</table>\n",
       "</div>"
      ],
      "text/plain": [
       "       cliente_id  channel_id   region\n",
       "7638   -723357213  1625004744  LITORAL\n",
       "49455  -723357213  1625004744  LITORAL"
      ]
     },
     "execution_count": 19,
     "metadata": {},
     "output_type": "execute_result"
    }
   ],
   "source": [
    "df_client[df_client['cliente_id'] == -723357213]"
   ]
  },
  {
   "cell_type": "markdown",
   "id": "80591539-ff11-4758-a09e-0db58ce0fa0a",
   "metadata": {},
   "source": [
    "Detecto que existen duplicados por lo cual, elimino los clientes duplicados del dataset de clientes. "
   ]
  },
  {
   "cell_type": "code",
   "execution_count": 21,
   "id": "ab290a0f-d4b0-4f5f-bbc0-cc323f2aa5e4",
   "metadata": {},
   "outputs": [
    {
     "data": {
      "text/plain": [
       "(49454, 3)"
      ]
     },
     "execution_count": 21,
     "metadata": {},
     "output_type": "execute_result"
    }
   ],
   "source": [
    "df_client = df_client.drop_duplicates().reset_index().drop(columns='index')\n",
    "df_client.shape"
   ]
  },
  {
   "cell_type": "code",
   "execution_count": 22,
   "id": "df6db654-843e-4d29-af12-85a2bddcfc66",
   "metadata": {},
   "outputs": [
    {
     "data": {
      "text/html": [
       "<div>\n",
       "<style scoped>\n",
       "    .dataframe tbody tr th:only-of-type {\n",
       "        vertical-align: middle;\n",
       "    }\n",
       "\n",
       "    .dataframe tbody tr th {\n",
       "        vertical-align: top;\n",
       "    }\n",
       "\n",
       "    .dataframe thead th {\n",
       "        text-align: right;\n",
       "    }\n",
       "</style>\n",
       "<table border=\"1\" class=\"dataframe\">\n",
       "  <thead>\n",
       "    <tr style=\"text-align: right;\">\n",
       "      <th></th>\n",
       "      <th>channel_id</th>\n",
       "      <th>region</th>\n",
       "    </tr>\n",
       "    <tr>\n",
       "      <th>cliente_id</th>\n",
       "      <th></th>\n",
       "      <th></th>\n",
       "    </tr>\n",
       "  </thead>\n",
       "  <tbody>\n",
       "    <tr>\n",
       "      <th>481102357</th>\n",
       "      <td>2</td>\n",
       "      <td>2</td>\n",
       "    </tr>\n",
       "    <tr>\n",
       "      <th>-2147472583</th>\n",
       "      <td>1</td>\n",
       "      <td>1</td>\n",
       "    </tr>\n",
       "    <tr>\n",
       "      <th>713495976</th>\n",
       "      <td>1</td>\n",
       "      <td>1</td>\n",
       "    </tr>\n",
       "    <tr>\n",
       "      <th>712728574</th>\n",
       "      <td>1</td>\n",
       "      <td>1</td>\n",
       "    </tr>\n",
       "    <tr>\n",
       "      <th>712809958</th>\n",
       "      <td>1</td>\n",
       "      <td>1</td>\n",
       "    </tr>\n",
       "    <tr>\n",
       "      <th>713007622</th>\n",
       "      <td>1</td>\n",
       "      <td>1</td>\n",
       "    </tr>\n",
       "    <tr>\n",
       "      <th>713163764</th>\n",
       "      <td>1</td>\n",
       "      <td>1</td>\n",
       "    </tr>\n",
       "    <tr>\n",
       "      <th>713176352</th>\n",
       "      <td>1</td>\n",
       "      <td>1</td>\n",
       "    </tr>\n",
       "    <tr>\n",
       "      <th>713228378</th>\n",
       "      <td>1</td>\n",
       "      <td>1</td>\n",
       "    </tr>\n",
       "    <tr>\n",
       "      <th>713249107</th>\n",
       "      <td>1</td>\n",
       "      <td>1</td>\n",
       "    </tr>\n",
       "  </tbody>\n",
       "</table>\n",
       "</div>"
      ],
      "text/plain": [
       "             channel_id  region\n",
       "cliente_id                     \n",
       " 481102357            2       2\n",
       "-2147472583           1       1\n",
       " 713495976            1       1\n",
       " 712728574            1       1\n",
       " 712809958            1       1\n",
       " 713007622            1       1\n",
       " 713163764            1       1\n",
       " 713176352            1       1\n",
       " 713228378            1       1\n",
       " 713249107            1       1"
      ]
     },
     "execution_count": 22,
     "metadata": {},
     "output_type": "execute_result"
    }
   ],
   "source": [
    "df_client.groupby('cliente_id').count().sort_values(by='channel_id',ascending=False).head(10)"
   ]
  },
  {
   "cell_type": "markdown",
   "id": "4ba62329-0f07-4448-8af9-d7cf2ec606a0",
   "metadata": {},
   "source": [
    "Existe un unico cliente que esta presente en dos canales y regiones. "
   ]
  },
  {
   "cell_type": "code",
   "execution_count": 24,
   "id": "e9d21fe0-8f08-40dc-a052-f8e9379e6cd8",
   "metadata": {},
   "outputs": [
    {
     "data": {
      "text/html": [
       "<div>\n",
       "<style scoped>\n",
       "    .dataframe tbody tr th:only-of-type {\n",
       "        vertical-align: middle;\n",
       "    }\n",
       "\n",
       "    .dataframe tbody tr th {\n",
       "        vertical-align: top;\n",
       "    }\n",
       "\n",
       "    .dataframe thead th {\n",
       "        text-align: right;\n",
       "    }\n",
       "</style>\n",
       "<table border=\"1\" class=\"dataframe\">\n",
       "  <thead>\n",
       "    <tr style=\"text-align: right;\">\n",
       "      <th></th>\n",
       "      <th>cliente_id</th>\n",
       "      <th>channel_id</th>\n",
       "      <th>region</th>\n",
       "    </tr>\n",
       "  </thead>\n",
       "  <tbody>\n",
       "    <tr>\n",
       "      <th>13138</th>\n",
       "      <td>481102357</td>\n",
       "      <td>651275377</td>\n",
       "      <td>GBA MINORISTAS</td>\n",
       "    </tr>\n",
       "    <tr>\n",
       "      <th>26907</th>\n",
       "      <td>481102357</td>\n",
       "      <td>1625004744</td>\n",
       "      <td>LITORAL</td>\n",
       "    </tr>\n",
       "  </tbody>\n",
       "</table>\n",
       "</div>"
      ],
      "text/plain": [
       "       cliente_id  channel_id          region\n",
       "13138   481102357   651275377  GBA MINORISTAS\n",
       "26907   481102357  1625004744         LITORAL"
      ]
     },
     "execution_count": 24,
     "metadata": {},
     "output_type": "execute_result"
    }
   ],
   "source": [
    "df_client[df_client['cliente_id'] == 481102357]"
   ]
  },
  {
   "cell_type": "markdown",
   "id": "feae7262-3963-4440-8295-3cb716f941bb",
   "metadata": {},
   "source": [
    "### Limpieza, concatenacion y/o mergeo de los datos"
   ]
  },
  {
   "cell_type": "code",
   "execution_count": 26,
   "id": "f49fa443-759e-46bd-a74e-5ba8c1e50ff0",
   "metadata": {
    "tags": []
   },
   "outputs": [
    {
     "data": {
      "text/plain": [
       "(49454, 3)"
      ]
     },
     "execution_count": 26,
     "metadata": {},
     "output_type": "execute_result"
    }
   ],
   "source": [
    "df_client.shape"
   ]
  },
  {
   "cell_type": "markdown",
   "id": "6068e7b6-9416-46f1-b996-bb80d1add368",
   "metadata": {},
   "source": [
    "1. Del dataset de clientes quitamos los clientes que estan presentes en la blacklist del analisis"
   ]
  },
  {
   "cell_type": "code",
   "execution_count": 28,
   "id": "9be57423-823b-4355-b866-5bb4e0ec4de6",
   "metadata": {},
   "outputs": [],
   "source": [
    "blacklist = list(df_blacklist.cliente_id.unique())"
   ]
  },
  {
   "cell_type": "code",
   "execution_count": 29,
   "id": "dbead0e5-5e52-4ca0-be8f-b4e114ce119b",
   "metadata": {},
   "outputs": [
    {
     "data": {
      "text/plain": [
       "(48414, 3)"
      ]
     },
     "execution_count": 29,
     "metadata": {},
     "output_type": "execute_result"
    }
   ],
   "source": [
    "df_client = df_client[~df_client['cliente_id'].isin(blacklist)]\n",
    "df_client.shape"
   ]
  },
  {
   "cell_type": "markdown",
   "id": "3c66bdba-2d4b-4c9e-b0e6-9bd4900e6857",
   "metadata": {},
   "source": [
    "2. Del dataset de clientes quitamos los canales-segmentos que no nos interesan del analisis."
   ]
  },
  {
   "cell_type": "code",
   "execution_count": 31,
   "id": "bd99bde3-d411-4d48-8271-e4c94c491f08",
   "metadata": {},
   "outputs": [
    {
     "data": {
      "text/html": [
       "<div>\n",
       "<style scoped>\n",
       "    .dataframe tbody tr th:only-of-type {\n",
       "        vertical-align: middle;\n",
       "    }\n",
       "\n",
       "    .dataframe tbody tr th {\n",
       "        vertical-align: top;\n",
       "    }\n",
       "\n",
       "    .dataframe thead th {\n",
       "        text-align: right;\n",
       "    }\n",
       "</style>\n",
       "<table border=\"1\" class=\"dataframe\">\n",
       "  <thead>\n",
       "    <tr style=\"text-align: right;\">\n",
       "      <th></th>\n",
       "      <th>channel_id</th>\n",
       "      <th>channel_segmentation</th>\n",
       "    </tr>\n",
       "  </thead>\n",
       "  <tbody>\n",
       "    <tr>\n",
       "      <th>7</th>\n",
       "      <td>1625004744</td>\n",
       "      <td>TRADICIONAL</td>\n",
       "    </tr>\n",
       "    <tr>\n",
       "      <th>14</th>\n",
       "      <td>651275377</td>\n",
       "      <td>AUTOSERVICIOS</td>\n",
       "    </tr>\n",
       "    <tr>\n",
       "      <th>17</th>\n",
       "      <td>651275377</td>\n",
       "      <td>KIOSCOS</td>\n",
       "    </tr>\n",
       "    <tr>\n",
       "      <th>20</th>\n",
       "      <td>-1756013582</td>\n",
       "      <td>AUTOSERVICIOS</td>\n",
       "    </tr>\n",
       "    <tr>\n",
       "      <th>35</th>\n",
       "      <td>-866616713</td>\n",
       "      <td>KIOSCOS</td>\n",
       "    </tr>\n",
       "    <tr>\n",
       "      <th>37</th>\n",
       "      <td>870267989</td>\n",
       "      <td>KIOSCOS</td>\n",
       "    </tr>\n",
       "  </tbody>\n",
       "</table>\n",
       "</div>"
      ],
      "text/plain": [
       "    channel_id channel_segmentation\n",
       "7   1625004744          TRADICIONAL\n",
       "14   651275377        AUTOSERVICIOS\n",
       "17   651275377              KIOSCOS\n",
       "20 -1756013582        AUTOSERVICIOS\n",
       "35  -866616713              KIOSCOS\n",
       "37   870267989              KIOSCOS"
      ]
     },
     "execution_count": 31,
     "metadata": {},
     "output_type": "execute_result"
    }
   ],
   "source": [
    "#Los segmentos a considerar para el calculo del lift\n",
    "df_segmentacion[df_segmentacion['channel_segmentation'].isin(['AUTOSERVICIOS', 'KIOSCOS' , 'TRADICIONAL'])] "
   ]
  },
  {
   "cell_type": "code",
   "execution_count": 32,
   "id": "15000c8e-9a54-43fb-9855-334abb8b152b",
   "metadata": {
    "tags": []
   },
   "outputs": [],
   "source": [
    "channel_list = list(df_segmentacion[df_segmentacion['channel_segmentation'].isin(['AUTOSERVICIOS', 'KIOSCOS' , 'TRADICIONAL'])].channel_id.unique())"
   ]
  },
  {
   "cell_type": "code",
   "execution_count": 33,
   "id": "5699edcc-553e-4cb0-bb69-af91cf197300",
   "metadata": {
    "tags": []
   },
   "outputs": [
    {
     "data": {
      "text/plain": [
       "[1625004744, 651275377, -1756013582, -866616713, 870267989]"
      ]
     },
     "execution_count": 33,
     "metadata": {},
     "output_type": "execute_result"
    }
   ],
   "source": [
    "channel_list"
   ]
  },
  {
   "cell_type": "code",
   "execution_count": 34,
   "id": "7b3a1eda-60db-4186-958a-f56a915eaf5a",
   "metadata": {
    "tags": []
   },
   "outputs": [
    {
     "data": {
      "text/plain": [
       "(35618, 3)"
      ]
     },
     "execution_count": 34,
     "metadata": {},
     "output_type": "execute_result"
    }
   ],
   "source": [
    "df_client = df_client[df_client['channel_id'].isin(channel_list)]\n",
    "df_client.shape"
   ]
  },
  {
   "cell_type": "code",
   "execution_count": 35,
   "id": "a262b62a-75aa-4de3-808b-5b5c6f0c56f1",
   "metadata": {
    "tags": []
   },
   "outputs": [
    {
     "data": {
      "text/plain": [
       "cliente_id\n",
       "-715870445     1\n",
       "-716308667     1\n",
       "-716165947     1\n",
       "-716156829     1\n",
       "-716149560     1\n",
       "-716083054     1\n",
       "-716026542     1\n",
       "-716266132     1\n",
       " 2147118616    1\n",
       " 481102357     2\n",
       "Name: channel_id, dtype: int64"
      ]
     },
     "execution_count": 35,
     "metadata": {},
     "output_type": "execute_result"
    }
   ],
   "source": [
    "df_client.groupby('cliente_id').channel_id.count().sort_values().tail(10)"
   ]
  },
  {
   "cell_type": "markdown",
   "id": "2ca437c7-5b17-4133-af51-e4ba42cb4e25",
   "metadata": {},
   "source": [
    "3. Concatemos los 3 datasets de ventas"
   ]
  },
  {
   "cell_type": "code",
   "execution_count": 37,
   "id": "9168cdde-c889-4681-9a5e-9b9251d42fb8",
   "metadata": {},
   "outputs": [
    {
     "data": {
      "text/plain": [
       "(1774465, 5)"
      ]
     },
     "execution_count": 37,
     "metadata": {},
     "output_type": "execute_result"
    }
   ],
   "source": [
    "df_ventas_tot = pd.concat([df_sales1,df_sales2,df_sales3]) #con axis podemos indicar si queremos concatenar por filas o columnas\n",
    "df_ventas_tot.shape"
   ]
  },
  {
   "cell_type": "code",
   "execution_count": 38,
   "id": "d34bc0f1-523d-462b-a288-42b74f39f0d5",
   "metadata": {},
   "outputs": [
    {
     "data": {
      "text/html": [
       "<div>\n",
       "<style scoped>\n",
       "    .dataframe tbody tr th:only-of-type {\n",
       "        vertical-align: middle;\n",
       "    }\n",
       "\n",
       "    .dataframe tbody tr th {\n",
       "        vertical-align: top;\n",
       "    }\n",
       "\n",
       "    .dataframe thead th {\n",
       "        text-align: right;\n",
       "    }\n",
       "</style>\n",
       "<table border=\"1\" class=\"dataframe\">\n",
       "  <thead>\n",
       "    <tr style=\"text-align: right;\">\n",
       "      <th></th>\n",
       "      <th>cliente_id</th>\n",
       "      <th>business</th>\n",
       "      <th>brand</th>\n",
       "      <th>sales</th>\n",
       "      <th>yearmonth</th>\n",
       "    </tr>\n",
       "  </thead>\n",
       "  <tbody>\n",
       "    <tr>\n",
       "      <th>571913</th>\n",
       "      <td>1570019169</td>\n",
       "      <td>CZA</td>\n",
       "      <td>corona</td>\n",
       "      <td>89.91888</td>\n",
       "      <td>202301</td>\n",
       "    </tr>\n",
       "    <tr>\n",
       "      <th>571914</th>\n",
       "      <td>1958127344</td>\n",
       "      <td>CZA</td>\n",
       "      <td>otras</td>\n",
       "      <td>0.00000</td>\n",
       "      <td>202301</td>\n",
       "    </tr>\n",
       "    <tr>\n",
       "      <th>571915</th>\n",
       "      <td>36538050</td>\n",
       "      <td>CZA</td>\n",
       "      <td>otras</td>\n",
       "      <td>0.00000</td>\n",
       "      <td>202302</td>\n",
       "    </tr>\n",
       "    <tr>\n",
       "      <th>571916</th>\n",
       "      <td>-1789403340</td>\n",
       "      <td>CZA</td>\n",
       "      <td>otras</td>\n",
       "      <td>0.00000</td>\n",
       "      <td>202301</td>\n",
       "    </tr>\n",
       "    <tr>\n",
       "      <th>571917</th>\n",
       "      <td>772148154</td>\n",
       "      <td>CZA</td>\n",
       "      <td>patagonia</td>\n",
       "      <td>11.80800</td>\n",
       "      <td>202305</td>\n",
       "    </tr>\n",
       "  </tbody>\n",
       "</table>\n",
       "</div>"
      ],
      "text/plain": [
       "        cliente_id business      brand     sales  yearmonth\n",
       "571913  1570019169      CZA     corona  89.91888     202301\n",
       "571914  1958127344      CZA      otras   0.00000     202301\n",
       "571915    36538050      CZA      otras   0.00000     202302\n",
       "571916 -1789403340      CZA      otras   0.00000     202301\n",
       "571917   772148154      CZA  patagonia  11.80800     202305"
      ]
     },
     "execution_count": 38,
     "metadata": {},
     "output_type": "execute_result"
    }
   ],
   "source": [
    "df_ventas_tot.tail()"
   ]
  },
  {
   "cell_type": "markdown",
   "id": "f08e85b6-5000-439c-a0c4-69a242252240",
   "metadata": {},
   "source": [
    "4. Mergeamos datasets de ventas con dataset de clientes. "
   ]
  },
  {
   "cell_type": "markdown",
   "id": "fde5efeb-6630-4b14-b95f-f161b02dc16a",
   "metadata": {},
   "source": [
    "Como hacer un mergeo o join de datos? Debemos indicar en how que tipo de join queremos hacer, y en on cual va a ser la clave para realizarlo. "
   ]
  },
  {
   "cell_type": "markdown",
   "id": "337cca57-f23b-4272-a954-6b8489d850ef",
   "metadata": {},
   "source": [
    "Tambien podemos hacer un merge considerando varias columnas como claves."
   ]
  },
  {
   "cell_type": "code",
   "execution_count": 42,
   "id": "e630d04a-cb59-4fd6-8a55-380828d4c9b9",
   "metadata": {},
   "outputs": [
    {
     "data": {
      "text/html": [
       "<div>\n",
       "<style scoped>\n",
       "    .dataframe tbody tr th:only-of-type {\n",
       "        vertical-align: middle;\n",
       "    }\n",
       "\n",
       "    .dataframe tbody tr th {\n",
       "        vertical-align: top;\n",
       "    }\n",
       "\n",
       "    .dataframe thead th {\n",
       "        text-align: right;\n",
       "    }\n",
       "</style>\n",
       "<table border=\"1\" class=\"dataframe\">\n",
       "  <thead>\n",
       "    <tr style=\"text-align: right;\">\n",
       "      <th></th>\n",
       "      <th>cliente_id</th>\n",
       "      <th>channel_id</th>\n",
       "      <th>region</th>\n",
       "      <th>sales</th>\n",
       "      <th>yearmonth</th>\n",
       "    </tr>\n",
       "  </thead>\n",
       "  <tbody>\n",
       "    <tr>\n",
       "      <th>0</th>\n",
       "      <td>-928788236</td>\n",
       "      <td>1625004744</td>\n",
       "      <td>GBA MINORISTAS</td>\n",
       "      <td>0.17040</td>\n",
       "      <td>202203</td>\n",
       "    </tr>\n",
       "    <tr>\n",
       "      <th>1</th>\n",
       "      <td>-928788236</td>\n",
       "      <td>1625004744</td>\n",
       "      <td>GBA MINORISTAS</td>\n",
       "      <td>0.14190</td>\n",
       "      <td>202204</td>\n",
       "    </tr>\n",
       "    <tr>\n",
       "      <th>2</th>\n",
       "      <td>-928788236</td>\n",
       "      <td>1625004744</td>\n",
       "      <td>GBA MINORISTAS</td>\n",
       "      <td>0.20514</td>\n",
       "      <td>202204</td>\n",
       "    </tr>\n",
       "    <tr>\n",
       "      <th>3</th>\n",
       "      <td>-928788236</td>\n",
       "      <td>1625004744</td>\n",
       "      <td>GBA MINORISTAS</td>\n",
       "      <td>0.11352</td>\n",
       "      <td>202201</td>\n",
       "    </tr>\n",
       "    <tr>\n",
       "      <th>4</th>\n",
       "      <td>-928788236</td>\n",
       "      <td>1625004744</td>\n",
       "      <td>GBA MINORISTAS</td>\n",
       "      <td>0.05676</td>\n",
       "      <td>202202</td>\n",
       "    </tr>\n",
       "    <tr>\n",
       "      <th>...</th>\n",
       "      <td>...</td>\n",
       "      <td>...</td>\n",
       "      <td>...</td>\n",
       "      <td>...</td>\n",
       "      <td>...</td>\n",
       "    </tr>\n",
       "    <tr>\n",
       "      <th>1246462</th>\n",
       "      <td>-144622375</td>\n",
       "      <td>651275377</td>\n",
       "      <td>GBA MINORISTAS</td>\n",
       "      <td>0.28380</td>\n",
       "      <td>202302</td>\n",
       "    </tr>\n",
       "    <tr>\n",
       "      <th>1246463</th>\n",
       "      <td>-144622375</td>\n",
       "      <td>651275377</td>\n",
       "      <td>GBA MINORISTAS</td>\n",
       "      <td>0.79464</td>\n",
       "      <td>202304</td>\n",
       "    </tr>\n",
       "    <tr>\n",
       "      <th>1246464</th>\n",
       "      <td>-144622375</td>\n",
       "      <td>651275377</td>\n",
       "      <td>GBA MINORISTAS</td>\n",
       "      <td>0.56760</td>\n",
       "      <td>202302</td>\n",
       "    </tr>\n",
       "    <tr>\n",
       "      <th>1246465</th>\n",
       "      <td>-144622375</td>\n",
       "      <td>651275377</td>\n",
       "      <td>GBA MINORISTAS</td>\n",
       "      <td>0.34056</td>\n",
       "      <td>202306</td>\n",
       "    </tr>\n",
       "    <tr>\n",
       "      <th>1246466</th>\n",
       "      <td>-144622375</td>\n",
       "      <td>651275377</td>\n",
       "      <td>GBA MINORISTAS</td>\n",
       "      <td>1.24872</td>\n",
       "      <td>202304</td>\n",
       "    </tr>\n",
       "  </tbody>\n",
       "</table>\n",
       "<p>1246467 rows × 5 columns</p>\n",
       "</div>"
      ],
      "text/plain": [
       "         cliente_id  channel_id          region    sales  yearmonth\n",
       "0        -928788236  1625004744  GBA MINORISTAS  0.17040     202203\n",
       "1        -928788236  1625004744  GBA MINORISTAS  0.14190     202204\n",
       "2        -928788236  1625004744  GBA MINORISTAS  0.20514     202204\n",
       "3        -928788236  1625004744  GBA MINORISTAS  0.11352     202201\n",
       "4        -928788236  1625004744  GBA MINORISTAS  0.05676     202202\n",
       "...             ...         ...             ...      ...        ...\n",
       "1246462  -144622375   651275377  GBA MINORISTAS  0.28380     202302\n",
       "1246463  -144622375   651275377  GBA MINORISTAS  0.79464     202304\n",
       "1246464  -144622375   651275377  GBA MINORISTAS  0.56760     202302\n",
       "1246465  -144622375   651275377  GBA MINORISTAS  0.34056     202306\n",
       "1246466  -144622375   651275377  GBA MINORISTAS  1.24872     202304\n",
       "\n",
       "[1246467 rows x 5 columns]"
      ]
     },
     "execution_count": 42,
     "metadata": {},
     "output_type": "execute_result"
    }
   ],
   "source": [
    "pd.merge(df_client,df_ventas_tot[['cliente_id','sales','yearmonth']],how='inner',\n",
    "         on='cliente_id')"
   ]
  },
  {
   "cell_type": "code",
   "execution_count": 43,
   "id": "032c1283-1ec9-4973-9551-7f4cf3cf4b75",
   "metadata": {},
   "outputs": [],
   "source": [
    "df_ventas_total = pd.merge(df_client,df_ventas_tot,how='inner',\n",
    "         on='cliente_id')"
   ]
  },
  {
   "cell_type": "code",
   "execution_count": 44,
   "id": "66868a5c-2bcc-405a-abcb-85e6c3229cfe",
   "metadata": {},
   "outputs": [],
   "source": [
    "df_ventas_total.drop(columns='business',inplace=True)"
   ]
  },
  {
   "cell_type": "code",
   "execution_count": 45,
   "id": "f0a645db-8b98-4164-89fd-ba7685372955",
   "metadata": {
    "tags": []
   },
   "outputs": [],
   "source": [
    "df_coupons.drop(columns='business',inplace=True)"
   ]
  },
  {
   "cell_type": "markdown",
   "id": "ebcd9132-eb82-4ae8-8d1d-cffa215ec2b5",
   "metadata": {},
   "source": [
    "5. Mergeamos datasets de ventas con dataset de copunes. "
   ]
  },
  {
   "cell_type": "code",
   "execution_count": 47,
   "id": "64bbd1a0-c0b0-4be2-91a6-3efa4e7c3af0",
   "metadata": {
    "tags": []
   },
   "outputs": [
    {
     "data": {
      "text/html": [
       "<div>\n",
       "<style scoped>\n",
       "    .dataframe tbody tr th:only-of-type {\n",
       "        vertical-align: middle;\n",
       "    }\n",
       "\n",
       "    .dataframe tbody tr th {\n",
       "        vertical-align: top;\n",
       "    }\n",
       "\n",
       "    .dataframe thead th {\n",
       "        text-align: right;\n",
       "    }\n",
       "</style>\n",
       "<table border=\"1\" class=\"dataframe\">\n",
       "  <thead>\n",
       "    <tr style=\"text-align: right;\">\n",
       "      <th></th>\n",
       "      <th>cliente_id</th>\n",
       "      <th>brand</th>\n",
       "      <th>yearmonth</th>\n",
       "      <th>sales_with_coupons</th>\n",
       "    </tr>\n",
       "  </thead>\n",
       "  <tbody>\n",
       "    <tr>\n",
       "      <th>0</th>\n",
       "      <td>-1133775360</td>\n",
       "      <td>brahma_dorada</td>\n",
       "      <td>202307</td>\n",
       "      <td>53</td>\n",
       "    </tr>\n",
       "    <tr>\n",
       "      <th>1</th>\n",
       "      <td>-2013629997</td>\n",
       "      <td>andes</td>\n",
       "      <td>202304</td>\n",
       "      <td>483</td>\n",
       "    </tr>\n",
       "    <tr>\n",
       "      <th>2</th>\n",
       "      <td>-1623564940</td>\n",
       "      <td>quilmes</td>\n",
       "      <td>202310</td>\n",
       "      <td>41</td>\n",
       "    </tr>\n",
       "  </tbody>\n",
       "</table>\n",
       "</div>"
      ],
      "text/plain": [
       "   cliente_id          brand  yearmonth  sales_with_coupons\n",
       "0 -1133775360  brahma_dorada     202307                  53\n",
       "1 -2013629997          andes     202304                 483\n",
       "2 -1623564940        quilmes     202310                  41"
      ]
     },
     "execution_count": 47,
     "metadata": {},
     "output_type": "execute_result"
    }
   ],
   "source": [
    "df_coupons.head(3)"
   ]
  },
  {
   "cell_type": "code",
   "execution_count": 48,
   "id": "71f8cc49-ac65-4332-952d-cd5e300668c9",
   "metadata": {
    "tags": []
   },
   "outputs": [
    {
     "data": {
      "text/html": [
       "<div>\n",
       "<style scoped>\n",
       "    .dataframe tbody tr th:only-of-type {\n",
       "        vertical-align: middle;\n",
       "    }\n",
       "\n",
       "    .dataframe tbody tr th {\n",
       "        vertical-align: top;\n",
       "    }\n",
       "\n",
       "    .dataframe thead th {\n",
       "        text-align: right;\n",
       "    }\n",
       "</style>\n",
       "<table border=\"1\" class=\"dataframe\">\n",
       "  <thead>\n",
       "    <tr style=\"text-align: right;\">\n",
       "      <th></th>\n",
       "      <th>cliente_id</th>\n",
       "      <th>business</th>\n",
       "      <th>brand</th>\n",
       "      <th>sales</th>\n",
       "      <th>yearmonth</th>\n",
       "    </tr>\n",
       "  </thead>\n",
       "  <tbody>\n",
       "    <tr>\n",
       "      <th>0</th>\n",
       "      <td>1690894282</td>\n",
       "      <td>CZA</td>\n",
       "      <td>quilmes</td>\n",
       "      <td>1.81962</td>\n",
       "      <td>202201</td>\n",
       "    </tr>\n",
       "    <tr>\n",
       "      <th>1</th>\n",
       "      <td>-985525432</td>\n",
       "      <td>CZA</td>\n",
       "      <td>brahma</td>\n",
       "      <td>0.73548</td>\n",
       "      <td>202201</td>\n",
       "    </tr>\n",
       "    <tr>\n",
       "      <th>2</th>\n",
       "      <td>-674489716</td>\n",
       "      <td>CZA</td>\n",
       "      <td>brahma</td>\n",
       "      <td>4.55328</td>\n",
       "      <td>202201</td>\n",
       "    </tr>\n",
       "  </tbody>\n",
       "</table>\n",
       "</div>"
      ],
      "text/plain": [
       "   cliente_id business    brand    sales  yearmonth\n",
       "0  1690894282      CZA  quilmes  1.81962     202201\n",
       "1  -985525432      CZA   brahma  0.73548     202201\n",
       "2  -674489716      CZA   brahma  4.55328     202201"
      ]
     },
     "execution_count": 48,
     "metadata": {},
     "output_type": "execute_result"
    }
   ],
   "source": [
    "df_ventas_tot.head(3)"
   ]
  },
  {
   "cell_type": "code",
   "execution_count": 49,
   "id": "b54ab177-010a-45d8-af3d-1deca32e0a43",
   "metadata": {},
   "outputs": [],
   "source": [
    "df_ventas_totales = pd.merge(df_ventas_total, df_coupons, on=['cliente_id','brand','yearmonth'], how='left')"
   ]
  },
  {
   "cell_type": "markdown",
   "id": "0d986603-a783-46c4-ab04-e4aa5332f983",
   "metadata": {},
   "source": [
    "Vamos a agregar una columna que nos indique en que caso las ventas seran consideradas para el analisis de mkt, teniendo en cuenta que si la columna sales_with_coupons supera 5 sera considerada como parte de la campaña. "
   ]
  },
  {
   "cell_type": "code",
   "execution_count": 51,
   "id": "373f701e-767b-42d0-b40b-f0f46c6d39f5",
   "metadata": {},
   "outputs": [],
   "source": [
    "df_ventas_totales['participation_campein'] = df_ventas_totales['sales_with_coupons'].apply(lambda x: 'Si' if x>5 else 'No')"
   ]
  },
  {
   "cell_type": "code",
   "execution_count": 52,
   "id": "edf9f252-daff-4e65-955b-e38a5a8dc935",
   "metadata": {
    "tags": []
   },
   "outputs": [
    {
     "data": {
      "text/html": [
       "<div>\n",
       "<style scoped>\n",
       "    .dataframe tbody tr th:only-of-type {\n",
       "        vertical-align: middle;\n",
       "    }\n",
       "\n",
       "    .dataframe tbody tr th {\n",
       "        vertical-align: top;\n",
       "    }\n",
       "\n",
       "    .dataframe thead th {\n",
       "        text-align: right;\n",
       "    }\n",
       "</style>\n",
       "<table border=\"1\" class=\"dataframe\">\n",
       "  <thead>\n",
       "    <tr style=\"text-align: right;\">\n",
       "      <th></th>\n",
       "      <th>sales_with_coupons</th>\n",
       "      <th>participation_campein</th>\n",
       "    </tr>\n",
       "  </thead>\n",
       "  <tbody>\n",
       "    <tr>\n",
       "      <th>857978</th>\n",
       "      <td>NaN</td>\n",
       "      <td>No</td>\n",
       "    </tr>\n",
       "    <tr>\n",
       "      <th>666803</th>\n",
       "      <td>NaN</td>\n",
       "      <td>No</td>\n",
       "    </tr>\n",
       "    <tr>\n",
       "      <th>894929</th>\n",
       "      <td>NaN</td>\n",
       "      <td>No</td>\n",
       "    </tr>\n",
       "    <tr>\n",
       "      <th>184562</th>\n",
       "      <td>NaN</td>\n",
       "      <td>No</td>\n",
       "    </tr>\n",
       "    <tr>\n",
       "      <th>494826</th>\n",
       "      <td>NaN</td>\n",
       "      <td>No</td>\n",
       "    </tr>\n",
       "  </tbody>\n",
       "</table>\n",
       "</div>"
      ],
      "text/plain": [
       "        sales_with_coupons participation_campein\n",
       "857978                 NaN                    No\n",
       "666803                 NaN                    No\n",
       "894929                 NaN                    No\n",
       "184562                 NaN                    No\n",
       "494826                 NaN                    No"
      ]
     },
     "execution_count": 52,
     "metadata": {},
     "output_type": "execute_result"
    }
   ],
   "source": [
    "df_ventas_totales[['sales_with_coupons','participation_campein']].sample(5)"
   ]
  },
  {
   "cell_type": "code",
   "execution_count": 53,
   "id": "81eaa03e-75d2-4440-8619-54d4307e8558",
   "metadata": {
    "tags": []
   },
   "outputs": [
    {
     "data": {
      "text/plain": [
       "(1246467, 8)"
      ]
     },
     "execution_count": 53,
     "metadata": {},
     "output_type": "execute_result"
    }
   ],
   "source": [
    "df_ventas_totales.shape"
   ]
  },
  {
   "cell_type": "code",
   "execution_count": 54,
   "id": "fe0745f7-05e5-4db4-a845-7e383afafa67",
   "metadata": {
    "tags": []
   },
   "outputs": [
    {
     "data": {
      "text/plain": [
       "cliente_id                     0\n",
       "channel_id                     0\n",
       "region                         0\n",
       "brand                          0\n",
       "sales                          0\n",
       "yearmonth                      0\n",
       "sales_with_coupons       1188327\n",
       "participation_campein          0\n",
       "dtype: int64"
      ]
     },
     "execution_count": 54,
     "metadata": {},
     "output_type": "execute_result"
    }
   ],
   "source": [
    "df_ventas_totales.isna().sum()"
   ]
  },
  {
   "cell_type": "markdown",
   "id": "cd04b365-ebf6-4e28-bd58-cdbb7ce8b53b",
   "metadata": {},
   "source": [
    "6. Filtramos aquellos periodos de tiempo que nos van a interesar en el analisis"
   ]
  },
  {
   "cell_type": "code",
   "execution_count": 56,
   "id": "ded99545-5d87-4278-8296-f46627f3559d",
   "metadata": {},
   "outputs": [],
   "source": [
    "df_ventas_totales = df_ventas_totales[(df_ventas_totales['yearmonth'] > 202112) &\n",
    "                        (df_ventas_totales['yearmonth'] < 202307)]"
   ]
  },
  {
   "cell_type": "code",
   "execution_count": 57,
   "id": "c52e0179-47d9-474b-814e-44d810b44aab",
   "metadata": {},
   "outputs": [
    {
     "data": {
      "text/plain": [
       "28220"
      ]
     },
     "execution_count": 57,
     "metadata": {},
     "output_type": "execute_result"
    }
   ],
   "source": [
    "df_ventas_totales.cliente_id.nunique()"
   ]
  },
  {
   "cell_type": "markdown",
   "id": "155249a0-e586-4eb7-a463-0acd3e20f58e",
   "metadata": {},
   "source": [
    "## Analisis de los datos"
   ]
  },
  {
   "cell_type": "markdown",
   "id": "6b1c9286-dd60-4541-aead-36f9359b4527",
   "metadata": {},
   "source": [
    "Describes, groupby y diferentes graficos pueden ser utiles para observar el comportamiento de los datos."
   ]
  },
  {
   "cell_type": "markdown",
   "id": "33c9aefc-44ab-4875-a0d9-75567408d2ae",
   "metadata": {},
   "source": [
    "### Sales_with_coupons "
   ]
  },
  {
   "cell_type": "code",
   "execution_count": 61,
   "id": "63cd4d17-5b63-472b-b2d5-c15ab7df5b61",
   "metadata": {
    "tags": []
   },
   "outputs": [
    {
     "data": {
      "text/plain": [
       "count    58140.000000\n",
       "mean        13.678896\n",
       "std         45.223249\n",
       "min          1.000000\n",
       "25%          1.000000\n",
       "50%          3.000000\n",
       "75%          8.000000\n",
       "max       1961.000000\n",
       "Name: sales_with_coupons, dtype: float64"
      ]
     },
     "execution_count": 61,
     "metadata": {},
     "output_type": "execute_result"
    }
   ],
   "source": [
    "df_ventas_totales['sales_with_coupons'].describe()"
   ]
  },
  {
   "cell_type": "code",
   "execution_count": 62,
   "id": "9219533f-db7e-42b3-be7a-3216d66d0cee",
   "metadata": {
    "tags": []
   },
   "outputs": [
    {
     "data": {
      "text/plain": [
       "260.9150000000009"
      ]
     },
     "execution_count": 62,
     "metadata": {},
     "output_type": "execute_result"
    }
   ],
   "source": [
    "df_ventas_totales['sales_with_coupons'].quantile(0.995)"
   ]
  },
  {
   "cell_type": "code",
   "execution_count": 63,
   "id": "ab2ea076-aa7a-470f-9e2a-ceabe67960c3",
   "metadata": {},
   "outputs": [
    {
     "data": {
      "text/plain": [
       "yearmonth  brand        \n",
       "202109     quilmes            3548\n",
       "202110     brahma                2\n",
       "           quilmes           13481\n",
       "202111     brahma             9012\n",
       "           quilmes            1685\n",
       "                             ...  \n",
       "202310     michelob           7620\n",
       "           patagonia         13345\n",
       "           quilmes          111625\n",
       "           stella_artois     46843\n",
       "           temple             5943\n",
       "Name: sales_with_coupons, Length: 210, dtype: int64"
      ]
     },
     "execution_count": 63,
     "metadata": {},
     "output_type": "execute_result"
    }
   ],
   "source": [
    "df_coupons.groupby(['yearmonth','brand'])['sales_with_coupons'].sum()"
   ]
  },
  {
   "cell_type": "code",
   "execution_count": 64,
   "id": "fa777b7d-54b2-4893-a0cd-e45d8ce52ad0",
   "metadata": {
    "tags": []
   },
   "outputs": [
    {
     "name": "stderr",
     "output_type": "stream",
     "text": [
      "/opt/anaconda3/lib/python3.11/site-packages/numpy/lib/nanfunctions.py:1384: RuntimeWarning: All-NaN slice encountered\n",
      "  return _nanquantile_unchecked(\n"
     ]
    },
    {
     "data": {
      "image/png": "[encoded data removed]",
      "text/plain": [
       "<Figure size 1000x600 with 1 Axes>"
      ]
     },
     "metadata": {},
     "output_type": "display_data"
    }
   ],
   "source": [
    "fig = plt.figure(figsize=(10,6))\n",
    "seaborn.barplot(data=df_ventas_totales,\n",
    "                y='sales_with_coupons', x='yearmonth',\n",
    "                estimator=numpy.mean)\n",
    "plt.xticks(rotation=45)\n",
    "plt.title('Distribucion de sales_with_coupons')\n",
    "plt.show()"
   ]
  },
  {
   "cell_type": "markdown",
   "id": "67d44798-3621-4ee1-b780-8861e92f7550",
   "metadata": {},
   "source": [
    "Podemos observar como cambia la distribucion de la columna sales_with_coupons en funcion a si el cliente participo o no en la campaña."
   ]
  },
  {
   "cell_type": "code",
   "execution_count": 66,
   "id": "12d25e6a-3186-41b7-a968-3a5b7bae0b06",
   "metadata": {
    "tags": []
   },
   "outputs": [
    {
     "data": {
      "text/plain": [
       "participation_campein\n",
       "No    39408\n",
       "Si    18732\n",
       "Name: count, dtype: int64"
      ]
     },
     "execution_count": 66,
     "metadata": {},
     "output_type": "execute_result"
    }
   ],
   "source": [
    "df_ventas_totales[~df_ventas_totales['sales_with_coupons'].isna()]['participation_campein'].value_counts()"
   ]
  },
  {
   "cell_type": "code",
   "execution_count": 67,
   "id": "224cf304-9836-4a5a-a53f-ba7ba4dc6858",
   "metadata": {
    "tags": []
   },
   "outputs": [
    {
     "name": "stderr",
     "output_type": "stream",
     "text": [
      "/opt/anaconda3/lib/python3.11/site-packages/numpy/lib/nanfunctions.py:1384: RuntimeWarning: All-NaN slice encountered\n",
      "  return _nanquantile_unchecked(\n"
     ]
    },
    {
     "data": {
      "image/png": "[encoded data removed]",
      "text/plain": [
       "<Figure size 1200x600 with 2 Axes>"
      ]
     },
     "metadata": {},
     "output_type": "display_data"
    }
   ],
   "source": [
    "fig, axes = plt.subplots(1, 2 ,figsize=(12,6))\n",
    "\n",
    "seaborn.barplot(data=df_ventas_totales[df_ventas_totales['participation_campein'] == 'Si'],\n",
    "                y='sales_with_coupons', x='yearmonth',estimator=numpy.mean, ax=axes[0])\n",
    "axes[0].tick_params(axis='x', rotation=45)\n",
    "axes[0].set_title('Distribucion de sales_with_coupons\\n con participacion en campaña')\n",
    "\n",
    "seaborn.barplot(data=df_ventas_totales[df_ventas_totales['participation_campein'] == 'No'],\n",
    "                y='sales_with_coupons', x='yearmonth',estimator=numpy.mean, ax=axes[1])\n",
    "axes[1].tick_params(axis='x', rotation=45)\n",
    "axes[1].set_title('Distribucion de sales_with_coupons\\n sin participacion en campaña')\n",
    "\n",
    "plt.show()"
   ]
  },
  {
   "cell_type": "code",
   "execution_count": 68,
   "id": "70178825-d8da-40c2-a7b8-251c403f75db",
   "metadata": {},
   "outputs": [
    {
     "data": {
      "text/plain": [
       "yearmonth  participation_campein\n",
       "202201     No                       19254\n",
       "           Si                          93\n",
       "202202     No                       18894\n",
       "           Si                         100\n",
       "202203     No                       19389\n",
       "           Si                          73\n",
       "202204     No                       18877\n",
       "           Si                          67\n",
       "202205     No                       18842\n",
       "           Si                         363\n",
       "202206     No                       19213\n",
       "           Si                         416\n",
       "202207     No                       19264\n",
       "           Si                         758\n",
       "202208     No                       20315\n",
       "           Si                         469\n",
       "202209     No                       20845\n",
       "           Si                         540\n",
       "202210     No                       20427\n",
       "           Si                         389\n",
       "202211     No                       21312\n",
       "           Si                         501\n",
       "202212     No                       21084\n",
       "           Si                         668\n",
       "202301     No                       19880\n",
       "           Si                         471\n",
       "202302     No                       19593\n",
       "           Si                         608\n",
       "202303     No                       21023\n",
       "           Si                         795\n",
       "202304     No                       19969\n",
       "           Si                         771\n",
       "202305     No                       20212\n",
       "           Si                         828\n",
       "202306     No                       19481\n",
       "           Si                         726\n",
       "Name: cliente_id, dtype: int64"
      ]
     },
     "execution_count": 68,
     "metadata": {},
     "output_type": "execute_result"
    }
   ],
   "source": [
    "df_ventas_totales.groupby(['yearmonth','participation_campein'])['cliente_id'].nunique()"
   ]
  },
  {
   "cell_type": "code",
   "execution_count": 69,
   "id": "e6b1ca6e-f71c-4a86-989f-305b6478305c",
   "metadata": {
    "tags": []
   },
   "outputs": [
    {
     "data": {
      "text/plain": [
       "yearmonth\n",
       "202305    5274\n",
       "202303    5135\n",
       "202304    4871\n",
       "202206    4652\n",
       "202205    4521\n",
       "202306    4214\n",
       "202207    4096\n",
       "202302    3634\n",
       "202212    3425\n",
       "202209    3369\n",
       "202301    3188\n",
       "202210    3049\n",
       "202208    3031\n",
       "202211    2973\n",
       "202202     804\n",
       "202204     718\n",
       "202201     614\n",
       "202203     572\n",
       "Name: count, dtype: int64"
      ]
     },
     "execution_count": 69,
     "metadata": {},
     "output_type": "execute_result"
    }
   ],
   "source": [
    "df_ventas_totales[~df_ventas_totales['sales_with_coupons'].isna()]['yearmonth'].value_counts()"
   ]
  },
  {
   "cell_type": "markdown",
   "id": "78ad47da-be69-48e4-8013-d71692560107",
   "metadata": {},
   "source": [
    "Con el boxplot podemos observar la distribucion que asume una determinada variable, y tambien compararla."
   ]
  },
  {
   "cell_type": "code",
   "execution_count": 71,
   "id": "1ec833e6-28ae-40d4-861f-7318d90e1a38",
   "metadata": {
    "tags": []
   },
   "outputs": [
    {
     "data": {
      "image/png": "[encoded data removed]",
      "text/plain": [
       "<Figure size 1200x400 with 1 Axes>"
      ]
     },
     "metadata": {},
     "output_type": "display_data"
    }
   ],
   "source": [
    "plt.figure(figsize=(12, 4))\n",
    "seaborn.boxplot(x=df_ventas_totales['sales_with_coupons'])\n",
    "plt.show()"
   ]
  },
  {
   "cell_type": "markdown",
   "id": "fd222475-12b0-44b5-ab2b-75a8f7a7037f",
   "metadata": {
    "tags": []
   },
   "source": [
    "Podemos limitar la distribucion quitando algunos outliers para visualizar como cambia el boxplot."
   ]
  },
  {
   "cell_type": "code",
   "execution_count": 73,
   "id": "a1018dd9-cc30-4b43-b0a4-578a1d8a9206",
   "metadata": {
    "tags": []
   },
   "outputs": [
    {
     "data": {
      "text/plain": [
       "59.0"
      ]
     },
     "execution_count": 73,
     "metadata": {},
     "output_type": "execute_result"
    }
   ],
   "source": [
    "limit = df_ventas_totales['sales_with_coupons'].quantile(0.95)\n",
    "limit"
   ]
  },
  {
   "cell_type": "code",
   "execution_count": 74,
   "id": "fba6597a-dce3-41ad-b40c-3cec2dc3ec4d",
   "metadata": {
    "tags": []
   },
   "outputs": [
    {
     "data": {
      "image/png": "[encoded data removed]",
      "text/plain": [
       "<Figure size 1200x400 with 1 Axes>"
      ]
     },
     "metadata": {},
     "output_type": "display_data"
    }
   ],
   "source": [
    "plt.figure(figsize=(12, 4))\n",
    "\n",
    "seaborn.boxplot(x=df_ventas_totales[df_ventas_totales['sales_with_coupons'] < limit]['sales_with_coupons'])\n",
    "plt.show()"
   ]
  },
  {
   "cell_type": "code",
   "execution_count": 75,
   "id": "d14c9f51-b82d-41be-b2d5-d42d7faf3cd4",
   "metadata": {
    "tags": []
   },
   "outputs": [
    {
     "data": {
      "image/png": "[encoded data removed]",
      "text/plain": [
       "<Figure size 1000x600 with 2 Axes>"
      ]
     },
     "metadata": {},
     "output_type": "display_data"
    }
   ],
   "source": [
    "fig, axes = plt.subplots(1, 2 ,figsize=(10,6))\n",
    "\n",
    "seaborn.boxplot(x=df_ventas_totales[(df_ventas_totales['sales_with_coupons'] < limit) &\n",
    "                                  (df_ventas_totales['participation_campein'] == 'Si') \n",
    "                                 ]['sales_with_coupons'], ax=axes[0])\n",
    "                \n",
    "axes[0].set_title('Distribucion de sales_with_coupons\\n con participacion en campaña')\n",
    "\n",
    "seaborn.boxplot(x=df_ventas_totales[(df_ventas_totales['sales_with_coupons'] < limit) &\n",
    "                                  (df_ventas_totales['participation_campein'] == 'Si') \n",
    "                                 ]['sales_with_coupons'], ax=axes[1])\n",
    "axes[1].set_title('Distribucion de sales_with_coupons\\n sin participacion en campaña')\n",
    "\n",
    "plt.show()"
   ]
  },
  {
   "cell_type": "markdown",
   "id": "7f9b2c38-cf10-4bff-a35f-e27925d39ed0",
   "metadata": {},
   "source": [
    "### Sales"
   ]
  },
  {
   "cell_type": "code",
   "execution_count": 77,
   "id": "60774a14-013d-49f6-abf6-5aee6c0692c6",
   "metadata": {},
   "outputs": [
    {
     "data": {
      "text/html": [
       "<div>\n",
       "<style scoped>\n",
       "    .dataframe tbody tr th:only-of-type {\n",
       "        vertical-align: middle;\n",
       "    }\n",
       "\n",
       "    .dataframe tbody tr th {\n",
       "        vertical-align: top;\n",
       "    }\n",
       "\n",
       "    .dataframe thead th {\n",
       "        text-align: right;\n",
       "    }\n",
       "</style>\n",
       "<table border=\"1\" class=\"dataframe\">\n",
       "  <thead>\n",
       "    <tr style=\"text-align: right;\">\n",
       "      <th></th>\n",
       "      <th>count</th>\n",
       "      <th>mean</th>\n",
       "      <th>std</th>\n",
       "      <th>min</th>\n",
       "      <th>25%</th>\n",
       "      <th>50%</th>\n",
       "      <th>75%</th>\n",
       "      <th>max</th>\n",
       "    </tr>\n",
       "    <tr>\n",
       "      <th>region</th>\n",
       "      <th></th>\n",
       "      <th></th>\n",
       "      <th></th>\n",
       "      <th></th>\n",
       "      <th></th>\n",
       "      <th></th>\n",
       "      <th></th>\n",
       "      <th></th>\n",
       "    </tr>\n",
       "  </thead>\n",
       "  <tbody>\n",
       "    <tr>\n",
       "      <th>CENTRAL</th>\n",
       "      <td>218562.0</td>\n",
       "      <td>0.706065</td>\n",
       "      <td>3.958418</td>\n",
       "      <td>-1.66680</td>\n",
       "      <td>0.08520</td>\n",
       "      <td>0.233520</td>\n",
       "      <td>0.56760</td>\n",
       "      <td>652.75056</td>\n",
       "    </tr>\n",
       "    <tr>\n",
       "      <th>COSTA ATLANTICA</th>\n",
       "      <td>56624.0</td>\n",
       "      <td>2.026900</td>\n",
       "      <td>17.666121</td>\n",
       "      <td>-1.58928</td>\n",
       "      <td>0.11700</td>\n",
       "      <td>0.268380</td>\n",
       "      <td>0.72000</td>\n",
       "      <td>1843.08984</td>\n",
       "    </tr>\n",
       "    <tr>\n",
       "      <th>GBA MINORISTAS</th>\n",
       "      <td>300049.0</td>\n",
       "      <td>2.314099</td>\n",
       "      <td>24.831536</td>\n",
       "      <td>-18.00000</td>\n",
       "      <td>0.11352</td>\n",
       "      <td>0.347520</td>\n",
       "      <td>1.04760</td>\n",
       "      <td>2769.76584</td>\n",
       "    </tr>\n",
       "    <tr>\n",
       "      <th>LITORAL</th>\n",
       "      <td>401672.0</td>\n",
       "      <td>1.260227</td>\n",
       "      <td>7.242561</td>\n",
       "      <td>-2.04004</td>\n",
       "      <td>0.09840</td>\n",
       "      <td>0.261900</td>\n",
       "      <td>0.84000</td>\n",
       "      <td>1808.48712</td>\n",
       "    </tr>\n",
       "    <tr>\n",
       "      <th>NEA</th>\n",
       "      <td>73282.0</td>\n",
       "      <td>1.360494</td>\n",
       "      <td>10.816718</td>\n",
       "      <td>-0.91762</td>\n",
       "      <td>0.11700</td>\n",
       "      <td>0.299365</td>\n",
       "      <td>0.85200</td>\n",
       "      <td>794.29944</td>\n",
       "    </tr>\n",
       "    <tr>\n",
       "      <th>NOA</th>\n",
       "      <td>96293.0</td>\n",
       "      <td>1.634018</td>\n",
       "      <td>20.103528</td>\n",
       "      <td>-5.58444</td>\n",
       "      <td>0.08520</td>\n",
       "      <td>0.227040</td>\n",
       "      <td>0.60000</td>\n",
       "      <td>2269.96341</td>\n",
       "    </tr>\n",
       "    <tr>\n",
       "      <th>PATAGONIA</th>\n",
       "      <td>99985.0</td>\n",
       "      <td>1.910964</td>\n",
       "      <td>8.591776</td>\n",
       "      <td>-1.46460</td>\n",
       "      <td>0.12000</td>\n",
       "      <td>0.350400</td>\n",
       "      <td>1.14384</td>\n",
       "      <td>543.28560</td>\n",
       "    </tr>\n",
       "  </tbody>\n",
       "</table>\n",
       "</div>"
      ],
      "text/plain": [
       "                    count      mean        std       min      25%       50%  \\\n",
       "region                                                                        \n",
       "CENTRAL          218562.0  0.706065   3.958418  -1.66680  0.08520  0.233520   \n",
       "COSTA ATLANTICA   56624.0  2.026900  17.666121  -1.58928  0.11700  0.268380   \n",
       "GBA MINORISTAS   300049.0  2.314099  24.831536 -18.00000  0.11352  0.347520   \n",
       "LITORAL          401672.0  1.260227   7.242561  -2.04004  0.09840  0.261900   \n",
       "NEA               73282.0  1.360494  10.816718  -0.91762  0.11700  0.299365   \n",
       "NOA               96293.0  1.634018  20.103528  -5.58444  0.08520  0.227040   \n",
       "PATAGONIA         99985.0  1.910964   8.591776  -1.46460  0.12000  0.350400   \n",
       "\n",
       "                     75%         max  \n",
       "region                                \n",
       "CENTRAL          0.56760   652.75056  \n",
       "COSTA ATLANTICA  0.72000  1843.08984  \n",
       "GBA MINORISTAS   1.04760  2769.76584  \n",
       "LITORAL          0.84000  1808.48712  \n",
       "NEA              0.85200   794.29944  \n",
       "NOA              0.60000  2269.96341  \n",
       "PATAGONIA        1.14384   543.28560  "
      ]
     },
     "execution_count": 77,
     "metadata": {},
     "output_type": "execute_result"
    }
   ],
   "source": [
    "df_ventas_totales.groupby('region')['sales'].describe()"
   ]
  },
  {
   "cell_type": "markdown",
   "id": "c162e47b-fe51-4a29-a588-636e10e0464c",
   "metadata": {},
   "source": [
    "Con el countplot se visualiza la frecuencia de los datos. "
   ]
  },
  {
   "cell_type": "code",
   "execution_count": 79,
   "id": "89fd96c7-eb75-472a-983c-2efc7870bdbd",
   "metadata": {},
   "outputs": [
    {
     "data": {
      "image/png": "[encoded data removed]",
      "text/plain": [
       "<Figure size 1200x800 with 1 Axes>"
      ]
     },
     "metadata": {},
     "output_type": "display_data"
    }
   ],
   "source": [
    "fig = plt.figure(figsize=(12,8))\n",
    "seaborn.countplot(data=df_ventas_totales, x='yearmonth',\n",
    "                color='blue')\n",
    "plt.xticks(rotation=45)\n",
    "plt.ylabel(\"Conteo de observaciones por periodo\")\n",
    "plt.xlabel(\"Periodo\")\n",
    "plt.ticklabel_format(style='plain', axis='y')"
   ]
  },
  {
   "cell_type": "markdown",
   "id": "e6f00ccb-dcec-4486-9714-60d902680649",
   "metadata": {},
   "source": [
    "El barplot nos sirve para visualizar una determinada medida estadistica, la cual puede ser mean."
   ]
  },
  {
   "cell_type": "code",
   "execution_count": 81,
   "id": "17634109-026e-4604-baf5-391fec61338b",
   "metadata": {},
   "outputs": [
    {
     "data": {
      "image/png": "[encoded data removed]",
      "text/plain": [
       "<Figure size 1000x600 with 1 Axes>"
      ]
     },
     "metadata": {},
     "output_type": "display_data"
    }
   ],
   "source": [
    "fig = plt.figure(figsize=(10,6))\n",
    "seaborn.barplot(data=df_ventas_totales,\n",
    "                y='sales', x='yearmonth',\n",
    "                estimator=numpy.mean)\n",
    "plt.xticks(rotation=45)\n",
    "plt.show()"
   ]
  },
  {
   "cell_type": "code",
   "execution_count": 82,
   "id": "308070ba-dfec-4013-9411-b80f3d5b226b",
   "metadata": {
    "tags": []
   },
   "outputs": [
    {
     "data": {
      "text/plain": [
       "count    1246467.00\n",
       "mean           1.54\n",
       "std           15.05\n",
       "min          -18.00\n",
       "25%            0.11\n",
       "50%            0.26\n",
       "75%            0.82\n",
       "max         2769.77\n",
       "Name: sales, dtype: float64"
      ]
     },
     "execution_count": 82,
     "metadata": {},
     "output_type": "execute_result"
    }
   ],
   "source": [
    "df_ventas_totales['sales'].describe().round(2)"
   ]
  },
  {
   "cell_type": "code",
   "execution_count": 83,
   "id": "c55c78d1-91d7-440d-8031-1d22667446e3",
   "metadata": {},
   "outputs": [
    {
     "data": {
      "image/png": "[encoded data removed]",
      "text/plain": [
       "<Figure size 1200x400 with 1 Axes>"
      ]
     },
     "metadata": {},
     "output_type": "display_data"
    }
   ],
   "source": [
    "plt.figure(figsize=(12, 4))\n",
    "\n",
    "seaborn.boxplot(x=df_ventas_totales[df_ventas_totales['sales'] < df_ventas_totales['sales'].quantile(0.95)]['sales'])\n",
    "plt.show()"
   ]
  },
  {
   "cell_type": "markdown",
   "id": "bfef4035-bbe9-44af-a8fd-931db2119bee",
   "metadata": {},
   "source": [
    "Queremos visualizar la distribucion de Sales por los diferentes meses del año, para eso debemos transformar la variable yearmonth en string, para que sea tomada como categorica, y no como numerica (por este motivo es importante chequear el tipo de datos con los que contamos)."
   ]
  },
  {
   "cell_type": "code",
   "execution_count": 85,
   "id": "233bdcd1-3b4b-4e8c-9cec-39b270e1dac8",
   "metadata": {},
   "outputs": [
    {
     "name": "stderr",
     "output_type": "stream",
     "text": [
      "/var/folders/7p/g2x25rt54zj85__vsg7pyp3c0000gn/T/ipykernel_81002/250020174.py:2: SettingWithCopyWarning: \n",
      "A value is trying to be set on a copy of a slice from a DataFrame.\n",
      "Try using .loc[row_indexer,col_indexer] = value instead\n",
      "\n",
      "See the caveats in the documentation: https://pandas.pydata.org/pandas-docs/stable/user_guide/indexing.html#returning-a-view-versus-a-copy\n",
      "  df_ventas_2023['yearmonth'] =  df_ventas_2023.yearmonth.apply(lambda x: str(x))\n"
     ]
    }
   ],
   "source": [
    "df_ventas_2023 = df_ventas_totales[df_ventas_totales['yearmonth'] > 202212]\n",
    "df_ventas_2023['yearmonth'] =  df_ventas_2023.yearmonth.apply(lambda x: str(x))"
   ]
  },
  {
   "cell_type": "code",
   "execution_count": 86,
   "id": "50dcb7d0-c240-4720-bd27-49dbe9f87618",
   "metadata": {},
   "outputs": [
    {
     "data": {
      "image/png": "[encoded data removed]",
      "text/plain": [
       "<Figure size 1200x800 with 1 Axes>"
      ]
     },
     "metadata": {},
     "output_type": "display_data"
    }
   ],
   "source": [
    "plt.figure(figsize=(12, 8))\n",
    "seaborn.boxplot(data= df_ventas_2023,\n",
    "                x='sales',\n",
    "                y='yearmonth',\n",
    "                color = 'orangered')\n",
    "plt.ticklabel_format(style='plain', axis='x')\n",
    "plt.show()"
   ]
  },
  {
   "cell_type": "code",
   "execution_count": 87,
   "id": "1b09d7ca-293f-4f56-9dfe-90b3f249354b",
   "metadata": {},
   "outputs": [
    {
     "data": {
      "text/plain": [
       "count    405748.000000\n",
       "mean          1.322371\n",
       "std          12.744618\n",
       "min          -5.584440\n",
       "25%           0.085200\n",
       "50%           0.240000\n",
       "75%           0.720000\n",
       "max        2269.963410\n",
       "Name: sales, dtype: float64"
      ]
     },
     "execution_count": 87,
     "metadata": {},
     "output_type": "execute_result"
    }
   ],
   "source": [
    "df_ventas_2023.sales.describe()"
   ]
  },
  {
   "cell_type": "code",
   "execution_count": 88,
   "id": "74427211-9b6a-48b2-8217-ae79a9cf4464",
   "metadata": {},
   "outputs": [
    {
     "data": {
      "text/html": [
       "<div>\n",
       "<style scoped>\n",
       "    .dataframe tbody tr th:only-of-type {\n",
       "        vertical-align: middle;\n",
       "    }\n",
       "\n",
       "    .dataframe tbody tr th {\n",
       "        vertical-align: top;\n",
       "    }\n",
       "\n",
       "    .dataframe thead th {\n",
       "        text-align: right;\n",
       "    }\n",
       "</style>\n",
       "<table border=\"1\" class=\"dataframe\">\n",
       "  <thead>\n",
       "    <tr style=\"text-align: right;\">\n",
       "      <th></th>\n",
       "      <th>count</th>\n",
       "      <th>mean</th>\n",
       "      <th>std</th>\n",
       "      <th>min</th>\n",
       "      <th>25%</th>\n",
       "      <th>50%</th>\n",
       "      <th>75%</th>\n",
       "      <th>max</th>\n",
       "    </tr>\n",
       "    <tr>\n",
       "      <th>yearmonth</th>\n",
       "      <th></th>\n",
       "      <th></th>\n",
       "      <th></th>\n",
       "      <th></th>\n",
       "      <th></th>\n",
       "      <th></th>\n",
       "      <th></th>\n",
       "      <th></th>\n",
       "    </tr>\n",
       "  </thead>\n",
       "  <tbody>\n",
       "    <tr>\n",
       "      <th>202301</th>\n",
       "      <td>67561.0</td>\n",
       "      <td>1.711594</td>\n",
       "      <td>16.942269</td>\n",
       "      <td>-1.29120</td>\n",
       "      <td>0.11352</td>\n",
       "      <td>0.31200</td>\n",
       "      <td>0.92700</td>\n",
       "      <td>2269.96341</td>\n",
       "    </tr>\n",
       "    <tr>\n",
       "      <th>202302</th>\n",
       "      <td>67887.0</td>\n",
       "      <td>1.467038</td>\n",
       "      <td>11.529431</td>\n",
       "      <td>-1.18260</td>\n",
       "      <td>0.11352</td>\n",
       "      <td>0.27318</td>\n",
       "      <td>0.84000</td>\n",
       "      <td>832.82772</td>\n",
       "    </tr>\n",
       "    <tr>\n",
       "      <th>202303</th>\n",
       "      <td>74251.0</td>\n",
       "      <td>1.499368</td>\n",
       "      <td>12.395076</td>\n",
       "      <td>-5.58444</td>\n",
       "      <td>0.09840</td>\n",
       "      <td>0.26460</td>\n",
       "      <td>0.83352</td>\n",
       "      <td>1088.21352</td>\n",
       "    </tr>\n",
       "    <tr>\n",
       "      <th>202304</th>\n",
       "      <td>66255.0</td>\n",
       "      <td>1.205120</td>\n",
       "      <td>12.434534</td>\n",
       "      <td>-1.07496</td>\n",
       "      <td>0.08505</td>\n",
       "      <td>0.23052</td>\n",
       "      <td>0.65028</td>\n",
       "      <td>1570.08259</td>\n",
       "    </tr>\n",
       "    <tr>\n",
       "      <th>202305</th>\n",
       "      <td>67569.0</td>\n",
       "      <td>1.082404</td>\n",
       "      <td>11.822171</td>\n",
       "      <td>-1.03000</td>\n",
       "      <td>0.05680</td>\n",
       "      <td>0.22704</td>\n",
       "      <td>0.61200</td>\n",
       "      <td>1293.73451</td>\n",
       "    </tr>\n",
       "    <tr>\n",
       "      <th>202306</th>\n",
       "      <td>62225.0</td>\n",
       "      <td>0.916157</td>\n",
       "      <td>10.112290</td>\n",
       "      <td>-2.80016</td>\n",
       "      <td>0.07568</td>\n",
       "      <td>0.20812</td>\n",
       "      <td>0.58260</td>\n",
       "      <td>1443.35789</td>\n",
       "    </tr>\n",
       "  </tbody>\n",
       "</table>\n",
       "</div>"
      ],
      "text/plain": [
       "             count      mean        std      min      25%      50%      75%  \\\n",
       "yearmonth                                                                     \n",
       "202301     67561.0  1.711594  16.942269 -1.29120  0.11352  0.31200  0.92700   \n",
       "202302     67887.0  1.467038  11.529431 -1.18260  0.11352  0.27318  0.84000   \n",
       "202303     74251.0  1.499368  12.395076 -5.58444  0.09840  0.26460  0.83352   \n",
       "202304     66255.0  1.205120  12.434534 -1.07496  0.08505  0.23052  0.65028   \n",
       "202305     67569.0  1.082404  11.822171 -1.03000  0.05680  0.22704  0.61200   \n",
       "202306     62225.0  0.916157  10.112290 -2.80016  0.07568  0.20812  0.58260   \n",
       "\n",
       "                  max  \n",
       "yearmonth              \n",
       "202301     2269.96341  \n",
       "202302      832.82772  \n",
       "202303     1088.21352  \n",
       "202304     1570.08259  \n",
       "202305     1293.73451  \n",
       "202306     1443.35789  "
      ]
     },
     "execution_count": 88,
     "metadata": {},
     "output_type": "execute_result"
    }
   ],
   "source": [
    "df_ventas_2023.groupby('yearmonth').sales.describe()"
   ]
  },
  {
   "cell_type": "markdown",
   "id": "9f07ebff-a038-4c69-82d6-d4cadebc544d",
   "metadata": {},
   "source": [
    "Una forma de quitar los valores extremos es quedandonos con los valores que tienen una distribucion que representa a un determinado % de la muestra, por ejemplo 98%."
   ]
  },
  {
   "cell_type": "code",
   "execution_count": 90,
   "id": "92fa2f19-58e6-41d1-8f5d-7647df2d84a6",
   "metadata": {},
   "outputs": [],
   "source": [
    "quantile = 0.98"
   ]
  },
  {
   "cell_type": "code",
   "execution_count": 91,
   "id": "888ff665-f173-4214-98c6-8ee42fcb4a5f",
   "metadata": {},
   "outputs": [
    {
     "data": {
      "text/plain": [
       "7.767599999999999"
      ]
     },
     "execution_count": 91,
     "metadata": {},
     "output_type": "execute_result"
    }
   ],
   "source": [
    "df_ventas_2023.sales.quantile(quantile)"
   ]
  },
  {
   "cell_type": "code",
   "execution_count": 92,
   "id": "550cec34-a500-4627-84b8-1f9537d5b44f",
   "metadata": {},
   "outputs": [
    {
     "data": {
      "image/png": "[encoded data removed]",
      "text/plain": [
       "<Figure size 1200x800 with 1 Axes>"
      ]
     },
     "metadata": {},
     "output_type": "display_data"
    }
   ],
   "source": [
    "plt.figure(figsize=(12, 8))\n",
    "seaborn.boxplot(data= df_ventas_2023[df_ventas_2023['sales'] < df_ventas_2023.sales.quantile(quantile)],\n",
    "                x='sales',\n",
    "                y='yearmonth',\n",
    "                color = 'orangered')\n",
    "plt.ticklabel_format(style='plain', axis='x')\n",
    "plt.show()"
   ]
  },
  {
   "cell_type": "code",
   "execution_count": 93,
   "id": "cee38319-f29a-420f-b4f5-79aa0535ab47",
   "metadata": {},
   "outputs": [
    {
     "data": {
      "text/html": [
       "<div>\n",
       "<style scoped>\n",
       "    .dataframe tbody tr th:only-of-type {\n",
       "        vertical-align: middle;\n",
       "    }\n",
       "\n",
       "    .dataframe tbody tr th {\n",
       "        vertical-align: top;\n",
       "    }\n",
       "\n",
       "    .dataframe thead th {\n",
       "        text-align: right;\n",
       "    }\n",
       "</style>\n",
       "<table border=\"1\" class=\"dataframe\">\n",
       "  <thead>\n",
       "    <tr style=\"text-align: right;\">\n",
       "      <th></th>\n",
       "      <th>count</th>\n",
       "      <th>mean</th>\n",
       "      <th>std</th>\n",
       "      <th>min</th>\n",
       "      <th>25%</th>\n",
       "      <th>50%</th>\n",
       "      <th>75%</th>\n",
       "      <th>max</th>\n",
       "    </tr>\n",
       "    <tr>\n",
       "      <th>yearmonth</th>\n",
       "      <th></th>\n",
       "      <th></th>\n",
       "      <th></th>\n",
       "      <th></th>\n",
       "      <th></th>\n",
       "      <th></th>\n",
       "      <th></th>\n",
       "      <th></th>\n",
       "    </tr>\n",
       "  </thead>\n",
       "  <tbody>\n",
       "    <tr>\n",
       "      <th>202301</th>\n",
       "      <td>65606.0</td>\n",
       "      <td>0.732270</td>\n",
       "      <td>1.143328</td>\n",
       "      <td>-1.29120</td>\n",
       "      <td>0.11352</td>\n",
       "      <td>0.28380</td>\n",
       "      <td>0.820560</td>\n",
       "      <td>7.76112</td>\n",
       "    </tr>\n",
       "    <tr>\n",
       "      <th>202302</th>\n",
       "      <td>66367.0</td>\n",
       "      <td>0.694313</td>\n",
       "      <td>1.097613</td>\n",
       "      <td>-1.18260</td>\n",
       "      <td>0.10406</td>\n",
       "      <td>0.25560</td>\n",
       "      <td>0.777325</td>\n",
       "      <td>7.75218</td>\n",
       "    </tr>\n",
       "    <tr>\n",
       "      <th>202303</th>\n",
       "      <td>72537.0</td>\n",
       "      <td>0.691968</td>\n",
       "      <td>1.109776</td>\n",
       "      <td>-5.58444</td>\n",
       "      <td>0.09840</td>\n",
       "      <td>0.25244</td>\n",
       "      <td>0.767400</td>\n",
       "      <td>7.75860</td>\n",
       "    </tr>\n",
       "    <tr>\n",
       "      <th>202304</th>\n",
       "      <td>65116.0</td>\n",
       "      <td>0.573758</td>\n",
       "      <td>0.970687</td>\n",
       "      <td>-1.07496</td>\n",
       "      <td>0.08160</td>\n",
       "      <td>0.22704</td>\n",
       "      <td>0.600000</td>\n",
       "      <td>7.76400</td>\n",
       "    </tr>\n",
       "    <tr>\n",
       "      <th>202305</th>\n",
       "      <td>66551.0</td>\n",
       "      <td>0.558400</td>\n",
       "      <td>0.959273</td>\n",
       "      <td>-1.03000</td>\n",
       "      <td>0.05676</td>\n",
       "      <td>0.21300</td>\n",
       "      <td>0.593520</td>\n",
       "      <td>7.76514</td>\n",
       "    </tr>\n",
       "    <tr>\n",
       "      <th>202306</th>\n",
       "      <td>61455.0</td>\n",
       "      <td>0.517078</td>\n",
       "      <td>0.895730</td>\n",
       "      <td>-2.80016</td>\n",
       "      <td>0.07098</td>\n",
       "      <td>0.19872</td>\n",
       "      <td>0.567600</td>\n",
       "      <td>7.75320</td>\n",
       "    </tr>\n",
       "  </tbody>\n",
       "</table>\n",
       "</div>"
      ],
      "text/plain": [
       "             count      mean       std      min      25%      50%       75%  \\\n",
       "yearmonth                                                                     \n",
       "202301     65606.0  0.732270  1.143328 -1.29120  0.11352  0.28380  0.820560   \n",
       "202302     66367.0  0.694313  1.097613 -1.18260  0.10406  0.25560  0.777325   \n",
       "202303     72537.0  0.691968  1.109776 -5.58444  0.09840  0.25244  0.767400   \n",
       "202304     65116.0  0.573758  0.970687 -1.07496  0.08160  0.22704  0.600000   \n",
       "202305     66551.0  0.558400  0.959273 -1.03000  0.05676  0.21300  0.593520   \n",
       "202306     61455.0  0.517078  0.895730 -2.80016  0.07098  0.19872  0.567600   \n",
       "\n",
       "               max  \n",
       "yearmonth           \n",
       "202301     7.76112  \n",
       "202302     7.75218  \n",
       "202303     7.75860  \n",
       "202304     7.76400  \n",
       "202305     7.76514  \n",
       "202306     7.75320  "
      ]
     },
     "execution_count": 93,
     "metadata": {},
     "output_type": "execute_result"
    }
   ],
   "source": [
    "df_ventas_2023[df_ventas_2023['sales'] < df_ventas_2023.sales.quantile(quantile)].groupby('yearmonth').sales.describe()"
   ]
  },
  {
   "cell_type": "markdown",
   "id": "3442ad3c-d743-4684-b588-79ed09828b50",
   "metadata": {},
   "source": [
    "### Region "
   ]
  },
  {
   "cell_type": "code",
   "execution_count": 95,
   "id": "0dccffef-00b0-4771-acbf-7ed1b24511c9",
   "metadata": {
    "tags": []
   },
   "outputs": [
    {
     "data": {
      "text/plain": [
       "region\n",
       "LITORAL            401672\n",
       "GBA MINORISTAS     300049\n",
       "CENTRAL            218562\n",
       "PATAGONIA           99985\n",
       "NOA                 96293\n",
       "NEA                 73282\n",
       "COSTA ATLANTICA     56624\n",
       "Name: count, dtype: int64"
      ]
     },
     "execution_count": 95,
     "metadata": {},
     "output_type": "execute_result"
    }
   ],
   "source": [
    "df_ventas_totales.region.value_counts()"
   ]
  },
  {
   "cell_type": "markdown",
   "id": "699c6fde-dcac-4dd0-9088-d7cdb614e81f",
   "metadata": {},
   "source": [
    "### Brand "
   ]
  },
  {
   "cell_type": "code",
   "execution_count": 97,
   "id": "e8767dde-7fd9-4938-afd7-9242af1cdf19",
   "metadata": {
    "tags": []
   },
   "outputs": [
    {
     "data": {
      "text/plain": [
       "brand\n",
       "quilmes          277555\n",
       "brahma           236113\n",
       "stella_artois    190965\n",
       "andes_origen     174040\n",
       "budweiser        125480\n",
       "corona           103581\n",
       "patagonia         95049\n",
       "otras             43684\n",
       "Name: count, dtype: int64"
      ]
     },
     "execution_count": 97,
     "metadata": {},
     "output_type": "execute_result"
    }
   ],
   "source": [
    "df_ventas_totales.brand.value_counts()"
   ]
  },
  {
   "cell_type": "code",
   "execution_count": 98,
   "id": "74c7c005-a48b-4a2b-94dd-4d65ea952f73",
   "metadata": {
    "tags": []
   },
   "outputs": [
    {
     "data": {
      "text/plain": [
       "202201"
      ]
     },
     "execution_count": 98,
     "metadata": {},
     "output_type": "execute_result"
    }
   ],
   "source": [
    "df_ventas_totales.yearmonth.min()"
   ]
  },
  {
   "cell_type": "code",
   "execution_count": 99,
   "id": "cfad1b3d-f1f0-4d79-a33e-fca2a93328c6",
   "metadata": {
    "tags": []
   },
   "outputs": [
    {
     "data": {
      "text/html": [
       "<div>\n",
       "<style scoped>\n",
       "    .dataframe tbody tr th:only-of-type {\n",
       "        vertical-align: middle;\n",
       "    }\n",
       "\n",
       "    .dataframe tbody tr th {\n",
       "        vertical-align: top;\n",
       "    }\n",
       "\n",
       "    .dataframe thead th {\n",
       "        text-align: right;\n",
       "    }\n",
       "</style>\n",
       "<table border=\"1\" class=\"dataframe\">\n",
       "  <thead>\n",
       "    <tr style=\"text-align: right;\">\n",
       "      <th></th>\n",
       "      <th>yearmonth</th>\n",
       "    </tr>\n",
       "  </thead>\n",
       "  <tbody>\n",
       "    <tr>\n",
       "      <th>count</th>\n",
       "      <td>28220.000000</td>\n",
       "    </tr>\n",
       "    <tr>\n",
       "      <th>mean</th>\n",
       "      <td>12.706449</td>\n",
       "    </tr>\n",
       "    <tr>\n",
       "      <th>std</th>\n",
       "      <td>5.738888</td>\n",
       "    </tr>\n",
       "    <tr>\n",
       "      <th>min</th>\n",
       "      <td>1.000000</td>\n",
       "    </tr>\n",
       "    <tr>\n",
       "      <th>25%</th>\n",
       "      <td>8.000000</td>\n",
       "    </tr>\n",
       "    <tr>\n",
       "      <th>50%</th>\n",
       "      <td>15.000000</td>\n",
       "    </tr>\n",
       "    <tr>\n",
       "      <th>75%</th>\n",
       "      <td>18.000000</td>\n",
       "    </tr>\n",
       "    <tr>\n",
       "      <th>max</th>\n",
       "      <td>18.000000</td>\n",
       "    </tr>\n",
       "  </tbody>\n",
       "</table>\n",
       "</div>"
      ],
      "text/plain": [
       "          yearmonth\n",
       "count  28220.000000\n",
       "mean      12.706449\n",
       "std        5.738888\n",
       "min        1.000000\n",
       "25%        8.000000\n",
       "50%       15.000000\n",
       "75%       18.000000\n",
       "max       18.000000"
      ]
     },
     "execution_count": 99,
     "metadata": {},
     "output_type": "execute_result"
    }
   ],
   "source": [
    "df_ventas_totales.groupby('cliente_id')[['yearmonth']].nunique().describe()"
   ]
  },
  {
   "cell_type": "markdown",
   "id": "a8a3c6db-b059-494a-9ac2-6e9330f85796",
   "metadata": {},
   "source": [
    "## Analisis para la creacion de muestra de clientes"
   ]
  },
  {
   "cell_type": "markdown",
   "id": "4bf3b149-696f-425e-9763-4427b4d31674",
   "metadata": {},
   "source": [
    "Features para seleccionar la muestra de clientes:\n",
    "\n",
    "- channel_id y region: las vamos a tomar como unicas, identificatorias del cliente.\n",
    "- brand: conteo de marcas diferentes que compra el cliente\n",
    "- yearmont: Frecuencia de compras, es decir buscamos clientes habituales o regulares. Compras en n meses del año calendario.\n",
    "- Sales: monto de compras dividido por compras con promocion y sin promocion\n",
    "\n",
    "Realizaremos un groupby del dataset por la variable cliente. "
   ]
  },
  {
   "cell_type": "code",
   "execution_count": 102,
   "id": "e6e7c8c5-c9d4-4d66-90b3-6a890cd6b0af",
   "metadata": {
    "tags": []
   },
   "outputs": [
    {
     "data": {
      "text/html": [
       "<div>\n",
       "<style scoped>\n",
       "    .dataframe tbody tr th:only-of-type {\n",
       "        vertical-align: middle;\n",
       "    }\n",
       "\n",
       "    .dataframe tbody tr th {\n",
       "        vertical-align: top;\n",
       "    }\n",
       "\n",
       "    .dataframe thead th {\n",
       "        text-align: right;\n",
       "    }\n",
       "</style>\n",
       "<table border=\"1\" class=\"dataframe\">\n",
       "  <thead>\n",
       "    <tr style=\"text-align: right;\">\n",
       "      <th></th>\n",
       "      <th>cliente_id</th>\n",
       "      <th>channel_id</th>\n",
       "      <th>region</th>\n",
       "      <th>brand</th>\n",
       "      <th>sales</th>\n",
       "      <th>yearmonth</th>\n",
       "      <th>sales_with_coupons</th>\n",
       "      <th>participation_campein</th>\n",
       "    </tr>\n",
       "  </thead>\n",
       "  <tbody>\n",
       "    <tr>\n",
       "      <th>0</th>\n",
       "      <td>-928788236</td>\n",
       "      <td>1625004744</td>\n",
       "      <td>GBA MINORISTAS</td>\n",
       "      <td>corona</td>\n",
       "      <td>0.17040</td>\n",
       "      <td>202203</td>\n",
       "      <td>NaN</td>\n",
       "      <td>No</td>\n",
       "    </tr>\n",
       "    <tr>\n",
       "      <th>1</th>\n",
       "      <td>-928788236</td>\n",
       "      <td>1625004744</td>\n",
       "      <td>GBA MINORISTAS</td>\n",
       "      <td>stella_artois</td>\n",
       "      <td>0.14190</td>\n",
       "      <td>202204</td>\n",
       "      <td>NaN</td>\n",
       "      <td>No</td>\n",
       "    </tr>\n",
       "    <tr>\n",
       "      <th>2</th>\n",
       "      <td>-928788236</td>\n",
       "      <td>1625004744</td>\n",
       "      <td>GBA MINORISTAS</td>\n",
       "      <td>brahma</td>\n",
       "      <td>0.20514</td>\n",
       "      <td>202204</td>\n",
       "      <td>NaN</td>\n",
       "      <td>No</td>\n",
       "    </tr>\n",
       "  </tbody>\n",
       "</table>\n",
       "</div>"
      ],
      "text/plain": [
       "   cliente_id  channel_id          region          brand    sales  yearmonth  \\\n",
       "0  -928788236  1625004744  GBA MINORISTAS         corona  0.17040     202203   \n",
       "1  -928788236  1625004744  GBA MINORISTAS  stella_artois  0.14190     202204   \n",
       "2  -928788236  1625004744  GBA MINORISTAS         brahma  0.20514     202204   \n",
       "\n",
       "   sales_with_coupons participation_campein  \n",
       "0                 NaN                    No  \n",
       "1                 NaN                    No  \n",
       "2                 NaN                    No  "
      ]
     },
     "execution_count": 102,
     "metadata": {},
     "output_type": "execute_result"
    }
   ],
   "source": [
    "df_ventas_totales.loc[:2]"
   ]
  },
  {
   "cell_type": "code",
   "execution_count": 103,
   "id": "62f6c454-7c5f-4cea-b90e-cf31dfe1f0fc",
   "metadata": {
    "tags": []
   },
   "outputs": [],
   "source": [
    "df_ventas_totales['sales_without_coupons'] = df_ventas_totales['sales']"
   ]
  },
  {
   "cell_type": "code",
   "execution_count": 104,
   "id": "18fd6117-4473-4b43-8d81-a3cfd4797f0c",
   "metadata": {
    "tags": []
   },
   "outputs": [],
   "source": [
    "df_ventas_totales['sales_without_coupons'] = df_ventas_totales.apply(lambda x: x['sales'] if x['participation_campein'] == 'No' else 0, axis=1)"
   ]
  },
  {
   "cell_type": "code",
   "execution_count": 105,
   "id": "c91c072c-660c-43e5-901b-f402fd318933",
   "metadata": {
    "tags": []
   },
   "outputs": [],
   "source": [
    "df_ventas_totales['sales'] = df_ventas_totales.apply(lambda x: 0 if x['sales_without_coupons'] != 0 else x['sales'], axis=1)"
   ]
  },
  {
   "cell_type": "code",
   "execution_count": 106,
   "id": "a440eeb0-1705-4a98-97e1-5da9b5c9998a",
   "metadata": {
    "tags": []
   },
   "outputs": [],
   "source": [
    "df_ventas_totales.rename(columns={'sales':'sales_monto_with_coupons'},inplace=True)"
   ]
  },
  {
   "cell_type": "code",
   "execution_count": 107,
   "id": "eedfbbf0-af09-4666-bb70-4cd9bdc93d11",
   "metadata": {},
   "outputs": [],
   "source": [
    "df_clients_groupby = df_ventas_totales.groupby('cliente_id').agg({'yearmonth' : 'nunique', \n",
    "                                             'brand' : 'nunique',\n",
    "                                             'sales_without_coupons':'sum', \n",
    "                                             'sales_monto_with_coupons':'sum'})"
   ]
  },
  {
   "cell_type": "markdown",
   "id": "8182f4f6-477f-4fc0-a678-c6e474cfee01",
   "metadata": {
    "tags": []
   },
   "source": [
    "Ahora tenemos el dataset agrupado por cliente, donde cada fila representa un cliente diferente. "
   ]
  },
  {
   "cell_type": "code",
   "execution_count": 109,
   "id": "68f8d6d6-42bc-4387-bef2-6cf5fc55ef71",
   "metadata": {
    "tags": []
   },
   "outputs": [
    {
     "data": {
      "text/html": [
       "<div>\n",
       "<style scoped>\n",
       "    .dataframe tbody tr th:only-of-type {\n",
       "        vertical-align: middle;\n",
       "    }\n",
       "\n",
       "    .dataframe tbody tr th {\n",
       "        vertical-align: top;\n",
       "    }\n",
       "\n",
       "    .dataframe thead th {\n",
       "        text-align: right;\n",
       "    }\n",
       "</style>\n",
       "<table border=\"1\" class=\"dataframe\">\n",
       "  <thead>\n",
       "    <tr style=\"text-align: right;\">\n",
       "      <th></th>\n",
       "      <th>yearmonth</th>\n",
       "      <th>brand</th>\n",
       "      <th>sales_without_coupons</th>\n",
       "      <th>sales_monto_with_coupons</th>\n",
       "    </tr>\n",
       "    <tr>\n",
       "      <th>cliente_id</th>\n",
       "      <th></th>\n",
       "      <th></th>\n",
       "      <th></th>\n",
       "      <th></th>\n",
       "    </tr>\n",
       "  </thead>\n",
       "  <tbody>\n",
       "    <tr>\n",
       "      <th>-2147472583</th>\n",
       "      <td>18</td>\n",
       "      <td>3</td>\n",
       "      <td>16.41464</td>\n",
       "      <td>0.0000</td>\n",
       "    </tr>\n",
       "    <tr>\n",
       "      <th>-2147366216</th>\n",
       "      <td>18</td>\n",
       "      <td>8</td>\n",
       "      <td>43.83510</td>\n",
       "      <td>1.8873</td>\n",
       "    </tr>\n",
       "    <tr>\n",
       "      <th>-2147246347</th>\n",
       "      <td>18</td>\n",
       "      <td>8</td>\n",
       "      <td>71.89322</td>\n",
       "      <td>0.0000</td>\n",
       "    </tr>\n",
       "    <tr>\n",
       "      <th>-2147245181</th>\n",
       "      <td>17</td>\n",
       "      <td>7</td>\n",
       "      <td>11.16268</td>\n",
       "      <td>0.0000</td>\n",
       "    </tr>\n",
       "    <tr>\n",
       "      <th>-2147154459</th>\n",
       "      <td>18</td>\n",
       "      <td>7</td>\n",
       "      <td>42.95738</td>\n",
       "      <td>0.0000</td>\n",
       "    </tr>\n",
       "  </tbody>\n",
       "</table>\n",
       "</div>"
      ],
      "text/plain": [
       "             yearmonth  brand  sales_without_coupons  sales_monto_with_coupons\n",
       "cliente_id                                                                    \n",
       "-2147472583         18      3               16.41464                    0.0000\n",
       "-2147366216         18      8               43.83510                    1.8873\n",
       "-2147246347         18      8               71.89322                    0.0000\n",
       "-2147245181         17      7               11.16268                    0.0000\n",
       "-2147154459         18      7               42.95738                    0.0000"
      ]
     },
     "execution_count": 109,
     "metadata": {},
     "output_type": "execute_result"
    }
   ],
   "source": [
    "df_clients_groupby.head()"
   ]
  },
  {
   "cell_type": "code",
   "execution_count": 110,
   "id": "bac01b6b-d3a4-4fe3-ae15-f35d13c4ea88",
   "metadata": {},
   "outputs": [
    {
     "data": {
      "text/html": [
       "<div>\n",
       "<style scoped>\n",
       "    .dataframe tbody tr th:only-of-type {\n",
       "        vertical-align: middle;\n",
       "    }\n",
       "\n",
       "    .dataframe tbody tr th {\n",
       "        vertical-align: top;\n",
       "    }\n",
       "\n",
       "    .dataframe thead th {\n",
       "        text-align: right;\n",
       "    }\n",
       "</style>\n",
       "<table border=\"1\" class=\"dataframe\">\n",
       "  <thead>\n",
       "    <tr style=\"text-align: right;\">\n",
       "      <th></th>\n",
       "      <th>yearmonth</th>\n",
       "      <th>brand</th>\n",
       "      <th>sales_without_coupons</th>\n",
       "      <th>sales_monto_with_coupons</th>\n",
       "    </tr>\n",
       "  </thead>\n",
       "  <tbody>\n",
       "    <tr>\n",
       "      <th>count</th>\n",
       "      <td>28220.000000</td>\n",
       "      <td>28220.000000</td>\n",
       "      <td>28220.000000</td>\n",
       "      <td>28220.000000</td>\n",
       "    </tr>\n",
       "    <tr>\n",
       "      <th>mean</th>\n",
       "      <td>12.706449</td>\n",
       "      <td>5.517576</td>\n",
       "      <td>66.082338</td>\n",
       "      <td>1.874532</td>\n",
       "    </tr>\n",
       "    <tr>\n",
       "      <th>std</th>\n",
       "      <td>5.738888</td>\n",
       "      <td>2.164701</td>\n",
       "      <td>454.871593</td>\n",
       "      <td>30.207069</td>\n",
       "    </tr>\n",
       "    <tr>\n",
       "      <th>min</th>\n",
       "      <td>1.000000</td>\n",
       "      <td>1.000000</td>\n",
       "      <td>-0.567600</td>\n",
       "      <td>-0.037840</td>\n",
       "    </tr>\n",
       "    <tr>\n",
       "      <th>25%</th>\n",
       "      <td>8.000000</td>\n",
       "      <td>4.000000</td>\n",
       "      <td>2.313440</td>\n",
       "      <td>0.000000</td>\n",
       "    </tr>\n",
       "    <tr>\n",
       "      <th>50%</th>\n",
       "      <td>15.000000</td>\n",
       "      <td>6.000000</td>\n",
       "      <td>11.208810</td>\n",
       "      <td>0.000000</td>\n",
       "    </tr>\n",
       "    <tr>\n",
       "      <th>75%</th>\n",
       "      <td>18.000000</td>\n",
       "      <td>7.000000</td>\n",
       "      <td>40.246665</td>\n",
       "      <td>0.000000</td>\n",
       "    </tr>\n",
       "    <tr>\n",
       "      <th>max</th>\n",
       "      <td>18.000000</td>\n",
       "      <td>8.000000</td>\n",
       "      <td>27287.352580</td>\n",
       "      <td>2742.586560</td>\n",
       "    </tr>\n",
       "  </tbody>\n",
       "</table>\n",
       "</div>"
      ],
      "text/plain": [
       "          yearmonth         brand  sales_without_coupons  \\\n",
       "count  28220.000000  28220.000000           28220.000000   \n",
       "mean      12.706449      5.517576              66.082338   \n",
       "std        5.738888      2.164701             454.871593   \n",
       "min        1.000000      1.000000              -0.567600   \n",
       "25%        8.000000      4.000000               2.313440   \n",
       "50%       15.000000      6.000000              11.208810   \n",
       "75%       18.000000      7.000000              40.246665   \n",
       "max       18.000000      8.000000           27287.352580   \n",
       "\n",
       "       sales_monto_with_coupons  \n",
       "count              28220.000000  \n",
       "mean                   1.874532  \n",
       "std                   30.207069  \n",
       "min                   -0.037840  \n",
       "25%                    0.000000  \n",
       "50%                    0.000000  \n",
       "75%                    0.000000  \n",
       "max                 2742.586560  "
      ]
     },
     "execution_count": 110,
     "metadata": {},
     "output_type": "execute_result"
    }
   ],
   "source": [
    "df_clients_groupby.describe()"
   ]
  },
  {
   "cell_type": "code",
   "execution_count": 111,
   "id": "e7aae1d4-0cb1-400e-a242-55c63505595c",
   "metadata": {},
   "outputs": [],
   "source": [
    "df_clients_groupby.to_csv('df_clients_groupby.csv',index=False)"
   ]
  }
 ],
 "metadata": {
  "kernelspec": {
   "display_name": "Python 3 (ipykernel)",
   "language": "python",
   "name": "python3"
  },
  "language_info": {
   "codemirror_mode": {
    "name": "ipython",
    "version": 3
   },
   "file_extension": ".py",
   "mimetype": "text/x-python",
   "name": "python",
   "nbconvert_exporter": "python",
   "pygments_lexer": "ipython3",
   "version": "3.11.7"
  }
 },
 "nbformat": 4,
 "nbformat_minor": 5
}
