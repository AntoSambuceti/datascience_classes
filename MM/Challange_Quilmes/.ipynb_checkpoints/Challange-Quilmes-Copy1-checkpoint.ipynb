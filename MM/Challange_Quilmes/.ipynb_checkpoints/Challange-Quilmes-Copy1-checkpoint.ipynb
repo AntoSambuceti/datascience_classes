{
 "cells": [
  {
   "cell_type": "markdown",
   "id": "571fa9a1-cfbe-44cc-9653-754c862a889b",
   "metadata": {},
   "source": [
    "# Ejercicio Data Science Quilmes"
   ]
  },
  {
   "cell_type": "markdown",
   "id": "33eae0d6-4e3b-4709-8f89-87be0095bb32",
   "metadata": {},
   "source": [
    "## Importancion de librerias"
   ]
  },
  {
   "cell_type": "code",
   "execution_count": 1,
   "id": "53c2a6f5-1cee-4e9f-9741-76c1c5f69b3d",
   "metadata": {},
   "outputs": [],
   "source": [
    "import matplotlib\n",
    "import matplotlib.pyplot as plt\n",
    "import numpy \n",
    "import pandas as pd\n",
    "import seaborn"
   ]
  },
  {
   "cell_type": "markdown",
   "id": "0d3861f2-e25a-4482-8584-7ac33619d6fb",
   "metadata": {},
   "source": [
    "## Importancion de datasets"
   ]
  },
  {
   "cell_type": "code",
   "execution_count": 4,
   "id": "0b615156-2e44-41f7-a176-d61051f3db79",
   "metadata": {},
   "outputs": [
    {
     "name": "stdout",
     "output_type": "stream",
     "text": [
      "Blacklist tiene 5937 filas\n",
      "Channel_segmentation tiene 38 filas\n",
      "Clients tiene 49458 filas\n",
      "Coupons tiene 805757 filas\n",
      "Sales_2022_sementre_1 tiene 588683 filas\n",
      "Sales_2022_sementre_2 tiene 613864 filas\n",
      "Sales_2023_semestre_1 tiene 571918 filas\n"
     ]
    }
   ],
   "source": [
    "df_blacklist = pd.read_csv('Datos/blacklist.csv',sep=',')\n",
    "print(f'Blacklist tiene {len(df_blacklist)} filas')\n",
    "df_segmentacion =  pd.read_csv('Datos/channel_segmentation.csv',sep=',')\n",
    "print(f'Channel_segmentation tiene {len(df_segmentacion)} filas')\n",
    "df_client =  pd.read_csv('Datos/clients.csv',sep=',')\n",
    "print(f'Clients tiene {len(df_client)} filas')\n",
    "df_coupons =  pd.read_csv('Datos/coupons.csv',sep=',')\n",
    "print(f'Coupons tiene {len(df_coupons)} filas')\n",
    "df_sales1 =  pd.read_csv('Datos/sales_2022_sementre_1.csv',sep=',')\n",
    "print(f'Sales_2022_sementre_1 tiene {len(df_sales1)} filas')\n",
    "df_sales2 =  pd.read_csv('Datos/sales_2022_semestre_2.csv',sep=',')\n",
    "print(f'Sales_2022_sementre_2 tiene {len(df_sales2)} filas')\n",
    "df_sales3 =  pd.read_csv('Datos/sales_2023_semestre_1.csv',sep=',')\n",
    "print(f'Sales_2023_semestre_1 tiene {len(df_sales3)} filas')"
   ]
  },
  {
   "cell_type": "code",
   "execution_count": 132,
   "id": "6aefe5c0-54e8-4b57-8748-29b58eee5ad7",
   "metadata": {
    "tags": []
   },
   "outputs": [
    {
     "data": {
      "text/html": [
       "<div>\n",
       "<style scoped>\n",
       "    .dataframe tbody tr th:only-of-type {\n",
       "        vertical-align: middle;\n",
       "    }\n",
       "\n",
       "    .dataframe tbody tr th {\n",
       "        vertical-align: top;\n",
       "    }\n",
       "\n",
       "    .dataframe thead th {\n",
       "        text-align: right;\n",
       "    }\n",
       "</style>\n",
       "<table border=\"1\" class=\"dataframe\">\n",
       "  <thead>\n",
       "    <tr style=\"text-align: right;\">\n",
       "      <th></th>\n",
       "      <th>cliente_id</th>\n",
       "    </tr>\n",
       "  </thead>\n",
       "  <tbody>\n",
       "    <tr>\n",
       "      <th>0</th>\n",
       "      <td>2076569343</td>\n",
       "    </tr>\n",
       "    <tr>\n",
       "      <th>1</th>\n",
       "      <td>486609981</td>\n",
       "    </tr>\n",
       "    <tr>\n",
       "      <th>2</th>\n",
       "      <td>-2133238226</td>\n",
       "    </tr>\n",
       "  </tbody>\n",
       "</table>\n",
       "</div>"
      ],
      "text/plain": [
       "   cliente_id\n",
       "0  2076569343\n",
       "1   486609981\n",
       "2 -2133238226"
      ]
     },
     "execution_count": 132,
     "metadata": {},
     "output_type": "execute_result"
    }
   ],
   "source": [
    "df_blacklist.head(3)"
   ]
  },
  {
   "cell_type": "code",
   "execution_count": 134,
   "id": "1c46053b-3b22-468f-ac28-34982da3dc17",
   "metadata": {
    "tags": []
   },
   "outputs": [
    {
     "data": {
      "text/html": [
       "<div>\n",
       "<style scoped>\n",
       "    .dataframe tbody tr th:only-of-type {\n",
       "        vertical-align: middle;\n",
       "    }\n",
       "\n",
       "    .dataframe tbody tr th {\n",
       "        vertical-align: top;\n",
       "    }\n",
       "\n",
       "    .dataframe thead th {\n",
       "        text-align: right;\n",
       "    }\n",
       "</style>\n",
       "<table border=\"1\" class=\"dataframe\">\n",
       "  <thead>\n",
       "    <tr style=\"text-align: right;\">\n",
       "      <th></th>\n",
       "      <th>channel_id</th>\n",
       "      <th>channel_segmentation</th>\n",
       "    </tr>\n",
       "  </thead>\n",
       "  <tbody>\n",
       "    <tr>\n",
       "      <th>0</th>\n",
       "      <td>565501238</td>\n",
       "      <td>NO</td>\n",
       "    </tr>\n",
       "    <tr>\n",
       "      <th>1</th>\n",
       "      <td>1377949257</td>\n",
       "      <td>NO</td>\n",
       "    </tr>\n",
       "    <tr>\n",
       "      <th>2</th>\n",
       "      <td>1059805429</td>\n",
       "      <td>OTROS</td>\n",
       "    </tr>\n",
       "  </tbody>\n",
       "</table>\n",
       "</div>"
      ],
      "text/plain": [
       "   channel_id channel_segmentation\n",
       "0   565501238                   NO\n",
       "1  1377949257                   NO\n",
       "2  1059805429                OTROS"
      ]
     },
     "execution_count": 134,
     "metadata": {},
     "output_type": "execute_result"
    }
   ],
   "source": [
    "df_segmentacion.head(3)"
   ]
  },
  {
   "cell_type": "code",
   "execution_count": 136,
   "id": "496b3303-1f3e-429a-829f-f193f8cf5b52",
   "metadata": {
    "tags": []
   },
   "outputs": [
    {
     "data": {
      "text/plain": [
       "array(['NO', 'OTROS', 'RESTAURANTE', 'PUB', 'TRADICIONAL', 'SMK',\n",
       "       'AUTOSERVICIOS', 'KIOSCOS', 'INSTITUCIONES', 'MAYORISTA'],\n",
       "      dtype=object)"
      ]
     },
     "execution_count": 136,
     "metadata": {},
     "output_type": "execute_result"
    }
   ],
   "source": [
    "df_segmentacion.channel_segmentation.unique()"
   ]
  },
  {
   "cell_type": "code",
   "execution_count": 138,
   "id": "d6ff9968-da14-4767-ba7c-d5b3107b99f2",
   "metadata": {
    "tags": []
   },
   "outputs": [
    {
     "data": {
      "text/html": [
       "<div>\n",
       "<style scoped>\n",
       "    .dataframe tbody tr th:only-of-type {\n",
       "        vertical-align: middle;\n",
       "    }\n",
       "\n",
       "    .dataframe tbody tr th {\n",
       "        vertical-align: top;\n",
       "    }\n",
       "\n",
       "    .dataframe thead th {\n",
       "        text-align: right;\n",
       "    }\n",
       "</style>\n",
       "<table border=\"1\" class=\"dataframe\">\n",
       "  <thead>\n",
       "    <tr style=\"text-align: right;\">\n",
       "      <th></th>\n",
       "      <th>cliente_id</th>\n",
       "      <th>channel_id</th>\n",
       "      <th>region</th>\n",
       "    </tr>\n",
       "  </thead>\n",
       "  <tbody>\n",
       "    <tr>\n",
       "      <th>0</th>\n",
       "      <td>-1726485189</td>\n",
       "      <td>1759010777</td>\n",
       "      <td>COSTA ATLANTICA</td>\n",
       "    </tr>\n",
       "    <tr>\n",
       "      <th>1</th>\n",
       "      <td>-928788236</td>\n",
       "      <td>1625004744</td>\n",
       "      <td>GBA MINORISTAS</td>\n",
       "    </tr>\n",
       "    <tr>\n",
       "      <th>2</th>\n",
       "      <td>1641917107</td>\n",
       "      <td>1625004744</td>\n",
       "      <td>COSTA ATLANTICA</td>\n",
       "    </tr>\n",
       "  </tbody>\n",
       "</table>\n",
       "</div>"
      ],
      "text/plain": [
       "   cliente_id  channel_id           region\n",
       "0 -1726485189  1759010777  COSTA ATLANTICA\n",
       "1  -928788236  1625004744   GBA MINORISTAS\n",
       "2  1641917107  1625004744  COSTA ATLANTICA"
      ]
     },
     "execution_count": 138,
     "metadata": {},
     "output_type": "execute_result"
    }
   ],
   "source": [
    "df_client.head(3)"
   ]
  },
  {
   "cell_type": "code",
   "execution_count": 14,
   "id": "92bbb164-c256-4549-ba30-9c56e4719926",
   "metadata": {
    "tags": []
   },
   "outputs": [
    {
     "data": {
      "text/html": [
       "<div>\n",
       "<style scoped>\n",
       "    .dataframe tbody tr th:only-of-type {\n",
       "        vertical-align: middle;\n",
       "    }\n",
       "\n",
       "    .dataframe tbody tr th {\n",
       "        vertical-align: top;\n",
       "    }\n",
       "\n",
       "    .dataframe thead th {\n",
       "        text-align: right;\n",
       "    }\n",
       "</style>\n",
       "<table border=\"1\" class=\"dataframe\">\n",
       "  <thead>\n",
       "    <tr style=\"text-align: right;\">\n",
       "      <th></th>\n",
       "      <th>cliente_id</th>\n",
       "      <th>business</th>\n",
       "      <th>brand</th>\n",
       "      <th>yearmonth</th>\n",
       "      <th>sales_with_coupons</th>\n",
       "    </tr>\n",
       "  </thead>\n",
       "  <tbody>\n",
       "    <tr>\n",
       "      <th>0</th>\n",
       "      <td>-1133775360</td>\n",
       "      <td>CZA</td>\n",
       "      <td>brahma_dorada</td>\n",
       "      <td>202307</td>\n",
       "      <td>53</td>\n",
       "    </tr>\n",
       "    <tr>\n",
       "      <th>1</th>\n",
       "      <td>-2013629997</td>\n",
       "      <td>CZA</td>\n",
       "      <td>andes</td>\n",
       "      <td>202304</td>\n",
       "      <td>483</td>\n",
       "    </tr>\n",
       "    <tr>\n",
       "      <th>2</th>\n",
       "      <td>-1623564940</td>\n",
       "      <td>CZA</td>\n",
       "      <td>quilmes</td>\n",
       "      <td>202310</td>\n",
       "      <td>41</td>\n",
       "    </tr>\n",
       "  </tbody>\n",
       "</table>\n",
       "</div>"
      ],
      "text/plain": [
       "   cliente_id business          brand  yearmonth  sales_with_coupons\n",
       "0 -1133775360      CZA  brahma_dorada     202307                  53\n",
       "1 -2013629997      CZA          andes     202304                 483\n",
       "2 -1623564940      CZA        quilmes     202310                  41"
      ]
     },
     "execution_count": 14,
     "metadata": {},
     "output_type": "execute_result"
    }
   ],
   "source": [
    "df_coupons.head(3)"
   ]
  },
  {
   "cell_type": "code",
   "execution_count": 142,
   "id": "1e3c6be5-3fab-4345-af4e-4c902ab28352",
   "metadata": {
    "tags": []
   },
   "outputs": [
    {
     "data": {
      "text/plain": [
       "array([202307, 202304, 202310, 202212, 202210, 202306, 202301, 202305,\n",
       "       202209, 202309, 202208, 202308, 202207, 202203, 202205, 202303,\n",
       "       202206, 202204, 202302, 202211, 202201, 202109, 202112, 202202,\n",
       "       202111, 202110])"
      ]
     },
     "execution_count": 142,
     "metadata": {},
     "output_type": "execute_result"
    }
   ],
   "source": [
    "df_coupons.yearmonth.unique()"
   ]
  },
  {
   "cell_type": "code",
   "execution_count": 144,
   "id": "8cfde661-73fb-42fe-bafe-0374001c0c4d",
   "metadata": {
    "tags": []
   },
   "outputs": [
    {
     "data": {
      "text/plain": [
       "array(['brahma_dorada', 'andes', 'quilmes', 'doble_malta',\n",
       "       'stella_artois', 'bajo_cero', 'brahma', 'budweiser', 'patagonia',\n",
       "       'andes_origen', 'otras', 'temple', 'corona', 'michelob'],\n",
       "      dtype=object)"
      ]
     },
     "execution_count": 144,
     "metadata": {},
     "output_type": "execute_result"
    }
   ],
   "source": [
    "df_coupons.brand.unique()"
   ]
  },
  {
   "cell_type": "code",
   "execution_count": 146,
   "id": "a6409f76-595e-42a9-bb79-bf3dd49815fb",
   "metadata": {},
   "outputs": [
    {
     "data": {
      "text/html": [
       "<div>\n",
       "<style scoped>\n",
       "    .dataframe tbody tr th:only-of-type {\n",
       "        vertical-align: middle;\n",
       "    }\n",
       "\n",
       "    .dataframe tbody tr th {\n",
       "        vertical-align: top;\n",
       "    }\n",
       "\n",
       "    .dataframe thead th {\n",
       "        text-align: right;\n",
       "    }\n",
       "</style>\n",
       "<table border=\"1\" class=\"dataframe\">\n",
       "  <thead>\n",
       "    <tr style=\"text-align: right;\">\n",
       "      <th></th>\n",
       "      <th>cliente_id</th>\n",
       "      <th>business</th>\n",
       "      <th>brand</th>\n",
       "      <th>sales</th>\n",
       "      <th>yearmonth</th>\n",
       "    </tr>\n",
       "  </thead>\n",
       "  <tbody>\n",
       "    <tr>\n",
       "      <th>0</th>\n",
       "      <td>883821370</td>\n",
       "      <td>CZA</td>\n",
       "      <td>quilmes</td>\n",
       "      <td>3.24000</td>\n",
       "      <td>202303</td>\n",
       "    </tr>\n",
       "    <tr>\n",
       "      <th>1</th>\n",
       "      <td>1602484641</td>\n",
       "      <td>CZA</td>\n",
       "      <td>brahma</td>\n",
       "      <td>80.11200</td>\n",
       "      <td>202303</td>\n",
       "    </tr>\n",
       "    <tr>\n",
       "      <th>2</th>\n",
       "      <td>-124654407</td>\n",
       "      <td>CZA</td>\n",
       "      <td>quilmes</td>\n",
       "      <td>1.01568</td>\n",
       "      <td>202303</td>\n",
       "    </tr>\n",
       "  </tbody>\n",
       "</table>\n",
       "</div>"
      ],
      "text/plain": [
       "   cliente_id business    brand     sales  yearmonth\n",
       "0   883821370      CZA  quilmes   3.24000     202303\n",
       "1  1602484641      CZA   brahma  80.11200     202303\n",
       "2  -124654407      CZA  quilmes   1.01568     202303"
      ]
     },
     "execution_count": 146,
     "metadata": {},
     "output_type": "execute_result"
    }
   ],
   "source": [
    "df_sales3.head(3)"
   ]
  },
  {
   "cell_type": "code",
   "execution_count": 148,
   "id": "a74870c7-161e-4af1-8196-7319cc981444",
   "metadata": {
    "tags": []
   },
   "outputs": [
    {
     "data": {
      "text/plain": [
       "array([202308, 202305, 202307, 202310, 202306, 202309, 202304])"
      ]
     },
     "execution_count": 148,
     "metadata": {},
     "output_type": "execute_result"
    }
   ],
   "source": [
    "df_coupons[df_coupons['cliente_id'] == -2017156117].yearmonth.unique()"
   ]
  },
  {
   "cell_type": "code",
   "execution_count": 150,
   "id": "f647136b-e892-4657-b540-2569069f5497",
   "metadata": {
    "tags": []
   },
   "outputs": [
    {
     "data": {
      "text/html": [
       "<div>\n",
       "<style scoped>\n",
       "    .dataframe tbody tr th:only-of-type {\n",
       "        vertical-align: middle;\n",
       "    }\n",
       "\n",
       "    .dataframe tbody tr th {\n",
       "        vertical-align: top;\n",
       "    }\n",
       "\n",
       "    .dataframe thead th {\n",
       "        text-align: right;\n",
       "    }\n",
       "</style>\n",
       "<table border=\"1\" class=\"dataframe\">\n",
       "  <thead>\n",
       "    <tr style=\"text-align: right;\">\n",
       "      <th></th>\n",
       "      <th>cliente_id</th>\n",
       "      <th>business</th>\n",
       "      <th>brand</th>\n",
       "      <th>yearmonth</th>\n",
       "      <th>sales_with_coupons</th>\n",
       "    </tr>\n",
       "  </thead>\n",
       "  <tbody>\n",
       "    <tr>\n",
       "      <th>38651</th>\n",
       "      <td>-2017156117</td>\n",
       "      <td>CZA</td>\n",
       "      <td>quilmes</td>\n",
       "      <td>202305</td>\n",
       "      <td>17</td>\n",
       "    </tr>\n",
       "    <tr>\n",
       "      <th>45432</th>\n",
       "      <td>-2017156117</td>\n",
       "      <td>CZA</td>\n",
       "      <td>budweiser</td>\n",
       "      <td>202305</td>\n",
       "      <td>8</td>\n",
       "    </tr>\n",
       "    <tr>\n",
       "      <th>97809</th>\n",
       "      <td>-2017156117</td>\n",
       "      <td>CZA</td>\n",
       "      <td>brahma</td>\n",
       "      <td>202305</td>\n",
       "      <td>17</td>\n",
       "    </tr>\n",
       "    <tr>\n",
       "      <th>151122</th>\n",
       "      <td>-2017156117</td>\n",
       "      <td>CZA</td>\n",
       "      <td>bajo_cero</td>\n",
       "      <td>202305</td>\n",
       "      <td>4</td>\n",
       "    </tr>\n",
       "    <tr>\n",
       "      <th>198179</th>\n",
       "      <td>-2017156117</td>\n",
       "      <td>CZA</td>\n",
       "      <td>andes</td>\n",
       "      <td>202305</td>\n",
       "      <td>1</td>\n",
       "    </tr>\n",
       "    <tr>\n",
       "      <th>722053</th>\n",
       "      <td>-2017156117</td>\n",
       "      <td>CZA</td>\n",
       "      <td>stella_artois</td>\n",
       "      <td>202305</td>\n",
       "      <td>1</td>\n",
       "    </tr>\n",
       "    <tr>\n",
       "      <th>771245</th>\n",
       "      <td>-2017156117</td>\n",
       "      <td>CZA</td>\n",
       "      <td>andes_origen</td>\n",
       "      <td>202305</td>\n",
       "      <td>2</td>\n",
       "    </tr>\n",
       "  </tbody>\n",
       "</table>\n",
       "</div>"
      ],
      "text/plain": [
       "        cliente_id business          brand  yearmonth  sales_with_coupons\n",
       "38651  -2017156117      CZA        quilmes     202305                  17\n",
       "45432  -2017156117      CZA      budweiser     202305                   8\n",
       "97809  -2017156117      CZA         brahma     202305                  17\n",
       "151122 -2017156117      CZA      bajo_cero     202305                   4\n",
       "198179 -2017156117      CZA          andes     202305                   1\n",
       "722053 -2017156117      CZA  stella_artois     202305                   1\n",
       "771245 -2017156117      CZA   andes_origen     202305                   2"
      ]
     },
     "execution_count": 150,
     "metadata": {},
     "output_type": "execute_result"
    }
   ],
   "source": [
    "df_coupons[(df_coupons['cliente_id'] == -2017156117) &\n",
    "           (df_coupons['yearmonth'] == 202305)\n",
    "          ]"
   ]
  },
  {
   "cell_type": "code",
   "execution_count": 152,
   "id": "630a817e-6632-461d-b8b0-aa2e83bc98bb",
   "metadata": {
    "tags": []
   },
   "outputs": [
    {
     "data": {
      "text/plain": [
       "array([202303, 202301, 202305, 202304, 202302, 202306])"
      ]
     },
     "execution_count": 152,
     "metadata": {},
     "output_type": "execute_result"
    }
   ],
   "source": [
    "df_sales3[df_sales3['cliente_id'] == -2017156117].yearmonth.unique()"
   ]
  },
  {
   "cell_type": "code",
   "execution_count": 154,
   "id": "affa9590-2c6f-497f-871e-db8eec632a42",
   "metadata": {
    "tags": []
   },
   "outputs": [
    {
     "data": {
      "text/html": [
       "<div>\n",
       "<style scoped>\n",
       "    .dataframe tbody tr th:only-of-type {\n",
       "        vertical-align: middle;\n",
       "    }\n",
       "\n",
       "    .dataframe tbody tr th {\n",
       "        vertical-align: top;\n",
       "    }\n",
       "\n",
       "    .dataframe thead th {\n",
       "        text-align: right;\n",
       "    }\n",
       "</style>\n",
       "<table border=\"1\" class=\"dataframe\">\n",
       "  <thead>\n",
       "    <tr style=\"text-align: right;\">\n",
       "      <th></th>\n",
       "      <th>cliente_id</th>\n",
       "      <th>business</th>\n",
       "      <th>brand</th>\n",
       "      <th>sales</th>\n",
       "      <th>yearmonth</th>\n",
       "    </tr>\n",
       "  </thead>\n",
       "  <tbody>\n",
       "    <tr>\n",
       "      <th>60381</th>\n",
       "      <td>-2017156117</td>\n",
       "      <td>CZA</td>\n",
       "      <td>brahma</td>\n",
       "      <td>6.79464</td>\n",
       "      <td>202305</td>\n",
       "    </tr>\n",
       "    <tr>\n",
       "      <th>240712</th>\n",
       "      <td>-2017156117</td>\n",
       "      <td>CZA</td>\n",
       "      <td>quilmes</td>\n",
       "      <td>9.13352</td>\n",
       "      <td>202305</td>\n",
       "    </tr>\n",
       "    <tr>\n",
       "      <th>270187</th>\n",
       "      <td>-2017156117</td>\n",
       "      <td>CZA</td>\n",
       "      <td>budweiser</td>\n",
       "      <td>0.82704</td>\n",
       "      <td>202305</td>\n",
       "    </tr>\n",
       "    <tr>\n",
       "      <th>387022</th>\n",
       "      <td>-2017156117</td>\n",
       "      <td>CZA</td>\n",
       "      <td>stella_artois</td>\n",
       "      <td>0.19680</td>\n",
       "      <td>202305</td>\n",
       "    </tr>\n",
       "  </tbody>\n",
       "</table>\n",
       "</div>"
      ],
      "text/plain": [
       "        cliente_id business          brand    sales  yearmonth\n",
       "60381  -2017156117      CZA         brahma  6.79464     202305\n",
       "240712 -2017156117      CZA        quilmes  9.13352     202305\n",
       "270187 -2017156117      CZA      budweiser  0.82704     202305\n",
       "387022 -2017156117      CZA  stella_artois  0.19680     202305"
      ]
     },
     "execution_count": 154,
     "metadata": {},
     "output_type": "execute_result"
    }
   ],
   "source": [
    "df_sales3[(df_sales3['cliente_id'] == -2017156117) &\n",
    "           (df_sales3['yearmonth'] == 202305)\n",
    "          ]"
   ]
  },
  {
   "cell_type": "code",
   "execution_count": null,
   "id": "fe06cb9c-6f92-469e-9635-b4adcd36cb8c",
   "metadata": {},
   "outputs": [],
   "source": []
  },
  {
   "cell_type": "markdown",
   "id": "79411813-f318-4608-8055-3ae095f93d94",
   "metadata": {
    "tags": []
   },
   "source": [
    "## Preparado de los datos"
   ]
  },
  {
   "cell_type": "markdown",
   "id": "ddfce046-2bf6-4325-9304-74249287b319",
   "metadata": {},
   "source": [
    "### Tipo de datos"
   ]
  },
  {
   "cell_type": "code",
   "execution_count": 159,
   "id": "51106d56-15d5-4c6d-a5b7-24c66ef08f1e",
   "metadata": {},
   "outputs": [
    {
     "name": "stdout",
     "output_type": "stream",
     "text": [
      "<class 'pandas.core.frame.DataFrame'>\n",
      "RangeIndex: 49458 entries, 0 to 49457\n",
      "Data columns (total 3 columns):\n",
      " #   Column      Non-Null Count  Dtype \n",
      "---  ------      --------------  ----- \n",
      " 0   cliente_id  49458 non-null  int64 \n",
      " 1   channel_id  49458 non-null  int64 \n",
      " 2   region      49458 non-null  object\n",
      "dtypes: int64(2), object(1)\n",
      "memory usage: 1.1+ MB\n"
     ]
    }
   ],
   "source": [
    "df_client.info()"
   ]
  },
  {
   "cell_type": "markdown",
   "id": "8f1d5530-f170-45b2-bd01-9a48f47dbd66",
   "metadata": {},
   "source": [
    "Es correcto que las columnas cliente_id y channel_id sean datos de tipo entero? Al realizar analisis de las mismas, como que tipo de datos deberiamos tratarlas? \n",
    "\n",
    "Chequear para los otros dataset y convertir los tipos de datos de ser necesario. "
   ]
  },
  {
   "cell_type": "markdown",
   "id": "9a49eded-126b-45c1-a1bb-d97dcb3e04ff",
   "metadata": {},
   "source": [
    "### Duplicados"
   ]
  },
  {
   "cell_type": "code",
   "execution_count": 163,
   "id": "9763b701-d4c1-47b4-bf64-05ab983dce7d",
   "metadata": {},
   "outputs": [
    {
     "data": {
      "text/plain": [
       "(49458, 3)"
      ]
     },
     "execution_count": 163,
     "metadata": {},
     "output_type": "execute_result"
    }
   ],
   "source": [
    "df_client.shape"
   ]
  },
  {
   "cell_type": "markdown",
   "id": "cf2dbbad-dd0c-4336-8b48-953b74c82e8f",
   "metadata": {},
   "source": [
    "Observo cuantos clientes estan presentes en mas de un canal/region."
   ]
  },
  {
   "cell_type": "code",
   "execution_count": 95,
   "id": "3f28d30d-66e9-48d7-b760-c50e18fa1a38",
   "metadata": {},
   "outputs": [
    {
     "data": {
      "text/html": [
       "<div>\n",
       "<style scoped>\n",
       "    .dataframe tbody tr th:only-of-type {\n",
       "        vertical-align: middle;\n",
       "    }\n",
       "\n",
       "    .dataframe tbody tr th {\n",
       "        vertical-align: top;\n",
       "    }\n",
       "\n",
       "    .dataframe thead th {\n",
       "        text-align: right;\n",
       "    }\n",
       "</style>\n",
       "<table border=\"1\" class=\"dataframe\">\n",
       "  <thead>\n",
       "    <tr style=\"text-align: right;\">\n",
       "      <th></th>\n",
       "      <th>channel_id</th>\n",
       "      <th>region</th>\n",
       "    </tr>\n",
       "    <tr>\n",
       "      <th>cliente_id</th>\n",
       "      <th></th>\n",
       "      <th></th>\n",
       "    </tr>\n",
       "  </thead>\n",
       "  <tbody>\n",
       "    <tr>\n",
       "      <th>-1834569221</th>\n",
       "      <td>2</td>\n",
       "      <td>2</td>\n",
       "    </tr>\n",
       "    <tr>\n",
       "      <th>1167709665</th>\n",
       "      <td>2</td>\n",
       "      <td>2</td>\n",
       "    </tr>\n",
       "    <tr>\n",
       "      <th>-723357213</th>\n",
       "      <td>2</td>\n",
       "      <td>2</td>\n",
       "    </tr>\n",
       "    <tr>\n",
       "      <th>481102357</th>\n",
       "      <td>2</td>\n",
       "      <td>2</td>\n",
       "    </tr>\n",
       "    <tr>\n",
       "      <th>1913960401</th>\n",
       "      <td>2</td>\n",
       "      <td>2</td>\n",
       "    </tr>\n",
       "    <tr>\n",
       "      <th>709076015</th>\n",
       "      <td>1</td>\n",
       "      <td>1</td>\n",
       "    </tr>\n",
       "    <tr>\n",
       "      <th>708507053</th>\n",
       "      <td>1</td>\n",
       "      <td>1</td>\n",
       "    </tr>\n",
       "    <tr>\n",
       "      <th>708775192</th>\n",
       "      <td>1</td>\n",
       "      <td>1</td>\n",
       "    </tr>\n",
       "    <tr>\n",
       "      <th>708880235</th>\n",
       "      <td>1</td>\n",
       "      <td>1</td>\n",
       "    </tr>\n",
       "    <tr>\n",
       "      <th>708909957</th>\n",
       "      <td>1</td>\n",
       "      <td>1</td>\n",
       "    </tr>\n",
       "  </tbody>\n",
       "</table>\n",
       "</div>"
      ],
      "text/plain": [
       "             channel_id  region\n",
       "cliente_id                     \n",
       "-1834569221           2       2\n",
       " 1167709665           2       2\n",
       "-723357213            2       2\n",
       " 481102357            2       2\n",
       " 1913960401           2       2\n",
       " 709076015            1       1\n",
       " 708507053            1       1\n",
       " 708775192            1       1\n",
       " 708880235            1       1\n",
       " 708909957            1       1"
      ]
     },
     "execution_count": 95,
     "metadata": {},
     "output_type": "execute_result"
    }
   ],
   "source": [
    "df_client.groupby('cliente_id').count().sort_values(by='channel_id',ascending=False).head(10)"
   ]
  },
  {
   "cell_type": "code",
   "execution_count": 97,
   "id": "7b7cc98d-b3f6-48e6-9bc2-3aff27ca2d57",
   "metadata": {},
   "outputs": [
    {
     "data": {
      "text/html": [
       "<div>\n",
       "<style scoped>\n",
       "    .dataframe tbody tr th:only-of-type {\n",
       "        vertical-align: middle;\n",
       "    }\n",
       "\n",
       "    .dataframe tbody tr th {\n",
       "        vertical-align: top;\n",
       "    }\n",
       "\n",
       "    .dataframe thead th {\n",
       "        text-align: right;\n",
       "    }\n",
       "</style>\n",
       "<table border=\"1\" class=\"dataframe\">\n",
       "  <thead>\n",
       "    <tr style=\"text-align: right;\">\n",
       "      <th></th>\n",
       "      <th>cliente_id</th>\n",
       "      <th>channel_id</th>\n",
       "      <th>region</th>\n",
       "    </tr>\n",
       "  </thead>\n",
       "  <tbody>\n",
       "    <tr>\n",
       "      <th>7638</th>\n",
       "      <td>-723357213</td>\n",
       "      <td>1625004744</td>\n",
       "      <td>LITORAL</td>\n",
       "    </tr>\n",
       "    <tr>\n",
       "      <th>49455</th>\n",
       "      <td>-723357213</td>\n",
       "      <td>1625004744</td>\n",
       "      <td>LITORAL</td>\n",
       "    </tr>\n",
       "  </tbody>\n",
       "</table>\n",
       "</div>"
      ],
      "text/plain": [
       "       cliente_id  channel_id   region\n",
       "7638   -723357213  1625004744  LITORAL\n",
       "49455  -723357213  1625004744  LITORAL"
      ]
     },
     "execution_count": 97,
     "metadata": {},
     "output_type": "execute_result"
    }
   ],
   "source": [
    "df_client[df_client['cliente_id'] == -723357213]"
   ]
  },
  {
   "cell_type": "markdown",
   "id": "80591539-ff11-4758-a09e-0db58ce0fa0a",
   "metadata": {},
   "source": [
    "Detecto que existen duplicados por lo cual, elimino los clientes duplicados del dataset de clientes. "
   ]
  },
  {
   "cell_type": "code",
   "execution_count": 100,
   "id": "ab290a0f-d4b0-4f5f-bbc0-cc323f2aa5e4",
   "metadata": {},
   "outputs": [
    {
     "data": {
      "text/plain": [
       "(35618, 3)"
      ]
     },
     "execution_count": 100,
     "metadata": {},
     "output_type": "execute_result"
    }
   ],
   "source": [
    "df_client = df_client.drop_duplicates().reset_index().drop(columns='index')\n",
    "df_client.shape"
   ]
  },
  {
   "cell_type": "code",
   "execution_count": 102,
   "id": "df6db654-843e-4d29-af12-85a2bddcfc66",
   "metadata": {},
   "outputs": [
    {
     "data": {
      "text/html": [
       "<div>\n",
       "<style scoped>\n",
       "    .dataframe tbody tr th:only-of-type {\n",
       "        vertical-align: middle;\n",
       "    }\n",
       "\n",
       "    .dataframe tbody tr th {\n",
       "        vertical-align: top;\n",
       "    }\n",
       "\n",
       "    .dataframe thead th {\n",
       "        text-align: right;\n",
       "    }\n",
       "</style>\n",
       "<table border=\"1\" class=\"dataframe\">\n",
       "  <thead>\n",
       "    <tr style=\"text-align: right;\">\n",
       "      <th></th>\n",
       "      <th>channel_id</th>\n",
       "      <th>region</th>\n",
       "    </tr>\n",
       "    <tr>\n",
       "      <th>cliente_id</th>\n",
       "      <th></th>\n",
       "      <th></th>\n",
       "    </tr>\n",
       "  </thead>\n",
       "  <tbody>\n",
       "    <tr>\n",
       "      <th>481102357</th>\n",
       "      <td>2</td>\n",
       "      <td>2</td>\n",
       "    </tr>\n",
       "    <tr>\n",
       "      <th>-2147472583</th>\n",
       "      <td>1</td>\n",
       "      <td>1</td>\n",
       "    </tr>\n",
       "    <tr>\n",
       "      <th>709076015</th>\n",
       "      <td>1</td>\n",
       "      <td>1</td>\n",
       "    </tr>\n",
       "    <tr>\n",
       "      <th>708486847</th>\n",
       "      <td>1</td>\n",
       "      <td>1</td>\n",
       "    </tr>\n",
       "    <tr>\n",
       "      <th>708507053</th>\n",
       "      <td>1</td>\n",
       "      <td>1</td>\n",
       "    </tr>\n",
       "    <tr>\n",
       "      <th>708775192</th>\n",
       "      <td>1</td>\n",
       "      <td>1</td>\n",
       "    </tr>\n",
       "    <tr>\n",
       "      <th>708880235</th>\n",
       "      <td>1</td>\n",
       "      <td>1</td>\n",
       "    </tr>\n",
       "    <tr>\n",
       "      <th>708909957</th>\n",
       "      <td>1</td>\n",
       "      <td>1</td>\n",
       "    </tr>\n",
       "    <tr>\n",
       "      <th>709083303</th>\n",
       "      <td>1</td>\n",
       "      <td>1</td>\n",
       "    </tr>\n",
       "    <tr>\n",
       "      <th>708209341</th>\n",
       "      <td>1</td>\n",
       "      <td>1</td>\n",
       "    </tr>\n",
       "  </tbody>\n",
       "</table>\n",
       "</div>"
      ],
      "text/plain": [
       "             channel_id  region\n",
       "cliente_id                     \n",
       " 481102357            2       2\n",
       "-2147472583           1       1\n",
       " 709076015            1       1\n",
       " 708486847            1       1\n",
       " 708507053            1       1\n",
       " 708775192            1       1\n",
       " 708880235            1       1\n",
       " 708909957            1       1\n",
       " 709083303            1       1\n",
       " 708209341            1       1"
      ]
     },
     "execution_count": 102,
     "metadata": {},
     "output_type": "execute_result"
    }
   ],
   "source": [
    "df_client.groupby('cliente_id').count().sort_values(by='channel_id',ascending=False).head(10)"
   ]
  },
  {
   "cell_type": "markdown",
   "id": "4ba62329-0f07-4448-8af9-d7cf2ec606a0",
   "metadata": {},
   "source": [
    "Existe un unico cliente que esta presente en dos canales y regiones. "
   ]
  },
  {
   "cell_type": "code",
   "execution_count": 105,
   "id": "e9d21fe0-8f08-40dc-a052-f8e9379e6cd8",
   "metadata": {},
   "outputs": [
    {
     "data": {
      "text/html": [
       "<div>\n",
       "<style scoped>\n",
       "    .dataframe tbody tr th:only-of-type {\n",
       "        vertical-align: middle;\n",
       "    }\n",
       "\n",
       "    .dataframe tbody tr th {\n",
       "        vertical-align: top;\n",
       "    }\n",
       "\n",
       "    .dataframe thead th {\n",
       "        text-align: right;\n",
       "    }\n",
       "</style>\n",
       "<table border=\"1\" class=\"dataframe\">\n",
       "  <thead>\n",
       "    <tr style=\"text-align: right;\">\n",
       "      <th></th>\n",
       "      <th>cliente_id</th>\n",
       "      <th>channel_id</th>\n",
       "      <th>region</th>\n",
       "    </tr>\n",
       "  </thead>\n",
       "  <tbody>\n",
       "    <tr>\n",
       "      <th>10125</th>\n",
       "      <td>481102357</td>\n",
       "      <td>651275377</td>\n",
       "      <td>GBA MINORISTAS</td>\n",
       "    </tr>\n",
       "    <tr>\n",
       "      <th>20220</th>\n",
       "      <td>481102357</td>\n",
       "      <td>1625004744</td>\n",
       "      <td>LITORAL</td>\n",
       "    </tr>\n",
       "  </tbody>\n",
       "</table>\n",
       "</div>"
      ],
      "text/plain": [
       "       cliente_id  channel_id          region\n",
       "10125   481102357   651275377  GBA MINORISTAS\n",
       "20220   481102357  1625004744         LITORAL"
      ]
     },
     "execution_count": 105,
     "metadata": {},
     "output_type": "execute_result"
    }
   ],
   "source": [
    "df_client[df_client['cliente_id'] == 481102357]"
   ]
  },
  {
   "cell_type": "code",
   "execution_count": null,
   "id": "c81fca67-6f7a-404e-a309-d03dda10d1fa",
   "metadata": {},
   "outputs": [],
   "source": []
  },
  {
   "cell_type": "code",
   "execution_count": null,
   "id": "c4501183-96f9-44f2-84af-216f3426146f",
   "metadata": {},
   "outputs": [],
   "source": []
  },
  {
   "cell_type": "markdown",
   "id": "feae7262-3963-4440-8295-3cb716f941bb",
   "metadata": {},
   "source": [
    "### Concatenacion y/o mergeo de los datos"
   ]
  },
  {
   "cell_type": "markdown",
   "id": "41dffc1f-d8f5-4962-be70-09152e13cc61",
   "metadata": {},
   "source": [
    " 1. Quitar los clientes que estan presentes en la blacklist del analisis\n",
    " 2. Quitar los canales-segmentos que no nos interesan del analisis.\n",
    " 3. "
   ]
  },
  {
   "cell_type": "code",
   "execution_count": null,
   "id": "bb19e24e-0204-4681-954c-819ed968c391",
   "metadata": {},
   "outputs": [],
   "source": []
  },
  {
   "cell_type": "code",
   "execution_count": null,
   "id": "e7ee02ab-cbf3-43f9-9b4d-28dceed88339",
   "metadata": {},
   "outputs": [],
   "source": []
  },
  {
   "cell_type": "markdown",
   "id": "0cc89038-2e27-40cb-b365-2bae4f25d0c2",
   "metadata": {},
   "source": [
    "Filtros de informacion: blacklist de clientes y channel_id"
   ]
  },
  {
   "cell_type": "markdown",
   "id": "45910cf5-d46e-4951-abdd-011269ffe686",
   "metadata": {},
   "source": [
    "Vamos a filtrar del dataset de clientes aquellos que no debemos considerar en el analisis. "
   ]
  },
  {
   "cell_type": "code",
   "execution_count": 78,
   "id": "f49fa443-759e-46bd-a74e-5ba8c1e50ff0",
   "metadata": {
    "tags": []
   },
   "outputs": [
    {
     "data": {
      "text/plain": [
       "(36293, 3)"
      ]
     },
     "execution_count": 78,
     "metadata": {},
     "output_type": "execute_result"
    }
   ],
   "source": [
    "df_client.shape"
   ]
  },
  {
   "cell_type": "code",
   "execution_count": 80,
   "id": "9be57423-823b-4355-b866-5bb4e0ec4de6",
   "metadata": {},
   "outputs": [],
   "source": [
    "blacklist = list(df_blacklist.cliente_id.unique())"
   ]
  },
  {
   "cell_type": "code",
   "execution_count": 82,
   "id": "dbead0e5-5e52-4ca0-be8f-b4e114ce119b",
   "metadata": {},
   "outputs": [
    {
     "data": {
      "text/plain": [
       "(35622, 3)"
      ]
     },
     "execution_count": 82,
     "metadata": {},
     "output_type": "execute_result"
    }
   ],
   "source": [
    "df_client = df_client[~df_client['cliente_id'].isin(blacklist)]\n",
    "df_client.shape"
   ]
  },
  {
   "cell_type": "code",
   "execution_count": 84,
   "id": "a6265756-0a3b-40d1-b0bb-b46ac3b980f7",
   "metadata": {
    "tags": []
   },
   "outputs": [
    {
     "data": {
      "text/plain": [
       "1040"
      ]
     },
     "execution_count": 84,
     "metadata": {},
     "output_type": "execute_result"
    }
   ],
   "source": [
    "49454 - 48414"
   ]
  },
  {
   "cell_type": "code",
   "execution_count": 86,
   "id": "bd99bde3-d411-4d48-8271-e4c94c491f08",
   "metadata": {},
   "outputs": [
    {
     "data": {
      "text/html": [
       "<div>\n",
       "<style scoped>\n",
       "    .dataframe tbody tr th:only-of-type {\n",
       "        vertical-align: middle;\n",
       "    }\n",
       "\n",
       "    .dataframe tbody tr th {\n",
       "        vertical-align: top;\n",
       "    }\n",
       "\n",
       "    .dataframe thead th {\n",
       "        text-align: right;\n",
       "    }\n",
       "</style>\n",
       "<table border=\"1\" class=\"dataframe\">\n",
       "  <thead>\n",
       "    <tr style=\"text-align: right;\">\n",
       "      <th></th>\n",
       "      <th>channel_id</th>\n",
       "      <th>channel_segmentation</th>\n",
       "    </tr>\n",
       "  </thead>\n",
       "  <tbody>\n",
       "    <tr>\n",
       "      <th>7</th>\n",
       "      <td>1625004744</td>\n",
       "      <td>TRADICIONAL</td>\n",
       "    </tr>\n",
       "    <tr>\n",
       "      <th>14</th>\n",
       "      <td>651275377</td>\n",
       "      <td>AUTOSERVICIOS</td>\n",
       "    </tr>\n",
       "    <tr>\n",
       "      <th>17</th>\n",
       "      <td>651275377</td>\n",
       "      <td>KIOSCOS</td>\n",
       "    </tr>\n",
       "    <tr>\n",
       "      <th>20</th>\n",
       "      <td>-1756013582</td>\n",
       "      <td>AUTOSERVICIOS</td>\n",
       "    </tr>\n",
       "    <tr>\n",
       "      <th>35</th>\n",
       "      <td>-866616713</td>\n",
       "      <td>KIOSCOS</td>\n",
       "    </tr>\n",
       "    <tr>\n",
       "      <th>37</th>\n",
       "      <td>870267989</td>\n",
       "      <td>KIOSCOS</td>\n",
       "    </tr>\n",
       "  </tbody>\n",
       "</table>\n",
       "</div>"
      ],
      "text/plain": [
       "    channel_id channel_segmentation\n",
       "7   1625004744          TRADICIONAL\n",
       "14   651275377        AUTOSERVICIOS\n",
       "17   651275377              KIOSCOS\n",
       "20 -1756013582        AUTOSERVICIOS\n",
       "35  -866616713              KIOSCOS\n",
       "37   870267989              KIOSCOS"
      ]
     },
     "execution_count": 86,
     "metadata": {},
     "output_type": "execute_result"
    }
   ],
   "source": [
    "#Los segmentos a considerar para el calculo del lift\n",
    "df_segmentacion[df_segmentacion['channel_segmentation'].isin(['AUTOSERVICIOS', 'KIOSCOS' , 'TRADICIONAL'])] "
   ]
  },
  {
   "cell_type": "code",
   "execution_count": 88,
   "id": "15000c8e-9a54-43fb-9855-334abb8b152b",
   "metadata": {
    "tags": []
   },
   "outputs": [],
   "source": [
    "channel_list = list(df_segmentacion[df_segmentacion['channel_segmentation'].isin(['AUTOSERVICIOS', 'KIOSCOS' , 'TRADICIONAL'])].channel_id.unique())"
   ]
  },
  {
   "cell_type": "code",
   "execution_count": 129,
   "id": "5699edcc-553e-4cb0-bb69-af91cf197300",
   "metadata": {
    "tags": []
   },
   "outputs": [
    {
     "data": {
      "text/plain": [
       "[1625004744, 651275377, -1756013582, -866616713, 870267989]"
      ]
     },
     "execution_count": 129,
     "metadata": {},
     "output_type": "execute_result"
    }
   ],
   "source": [
    "channel_list"
   ]
  },
  {
   "cell_type": "code",
   "execution_count": 131,
   "id": "7b3a1eda-60db-4186-958a-f56a915eaf5a",
   "metadata": {
    "tags": []
   },
   "outputs": [
    {
     "data": {
      "text/plain": [
       "(35618, 3)"
      ]
     },
     "execution_count": 131,
     "metadata": {},
     "output_type": "execute_result"
    }
   ],
   "source": [
    "df_client = df_client[df_client['channel_id'].isin(channel_list)]\n",
    "df_client.shape"
   ]
  },
  {
   "cell_type": "code",
   "execution_count": 133,
   "id": "a262b62a-75aa-4de3-808b-5b5c6f0c56f1",
   "metadata": {
    "tags": []
   },
   "outputs": [
    {
     "data": {
      "text/plain": [
       "cliente_id\n",
       "-715870445     1\n",
       "-716308667     1\n",
       "-716165947     1\n",
       "-716156829     1\n",
       "-716149560     1\n",
       "-716083054     1\n",
       "-716026542     1\n",
       "-716266132     1\n",
       " 2147118616    1\n",
       " 481102357     2\n",
       "Name: channel_id, dtype: int64"
      ]
     },
     "execution_count": 133,
     "metadata": {},
     "output_type": "execute_result"
    }
   ],
   "source": [
    "df_client.groupby('cliente_id').channel_id.count().sort_values().tail(10)"
   ]
  },
  {
   "cell_type": "code",
   "execution_count": null,
   "id": "a835a28c-a0c8-4489-bea5-b48260026f04",
   "metadata": {},
   "outputs": [],
   "source": []
  },
  {
   "cell_type": "code",
   "execution_count": null,
   "id": "b88d24d5-0fb1-4011-90e9-c8cb0bf8dde4",
   "metadata": {},
   "outputs": [],
   "source": []
  },
  {
   "cell_type": "markdown",
   "id": "2ca437c7-5b17-4133-af51-e4ba42cb4e25",
   "metadata": {},
   "source": [
    "Los 3 dataset de ventas tienen las mismas columnas, por lo que los vamos a concatenarlos para trabajar con uno solo."
   ]
  },
  {
   "cell_type": "code",
   "execution_count": 143,
   "id": "305a1f90-60f2-441c-9a02-41ed1a9daec0",
   "metadata": {
    "tags": []
   },
   "outputs": [],
   "source": [
    "df_sales1['sales_2'] = df_sales1['sales'] "
   ]
  },
  {
   "cell_type": "code",
   "execution_count": 149,
   "id": "3a3fcd19-cff6-48b9-8596-a04cbd2b5b98",
   "metadata": {
    "tags": []
   },
   "outputs": [],
   "source": [
    "df_1 = df_sales1[['cliente_id','business','brand']]\n",
    "df_2 = df_sales1[['sales','yearmonth','sales_2']]\n"
   ]
  },
  {
   "cell_type": "code",
   "execution_count": 155,
   "id": "8d16b2d5-b6af-4f28-bb87-67ad89891dab",
   "metadata": {
    "tags": []
   },
   "outputs": [
    {
     "data": {
      "text/html": [
       "<div>\n",
       "<style scoped>\n",
       "    .dataframe tbody tr th:only-of-type {\n",
       "        vertical-align: middle;\n",
       "    }\n",
       "\n",
       "    .dataframe tbody tr th {\n",
       "        vertical-align: top;\n",
       "    }\n",
       "\n",
       "    .dataframe thead th {\n",
       "        text-align: right;\n",
       "    }\n",
       "</style>\n",
       "<table border=\"1\" class=\"dataframe\">\n",
       "  <thead>\n",
       "    <tr style=\"text-align: right;\">\n",
       "      <th></th>\n",
       "      <th>cliente_id</th>\n",
       "      <th>business</th>\n",
       "      <th>brand</th>\n",
       "      <th>sales</th>\n",
       "      <th>yearmonth</th>\n",
       "      <th>sales_2</th>\n",
       "    </tr>\n",
       "  </thead>\n",
       "  <tbody>\n",
       "    <tr>\n",
       "      <th>0</th>\n",
       "      <td>1690894282</td>\n",
       "      <td>CZA</td>\n",
       "      <td>quilmes</td>\n",
       "      <td>1.81962</td>\n",
       "      <td>202201</td>\n",
       "      <td>1.81962</td>\n",
       "    </tr>\n",
       "    <tr>\n",
       "      <th>1</th>\n",
       "      <td>-985525432</td>\n",
       "      <td>CZA</td>\n",
       "      <td>brahma</td>\n",
       "      <td>0.73548</td>\n",
       "      <td>202201</td>\n",
       "      <td>0.73548</td>\n",
       "    </tr>\n",
       "    <tr>\n",
       "      <th>2</th>\n",
       "      <td>-674489716</td>\n",
       "      <td>CZA</td>\n",
       "      <td>brahma</td>\n",
       "      <td>4.55328</td>\n",
       "      <td>202201</td>\n",
       "      <td>4.55328</td>\n",
       "    </tr>\n",
       "    <tr>\n",
       "      <th>3</th>\n",
       "      <td>1026124970</td>\n",
       "      <td>CZA</td>\n",
       "      <td>brahma</td>\n",
       "      <td>1.26168</td>\n",
       "      <td>202201</td>\n",
       "      <td>1.26168</td>\n",
       "    </tr>\n",
       "    <tr>\n",
       "      <th>4</th>\n",
       "      <td>-2030441626</td>\n",
       "      <td>CZA</td>\n",
       "      <td>quilmes</td>\n",
       "      <td>0.19512</td>\n",
       "      <td>202201</td>\n",
       "      <td>0.19512</td>\n",
       "    </tr>\n",
       "    <tr>\n",
       "      <th>...</th>\n",
       "      <td>...</td>\n",
       "      <td>...</td>\n",
       "      <td>...</td>\n",
       "      <td>...</td>\n",
       "      <td>...</td>\n",
       "      <td>...</td>\n",
       "    </tr>\n",
       "    <tr>\n",
       "      <th>588678</th>\n",
       "      <td>-1024847897</td>\n",
       "      <td>CZA</td>\n",
       "      <td>patagonia</td>\n",
       "      <td>0.02460</td>\n",
       "      <td>202206</td>\n",
       "      <td>0.02460</td>\n",
       "    </tr>\n",
       "    <tr>\n",
       "      <th>588679</th>\n",
       "      <td>-1868403612</td>\n",
       "      <td>CZA</td>\n",
       "      <td>brahma</td>\n",
       "      <td>0.11352</td>\n",
       "      <td>202206</td>\n",
       "      <td>0.11352</td>\n",
       "    </tr>\n",
       "    <tr>\n",
       "      <th>588680</th>\n",
       "      <td>-1325216398</td>\n",
       "      <td>CZA</td>\n",
       "      <td>brahma</td>\n",
       "      <td>0.02838</td>\n",
       "      <td>202205</td>\n",
       "      <td>0.02838</td>\n",
       "    </tr>\n",
       "    <tr>\n",
       "      <th>588681</th>\n",
       "      <td>1422235606</td>\n",
       "      <td>CZA</td>\n",
       "      <td>quilmes</td>\n",
       "      <td>0.05676</td>\n",
       "      <td>202204</td>\n",
       "      <td>0.05676</td>\n",
       "    </tr>\n",
       "    <tr>\n",
       "      <th>588682</th>\n",
       "      <td>-1930751394</td>\n",
       "      <td>CZA</td>\n",
       "      <td>stella_artois</td>\n",
       "      <td>1.13520</td>\n",
       "      <td>202206</td>\n",
       "      <td>1.13520</td>\n",
       "    </tr>\n",
       "  </tbody>\n",
       "</table>\n",
       "<p>588683 rows × 6 columns</p>\n",
       "</div>"
      ],
      "text/plain": [
       "        cliente_id business          brand    sales  yearmonth  sales_2\n",
       "0       1690894282      CZA        quilmes  1.81962     202201  1.81962\n",
       "1       -985525432      CZA         brahma  0.73548     202201  0.73548\n",
       "2       -674489716      CZA         brahma  4.55328     202201  4.55328\n",
       "3       1026124970      CZA         brahma  1.26168     202201  1.26168\n",
       "4      -2030441626      CZA        quilmes  0.19512     202201  0.19512\n",
       "...            ...      ...            ...      ...        ...      ...\n",
       "588678 -1024847897      CZA      patagonia  0.02460     202206  0.02460\n",
       "588679 -1868403612      CZA         brahma  0.11352     202206  0.11352\n",
       "588680 -1325216398      CZA         brahma  0.02838     202205  0.02838\n",
       "588681  1422235606      CZA        quilmes  0.05676     202204  0.05676\n",
       "588682 -1930751394      CZA  stella_artois  1.13520     202206  1.13520\n",
       "\n",
       "[588683 rows x 6 columns]"
      ]
     },
     "execution_count": 155,
     "metadata": {},
     "output_type": "execute_result"
    }
   ],
   "source": [
    "pd.concat([df_1,df_2],axis=1)"
   ]
  },
  {
   "cell_type": "code",
   "execution_count": 151,
   "id": "426a5b26-4de9-4afb-a201-a3df984483d2",
   "metadata": {
    "tags": []
   },
   "outputs": [
    {
     "data": {
      "text/html": [
       "<div>\n",
       "<style scoped>\n",
       "    .dataframe tbody tr th:only-of-type {\n",
       "        vertical-align: middle;\n",
       "    }\n",
       "\n",
       "    .dataframe tbody tr th {\n",
       "        vertical-align: top;\n",
       "    }\n",
       "\n",
       "    .dataframe thead th {\n",
       "        text-align: right;\n",
       "    }\n",
       "</style>\n",
       "<table border=\"1\" class=\"dataframe\">\n",
       "  <thead>\n",
       "    <tr style=\"text-align: right;\">\n",
       "      <th></th>\n",
       "      <th>cliente_id</th>\n",
       "      <th>business</th>\n",
       "      <th>brand</th>\n",
       "    </tr>\n",
       "  </thead>\n",
       "  <tbody>\n",
       "    <tr>\n",
       "      <th>0</th>\n",
       "      <td>1690894282</td>\n",
       "      <td>CZA</td>\n",
       "      <td>quilmes</td>\n",
       "    </tr>\n",
       "    <tr>\n",
       "      <th>1</th>\n",
       "      <td>-985525432</td>\n",
       "      <td>CZA</td>\n",
       "      <td>brahma</td>\n",
       "    </tr>\n",
       "    <tr>\n",
       "      <th>2</th>\n",
       "      <td>-674489716</td>\n",
       "      <td>CZA</td>\n",
       "      <td>brahma</td>\n",
       "    </tr>\n",
       "    <tr>\n",
       "      <th>3</th>\n",
       "      <td>1026124970</td>\n",
       "      <td>CZA</td>\n",
       "      <td>brahma</td>\n",
       "    </tr>\n",
       "    <tr>\n",
       "      <th>4</th>\n",
       "      <td>-2030441626</td>\n",
       "      <td>CZA</td>\n",
       "      <td>quilmes</td>\n",
       "    </tr>\n",
       "    <tr>\n",
       "      <th>...</th>\n",
       "      <td>...</td>\n",
       "      <td>...</td>\n",
       "      <td>...</td>\n",
       "    </tr>\n",
       "    <tr>\n",
       "      <th>588678</th>\n",
       "      <td>-1024847897</td>\n",
       "      <td>CZA</td>\n",
       "      <td>patagonia</td>\n",
       "    </tr>\n",
       "    <tr>\n",
       "      <th>588679</th>\n",
       "      <td>-1868403612</td>\n",
       "      <td>CZA</td>\n",
       "      <td>brahma</td>\n",
       "    </tr>\n",
       "    <tr>\n",
       "      <th>588680</th>\n",
       "      <td>-1325216398</td>\n",
       "      <td>CZA</td>\n",
       "      <td>brahma</td>\n",
       "    </tr>\n",
       "    <tr>\n",
       "      <th>588681</th>\n",
       "      <td>1422235606</td>\n",
       "      <td>CZA</td>\n",
       "      <td>quilmes</td>\n",
       "    </tr>\n",
       "    <tr>\n",
       "      <th>588682</th>\n",
       "      <td>-1930751394</td>\n",
       "      <td>CZA</td>\n",
       "      <td>stella_artois</td>\n",
       "    </tr>\n",
       "  </tbody>\n",
       "</table>\n",
       "<p>588683 rows × 3 columns</p>\n",
       "</div>"
      ],
      "text/plain": [
       "        cliente_id business          brand\n",
       "0       1690894282      CZA        quilmes\n",
       "1       -985525432      CZA         brahma\n",
       "2       -674489716      CZA         brahma\n",
       "3       1026124970      CZA         brahma\n",
       "4      -2030441626      CZA        quilmes\n",
       "...            ...      ...            ...\n",
       "588678 -1024847897      CZA      patagonia\n",
       "588679 -1868403612      CZA         brahma\n",
       "588680 -1325216398      CZA         brahma\n",
       "588681  1422235606      CZA        quilmes\n",
       "588682 -1930751394      CZA  stella_artois\n",
       "\n",
       "[588683 rows x 3 columns]"
      ]
     },
     "execution_count": 151,
     "metadata": {},
     "output_type": "execute_result"
    }
   ],
   "source": [
    "df_1"
   ]
  },
  {
   "cell_type": "code",
   "execution_count": 153,
   "id": "069cc31c-9a60-49ed-a1b9-078def3f86ab",
   "metadata": {
    "tags": []
   },
   "outputs": [
    {
     "data": {
      "text/html": [
       "<div>\n",
       "<style scoped>\n",
       "    .dataframe tbody tr th:only-of-type {\n",
       "        vertical-align: middle;\n",
       "    }\n",
       "\n",
       "    .dataframe tbody tr th {\n",
       "        vertical-align: top;\n",
       "    }\n",
       "\n",
       "    .dataframe thead th {\n",
       "        text-align: right;\n",
       "    }\n",
       "</style>\n",
       "<table border=\"1\" class=\"dataframe\">\n",
       "  <thead>\n",
       "    <tr style=\"text-align: right;\">\n",
       "      <th></th>\n",
       "      <th>sales</th>\n",
       "      <th>yearmonth</th>\n",
       "      <th>sales_2</th>\n",
       "    </tr>\n",
       "  </thead>\n",
       "  <tbody>\n",
       "    <tr>\n",
       "      <th>0</th>\n",
       "      <td>1.81962</td>\n",
       "      <td>202201</td>\n",
       "      <td>1.81962</td>\n",
       "    </tr>\n",
       "    <tr>\n",
       "      <th>1</th>\n",
       "      <td>0.73548</td>\n",
       "      <td>202201</td>\n",
       "      <td>0.73548</td>\n",
       "    </tr>\n",
       "    <tr>\n",
       "      <th>2</th>\n",
       "      <td>4.55328</td>\n",
       "      <td>202201</td>\n",
       "      <td>4.55328</td>\n",
       "    </tr>\n",
       "    <tr>\n",
       "      <th>3</th>\n",
       "      <td>1.26168</td>\n",
       "      <td>202201</td>\n",
       "      <td>1.26168</td>\n",
       "    </tr>\n",
       "    <tr>\n",
       "      <th>4</th>\n",
       "      <td>0.19512</td>\n",
       "      <td>202201</td>\n",
       "      <td>0.19512</td>\n",
       "    </tr>\n",
       "    <tr>\n",
       "      <th>...</th>\n",
       "      <td>...</td>\n",
       "      <td>...</td>\n",
       "      <td>...</td>\n",
       "    </tr>\n",
       "    <tr>\n",
       "      <th>588678</th>\n",
       "      <td>0.02460</td>\n",
       "      <td>202206</td>\n",
       "      <td>0.02460</td>\n",
       "    </tr>\n",
       "    <tr>\n",
       "      <th>588679</th>\n",
       "      <td>0.11352</td>\n",
       "      <td>202206</td>\n",
       "      <td>0.11352</td>\n",
       "    </tr>\n",
       "    <tr>\n",
       "      <th>588680</th>\n",
       "      <td>0.02838</td>\n",
       "      <td>202205</td>\n",
       "      <td>0.02838</td>\n",
       "    </tr>\n",
       "    <tr>\n",
       "      <th>588681</th>\n",
       "      <td>0.05676</td>\n",
       "      <td>202204</td>\n",
       "      <td>0.05676</td>\n",
       "    </tr>\n",
       "    <tr>\n",
       "      <th>588682</th>\n",
       "      <td>1.13520</td>\n",
       "      <td>202206</td>\n",
       "      <td>1.13520</td>\n",
       "    </tr>\n",
       "  </tbody>\n",
       "</table>\n",
       "<p>588683 rows × 3 columns</p>\n",
       "</div>"
      ],
      "text/plain": [
       "          sales  yearmonth  sales_2\n",
       "0       1.81962     202201  1.81962\n",
       "1       0.73548     202201  0.73548\n",
       "2       4.55328     202201  4.55328\n",
       "3       1.26168     202201  1.26168\n",
       "4       0.19512     202201  0.19512\n",
       "...         ...        ...      ...\n",
       "588678  0.02460     202206  0.02460\n",
       "588679  0.11352     202206  0.11352\n",
       "588680  0.02838     202205  0.02838\n",
       "588681  0.05676     202204  0.05676\n",
       "588682  1.13520     202206  1.13520\n",
       "\n",
       "[588683 rows x 3 columns]"
      ]
     },
     "execution_count": 153,
     "metadata": {},
     "output_type": "execute_result"
    }
   ],
   "source": [
    "df_2"
   ]
  },
  {
   "cell_type": "code",
   "execution_count": null,
   "id": "2dea6ebd-9367-41cf-ab00-572d772bf8b1",
   "metadata": {},
   "outputs": [],
   "source": [
    "pd.concat([df_sales1,df_sales2,df_sales3])"
   ]
  },
  {
   "cell_type": "code",
   "execution_count": null,
   "id": "7de049ed-0b78-4793-a838-23b65735c9a2",
   "metadata": {},
   "outputs": [],
   "source": []
  },
  {
   "cell_type": "code",
   "execution_count": 145,
   "id": "086545ff-c42d-48b3-8bb6-56ed7567bcc2",
   "metadata": {
    "tags": []
   },
   "outputs": [
    {
     "data": {
      "text/html": [
       "<div>\n",
       "<style scoped>\n",
       "    .dataframe tbody tr th:only-of-type {\n",
       "        vertical-align: middle;\n",
       "    }\n",
       "\n",
       "    .dataframe tbody tr th {\n",
       "        vertical-align: top;\n",
       "    }\n",
       "\n",
       "    .dataframe thead th {\n",
       "        text-align: right;\n",
       "    }\n",
       "</style>\n",
       "<table border=\"1\" class=\"dataframe\">\n",
       "  <thead>\n",
       "    <tr style=\"text-align: right;\">\n",
       "      <th></th>\n",
       "      <th>cliente_id</th>\n",
       "      <th>business</th>\n",
       "      <th>brand</th>\n",
       "      <th>sales</th>\n",
       "      <th>yearmonth</th>\n",
       "      <th>sales_2</th>\n",
       "    </tr>\n",
       "  </thead>\n",
       "  <tbody>\n",
       "    <tr>\n",
       "      <th>0</th>\n",
       "      <td>1690894282</td>\n",
       "      <td>CZA</td>\n",
       "      <td>quilmes</td>\n",
       "      <td>1.81962</td>\n",
       "      <td>202201</td>\n",
       "      <td>1.81962</td>\n",
       "    </tr>\n",
       "    <tr>\n",
       "      <th>1</th>\n",
       "      <td>-985525432</td>\n",
       "      <td>CZA</td>\n",
       "      <td>brahma</td>\n",
       "      <td>0.73548</td>\n",
       "      <td>202201</td>\n",
       "      <td>0.73548</td>\n",
       "    </tr>\n",
       "    <tr>\n",
       "      <th>2</th>\n",
       "      <td>-674489716</td>\n",
       "      <td>CZA</td>\n",
       "      <td>brahma</td>\n",
       "      <td>4.55328</td>\n",
       "      <td>202201</td>\n",
       "      <td>4.55328</td>\n",
       "    </tr>\n",
       "    <tr>\n",
       "      <th>3</th>\n",
       "      <td>1026124970</td>\n",
       "      <td>CZA</td>\n",
       "      <td>brahma</td>\n",
       "      <td>1.26168</td>\n",
       "      <td>202201</td>\n",
       "      <td>1.26168</td>\n",
       "    </tr>\n",
       "    <tr>\n",
       "      <th>4</th>\n",
       "      <td>-2030441626</td>\n",
       "      <td>CZA</td>\n",
       "      <td>quilmes</td>\n",
       "      <td>0.19512</td>\n",
       "      <td>202201</td>\n",
       "      <td>0.19512</td>\n",
       "    </tr>\n",
       "    <tr>\n",
       "      <th>...</th>\n",
       "      <td>...</td>\n",
       "      <td>...</td>\n",
       "      <td>...</td>\n",
       "      <td>...</td>\n",
       "      <td>...</td>\n",
       "      <td>...</td>\n",
       "    </tr>\n",
       "    <tr>\n",
       "      <th>571913</th>\n",
       "      <td>1570019169</td>\n",
       "      <td>CZA</td>\n",
       "      <td>corona</td>\n",
       "      <td>89.91888</td>\n",
       "      <td>202301</td>\n",
       "      <td>NaN</td>\n",
       "    </tr>\n",
       "    <tr>\n",
       "      <th>571914</th>\n",
       "      <td>1958127344</td>\n",
       "      <td>CZA</td>\n",
       "      <td>otras</td>\n",
       "      <td>0.00000</td>\n",
       "      <td>202301</td>\n",
       "      <td>NaN</td>\n",
       "    </tr>\n",
       "    <tr>\n",
       "      <th>571915</th>\n",
       "      <td>36538050</td>\n",
       "      <td>CZA</td>\n",
       "      <td>otras</td>\n",
       "      <td>0.00000</td>\n",
       "      <td>202302</td>\n",
       "      <td>NaN</td>\n",
       "    </tr>\n",
       "    <tr>\n",
       "      <th>571916</th>\n",
       "      <td>-1789403340</td>\n",
       "      <td>CZA</td>\n",
       "      <td>otras</td>\n",
       "      <td>0.00000</td>\n",
       "      <td>202301</td>\n",
       "      <td>NaN</td>\n",
       "    </tr>\n",
       "    <tr>\n",
       "      <th>571917</th>\n",
       "      <td>772148154</td>\n",
       "      <td>CZA</td>\n",
       "      <td>patagonia</td>\n",
       "      <td>11.80800</td>\n",
       "      <td>202305</td>\n",
       "      <td>NaN</td>\n",
       "    </tr>\n",
       "  </tbody>\n",
       "</table>\n",
       "<p>1774465 rows × 6 columns</p>\n",
       "</div>"
      ],
      "text/plain": [
       "        cliente_id business      brand     sales  yearmonth  sales_2\n",
       "0       1690894282      CZA    quilmes   1.81962     202201  1.81962\n",
       "1       -985525432      CZA     brahma   0.73548     202201  0.73548\n",
       "2       -674489716      CZA     brahma   4.55328     202201  4.55328\n",
       "3       1026124970      CZA     brahma   1.26168     202201  1.26168\n",
       "4      -2030441626      CZA    quilmes   0.19512     202201  0.19512\n",
       "...            ...      ...        ...       ...        ...      ...\n",
       "571913  1570019169      CZA     corona  89.91888     202301      NaN\n",
       "571914  1958127344      CZA      otras   0.00000     202301      NaN\n",
       "571915    36538050      CZA      otras   0.00000     202302      NaN\n",
       "571916 -1789403340      CZA      otras   0.00000     202301      NaN\n",
       "571917   772148154      CZA  patagonia  11.80800     202305      NaN\n",
       "\n",
       "[1774465 rows x 6 columns]"
      ]
     },
     "execution_count": 145,
     "metadata": {},
     "output_type": "execute_result"
    }
   ],
   "source": [
    "pd.concat([df_sales1,df_sales2,df_sales3])"
   ]
  },
  {
   "cell_type": "code",
   "execution_count": 161,
   "id": "9168cdde-c889-4681-9a5e-9b9251d42fb8",
   "metadata": {},
   "outputs": [
    {
     "data": {
      "text/plain": [
       "(1774465, 6)"
      ]
     },
     "execution_count": 161,
     "metadata": {},
     "output_type": "execute_result"
    }
   ],
   "source": [
    "df_ventas_tot = pd.concat([df_sales1,df_sales2,df_sales3]) #con axis podemos indicar si queremos concatenar por filas o columnas\n",
    "df_ventas_tot.shape"
   ]
  },
  {
   "cell_type": "code",
   "execution_count": null,
   "id": "5d140e27-c266-4fea-b894-14ecf16dafc1",
   "metadata": {},
   "outputs": [],
   "source": []
  },
  {
   "cell_type": "code",
   "execution_count": 236,
   "id": "d34bc0f1-523d-462b-a288-42b74f39f0d5",
   "metadata": {},
   "outputs": [
    {
     "data": {
      "text/html": [
       "<div>\n",
       "<style scoped>\n",
       "    .dataframe tbody tr th:only-of-type {\n",
       "        vertical-align: middle;\n",
       "    }\n",
       "\n",
       "    .dataframe tbody tr th {\n",
       "        vertical-align: top;\n",
       "    }\n",
       "\n",
       "    .dataframe thead th {\n",
       "        text-align: right;\n",
       "    }\n",
       "</style>\n",
       "<table border=\"1\" class=\"dataframe\">\n",
       "  <thead>\n",
       "    <tr style=\"text-align: right;\">\n",
       "      <th></th>\n",
       "      <th>cliente_id</th>\n",
       "      <th>business</th>\n",
       "      <th>brand</th>\n",
       "      <th>sales</th>\n",
       "      <th>yearmonth</th>\n",
       "    </tr>\n",
       "  </thead>\n",
       "  <tbody>\n",
       "    <tr>\n",
       "      <th>571913</th>\n",
       "      <td>1570019169</td>\n",
       "      <td>CZA</td>\n",
       "      <td>corona</td>\n",
       "      <td>89.91888</td>\n",
       "      <td>202301</td>\n",
       "    </tr>\n",
       "    <tr>\n",
       "      <th>571914</th>\n",
       "      <td>1958127344</td>\n",
       "      <td>CZA</td>\n",
       "      <td>otras</td>\n",
       "      <td>0.00000</td>\n",
       "      <td>202301</td>\n",
       "    </tr>\n",
       "    <tr>\n",
       "      <th>571915</th>\n",
       "      <td>36538050</td>\n",
       "      <td>CZA</td>\n",
       "      <td>otras</td>\n",
       "      <td>0.00000</td>\n",
       "      <td>202302</td>\n",
       "    </tr>\n",
       "    <tr>\n",
       "      <th>571916</th>\n",
       "      <td>-1789403340</td>\n",
       "      <td>CZA</td>\n",
       "      <td>otras</td>\n",
       "      <td>0.00000</td>\n",
       "      <td>202301</td>\n",
       "    </tr>\n",
       "    <tr>\n",
       "      <th>571917</th>\n",
       "      <td>772148154</td>\n",
       "      <td>CZA</td>\n",
       "      <td>patagonia</td>\n",
       "      <td>11.80800</td>\n",
       "      <td>202305</td>\n",
       "    </tr>\n",
       "  </tbody>\n",
       "</table>\n",
       "</div>"
      ],
      "text/plain": [
       "        cliente_id business      brand     sales  yearmonth\n",
       "571913  1570019169      CZA     corona  89.91888     202301\n",
       "571914  1958127344      CZA      otras   0.00000     202301\n",
       "571915    36538050      CZA      otras   0.00000     202302\n",
       "571916 -1789403340      CZA      otras   0.00000     202301\n",
       "571917   772148154      CZA  patagonia  11.80800     202305"
      ]
     },
     "execution_count": 236,
     "metadata": {},
     "output_type": "execute_result"
    }
   ],
   "source": [
    "df_ventas_tot.tail()"
   ]
  },
  {
   "cell_type": "code",
   "execution_count": 241,
   "id": "c2e54752-1ed7-4d98-96a3-d4dbcf4f38e7",
   "metadata": {
    "tags": []
   },
   "outputs": [
    {
     "data": {
      "text/plain": [
       "88283"
      ]
     },
     "execution_count": 241,
     "metadata": {},
     "output_type": "execute_result"
    }
   ],
   "source": [
    "df_coupons.cliente_id.nunique()"
   ]
  },
  {
   "cell_type": "code",
   "execution_count": 243,
   "id": "ebef50d6-1391-4233-9865-828b9923e92f",
   "metadata": {
    "tags": []
   },
   "outputs": [
    {
     "data": {
      "text/plain": [
       "35617"
      ]
     },
     "execution_count": 243,
     "metadata": {},
     "output_type": "execute_result"
    }
   ],
   "source": [
    "df_client.cliente_id.nunique()"
   ]
  },
  {
   "cell_type": "code",
   "execution_count": 159,
   "id": "57da9899-9f91-4ec8-8145-0115cb3b375e",
   "metadata": {},
   "outputs": [
    {
     "data": {
      "text/html": [
       "<div>\n",
       "<style scoped>\n",
       "    .dataframe tbody tr th:only-of-type {\n",
       "        vertical-align: middle;\n",
       "    }\n",
       "\n",
       "    .dataframe tbody tr th {\n",
       "        vertical-align: top;\n",
       "    }\n",
       "\n",
       "    .dataframe thead th {\n",
       "        text-align: right;\n",
       "    }\n",
       "</style>\n",
       "<table border=\"1\" class=\"dataframe\">\n",
       "  <thead>\n",
       "    <tr style=\"text-align: right;\">\n",
       "      <th></th>\n",
       "      <th>cliente_id</th>\n",
       "      <th>business</th>\n",
       "      <th>brand</th>\n",
       "      <th>sales</th>\n",
       "      <th>yearmonth</th>\n",
       "    </tr>\n",
       "  </thead>\n",
       "  <tbody>\n",
       "    <tr>\n",
       "      <th>0</th>\n",
       "      <td>1690894282</td>\n",
       "      <td>CZA</td>\n",
       "      <td>quilmes</td>\n",
       "      <td>1.81962</td>\n",
       "      <td>202201</td>\n",
       "    </tr>\n",
       "    <tr>\n",
       "      <th>1</th>\n",
       "      <td>-985525432</td>\n",
       "      <td>CZA</td>\n",
       "      <td>brahma</td>\n",
       "      <td>0.73548</td>\n",
       "      <td>202201</td>\n",
       "    </tr>\n",
       "    <tr>\n",
       "      <th>2</th>\n",
       "      <td>-674489716</td>\n",
       "      <td>CZA</td>\n",
       "      <td>brahma</td>\n",
       "      <td>4.55328</td>\n",
       "      <td>202201</td>\n",
       "    </tr>\n",
       "    <tr>\n",
       "      <th>3</th>\n",
       "      <td>1026124970</td>\n",
       "      <td>CZA</td>\n",
       "      <td>brahma</td>\n",
       "      <td>1.26168</td>\n",
       "      <td>202201</td>\n",
       "    </tr>\n",
       "    <tr>\n",
       "      <th>4</th>\n",
       "      <td>-2030441626</td>\n",
       "      <td>CZA</td>\n",
       "      <td>quilmes</td>\n",
       "      <td>0.19512</td>\n",
       "      <td>202201</td>\n",
       "    </tr>\n",
       "    <tr>\n",
       "      <th>...</th>\n",
       "      <td>...</td>\n",
       "      <td>...</td>\n",
       "      <td>...</td>\n",
       "      <td>...</td>\n",
       "      <td>...</td>\n",
       "    </tr>\n",
       "    <tr>\n",
       "      <th>571913</th>\n",
       "      <td>1570019169</td>\n",
       "      <td>CZA</td>\n",
       "      <td>corona</td>\n",
       "      <td>89.91888</td>\n",
       "      <td>202301</td>\n",
       "    </tr>\n",
       "    <tr>\n",
       "      <th>571914</th>\n",
       "      <td>1958127344</td>\n",
       "      <td>CZA</td>\n",
       "      <td>otras</td>\n",
       "      <td>0.00000</td>\n",
       "      <td>202301</td>\n",
       "    </tr>\n",
       "    <tr>\n",
       "      <th>571915</th>\n",
       "      <td>36538050</td>\n",
       "      <td>CZA</td>\n",
       "      <td>otras</td>\n",
       "      <td>0.00000</td>\n",
       "      <td>202302</td>\n",
       "    </tr>\n",
       "    <tr>\n",
       "      <th>571916</th>\n",
       "      <td>-1789403340</td>\n",
       "      <td>CZA</td>\n",
       "      <td>otras</td>\n",
       "      <td>0.00000</td>\n",
       "      <td>202301</td>\n",
       "    </tr>\n",
       "    <tr>\n",
       "      <th>571917</th>\n",
       "      <td>772148154</td>\n",
       "      <td>CZA</td>\n",
       "      <td>patagonia</td>\n",
       "      <td>11.80800</td>\n",
       "      <td>202305</td>\n",
       "    </tr>\n",
       "  </tbody>\n",
       "</table>\n",
       "<p>1774465 rows × 5 columns</p>\n",
       "</div>"
      ],
      "text/plain": [
       "        cliente_id business      brand     sales  yearmonth\n",
       "0       1690894282      CZA    quilmes   1.81962     202201\n",
       "1       -985525432      CZA     brahma   0.73548     202201\n",
       "2       -674489716      CZA     brahma   4.55328     202201\n",
       "3       1026124970      CZA     brahma   1.26168     202201\n",
       "4      -2030441626      CZA    quilmes   0.19512     202201\n",
       "...            ...      ...        ...       ...        ...\n",
       "571913  1570019169      CZA     corona  89.91888     202301\n",
       "571914  1958127344      CZA      otras   0.00000     202301\n",
       "571915    36538050      CZA      otras   0.00000     202302\n",
       "571916 -1789403340      CZA      otras   0.00000     202301\n",
       "571917   772148154      CZA  patagonia  11.80800     202305\n",
       "\n",
       "[1774465 rows x 5 columns]"
      ]
     },
     "execution_count": 159,
     "metadata": {},
     "output_type": "execute_result"
    }
   ],
   "source": [
    "df_ventas_tot"
   ]
  },
  {
   "cell_type": "markdown",
   "id": "fde5efeb-6630-4b14-b95f-f161b02dc16a",
   "metadata": {},
   "source": [
    "Como hacer un mergeo o join de datos? Debemos indicar en how que tipo de join queremos hacer, y en on cual va a ser la clave para realizarlo. "
   ]
  },
  {
   "cell_type": "code",
   "execution_count": 163,
   "id": "e630d04a-cb59-4fd6-8a55-380828d4c9b9",
   "metadata": {},
   "outputs": [
    {
     "data": {
      "text/html": [
       "<div>\n",
       "<style scoped>\n",
       "    .dataframe tbody tr th:only-of-type {\n",
       "        vertical-align: middle;\n",
       "    }\n",
       "\n",
       "    .dataframe tbody tr th {\n",
       "        vertical-align: top;\n",
       "    }\n",
       "\n",
       "    .dataframe thead th {\n",
       "        text-align: right;\n",
       "    }\n",
       "</style>\n",
       "<table border=\"1\" class=\"dataframe\">\n",
       "  <thead>\n",
       "    <tr style=\"text-align: right;\">\n",
       "      <th></th>\n",
       "      <th>cliente_id</th>\n",
       "      <th>channel_id</th>\n",
       "      <th>region</th>\n",
       "      <th>sales</th>\n",
       "      <th>yearmonth</th>\n",
       "    </tr>\n",
       "  </thead>\n",
       "  <tbody>\n",
       "    <tr>\n",
       "      <th>0</th>\n",
       "      <td>-928788236</td>\n",
       "      <td>1625004744</td>\n",
       "      <td>GBA MINORISTAS</td>\n",
       "      <td>0.17040</td>\n",
       "      <td>202203</td>\n",
       "    </tr>\n",
       "    <tr>\n",
       "      <th>1</th>\n",
       "      <td>-928788236</td>\n",
       "      <td>1625004744</td>\n",
       "      <td>GBA MINORISTAS</td>\n",
       "      <td>0.14190</td>\n",
       "      <td>202204</td>\n",
       "    </tr>\n",
       "    <tr>\n",
       "      <th>2</th>\n",
       "      <td>-928788236</td>\n",
       "      <td>1625004744</td>\n",
       "      <td>GBA MINORISTAS</td>\n",
       "      <td>0.20514</td>\n",
       "      <td>202204</td>\n",
       "    </tr>\n",
       "    <tr>\n",
       "      <th>3</th>\n",
       "      <td>-928788236</td>\n",
       "      <td>1625004744</td>\n",
       "      <td>GBA MINORISTAS</td>\n",
       "      <td>0.11352</td>\n",
       "      <td>202201</td>\n",
       "    </tr>\n",
       "    <tr>\n",
       "      <th>4</th>\n",
       "      <td>-928788236</td>\n",
       "      <td>1625004744</td>\n",
       "      <td>GBA MINORISTAS</td>\n",
       "      <td>0.05676</td>\n",
       "      <td>202202</td>\n",
       "    </tr>\n",
       "    <tr>\n",
       "      <th>...</th>\n",
       "      <td>...</td>\n",
       "      <td>...</td>\n",
       "      <td>...</td>\n",
       "      <td>...</td>\n",
       "      <td>...</td>\n",
       "    </tr>\n",
       "    <tr>\n",
       "      <th>1246462</th>\n",
       "      <td>-144622375</td>\n",
       "      <td>651275377</td>\n",
       "      <td>GBA MINORISTAS</td>\n",
       "      <td>0.28380</td>\n",
       "      <td>202302</td>\n",
       "    </tr>\n",
       "    <tr>\n",
       "      <th>1246463</th>\n",
       "      <td>-144622375</td>\n",
       "      <td>651275377</td>\n",
       "      <td>GBA MINORISTAS</td>\n",
       "      <td>0.79464</td>\n",
       "      <td>202304</td>\n",
       "    </tr>\n",
       "    <tr>\n",
       "      <th>1246464</th>\n",
       "      <td>-144622375</td>\n",
       "      <td>651275377</td>\n",
       "      <td>GBA MINORISTAS</td>\n",
       "      <td>0.56760</td>\n",
       "      <td>202302</td>\n",
       "    </tr>\n",
       "    <tr>\n",
       "      <th>1246465</th>\n",
       "      <td>-144622375</td>\n",
       "      <td>651275377</td>\n",
       "      <td>GBA MINORISTAS</td>\n",
       "      <td>0.34056</td>\n",
       "      <td>202306</td>\n",
       "    </tr>\n",
       "    <tr>\n",
       "      <th>1246466</th>\n",
       "      <td>-144622375</td>\n",
       "      <td>651275377</td>\n",
       "      <td>GBA MINORISTAS</td>\n",
       "      <td>1.24872</td>\n",
       "      <td>202304</td>\n",
       "    </tr>\n",
       "  </tbody>\n",
       "</table>\n",
       "<p>1246467 rows × 5 columns</p>\n",
       "</div>"
      ],
      "text/plain": [
       "         cliente_id  channel_id          region    sales  yearmonth\n",
       "0        -928788236  1625004744  GBA MINORISTAS  0.17040     202203\n",
       "1        -928788236  1625004744  GBA MINORISTAS  0.14190     202204\n",
       "2        -928788236  1625004744  GBA MINORISTAS  0.20514     202204\n",
       "3        -928788236  1625004744  GBA MINORISTAS  0.11352     202201\n",
       "4        -928788236  1625004744  GBA MINORISTAS  0.05676     202202\n",
       "...             ...         ...             ...      ...        ...\n",
       "1246462  -144622375   651275377  GBA MINORISTAS  0.28380     202302\n",
       "1246463  -144622375   651275377  GBA MINORISTAS  0.79464     202304\n",
       "1246464  -144622375   651275377  GBA MINORISTAS  0.56760     202302\n",
       "1246465  -144622375   651275377  GBA MINORISTAS  0.34056     202306\n",
       "1246466  -144622375   651275377  GBA MINORISTAS  1.24872     202304\n",
       "\n",
       "[1246467 rows x 5 columns]"
      ]
     },
     "execution_count": 163,
     "metadata": {},
     "output_type": "execute_result"
    }
   ],
   "source": [
    "pd.merge(df_client,df_ventas_tot[['cliente_id','sales','yearmonth']],how='inner',\n",
    "         on='cliente_id')"
   ]
  },
  {
   "cell_type": "code",
   "execution_count": 165,
   "id": "032c1283-1ec9-4973-9551-7f4cf3cf4b75",
   "metadata": {},
   "outputs": [],
   "source": [
    "df_ventas_tot = pd.merge(df_client,df_ventas_tot,how='inner',\n",
    "         on='cliente_id')"
   ]
  },
  {
   "cell_type": "markdown",
   "id": "337cca57-f23b-4272-a954-6b8489d850ef",
   "metadata": {},
   "source": [
    "Tambien podemos hacer un merge considerando varias columnas como claves."
   ]
  },
  {
   "cell_type": "code",
   "execution_count": 45,
   "id": "b54ab177-010a-45d8-af3d-1deca32e0a43",
   "metadata": {},
   "outputs": [
    {
     "data": {
      "text/html": [
       "<div>\n",
       "<style scoped>\n",
       "    .dataframe tbody tr th:only-of-type {\n",
       "        vertical-align: middle;\n",
       "    }\n",
       "\n",
       "    .dataframe tbody tr th {\n",
       "        vertical-align: top;\n",
       "    }\n",
       "\n",
       "    .dataframe thead th {\n",
       "        text-align: right;\n",
       "    }\n",
       "</style>\n",
       "<table border=\"1\" class=\"dataframe\">\n",
       "  <thead>\n",
       "    <tr style=\"text-align: right;\">\n",
       "      <th></th>\n",
       "      <th>cliente_id</th>\n",
       "      <th>business_x</th>\n",
       "      <th>brand</th>\n",
       "      <th>yearmonth</th>\n",
       "      <th>sales_with_coupons</th>\n",
       "      <th>channel_id</th>\n",
       "      <th>region</th>\n",
       "      <th>business_y</th>\n",
       "      <th>sales</th>\n",
       "    </tr>\n",
       "  </thead>\n",
       "  <tbody>\n",
       "    <tr>\n",
       "      <th>0</th>\n",
       "      <td>780479776</td>\n",
       "      <td>CZA</td>\n",
       "      <td>quilmes</td>\n",
       "      <td>202304</td>\n",
       "      <td>314</td>\n",
       "      <td>1625004744</td>\n",
       "      <td>PATAGONIA</td>\n",
       "      <td>CZA</td>\n",
       "      <td>5.34168</td>\n",
       "    </tr>\n",
       "    <tr>\n",
       "      <th>1</th>\n",
       "      <td>-593571610</td>\n",
       "      <td>CZA</td>\n",
       "      <td>andes_origen</td>\n",
       "      <td>202301</td>\n",
       "      <td>17</td>\n",
       "      <td>-1756013582</td>\n",
       "      <td>CENTRAL</td>\n",
       "      <td>CZA</td>\n",
       "      <td>3.09888</td>\n",
       "    </tr>\n",
       "    <tr>\n",
       "      <th>2</th>\n",
       "      <td>-1460380897</td>\n",
       "      <td>CZA</td>\n",
       "      <td>otras</td>\n",
       "      <td>202305</td>\n",
       "      <td>10</td>\n",
       "      <td>1625004744</td>\n",
       "      <td>LITORAL</td>\n",
       "      <td>CZA</td>\n",
       "      <td>0.19680</td>\n",
       "    </tr>\n",
       "    <tr>\n",
       "      <th>3</th>\n",
       "      <td>1544543642</td>\n",
       "      <td>CZA</td>\n",
       "      <td>andes_origen</td>\n",
       "      <td>202205</td>\n",
       "      <td>5</td>\n",
       "      <td>-1756013582</td>\n",
       "      <td>GBA MINORISTAS</td>\n",
       "      <td>CZA</td>\n",
       "      <td>0.68160</td>\n",
       "    </tr>\n",
       "    <tr>\n",
       "      <th>4</th>\n",
       "      <td>780479776</td>\n",
       "      <td>CZA</td>\n",
       "      <td>stella_artois</td>\n",
       "      <td>202210</td>\n",
       "      <td>138</td>\n",
       "      <td>1625004744</td>\n",
       "      <td>PATAGONIA</td>\n",
       "      <td>CZA</td>\n",
       "      <td>4.54908</td>\n",
       "    </tr>\n",
       "    <tr>\n",
       "      <th>...</th>\n",
       "      <td>...</td>\n",
       "      <td>...</td>\n",
       "      <td>...</td>\n",
       "      <td>...</td>\n",
       "      <td>...</td>\n",
       "      <td>...</td>\n",
       "      <td>...</td>\n",
       "      <td>...</td>\n",
       "      <td>...</td>\n",
       "    </tr>\n",
       "    <tr>\n",
       "      <th>58135</th>\n",
       "      <td>861986912</td>\n",
       "      <td>CZA</td>\n",
       "      <td>quilmes</td>\n",
       "      <td>202210</td>\n",
       "      <td>1</td>\n",
       "      <td>-1756013582</td>\n",
       "      <td>GBA MINORISTAS</td>\n",
       "      <td>CZA</td>\n",
       "      <td>0.25948</td>\n",
       "    </tr>\n",
       "    <tr>\n",
       "      <th>58136</th>\n",
       "      <td>-649360721</td>\n",
       "      <td>CZA</td>\n",
       "      <td>budweiser</td>\n",
       "      <td>202306</td>\n",
       "      <td>1</td>\n",
       "      <td>870267989</td>\n",
       "      <td>CENTRAL</td>\n",
       "      <td>CZA</td>\n",
       "      <td>0.02460</td>\n",
       "    </tr>\n",
       "    <tr>\n",
       "      <th>58137</th>\n",
       "      <td>1447806133</td>\n",
       "      <td>CZA</td>\n",
       "      <td>quilmes</td>\n",
       "      <td>202210</td>\n",
       "      <td>1</td>\n",
       "      <td>1625004744</td>\n",
       "      <td>NOA</td>\n",
       "      <td>CZA</td>\n",
       "      <td>0.14190</td>\n",
       "    </tr>\n",
       "    <tr>\n",
       "      <th>58138</th>\n",
       "      <td>-784993401</td>\n",
       "      <td>CZA</td>\n",
       "      <td>brahma</td>\n",
       "      <td>202303</td>\n",
       "      <td>1</td>\n",
       "      <td>1625004744</td>\n",
       "      <td>LITORAL</td>\n",
       "      <td>CZA</td>\n",
       "      <td>0.19866</td>\n",
       "    </tr>\n",
       "    <tr>\n",
       "      <th>58139</th>\n",
       "      <td>512727870</td>\n",
       "      <td>CZA</td>\n",
       "      <td>brahma</td>\n",
       "      <td>202202</td>\n",
       "      <td>1</td>\n",
       "      <td>-1756013582</td>\n",
       "      <td>GBA MINORISTAS</td>\n",
       "      <td>CZA</td>\n",
       "      <td>0.59352</td>\n",
       "    </tr>\n",
       "  </tbody>\n",
       "</table>\n",
       "<p>58140 rows × 9 columns</p>\n",
       "</div>"
      ],
      "text/plain": [
       "       cliente_id business_x          brand  yearmonth  sales_with_coupons  \\\n",
       "0       780479776        CZA        quilmes     202304                 314   \n",
       "1      -593571610        CZA   andes_origen     202301                  17   \n",
       "2     -1460380897        CZA          otras     202305                  10   \n",
       "3      1544543642        CZA   andes_origen     202205                   5   \n",
       "4       780479776        CZA  stella_artois     202210                 138   \n",
       "...           ...        ...            ...        ...                 ...   \n",
       "58135   861986912        CZA        quilmes     202210                   1   \n",
       "58136  -649360721        CZA      budweiser     202306                   1   \n",
       "58137  1447806133        CZA        quilmes     202210                   1   \n",
       "58138  -784993401        CZA         brahma     202303                   1   \n",
       "58139   512727870        CZA         brahma     202202                   1   \n",
       "\n",
       "       channel_id          region business_y    sales  \n",
       "0      1625004744       PATAGONIA        CZA  5.34168  \n",
       "1     -1756013582         CENTRAL        CZA  3.09888  \n",
       "2      1625004744         LITORAL        CZA  0.19680  \n",
       "3     -1756013582  GBA MINORISTAS        CZA  0.68160  \n",
       "4      1625004744       PATAGONIA        CZA  4.54908  \n",
       "...           ...             ...        ...      ...  \n",
       "58135 -1756013582  GBA MINORISTAS        CZA  0.25948  \n",
       "58136   870267989         CENTRAL        CZA  0.02460  \n",
       "58137  1625004744             NOA        CZA  0.14190  \n",
       "58138  1625004744         LITORAL        CZA  0.19866  \n",
       "58139 -1756013582  GBA MINORISTAS        CZA  0.59352  \n",
       "\n",
       "[58140 rows x 9 columns]"
      ]
     },
     "execution_count": 45,
     "metadata": {},
     "output_type": "execute_result"
    }
   ],
   "source": [
    "pd.merge(df_coupons,df_ventas_tot,on=['cliente_id','brand','yearmonth'])"
   ]
  },
  {
   "cell_type": "code",
   "execution_count": 46,
   "id": "dcd138c4-92e4-489c-ab08-ac7079cdd64b",
   "metadata": {},
   "outputs": [
    {
     "data": {
      "text/plain": [
       "35617"
      ]
     },
     "execution_count": 46,
     "metadata": {},
     "output_type": "execute_result"
    }
   ],
   "source": [
    "clients = list(df_client['cliente_id'].unique())\n",
    "len(clients)"
   ]
  },
  {
   "cell_type": "markdown",
   "id": "0d986603-a783-46c4-ab04-e4aa5332f983",
   "metadata": {},
   "source": [
    "Para el caso de df_coupons vamos a agregar una columna que nos indique en que caso las ventas seran consideradas para el analisis de mkt. "
   ]
  },
  {
   "cell_type": "code",
   "execution_count": 47,
   "id": "373f701e-767b-42d0-b40b-f0f46c6d39f5",
   "metadata": {},
   "outputs": [],
   "source": [
    "df_coupons['participation_campein'] = df_coupons['sales_with_coupons'].apply(lambda x: 'Si' if x>5 else 'No')"
   ]
  },
  {
   "cell_type": "code",
   "execution_count": 48,
   "id": "ded99545-5d87-4278-8296-f46627f3559d",
   "metadata": {},
   "outputs": [],
   "source": [
    "df_coupons = df_coupons[(df_coupons['cliente_id'].isin(clients)) & (df_coupons['yearmonth'] > 202112)]"
   ]
  },
  {
   "cell_type": "code",
   "execution_count": 49,
   "id": "c52e0179-47d9-474b-814e-44d810b44aab",
   "metadata": {},
   "outputs": [
    {
     "data": {
      "text/plain": [
       "13729"
      ]
     },
     "execution_count": 49,
     "metadata": {},
     "output_type": "execute_result"
    }
   ],
   "source": [
    "df_coupons.cliente_id.nunique()"
   ]
  },
  {
   "cell_type": "code",
   "execution_count": 50,
   "id": "a13a92be-92ff-4a4b-8e4b-c4adfd4b1a7e",
   "metadata": {},
   "outputs": [
    {
     "data": {
      "text/html": [
       "<div>\n",
       "<style scoped>\n",
       "    .dataframe tbody tr th:only-of-type {\n",
       "        vertical-align: middle;\n",
       "    }\n",
       "\n",
       "    .dataframe tbody tr th {\n",
       "        vertical-align: top;\n",
       "    }\n",
       "\n",
       "    .dataframe thead th {\n",
       "        text-align: right;\n",
       "    }\n",
       "</style>\n",
       "<table border=\"1\" class=\"dataframe\">\n",
       "  <thead>\n",
       "    <tr style=\"text-align: right;\">\n",
       "      <th></th>\n",
       "      <th>cliente_id</th>\n",
       "      <th>business</th>\n",
       "      <th>brand</th>\n",
       "      <th>yearmonth</th>\n",
       "      <th>sales_with_coupons</th>\n",
       "      <th>participation_campein</th>\n",
       "    </tr>\n",
       "  </thead>\n",
       "  <tbody>\n",
       "    <tr>\n",
       "      <th>7</th>\n",
       "      <td>-189677826</td>\n",
       "      <td>CZA</td>\n",
       "      <td>quilmes</td>\n",
       "      <td>202305</td>\n",
       "      <td>4</td>\n",
       "      <td>No</td>\n",
       "    </tr>\n",
       "    <tr>\n",
       "      <th>23</th>\n",
       "      <td>-1380570683</td>\n",
       "      <td>CZA</td>\n",
       "      <td>stella_artois</td>\n",
       "      <td>202310</td>\n",
       "      <td>18</td>\n",
       "      <td>Si</td>\n",
       "    </tr>\n",
       "    <tr>\n",
       "      <th>29</th>\n",
       "      <td>780479776</td>\n",
       "      <td>CZA</td>\n",
       "      <td>quilmes</td>\n",
       "      <td>202304</td>\n",
       "      <td>314</td>\n",
       "      <td>Si</td>\n",
       "    </tr>\n",
       "    <tr>\n",
       "      <th>36</th>\n",
       "      <td>-1848249141</td>\n",
       "      <td>CZA</td>\n",
       "      <td>brahma</td>\n",
       "      <td>202310</td>\n",
       "      <td>43</td>\n",
       "      <td>Si</td>\n",
       "    </tr>\n",
       "    <tr>\n",
       "      <th>37</th>\n",
       "      <td>-593571610</td>\n",
       "      <td>CZA</td>\n",
       "      <td>andes_origen</td>\n",
       "      <td>202301</td>\n",
       "      <td>17</td>\n",
       "      <td>Si</td>\n",
       "    </tr>\n",
       "  </tbody>\n",
       "</table>\n",
       "</div>"
      ],
      "text/plain": [
       "    cliente_id business          brand  yearmonth  sales_with_coupons  \\\n",
       "7   -189677826      CZA        quilmes     202305                   4   \n",
       "23 -1380570683      CZA  stella_artois     202310                  18   \n",
       "29   780479776      CZA        quilmes     202304                 314   \n",
       "36 -1848249141      CZA         brahma     202310                  43   \n",
       "37  -593571610      CZA   andes_origen     202301                  17   \n",
       "\n",
       "   participation_campein  \n",
       "7                     No  \n",
       "23                    Si  \n",
       "29                    Si  \n",
       "36                    Si  \n",
       "37                    Si  "
      ]
     },
     "execution_count": 50,
     "metadata": {},
     "output_type": "execute_result"
    }
   ],
   "source": [
    "df_coupons.head()"
   ]
  },
  {
   "cell_type": "code",
   "execution_count": null,
   "id": "96c92838-9817-414b-ade0-5d8ff8036798",
   "metadata": {},
   "outputs": [],
   "source": []
  },
  {
   "cell_type": "markdown",
   "id": "155249a0-e586-4eb7-a463-0acd3e20f58e",
   "metadata": {},
   "source": [
    "## Analisis de los datos"
   ]
  },
  {
   "cell_type": "markdown",
   "id": "6b1c9286-dd60-4541-aead-36f9359b4527",
   "metadata": {},
   "source": [
    "Describes, groupby y diferentes graficos pueden ser utiles para observar el comportamiento de los datos."
   ]
  },
  {
   "cell_type": "code",
   "execution_count": 51,
   "id": "ab2ea076-aa7a-470f-9e2a-ceabe67960c3",
   "metadata": {},
   "outputs": [
    {
     "data": {
      "text/plain": [
       "yearmonth  brand        \n",
       "202201     brahma            7018\n",
       "202202     brahma            6243\n",
       "           budweiser         1092\n",
       "202203     brahma             689\n",
       "           budweiser         4542\n",
       "                            ...  \n",
       "202310     michelob          1276\n",
       "           patagonia         2573\n",
       "           quilmes          12287\n",
       "           stella_artois     7755\n",
       "           temple            1360\n",
       "Name: sales_with_coupons, Length: 204, dtype: int64"
      ]
     },
     "execution_count": 51,
     "metadata": {},
     "output_type": "execute_result"
    }
   ],
   "source": [
    "df_coupons.groupby(['yearmonth','brand'])['sales_with_coupons'].sum()"
   ]
  },
  {
   "cell_type": "code",
   "execution_count": 52,
   "id": "60774a14-013d-49f6-abf6-5aee6c0692c6",
   "metadata": {},
   "outputs": [
    {
     "data": {
      "text/html": [
       "<div>\n",
       "<style scoped>\n",
       "    .dataframe tbody tr th:only-of-type {\n",
       "        vertical-align: middle;\n",
       "    }\n",
       "\n",
       "    .dataframe tbody tr th {\n",
       "        vertical-align: top;\n",
       "    }\n",
       "\n",
       "    .dataframe thead th {\n",
       "        text-align: right;\n",
       "    }\n",
       "</style>\n",
       "<table border=\"1\" class=\"dataframe\">\n",
       "  <thead>\n",
       "    <tr style=\"text-align: right;\">\n",
       "      <th></th>\n",
       "      <th>count</th>\n",
       "      <th>mean</th>\n",
       "      <th>std</th>\n",
       "      <th>min</th>\n",
       "      <th>25%</th>\n",
       "      <th>50%</th>\n",
       "      <th>75%</th>\n",
       "      <th>max</th>\n",
       "    </tr>\n",
       "    <tr>\n",
       "      <th>region</th>\n",
       "      <th></th>\n",
       "      <th></th>\n",
       "      <th></th>\n",
       "      <th></th>\n",
       "      <th></th>\n",
       "      <th></th>\n",
       "      <th></th>\n",
       "      <th></th>\n",
       "    </tr>\n",
       "  </thead>\n",
       "  <tbody>\n",
       "    <tr>\n",
       "      <th>CENTRAL</th>\n",
       "      <td>218562.0</td>\n",
       "      <td>0.706065</td>\n",
       "      <td>3.958418</td>\n",
       "      <td>-1.66680</td>\n",
       "      <td>0.08520</td>\n",
       "      <td>0.233520</td>\n",
       "      <td>0.56760</td>\n",
       "      <td>652.75056</td>\n",
       "    </tr>\n",
       "    <tr>\n",
       "      <th>COSTA ATLANTICA</th>\n",
       "      <td>56624.0</td>\n",
       "      <td>2.026900</td>\n",
       "      <td>17.666121</td>\n",
       "      <td>-1.58928</td>\n",
       "      <td>0.11700</td>\n",
       "      <td>0.268380</td>\n",
       "      <td>0.72000</td>\n",
       "      <td>1843.08984</td>\n",
       "    </tr>\n",
       "    <tr>\n",
       "      <th>GBA MINORISTAS</th>\n",
       "      <td>300049.0</td>\n",
       "      <td>2.314099</td>\n",
       "      <td>24.831536</td>\n",
       "      <td>-18.00000</td>\n",
       "      <td>0.11352</td>\n",
       "      <td>0.347520</td>\n",
       "      <td>1.04760</td>\n",
       "      <td>2769.76584</td>\n",
       "    </tr>\n",
       "    <tr>\n",
       "      <th>LITORAL</th>\n",
       "      <td>401672.0</td>\n",
       "      <td>1.260227</td>\n",
       "      <td>7.242561</td>\n",
       "      <td>-2.04004</td>\n",
       "      <td>0.09840</td>\n",
       "      <td>0.261900</td>\n",
       "      <td>0.84000</td>\n",
       "      <td>1808.48712</td>\n",
       "    </tr>\n",
       "    <tr>\n",
       "      <th>NEA</th>\n",
       "      <td>73282.0</td>\n",
       "      <td>1.360494</td>\n",
       "      <td>10.816718</td>\n",
       "      <td>-0.91762</td>\n",
       "      <td>0.11700</td>\n",
       "      <td>0.299365</td>\n",
       "      <td>0.85200</td>\n",
       "      <td>794.29944</td>\n",
       "    </tr>\n",
       "    <tr>\n",
       "      <th>NOA</th>\n",
       "      <td>96293.0</td>\n",
       "      <td>1.634018</td>\n",
       "      <td>20.103528</td>\n",
       "      <td>-5.58444</td>\n",
       "      <td>0.08520</td>\n",
       "      <td>0.227040</td>\n",
       "      <td>0.60000</td>\n",
       "      <td>2269.96341</td>\n",
       "    </tr>\n",
       "    <tr>\n",
       "      <th>PATAGONIA</th>\n",
       "      <td>99985.0</td>\n",
       "      <td>1.910964</td>\n",
       "      <td>8.591776</td>\n",
       "      <td>-1.46460</td>\n",
       "      <td>0.12000</td>\n",
       "      <td>0.350400</td>\n",
       "      <td>1.14384</td>\n",
       "      <td>543.28560</td>\n",
       "    </tr>\n",
       "  </tbody>\n",
       "</table>\n",
       "</div>"
      ],
      "text/plain": [
       "                    count      mean        std       min      25%       50%  \\\n",
       "region                                                                        \n",
       "CENTRAL          218562.0  0.706065   3.958418  -1.66680  0.08520  0.233520   \n",
       "COSTA ATLANTICA   56624.0  2.026900  17.666121  -1.58928  0.11700  0.268380   \n",
       "GBA MINORISTAS   300049.0  2.314099  24.831536 -18.00000  0.11352  0.347520   \n",
       "LITORAL          401672.0  1.260227   7.242561  -2.04004  0.09840  0.261900   \n",
       "NEA               73282.0  1.360494  10.816718  -0.91762  0.11700  0.299365   \n",
       "NOA               96293.0  1.634018  20.103528  -5.58444  0.08520  0.227040   \n",
       "PATAGONIA         99985.0  1.910964   8.591776  -1.46460  0.12000  0.350400   \n",
       "\n",
       "                     75%         max  \n",
       "region                                \n",
       "CENTRAL          0.56760   652.75056  \n",
       "COSTA ATLANTICA  0.72000  1843.08984  \n",
       "GBA MINORISTAS   1.04760  2769.76584  \n",
       "LITORAL          0.84000  1808.48712  \n",
       "NEA              0.85200   794.29944  \n",
       "NOA              0.60000  2269.96341  \n",
       "PATAGONIA        1.14384   543.28560  "
      ]
     },
     "execution_count": 52,
     "metadata": {},
     "output_type": "execute_result"
    }
   ],
   "source": [
    "df_ventas_tot.groupby('region')['sales'].describe()"
   ]
  },
  {
   "cell_type": "code",
   "execution_count": 53,
   "id": "70178825-d8da-40c2-a7b8-251c403f75db",
   "metadata": {},
   "outputs": [
    {
     "data": {
      "text/plain": [
       "yearmonth  participation_campein\n",
       "202201     No                        604\n",
       "           Si                         96\n",
       "202202     No                        793\n",
       "           Si                        111\n",
       "202203     No                        791\n",
       "           Si                         83\n",
       "202204     No                        742\n",
       "           Si                         71\n",
       "202205     No                       3937\n",
       "           Si                        397\n",
       "202206     No                       4396\n",
       "           Si                        444\n",
       "202207     No                       2070\n",
       "           Si                        843\n",
       "202208     No                       1521\n",
       "           Si                        501\n",
       "202209     No                       1441\n",
       "           Si                        579\n",
       "202210     No                       1340\n",
       "           Si                        437\n",
       "202211     No                       1295\n",
       "           Si                        529\n",
       "202212     No                       1474\n",
       "           Si                        731\n",
       "202301     No                       1438\n",
       "           Si                        510\n",
       "202302     No                       1607\n",
       "           Si                        656\n",
       "202303     No                       2518\n",
       "           Si                        859\n",
       "202304     No                       2746\n",
       "           Si                        873\n",
       "202305     No                       2987\n",
       "           Si                        916\n",
       "202306     No                       2366\n",
       "           Si                        819\n",
       "202307     No                       1806\n",
       "           Si                        826\n",
       "202308     No                       2775\n",
       "           Si                       1206\n",
       "202309     No                       2787\n",
       "           Si                       1258\n",
       "202310     No                       1792\n",
       "           Si                        900\n",
       "Name: cliente_id, dtype: int64"
      ]
     },
     "execution_count": 53,
     "metadata": {},
     "output_type": "execute_result"
    }
   ],
   "source": [
    "df_coupons.groupby(['yearmonth','participation_campein'])['cliente_id'].nunique()"
   ]
  },
  {
   "cell_type": "markdown",
   "id": "8193122f-7e41-4b57-8b80-40ea91f1b673",
   "metadata": {},
   "source": [
    "### Graficos simples"
   ]
  },
  {
   "cell_type": "markdown",
   "id": "c162e47b-fe51-4a29-a588-636e10e0464c",
   "metadata": {},
   "source": [
    "Con el countplot se visualiza la frecuencia de los datos. "
   ]
  },
  {
   "cell_type": "code",
   "execution_count": 54,
   "id": "89fd96c7-eb75-472a-983c-2efc7870bdbd",
   "metadata": {},
   "outputs": [
    {
     "data": {
      "image/png": "[encoded data removed]",
      "text/plain": [
       "<Figure size 864x576 with 1 Axes>"
      ]
     },
     "metadata": {
      "needs_background": "light"
     },
     "output_type": "display_data"
    }
   ],
   "source": [
    "fig = plt.figure(figsize=(12,8))\n",
    "seaborn.countplot(data=df_coupons, x='yearmonth',\n",
    "                color='blue')\n",
    "plt.xticks(rotation=45)\n",
    "plt.ylabel(\"Conteo de observaciones por periodo\")\n",
    "plt.xlabel(\"Periodo\")\n",
    "plt.ticklabel_format(style='plain', axis='y')"
   ]
  },
  {
   "cell_type": "markdown",
   "id": "e6f00ccb-dcec-4486-9714-60d902680649",
   "metadata": {},
   "source": [
    "El barplot nos sirve para visualizar una determinada medida estadistica, la cual puede ser mean."
   ]
  },
  {
   "cell_type": "code",
   "execution_count": 55,
   "id": "17634109-026e-4604-baf5-391fec61338b",
   "metadata": {},
   "outputs": [
    {
     "data": {
      "image/png": "[encoded data removed]",
      "text/plain": [
       "<Figure size 720x432 with 1 Axes>"
      ]
     },
     "metadata": {
      "needs_background": "light"
     },
     "output_type": "display_data"
    }
   ],
   "source": [
    "fig = plt.figure(figsize=(10,6))\n",
    "seaborn.barplot(data=df_ventas_tot,\n",
    "                y='sales', x='yearmonth',\n",
    "                estimator=numpy.mean)\n",
    "plt.xticks(rotation=45)\n",
    "plt.show()"
   ]
  },
  {
   "cell_type": "markdown",
   "id": "b8818bdf-509d-4324-8776-ce42b2eefb17",
   "metadata": {},
   "source": [
    "Con el boxplot podemos observar la distribucion que asume una determinada variable, y tambien compararla."
   ]
  },
  {
   "cell_type": "code",
   "execution_count": 56,
   "id": "c55c78d1-91d7-440d-8031-1d22667446e3",
   "metadata": {},
   "outputs": [
    {
     "data": {
      "text/plain": [
       "<AxesSubplot:xlabel='sales'>"
      ]
     },
     "execution_count": 56,
     "metadata": {},
     "output_type": "execute_result"
    },
    {
     "data": {
      "image/png": "[encoded data removed]",
      "text/plain": [
       "<Figure size 864x288 with 1 Axes>"
      ]
     },
     "metadata": {
      "needs_background": "light"
     },
     "output_type": "display_data"
    }
   ],
   "source": [
    "plt.figure(figsize=(12, 4))\n",
    "seaborn.boxplot(x=df_ventas_tot[df_ventas_tot['yearmonth'] > 202212]['sales'])"
   ]
  },
  {
   "cell_type": "markdown",
   "id": "bfef4035-bbe9-44af-a8fd-931db2119bee",
   "metadata": {},
   "source": [
    "Queremos visualizar la distribucion de Sales por los diferentes meses del año, para eso debemos transformar la variable yearmonth en string, para que sea tomada como categorica, y no como numerica (por este motivo es importante chequear el tipo de datos con los que contamos)."
   ]
  },
  {
   "cell_type": "code",
   "execution_count": 57,
   "id": "233bdcd1-3b4b-4e8c-9cec-39b270e1dac8",
   "metadata": {},
   "outputs": [
    {
     "name": "stderr",
     "output_type": "stream",
     "text": [
      "/var/folders/7p/g2x25rt54zj85__vsg7pyp3c0000gn/T/ipykernel_19588/2999594418.py:2: SettingWithCopyWarning: \n",
      "A value is trying to be set on a copy of a slice from a DataFrame.\n",
      "Try using .loc[row_indexer,col_indexer] = value instead\n",
      "\n",
      "See the caveats in the documentation: https://pandas.pydata.org/pandas-docs/stable/user_guide/indexing.html#returning-a-view-versus-a-copy\n",
      "  df_ventas_2023['yearmonth'] =  df_ventas_2023.yearmonth.apply(lambda x: str(x))\n"
     ]
    }
   ],
   "source": [
    "df_ventas_2023 = df_ventas_tot[df_ventas_tot['yearmonth'] > 202212]\n",
    "df_ventas_2023['yearmonth'] =  df_ventas_2023.yearmonth.apply(lambda x: str(x))"
   ]
  },
  {
   "cell_type": "code",
   "execution_count": 58,
   "id": "50dcb7d0-c240-4720-bd27-49dbe9f87618",
   "metadata": {},
   "outputs": [
    {
     "data": {
      "image/png": "[encoded data removed]",
      "text/plain": [
       "<Figure size 864x576 with 1 Axes>"
      ]
     },
     "metadata": {
      "needs_background": "light"
     },
     "output_type": "display_data"
    }
   ],
   "source": [
    "plt.figure(figsize=(12, 8))\n",
    "seaborn.boxplot(data= df_ventas_2023,\n",
    "                x='sales',\n",
    "                y='yearmonth',\n",
    "                color = 'orangered')\n",
    "plt.ticklabel_format(style='plain', axis='x')\n",
    "plt.show()"
   ]
  },
  {
   "cell_type": "code",
   "execution_count": 59,
   "id": "1b09d7ca-293f-4f56-9dfe-90b3f249354b",
   "metadata": {},
   "outputs": [
    {
     "data": {
      "text/plain": [
       "count    405748.000000\n",
       "mean          1.322371\n",
       "std          12.744618\n",
       "min          -5.584440\n",
       "25%           0.085200\n",
       "50%           0.240000\n",
       "75%           0.720000\n",
       "max        2269.963410\n",
       "Name: sales, dtype: float64"
      ]
     },
     "execution_count": 59,
     "metadata": {},
     "output_type": "execute_result"
    }
   ],
   "source": [
    "df_ventas_2023.sales.describe()"
   ]
  },
  {
   "cell_type": "code",
   "execution_count": 60,
   "id": "74427211-9b6a-48b2-8217-ae79a9cf4464",
   "metadata": {},
   "outputs": [
    {
     "data": {
      "text/html": [
       "<div>\n",
       "<style scoped>\n",
       "    .dataframe tbody tr th:only-of-type {\n",
       "        vertical-align: middle;\n",
       "    }\n",
       "\n",
       "    .dataframe tbody tr th {\n",
       "        vertical-align: top;\n",
       "    }\n",
       "\n",
       "    .dataframe thead th {\n",
       "        text-align: right;\n",
       "    }\n",
       "</style>\n",
       "<table border=\"1\" class=\"dataframe\">\n",
       "  <thead>\n",
       "    <tr style=\"text-align: right;\">\n",
       "      <th></th>\n",
       "      <th>count</th>\n",
       "      <th>mean</th>\n",
       "      <th>std</th>\n",
       "      <th>min</th>\n",
       "      <th>25%</th>\n",
       "      <th>50%</th>\n",
       "      <th>75%</th>\n",
       "      <th>max</th>\n",
       "    </tr>\n",
       "    <tr>\n",
       "      <th>yearmonth</th>\n",
       "      <th></th>\n",
       "      <th></th>\n",
       "      <th></th>\n",
       "      <th></th>\n",
       "      <th></th>\n",
       "      <th></th>\n",
       "      <th></th>\n",
       "      <th></th>\n",
       "    </tr>\n",
       "  </thead>\n",
       "  <tbody>\n",
       "    <tr>\n",
       "      <th>202301</th>\n",
       "      <td>67561.0</td>\n",
       "      <td>1.711594</td>\n",
       "      <td>16.942269</td>\n",
       "      <td>-1.29120</td>\n",
       "      <td>0.11352</td>\n",
       "      <td>0.31200</td>\n",
       "      <td>0.92700</td>\n",
       "      <td>2269.96341</td>\n",
       "    </tr>\n",
       "    <tr>\n",
       "      <th>202302</th>\n",
       "      <td>67887.0</td>\n",
       "      <td>1.467038</td>\n",
       "      <td>11.529431</td>\n",
       "      <td>-1.18260</td>\n",
       "      <td>0.11352</td>\n",
       "      <td>0.27318</td>\n",
       "      <td>0.84000</td>\n",
       "      <td>832.82772</td>\n",
       "    </tr>\n",
       "    <tr>\n",
       "      <th>202303</th>\n",
       "      <td>74251.0</td>\n",
       "      <td>1.499368</td>\n",
       "      <td>12.395076</td>\n",
       "      <td>-5.58444</td>\n",
       "      <td>0.09840</td>\n",
       "      <td>0.26460</td>\n",
       "      <td>0.83352</td>\n",
       "      <td>1088.21352</td>\n",
       "    </tr>\n",
       "    <tr>\n",
       "      <th>202304</th>\n",
       "      <td>66255.0</td>\n",
       "      <td>1.205120</td>\n",
       "      <td>12.434534</td>\n",
       "      <td>-1.07496</td>\n",
       "      <td>0.08505</td>\n",
       "      <td>0.23052</td>\n",
       "      <td>0.65028</td>\n",
       "      <td>1570.08259</td>\n",
       "    </tr>\n",
       "    <tr>\n",
       "      <th>202305</th>\n",
       "      <td>67569.0</td>\n",
       "      <td>1.082404</td>\n",
       "      <td>11.822171</td>\n",
       "      <td>-1.03000</td>\n",
       "      <td>0.05680</td>\n",
       "      <td>0.22704</td>\n",
       "      <td>0.61200</td>\n",
       "      <td>1293.73451</td>\n",
       "    </tr>\n",
       "    <tr>\n",
       "      <th>202306</th>\n",
       "      <td>62225.0</td>\n",
       "      <td>0.916157</td>\n",
       "      <td>10.112290</td>\n",
       "      <td>-2.80016</td>\n",
       "      <td>0.07568</td>\n",
       "      <td>0.20812</td>\n",
       "      <td>0.58260</td>\n",
       "      <td>1443.35789</td>\n",
       "    </tr>\n",
       "  </tbody>\n",
       "</table>\n",
       "</div>"
      ],
      "text/plain": [
       "             count      mean        std      min      25%      50%      75%  \\\n",
       "yearmonth                                                                     \n",
       "202301     67561.0  1.711594  16.942269 -1.29120  0.11352  0.31200  0.92700   \n",
       "202302     67887.0  1.467038  11.529431 -1.18260  0.11352  0.27318  0.84000   \n",
       "202303     74251.0  1.499368  12.395076 -5.58444  0.09840  0.26460  0.83352   \n",
       "202304     66255.0  1.205120  12.434534 -1.07496  0.08505  0.23052  0.65028   \n",
       "202305     67569.0  1.082404  11.822171 -1.03000  0.05680  0.22704  0.61200   \n",
       "202306     62225.0  0.916157  10.112290 -2.80016  0.07568  0.20812  0.58260   \n",
       "\n",
       "                  max  \n",
       "yearmonth              \n",
       "202301     2269.96341  \n",
       "202302      832.82772  \n",
       "202303     1088.21352  \n",
       "202304     1570.08259  \n",
       "202305     1293.73451  \n",
       "202306     1443.35789  "
      ]
     },
     "execution_count": 60,
     "metadata": {},
     "output_type": "execute_result"
    }
   ],
   "source": [
    "df_ventas_2023.groupby('yearmonth').sales.describe()"
   ]
  },
  {
   "cell_type": "markdown",
   "id": "9f07ebff-a038-4c69-82d6-d4cadebc544d",
   "metadata": {},
   "source": [
    "Una forma de quitar los valores extremos es quedandonos con los valores que tienen una distribucion que representa a un determinado % de la muestra, por ejemplo 98%."
   ]
  },
  {
   "cell_type": "code",
   "execution_count": 61,
   "id": "92fa2f19-58e6-41d1-8f5d-7647df2d84a6",
   "metadata": {},
   "outputs": [],
   "source": [
    "quantile = 0.98"
   ]
  },
  {
   "cell_type": "code",
   "execution_count": 62,
   "id": "888ff665-f173-4214-98c6-8ee42fcb4a5f",
   "metadata": {},
   "outputs": [
    {
     "data": {
      "text/plain": [
       "7.767599999999999"
      ]
     },
     "execution_count": 62,
     "metadata": {},
     "output_type": "execute_result"
    }
   ],
   "source": [
    "df_ventas_2023.sales.quantile(quantile)"
   ]
  },
  {
   "cell_type": "code",
   "execution_count": 63,
   "id": "550cec34-a500-4627-84b8-1f9537d5b44f",
   "metadata": {},
   "outputs": [
    {
     "data": {
      "image/png": "[encoded data removed]",
      "text/plain": [
       "<Figure size 864x576 with 1 Axes>"
      ]
     },
     "metadata": {
      "needs_background": "light"
     },
     "output_type": "display_data"
    }
   ],
   "source": [
    "plt.figure(figsize=(12, 8))\n",
    "seaborn.boxplot(data= df_ventas_2023[df_ventas_2023['sales'] < df_ventas_2023.sales.quantile(quantile)],\n",
    "                x='sales',\n",
    "                y='yearmonth',\n",
    "                color = 'orangered')\n",
    "plt.ticklabel_format(style='plain', axis='x')\n",
    "plt.show()"
   ]
  },
  {
   "cell_type": "code",
   "execution_count": 64,
   "id": "cee38319-f29a-420f-b4f5-79aa0535ab47",
   "metadata": {},
   "outputs": [
    {
     "data": {
      "text/html": [
       "<div>\n",
       "<style scoped>\n",
       "    .dataframe tbody tr th:only-of-type {\n",
       "        vertical-align: middle;\n",
       "    }\n",
       "\n",
       "    .dataframe tbody tr th {\n",
       "        vertical-align: top;\n",
       "    }\n",
       "\n",
       "    .dataframe thead th {\n",
       "        text-align: right;\n",
       "    }\n",
       "</style>\n",
       "<table border=\"1\" class=\"dataframe\">\n",
       "  <thead>\n",
       "    <tr style=\"text-align: right;\">\n",
       "      <th></th>\n",
       "      <th>count</th>\n",
       "      <th>mean</th>\n",
       "      <th>std</th>\n",
       "      <th>min</th>\n",
       "      <th>25%</th>\n",
       "      <th>50%</th>\n",
       "      <th>75%</th>\n",
       "      <th>max</th>\n",
       "    </tr>\n",
       "    <tr>\n",
       "      <th>yearmonth</th>\n",
       "      <th></th>\n",
       "      <th></th>\n",
       "      <th></th>\n",
       "      <th></th>\n",
       "      <th></th>\n",
       "      <th></th>\n",
       "      <th></th>\n",
       "      <th></th>\n",
       "    </tr>\n",
       "  </thead>\n",
       "  <tbody>\n",
       "    <tr>\n",
       "      <th>202301</th>\n",
       "      <td>65606.0</td>\n",
       "      <td>0.732270</td>\n",
       "      <td>1.143328</td>\n",
       "      <td>-1.29120</td>\n",
       "      <td>0.11352</td>\n",
       "      <td>0.28380</td>\n",
       "      <td>0.820560</td>\n",
       "      <td>7.76112</td>\n",
       "    </tr>\n",
       "    <tr>\n",
       "      <th>202302</th>\n",
       "      <td>66367.0</td>\n",
       "      <td>0.694313</td>\n",
       "      <td>1.097613</td>\n",
       "      <td>-1.18260</td>\n",
       "      <td>0.10406</td>\n",
       "      <td>0.25560</td>\n",
       "      <td>0.777325</td>\n",
       "      <td>7.75218</td>\n",
       "    </tr>\n",
       "    <tr>\n",
       "      <th>202303</th>\n",
       "      <td>72537.0</td>\n",
       "      <td>0.691968</td>\n",
       "      <td>1.109776</td>\n",
       "      <td>-5.58444</td>\n",
       "      <td>0.09840</td>\n",
       "      <td>0.25244</td>\n",
       "      <td>0.767400</td>\n",
       "      <td>7.75860</td>\n",
       "    </tr>\n",
       "    <tr>\n",
       "      <th>202304</th>\n",
       "      <td>65116.0</td>\n",
       "      <td>0.573758</td>\n",
       "      <td>0.970687</td>\n",
       "      <td>-1.07496</td>\n",
       "      <td>0.08160</td>\n",
       "      <td>0.22704</td>\n",
       "      <td>0.600000</td>\n",
       "      <td>7.76400</td>\n",
       "    </tr>\n",
       "    <tr>\n",
       "      <th>202305</th>\n",
       "      <td>66551.0</td>\n",
       "      <td>0.558400</td>\n",
       "      <td>0.959273</td>\n",
       "      <td>-1.03000</td>\n",
       "      <td>0.05676</td>\n",
       "      <td>0.21300</td>\n",
       "      <td>0.593520</td>\n",
       "      <td>7.76514</td>\n",
       "    </tr>\n",
       "    <tr>\n",
       "      <th>202306</th>\n",
       "      <td>61455.0</td>\n",
       "      <td>0.517078</td>\n",
       "      <td>0.895730</td>\n",
       "      <td>-2.80016</td>\n",
       "      <td>0.07098</td>\n",
       "      <td>0.19872</td>\n",
       "      <td>0.567600</td>\n",
       "      <td>7.75320</td>\n",
       "    </tr>\n",
       "  </tbody>\n",
       "</table>\n",
       "</div>"
      ],
      "text/plain": [
       "             count      mean       std      min      25%      50%       75%  \\\n",
       "yearmonth                                                                     \n",
       "202301     65606.0  0.732270  1.143328 -1.29120  0.11352  0.28380  0.820560   \n",
       "202302     66367.0  0.694313  1.097613 -1.18260  0.10406  0.25560  0.777325   \n",
       "202303     72537.0  0.691968  1.109776 -5.58444  0.09840  0.25244  0.767400   \n",
       "202304     65116.0  0.573758  0.970687 -1.07496  0.08160  0.22704  0.600000   \n",
       "202305     66551.0  0.558400  0.959273 -1.03000  0.05676  0.21300  0.593520   \n",
       "202306     61455.0  0.517078  0.895730 -2.80016  0.07098  0.19872  0.567600   \n",
       "\n",
       "               max  \n",
       "yearmonth           \n",
       "202301     7.76112  \n",
       "202302     7.75218  \n",
       "202303     7.75860  \n",
       "202304     7.76400  \n",
       "202305     7.76514  \n",
       "202306     7.75320  "
      ]
     },
     "execution_count": 64,
     "metadata": {},
     "output_type": "execute_result"
    }
   ],
   "source": [
    "df_ventas_2023[df_ventas_2023['sales'] < df_ventas_2023.sales.quantile(quantile)].groupby('yearmonth').sales.describe()"
   ]
  }
 ],
 "metadata": {
  "kernelspec": {
   "display_name": "Python 3 (ipykernel)",
   "language": "python",
   "name": "python3"
  },
  "language_info": {
   "codemirror_mode": {
    "name": "ipython",
    "version": 3
   },
   "file_extension": ".py",
   "mimetype": "text/x-python",
   "name": "python",
   "nbconvert_exporter": "python",
   "pygments_lexer": "ipython3",
   "version": "3.11.7"
  }
 },
 "nbformat": 4,
 "nbformat_minor": 5
}
