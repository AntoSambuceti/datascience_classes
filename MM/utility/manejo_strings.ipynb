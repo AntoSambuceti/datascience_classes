{
 "cells": [
  {
   "cell_type": "markdown",
   "id": "27e23fc5-824c-4528-b6b4-4739762f9842",
   "metadata": {
    "id": "27e23fc5-824c-4528-b6b4-4739762f9842"
   },
   "source": [
    "# Strings"
   ]
  },
  {
   "cell_type": "code",
   "execution_count": 5,
   "id": "6bbd32ab-5211-457a-803f-7013e6678ad2",
   "metadata": {
    "id": "6bbd32ab-5211-457a-803f-7013e6678ad2"
   },
   "outputs": [],
   "source": [
    "s1 = 'numero de telefono' #variable\n",
    "s2 = 12345\n",
    "s3 = 6789"
   ]
  },
  {
   "cell_type": "code",
   "execution_count": 6,
   "id": "5243649a-9916-4129-9bf8-9faa703d9c4d",
   "metadata": {
    "colab": {
     "base_uri": "https://localhost:8080/"
    },
    "id": "5243649a-9916-4129-9bf8-9faa703d9c4d",
    "outputId": "647e828b-96ea-49f7-8e19-45632915ca44"
   },
   "outputs": [
    {
     "data": {
      "text/plain": [
       "str"
      ]
     },
     "execution_count": 6,
     "metadata": {},
     "output_type": "execute_result"
    }
   ],
   "source": [
    "type(s1) #esto es un string"
   ]
  },
  {
   "cell_type": "code",
   "execution_count": 7,
   "id": "41b86290-28c4-405a-a4fb-8b60929ad8ba",
   "metadata": {
    "colab": {
     "base_uri": "https://localhost:8080/"
    },
    "id": "41b86290-28c4-405a-a4fb-8b60929ad8ba",
    "outputId": "b12f8ab5-99f0-4a88-da28-c41fe02fd4f0"
   },
   "outputs": [
    {
     "data": {
      "text/plain": [
       "int"
      ]
     },
     "execution_count": 7,
     "metadata": {},
     "output_type": "execute_result"
    }
   ],
   "source": [
    "type(s2) #esto no es un string"
   ]
  },
  {
   "cell_type": "code",
   "execution_count": 8,
   "id": "9c974bf2-c00e-4b5b-9b85-2fe24e86f56c",
   "metadata": {
    "colab": {
     "base_uri": "https://localhost:8080/"
    },
    "id": "9c974bf2-c00e-4b5b-9b85-2fe24e86f56c",
    "outputId": "81068380-1b1b-459e-8164-8a3f05a4283a"
   },
   "outputs": [
    {
     "data": {
      "text/plain": [
       "str"
      ]
     },
     "execution_count": 8,
     "metadata": {},
     "output_type": "execute_result"
    }
   ],
   "source": [
    "type(str(s2)) #esto es un string"
   ]
  },
  {
   "cell_type": "code",
   "execution_count": 9,
   "id": "wD6rGxmxZQq8",
   "metadata": {
    "colab": {
     "base_uri": "https://localhost:8080/"
    },
    "id": "wD6rGxmxZQq8",
    "outputId": "d15c66a1-1cf6-4656-dc7b-dbaa74a707a3"
   },
   "outputs": [
    {
     "data": {
      "text/plain": [
       "int"
      ]
     },
     "execution_count": 9,
     "metadata": {},
     "output_type": "execute_result"
    }
   ],
   "source": [
    "type(s2)"
   ]
  },
  {
   "cell_type": "code",
   "execution_count": 10,
   "id": "EqGi0fA5ZeFE",
   "metadata": {
    "colab": {
     "base_uri": "https://localhost:8080/"
    },
    "id": "EqGi0fA5ZeFE",
    "outputId": "b3a25a9d-6c53-4b1f-8f5e-af21362e6923"
   },
   "outputs": [
    {
     "data": {
      "text/plain": [
       "int"
      ]
     },
     "execution_count": 10,
     "metadata": {},
     "output_type": "execute_result"
    }
   ],
   "source": [
    "type(s3)"
   ]
  },
  {
   "cell_type": "code",
   "execution_count": 11,
   "id": "irB6qaSKZeCU",
   "metadata": {
    "id": "irB6qaSKZeCU"
   },
   "outputs": [],
   "source": [
    "s3 = str(s3)"
   ]
  },
  {
   "cell_type": "code",
   "execution_count": 12,
   "id": "h_9Llt5AZpNN",
   "metadata": {
    "colab": {
     "base_uri": "https://localhost:8080/"
    },
    "id": "h_9Llt5AZpNN",
    "outputId": "d9f17960-c6e2-48ca-bae3-4f05b0a8ef80"
   },
   "outputs": [
    {
     "data": {
      "text/plain": [
       "str"
      ]
     },
     "execution_count": 12,
     "metadata": {},
     "output_type": "execute_result"
    }
   ],
   "source": [
    "type(s3)"
   ]
  },
  {
   "cell_type": "markdown",
   "id": "f8c1bf0a-8342-4a08-b16f-6c85ac26b46c",
   "metadata": {
    "id": "f8c1bf0a-8342-4a08-b16f-6c85ac26b46c"
   },
   "source": [
    "## Concatenacion de strings"
   ]
  },
  {
   "cell_type": "code",
   "execution_count": 14,
   "id": "611ce660-12a3-4c7c-a890-aa30aa097c4a",
   "metadata": {
    "colab": {
     "base_uri": "https://localhost:8080/"
    },
    "id": "611ce660-12a3-4c7c-a890-aa30aa097c4a",
    "outputId": "7cd8b7ab-7bca-45ec-983b-c68e94ae18d5"
   },
   "outputs": [
    {
     "name": "stdout",
     "output_type": "stream",
     "text": [
      "numero de telefono 12345\n"
     ]
    }
   ],
   "source": [
    "print(s1, s2 )"
   ]
  },
  {
   "cell_type": "code",
   "execution_count": 15,
   "id": "bbda9890-6b55-4bdc-8237-f6abf3bc3036",
   "metadata": {
    "colab": {
     "base_uri": "https://localhost:8080/",
     "height": 35
    },
    "id": "bbda9890-6b55-4bdc-8237-f6abf3bc3036",
    "outputId": "8f4d9282-2244-49b2-9220-670e3c897d31"
   },
   "outputs": [
    {
     "data": {
      "text/plain": [
       "'numero de telefono: 12345'"
      ]
     },
     "execution_count": 15,
     "metadata": {},
     "output_type": "execute_result"
    }
   ],
   "source": [
    "s1 + ': ' + str(s2) #concatener strings sumandolos #Si no nombro a la variable s2 como str y la nombro solamente s2 me va a dar error, porque es originalmente Entero"
   ]
  },
  {
   "cell_type": "code",
   "execution_count": 16,
   "id": "81f47c72-ef6c-40d1-a67a-739f30fc57a0",
   "metadata": {
    "colab": {
     "base_uri": "https://localhost:8080/"
    },
    "id": "81f47c72-ef6c-40d1-a67a-739f30fc57a0",
    "outputId": "1096849b-c434-4abf-ea21-3fa964e25960"
   },
   "outputs": [
    {
     "name": "stdout",
     "output_type": "stream",
     "text": [
      "hola como andas?\n",
      "bien y vos?\n"
     ]
    }
   ],
   "source": [
    "print('hola como andas?\\nbien y vos?') ## \\n salto de linea"
   ]
  },
  {
   "cell_type": "code",
   "execution_count": 17,
   "id": "mAE_UPa2brHV",
   "metadata": {
    "colab": {
     "base_uri": "https://localhost:8080/"
    },
    "id": "mAE_UPa2brHV",
    "outputId": "d9e9f3bf-ed28-4a1b-dee9-f24be891dbb4"
   },
   "outputs": [
    {
     "name": "stdout",
     "output_type": "stream",
     "text": [
      "USD 12.000\n",
      "USD 13.000\n"
     ]
    }
   ],
   "source": [
    "print('USD 12.000\\nUSD 13.000')"
   ]
  },
  {
   "cell_type": "markdown",
   "id": "7f2d7331-a8fc-4618-8348-2fb1b2eecc93",
   "metadata": {
    "id": "7f2d7331-a8fc-4618-8348-2fb1b2eecc93"
   },
   "source": [
    "## Repeticion de strings"
   ]
  },
  {
   "cell_type": "code",
   "execution_count": 19,
   "id": "99336f09-ba97-4816-9b56-2e29b61171ac",
   "metadata": {
    "colab": {
     "base_uri": "https://localhost:8080/",
     "height": 35
    },
    "id": "99336f09-ba97-4816-9b56-2e29b61171ac",
    "outputId": "c3aa552e-ab7f-4048-af90-f9af588f7bed"
   },
   "outputs": [
    {
     "data": {
      "text/plain": [
       "'numero de telefono numero de telefono numero de telefono numero de telefono numero de telefono '"
      ]
     },
     "execution_count": 19,
     "metadata": {},
     "output_type": "execute_result"
    }
   ],
   "source": [
    "(s1 + ' ')* 5"
   ]
  },
  {
   "cell_type": "code",
   "execution_count": 20,
   "id": "FSTTgGJqcI-D",
   "metadata": {
    "colab": {
     "base_uri": "https://localhost:8080/",
     "height": 35
    },
    "id": "FSTTgGJqcI-D",
    "outputId": "8b1902d6-69df-4243-b34b-160d424c4719"
   },
   "outputs": [
    {
     "data": {
      "text/plain": [
       "'Martín Martín Martín Martín Martín '"
      ]
     },
     "execution_count": 20,
     "metadata": {},
     "output_type": "execute_result"
    }
   ],
   "source": [
    "('Martín ')*5"
   ]
  },
  {
   "cell_type": "markdown",
   "id": "b457e358-1d2d-4ec6-8b7c-d92ef626e15c",
   "metadata": {
    "id": "b457e358-1d2d-4ec6-8b7c-d92ef626e15c"
   },
   "source": [
    "## Funcion format"
   ]
  },
  {
   "cell_type": "code",
   "execution_count": 22,
   "id": "952871c6-67f6-4ea4-8e01-bbaaa67f5de0",
   "metadata": {
    "colab": {
     "base_uri": "https://localhost:8080/"
    },
    "id": "952871c6-67f6-4ea4-8e01-bbaaa67f5de0",
    "outputId": "7997af08-2d40-40db-b1c3-bd1ea9e34ffb"
   },
   "outputs": [
    {
     "name": "stdout",
     "output_type": "stream",
     "text": [
      "mi numero de sesion es: 12345\n"
     ]
    }
   ],
   "source": [
    "print('mi numero de sesion es: {}'.format(s2)) #esta es la forma en la que puede convivir un str + un entero"
   ]
  },
  {
   "cell_type": "code",
   "execution_count": 23,
   "id": "46e42325-17fc-449d-8083-27e51bd89609",
   "metadata": {
    "colab": {
     "base_uri": "https://localhost:8080/",
     "height": 35
    },
    "id": "46e42325-17fc-449d-8083-27e51bd89609",
    "outputId": "88896fc6-fc02-4a8a-ed6f-56a6e605739b"
   },
   "outputs": [
    {
     "data": {
      "text/plain": [
       "'mi numero de sesion es: 12345'"
      ]
     },
     "execution_count": 23,
     "metadata": {},
     "output_type": "execute_result"
    }
   ],
   "source": [
    "f'mi numero de sesion es: {s2}' #esto es el str, mientras que lo de arriba es el print de un str"
   ]
  },
  {
   "cell_type": "markdown",
   "id": "9ee334fb-2914-41b1-b8e1-52ba07c85f20",
   "metadata": {
    "id": "9ee334fb-2914-41b1-b8e1-52ba07c85f20"
   },
   "source": [
    "## Substrings"
   ]
  },
  {
   "cell_type": "code",
   "execution_count": 25,
   "id": "5d6d69b5-d3a4-4cdc-9858-743e4e5c96ff",
   "metadata": {
    "id": "5d6d69b5-d3a4-4cdc-9858-743e4e5c96ff"
   },
   "outputs": [],
   "source": [
    "s = 'mi mama es maestra'"
   ]
  },
  {
   "cell_type": "code",
   "execution_count": 26,
   "id": "x_yFIPzCdNrL",
   "metadata": {
    "colab": {
     "base_uri": "https://localhost:8080/"
    },
    "id": "x_yFIPzCdNrL",
    "outputId": "b6087bc7-51e6-4fe3-d2ba-bb45212648a8"
   },
   "outputs": [
    {
     "data": {
      "text/plain": [
       "18"
      ]
     },
     "execution_count": 26,
     "metadata": {},
     "output_type": "execute_result"
    }
   ],
   "source": [
    "len(s) #son los caracteres totales de ese str #len se aplica no solo a variables sino a listados, revisar!"
   ]
  },
  {
   "cell_type": "code",
   "execution_count": 27,
   "id": "ed6a7f98-d7a9-4b68-9921-f4983c908987",
   "metadata": {
    "colab": {
     "base_uri": "https://localhost:8080/",
     "height": 35
    },
    "id": "ed6a7f98-d7a9-4b68-9921-f4983c908987",
    "outputId": "4fe1e615-28bd-4813-b2d3-c3b47b68ef0a"
   },
   "outputs": [
    {
     "data": {
      "text/plain": [
       "'m'"
      ]
     },
     "execution_count": 27,
     "metadata": {},
     "output_type": "execute_result"
    }
   ],
   "source": [
    "s[0]"
   ]
  },
  {
   "cell_type": "code",
   "execution_count": 28,
   "id": "fcf123b1-612c-498c-be91-0919c5b27231",
   "metadata": {
    "colab": {
     "base_uri": "https://localhost:8080/",
     "height": 35
    },
    "id": "fcf123b1-612c-498c-be91-0919c5b27231",
    "outputId": "b5fc5b4c-192b-43f0-be3a-68ba7a533561"
   },
   "outputs": [
    {
     "data": {
      "text/plain": [
       "'a'"
      ]
     },
     "execution_count": 28,
     "metadata": {},
     "output_type": "execute_result"
    }
   ],
   "source": [
    "s[-1] #es igual que acceder como s[17]"
   ]
  },
  {
   "cell_type": "code",
   "execution_count": 29,
   "id": "fe4234e0-4751-47a6-b893-29a688b49f4b",
   "metadata": {
    "colab": {
     "base_uri": "https://localhost:8080/",
     "height": 35
    },
    "id": "fe4234e0-4751-47a6-b893-29a688b49f4b",
    "outputId": "46bddb50-746b-42c1-c4d1-b702279e8d50"
   },
   "outputs": [
    {
     "data": {
      "text/plain": [
       "'mi mama'"
      ]
     },
     "execution_count": 29,
     "metadata": {},
     "output_type": "execute_result"
    }
   ],
   "source": [
    "s[0:7] #esto significa que trae del 0 al 7mo caracter, pero no incluye el 8vo caracter"
   ]
  },
  {
   "cell_type": "code",
   "execution_count": 30,
   "id": "0cV5xUj7e7Ps",
   "metadata": {
    "colab": {
     "base_uri": "https://localhost:8080/",
     "height": 35
    },
    "id": "0cV5xUj7e7Ps",
    "outputId": "11f3b149-9e83-4a06-e872-c299b18b93ae"
   },
   "outputs": [
    {
     "data": {
      "text/plain": [
       "'mi mama'"
      ]
     },
     "execution_count": 30,
     "metadata": {},
     "output_type": "execute_result"
    }
   ],
   "source": [
    "s[:7] #si no pongo el 0, y comienzo con los dos puntos, se entiende que comienza a leer desde el caracter cero"
   ]
  },
  {
   "cell_type": "markdown",
   "id": "124865ae-c541-4909-9d00-9e3c324c468d",
   "metadata": {
    "id": "124865ae-c541-4909-9d00-9e3c324c468d"
   },
   "source": [
    "## Métodos para trabajar con strings"
   ]
  },
  {
   "cell_type": "code",
   "execution_count": 32,
   "id": "f88b1472-4ea1-410a-b841-414a8e5c81c6",
   "metadata": {
    "colab": {
     "base_uri": "https://localhost:8080/",
     "height": 35
    },
    "id": "f88b1472-4ea1-410a-b841-414a8e5c81c6",
    "outputId": "60d8bf1a-4bf2-4e3c-9eda-5b0a0bb507b8"
   },
   "outputs": [
    {
     "data": {
      "text/plain": [
       "'string'"
      ]
     },
     "execution_count": 32,
     "metadata": {},
     "output_type": "execute_result"
    }
   ],
   "source": [
    "'STRING'.lower() # convierte el string a minusculas"
   ]
  },
  {
   "cell_type": "code",
   "execution_count": 33,
   "id": "906594d4-1266-4b27-8535-de0ba8f0eeee",
   "metadata": {
    "colab": {
     "base_uri": "https://localhost:8080/",
     "height": 35
    },
    "id": "906594d4-1266-4b27-8535-de0ba8f0eeee",
    "outputId": "d3b03c8e-3fd5-4822-a33d-263d3e1a6016"
   },
   "outputs": [
    {
     "data": {
      "text/plain": [
       "'STRING'"
      ]
     },
     "execution_count": 33,
     "metadata": {},
     "output_type": "execute_result"
    }
   ],
   "source": [
    "'string'.upper() # convierte el string a mayusculas"
   ]
  },
  {
   "cell_type": "code",
   "execution_count": 34,
   "id": "e36e5d5d-69f5-4ac1-8d98-75f7c013e791",
   "metadata": {
    "colab": {
     "base_uri": "https://localhost:8080/",
     "height": 35
    },
    "id": "e36e5d5d-69f5-4ac1-8d98-75f7c013e791",
    "outputId": "fc5aaf66-a308-4cfe-9928-070e03288cef"
   },
   "outputs": [
    {
     "data": {
      "text/plain": [
       "'string'"
      ]
     },
     "execution_count": 34,
     "metadata": {},
     "output_type": "execute_result"
    }
   ],
   "source": [
    "'STRING'.swapcase() # si el string esta en minusculas lo convierte en mayusculas y viceversa"
   ]
  },
  {
   "cell_type": "code",
   "execution_count": 35,
   "id": "78369b24-97f7-471d-94e5-155c7cc6bc3c",
   "metadata": {
    "colab": {
     "base_uri": "https://localhost:8080/"
    },
    "id": "78369b24-97f7-471d-94e5-155c7cc6bc3c",
    "outputId": "d35b028d-cbdc-40eb-8ffc-d7e06127d704"
   },
   "outputs": [
    {
     "data": {
      "text/plain": [
       "['el', 'perro', 'no', 'ladra']"
      ]
     },
     "execution_count": 35,
     "metadata": {},
     "output_type": "execute_result"
    }
   ],
   "source": [
    "'el perro no ladra'.split(' ') #divide el string segun el caracter que le indiquemos y elimina dicho caracter y te lo devuelve como LISTA"
   ]
  },
  {
   "cell_type": "code",
   "execution_count": 36,
   "id": "4SGe10oEgMRN",
   "metadata": {
    "colab": {
     "base_uri": "https://localhost:8080/",
     "height": 35
    },
    "id": "4SGe10oEgMRN",
    "outputId": "06e21fc0-45bb-48a8-e776-869d253c2dcb"
   },
   "outputs": [
    {
     "data": {
      "text/plain": [
       "'el perro no ladra'"
      ]
     },
     "execution_count": 36,
     "metadata": {},
     "output_type": "execute_result"
    }
   ],
   "source": [
    "'el perro  no ladra'.replace('  ',' ') #reemplazar los dobles espacios por espacio simple"
   ]
  },
  {
   "cell_type": "code",
   "execution_count": 37,
   "id": "141db63d-0f16-4c82-9e95-d4fb9768f9f1",
   "metadata": {
    "colab": {
     "base_uri": "https://localhost:8080/"
    },
    "id": "141db63d-0f16-4c82-9e95-d4fb9768f9f1",
    "outputId": "52079360-7583-4168-abea-67975f8d0494"
   },
   "outputs": [
    {
     "data": {
      "text/plain": [
       "['', 'l p', 'rro no ladra']"
      ]
     },
     "execution_count": 37,
     "metadata": {},
     "output_type": "execute_result"
    }
   ],
   "source": [
    "'el perro no ladra'.split('e') #divide el string segun el caracter que le indiquemos y elimina dicho caracter"
   ]
  },
  {
   "cell_type": "code",
   "execution_count": 38,
   "id": "ac31c3b1-6bfd-401c-865c-41eb1346f704",
   "metadata": {
    "colab": {
     "base_uri": "https://localhost:8080/",
     "height": 35
    },
    "id": "ac31c3b1-6bfd-401c-865c-41eb1346f704",
    "outputId": "b5c17feb-5504-4f3d-943b-ed3eeb568e03"
   },
   "outputs": [
    {
     "data": {
      "text/plain": [
       "'    ejemplo'"
      ]
     },
     "execution_count": 38,
     "metadata": {},
     "output_type": "execute_result"
    }
   ],
   "source": [
    "'    ejemplo    '.rstrip() #eimina los espacios en blanco al final"
   ]
  },
  {
   "cell_type": "code",
   "execution_count": 39,
   "id": "bdcb0812-94e4-4806-be95-07b98025f1cc",
   "metadata": {
    "colab": {
     "base_uri": "https://localhost:8080/",
     "height": 35
    },
    "id": "bdcb0812-94e4-4806-be95-07b98025f1cc",
    "outputId": "9a311ccd-9104-445b-c594-7e90c1f4643a"
   },
   "outputs": [
    {
     "data": {
      "text/plain": [
       "'ejemplo    '"
      ]
     },
     "execution_count": 39,
     "metadata": {},
     "output_type": "execute_result"
    }
   ],
   "source": [
    "'    ejemplo    '.lstrip() #eimina los espacios en blanco al inicio"
   ]
  },
  {
   "cell_type": "code",
   "execution_count": 40,
   "id": "52f374a1-e7be-4043-899d-ab7fb9a27402",
   "metadata": {
    "colab": {
     "base_uri": "https://localhost:8080/",
     "height": 35
    },
    "id": "52f374a1-e7be-4043-899d-ab7fb9a27402",
    "outputId": "5b8739f4-7112-4d0e-cbd8-37f67a81d886"
   },
   "outputs": [
    {
     "data": {
      "text/plain": [
       "'ejemplo'"
      ]
     },
     "execution_count": 40,
     "metadata": {},
     "output_type": "execute_result"
    }
   ],
   "source": [
    "'    ejemplo    '.strip() #eimina los espacios en blanco al inicio y al final"
   ]
  },
  {
   "cell_type": "code",
   "execution_count": 41,
   "id": "KggoE8T7hJu_",
   "metadata": {
    "colab": {
     "base_uri": "https://localhost:8080/",
     "height": 35
    },
    "id": "KggoE8T7hJu_",
    "outputId": "33447919-bad3-4915-df38-e93f175d4a86"
   },
   "outputs": [
    {
     "data": {
      "text/plain": [
       "'Sedan 5 puertas  furgon'"
      ]
     },
     "execution_count": 41,
     "metadata": {},
     "output_type": "execute_result"
    }
   ],
   "source": [
    "((('   Sedan 5  puertas   furgon '.strip()).replace('  ',' ')).replace('   ',' '))"
   ]
  },
  {
   "cell_type": "code",
   "execution_count": 42,
   "id": "XAsL81ANh8I0",
   "metadata": {
    "id": "XAsL81ANh8I0"
   },
   "outputs": [],
   "source": [
    "frase = (('   Sedan 5  puertas   furgon '.strip()).replace('  ',' '))"
   ]
  },
  {
   "cell_type": "code",
   "execution_count": 43,
   "id": "wwMFblBNiBHE",
   "metadata": {
    "colab": {
     "base_uri": "https://localhost:8080/"
    },
    "id": "wwMFblBNiBHE",
    "outputId": "2a5a95f1-1d7e-4587-97bd-28f83b2089e9"
   },
   "outputs": [
    {
     "name": "stdout",
     "output_type": "stream",
     "text": [
      "Sedan 5 puertas  furgon\n"
     ]
    }
   ],
   "source": [
    "print(frase)"
   ]
  },
  {
   "cell_type": "code",
   "execution_count": 44,
   "id": "2qYDFxbyiFY1",
   "metadata": {
    "colab": {
     "base_uri": "https://localhost:8080/",
     "height": 35
    },
    "id": "2qYDFxbyiFY1",
    "outputId": "af7b924a-6306-4750-de22-41bc11cd8963"
   },
   "outputs": [
    {
     "data": {
      "text/plain": [
       "'Sedan 5 puertas furgon'"
      ]
     },
     "execution_count": 44,
     "metadata": {},
     "output_type": "execute_result"
    }
   ],
   "source": [
    "frase.replace('  ',' ')"
   ]
  },
  {
   "cell_type": "code",
   "execution_count": 45,
   "id": "177c8efd-0589-430e-8c57-cba844664818",
   "metadata": {
    "colab": {
     "base_uri": "https://localhost:8080/"
    },
    "id": "177c8efd-0589-430e-8c57-cba844664818",
    "outputId": "c13c2d59-d694-4a72-c3da-b198e203b343"
   },
   "outputs": [
    {
     "data": {
      "text/plain": [
       "7"
      ]
     },
     "execution_count": 45,
     "metadata": {},
     "output_type": "execute_result"
    }
   ],
   "source": [
    "len('ejemplo') #nos devuelve la cantidad de caracteres que contiene el string"
   ]
  },
  {
   "cell_type": "code",
   "execution_count": 46,
   "id": "de26c1bf-dd30-442d-99c7-c82fe59dfcc0",
   "metadata": {
    "colab": {
     "base_uri": "https://localhost:8080/"
    },
    "id": "de26c1bf-dd30-442d-99c7-c82fe59dfcc0",
    "outputId": "0681195f-de8b-4ee8-c735-540ce96894dd"
   },
   "outputs": [
    {
     "data": {
      "text/plain": [
       "2"
      ]
     },
     "execution_count": 46,
     "metadata": {},
     "output_type": "execute_result"
    }
   ],
   "source": [
    "'el perro no ladra'.count('e') #cuenta la cantidad de veces que un caracter o string aparece adentro de otro string"
   ]
  },
  {
   "cell_type": "code",
   "execution_count": 47,
   "id": "b31ebe3a-54b6-498f-acb0-514ff19eb550",
   "metadata": {
    "colab": {
     "base_uri": "https://localhost:8080/"
    },
    "id": "b31ebe3a-54b6-498f-acb0-514ff19eb550",
    "outputId": "41688af5-e1b0-461d-d99e-5bacae7a35a6"
   },
   "outputs": [
    {
     "data": {
      "text/plain": [
       "0"
      ]
     },
     "execution_count": 47,
     "metadata": {},
     "output_type": "execute_result"
    }
   ],
   "source": [
    "'el perro no ladra'.find('e') #busca el caracter que le indiquemos y nos devuelve la posicion la primera posicion en la que se encuentra"
   ]
  },
  {
   "cell_type": "code",
   "execution_count": 48,
   "id": "5d4bd681-506b-4712-bef6-454f3aed7f91",
   "metadata": {
    "colab": {
     "base_uri": "https://localhost:8080/"
    },
    "id": "5d4bd681-506b-4712-bef6-454f3aed7f91",
    "outputId": "8b699953-c941-4797-c080-54f57d88f5cc"
   },
   "outputs": [
    {
     "data": {
      "text/plain": [
       "4"
      ]
     },
     "execution_count": 48,
     "metadata": {},
     "output_type": "execute_result"
    }
   ],
   "source": [
    "'el perro no ladra'.find('e',2,6)  # find con start y end, indico donde quiero que arranque la busqueda y donde quiero que termine (criterio, inicio, fin)"
   ]
  },
  {
   "cell_type": "code",
   "execution_count": 49,
   "id": "83e67dd9-56d7-496c-ba3e-e0c2925c8bff",
   "metadata": {
    "colab": {
     "base_uri": "https://localhost:8080/",
     "height": 35
    },
    "id": "83e67dd9-56d7-496c-ba3e-e0c2925c8bff",
    "outputId": "90c711fe-e77c-467c-f269-99f9dedbc12c"
   },
   "outputs": [
    {
     "data": {
      "text/plain": [
       "'e'"
      ]
     },
     "execution_count": 49,
     "metadata": {},
     "output_type": "execute_result"
    }
   ],
   "source": [
    "'el perro no ladra'[4]"
   ]
  },
  {
   "cell_type": "code",
   "execution_count": 50,
   "id": "6b20bdb4-cda5-462c-833d-cfc5b513f23a",
   "metadata": {
    "colab": {
     "base_uri": "https://localhost:8080/"
    },
    "id": "6b20bdb4-cda5-462c-833d-cfc5b513f23a",
    "outputId": "7183ee7b-14cb-48b5-a667-c54385a37ac3"
   },
   "outputs": [
    {
     "data": {
      "text/plain": [
       "-1"
      ]
     },
     "execution_count": 50,
     "metadata": {},
     "output_type": "execute_result"
    }
   ],
   "source": [
    "'el perro no ladra'.find('q') #si nos devuelve -1 es porque el caracter no se encontro"
   ]
  },
  {
   "cell_type": "code",
   "execution_count": 51,
   "id": "YLK0eYcFjDGc",
   "metadata": {
    "colab": {
     "base_uri": "https://localhost:8080/"
    },
    "id": "YLK0eYcFjDGc",
    "outputId": "de7a66ff-56d0-4dc5-b691-b650db703ef1"
   },
   "outputs": [
    {
     "data": {
      "text/plain": [
       "2"
      ]
     },
     "execution_count": 51,
     "metadata": {},
     "output_type": "execute_result"
    }
   ],
   "source": [
    "'el perro no ladra'.find(' ')"
   ]
  },
  {
   "cell_type": "code",
   "execution_count": 52,
   "id": "fd3f4b23-64d2-4dc3-a44e-b2e110d865e0",
   "metadata": {
    "colab": {
     "base_uri": "https://localhost:8080/",
     "height": 35
    },
    "id": "fd3f4b23-64d2-4dc3-a44e-b2e110d865e0",
    "outputId": "b96d9285-1bc5-404f-a157-385c6bd39a74"
   },
   "outputs": [
    {
     "data": {
      "text/plain": [
       "'el gato no ladra'"
      ]
     },
     "execution_count": 52,
     "metadata": {},
     "output_type": "execute_result"
    }
   ],
   "source": [
    "'el perro no ladra'.replace('perro','gato')"
   ]
  },
  {
   "cell_type": "markdown",
   "id": "LrVhzmBQ8Qgu",
   "metadata": {
    "id": "LrVhzmBQ8Qgu"
   },
   "source": [
    "## Transformar strings dentro de un dataset"
   ]
  },
  {
   "cell_type": "code",
   "execution_count": 54,
   "id": "d2edf5f7-f2f5-4511-9761-8559b2b9a602",
   "metadata": {
    "id": "d2edf5f7-f2f5-4511-9761-8559b2b9a602"
   },
   "outputs": [],
   "source": [
    "import pandas as pd\n",
    "\n",
    "data = [\n",
    "    ['SEDAN 3 PTAS '],\n",
    "    ['  SEDAN 3 PTAS'],\n",
    "    ['  SEDAN 3 PTAS.'],\n",
    "    ['SEDAN 3 PUERTAS     '],\n",
    "    ['     SEDAN 3 PUERTAS']\n",
    "]\n",
    "\n",
    "df = pd.DataFrame(data, columns=['descripcion'])"
   ]
  },
  {
   "cell_type": "code",
   "execution_count": 55,
   "id": "1ed2e202-8bb4-43e7-a393-6b38368b9f29",
   "metadata": {
    "colab": {
     "base_uri": "https://localhost:8080/",
     "height": 206
    },
    "id": "1ed2e202-8bb4-43e7-a393-6b38368b9f29",
    "outputId": "43e1bf70-ee38-4b70-a743-5dc3ec4b9499"
   },
   "outputs": [
    {
     "data": {
      "text/html": [
       "<div>\n",
       "<style scoped>\n",
       "    .dataframe tbody tr th:only-of-type {\n",
       "        vertical-align: middle;\n",
       "    }\n",
       "\n",
       "    .dataframe tbody tr th {\n",
       "        vertical-align: top;\n",
       "    }\n",
       "\n",
       "    .dataframe thead th {\n",
       "        text-align: right;\n",
       "    }\n",
       "</style>\n",
       "<table border=\"1\" class=\"dataframe\">\n",
       "  <thead>\n",
       "    <tr style=\"text-align: right;\">\n",
       "      <th></th>\n",
       "      <th>descripcion</th>\n",
       "    </tr>\n",
       "  </thead>\n",
       "  <tbody>\n",
       "    <tr>\n",
       "      <th>0</th>\n",
       "      <td>SEDAN 3 PTAS</td>\n",
       "    </tr>\n",
       "    <tr>\n",
       "      <th>1</th>\n",
       "      <td>SEDAN 3 PTAS</td>\n",
       "    </tr>\n",
       "    <tr>\n",
       "      <th>2</th>\n",
       "      <td>SEDAN 3 PTAS.</td>\n",
       "    </tr>\n",
       "    <tr>\n",
       "      <th>3</th>\n",
       "      <td>SEDAN 3 PUERTAS</td>\n",
       "    </tr>\n",
       "    <tr>\n",
       "      <th>4</th>\n",
       "      <td>SEDAN 3 PUERTAS</td>\n",
       "    </tr>\n",
       "  </tbody>\n",
       "</table>\n",
       "</div>"
      ],
      "text/plain": [
       "            descripcion\n",
       "0         SEDAN 3 PTAS \n",
       "1          SEDAN 3 PTAS\n",
       "2         SEDAN 3 PTAS.\n",
       "3  SEDAN 3 PUERTAS     \n",
       "4       SEDAN 3 PUERTAS"
      ]
     },
     "execution_count": 55,
     "metadata": {},
     "output_type": "execute_result"
    }
   ],
   "source": [
    "df"
   ]
  },
  {
   "cell_type": "code",
   "execution_count": 56,
   "id": "075bbe34-98e8-49d9-9922-dc14cb24c8b4",
   "metadata": {
    "colab": {
     "base_uri": "https://localhost:8080/",
     "height": 53
    },
    "id": "075bbe34-98e8-49d9-9922-dc14cb24c8b4",
    "outputId": "40d9a47d-5c18-47e7-d9e3-ff0c6731957e"
   },
   "outputs": [
    {
     "data": {
      "text/html": [
       "<div>\n",
       "<style scoped>\n",
       "    .dataframe tbody tr th:only-of-type {\n",
       "        vertical-align: middle;\n",
       "    }\n",
       "\n",
       "    .dataframe tbody tr th {\n",
       "        vertical-align: top;\n",
       "    }\n",
       "\n",
       "    .dataframe thead th {\n",
       "        text-align: right;\n",
       "    }\n",
       "</style>\n",
       "<table border=\"1\" class=\"dataframe\">\n",
       "  <thead>\n",
       "    <tr style=\"text-align: right;\">\n",
       "      <th></th>\n",
       "      <th>descripcion</th>\n",
       "    </tr>\n",
       "  </thead>\n",
       "  <tbody>\n",
       "  </tbody>\n",
       "</table>\n",
       "</div>"
      ],
      "text/plain": [
       "Empty DataFrame\n",
       "Columns: [descripcion]\n",
       "Index: []"
      ]
     },
     "execution_count": 56,
     "metadata": {},
     "output_type": "execute_result"
    }
   ],
   "source": [
    "df[df['descripcion'] == 'SEDAN 3 PUERTAS']"
   ]
  },
  {
   "cell_type": "code",
   "execution_count": 57,
   "id": "R7JboRH8km-V",
   "metadata": {
    "colab": {
     "base_uri": "https://localhost:8080/"
    },
    "id": "R7JboRH8km-V",
    "outputId": "c440fe87-f571-4ef5-a504-9811a5d1ee20"
   },
   "outputs": [
    {
     "name": "stdout",
     "output_type": "stream",
     "text": [
      "0\n",
      "1\n",
      "2\n",
      "3\n",
      "4\n"
     ]
    }
   ],
   "source": [
    "for i in range(len(df)):\n",
    "  print(i)"
   ]
  },
  {
   "cell_type": "code",
   "execution_count": 58,
   "id": "20b445e7-1dc7-49b2-b7a6-4bd63602745b",
   "metadata": {
    "id": "20b445e7-1dc7-49b2-b7a6-4bd63602745b"
   },
   "outputs": [],
   "source": [
    "for i in range(len(df)):\n",
    "    df.loc[i,'descripcion'] = str(df.loc[i].descripcion).strip().lower()\n",
    "    df.loc[i,'descripcion'] = str(df.loc[i].descripcion).replace('.','')\n",
    "    df.loc[i,'descripcion'] = str(df.loc[i].descripcion).replace('ptas','puertas')\n",
    "    # Bucle For"
   ]
  },
  {
   "cell_type": "code",
   "execution_count": 59,
   "id": "58iIazHFkDSY",
   "metadata": {
    "colab": {
     "base_uri": "https://localhost:8080/"
    },
    "id": "58iIazHFkDSY",
    "outputId": "14d76c84-9790-4dd8-f1b8-25a542435792"
   },
   "outputs": [
    {
     "data": {
      "text/plain": [
       "5"
      ]
     },
     "execution_count": 59,
     "metadata": {},
     "output_type": "execute_result"
    }
   ],
   "source": [
    "len(df)"
   ]
  },
  {
   "cell_type": "code",
   "execution_count": 60,
   "id": "5c894f90-8381-4cb9-aaf5-7c22546c08b4",
   "metadata": {
    "colab": {
     "base_uri": "https://localhost:8080/",
     "height": 206
    },
    "id": "5c894f90-8381-4cb9-aaf5-7c22546c08b4",
    "outputId": "c0f9b6bd-5923-4b74-ae77-7e74c31bf1ee"
   },
   "outputs": [
    {
     "data": {
      "text/html": [
       "<div>\n",
       "<style scoped>\n",
       "    .dataframe tbody tr th:only-of-type {\n",
       "        vertical-align: middle;\n",
       "    }\n",
       "\n",
       "    .dataframe tbody tr th {\n",
       "        vertical-align: top;\n",
       "    }\n",
       "\n",
       "    .dataframe thead th {\n",
       "        text-align: right;\n",
       "    }\n",
       "</style>\n",
       "<table border=\"1\" class=\"dataframe\">\n",
       "  <thead>\n",
       "    <tr style=\"text-align: right;\">\n",
       "      <th></th>\n",
       "      <th>descripcion</th>\n",
       "    </tr>\n",
       "  </thead>\n",
       "  <tbody>\n",
       "    <tr>\n",
       "      <th>0</th>\n",
       "      <td>sedan 3 puertas</td>\n",
       "    </tr>\n",
       "    <tr>\n",
       "      <th>1</th>\n",
       "      <td>sedan 3 puertas</td>\n",
       "    </tr>\n",
       "    <tr>\n",
       "      <th>2</th>\n",
       "      <td>sedan 3 puertas</td>\n",
       "    </tr>\n",
       "    <tr>\n",
       "      <th>3</th>\n",
       "      <td>sedan 3 puertas</td>\n",
       "    </tr>\n",
       "    <tr>\n",
       "      <th>4</th>\n",
       "      <td>sedan 3 puertas</td>\n",
       "    </tr>\n",
       "  </tbody>\n",
       "</table>\n",
       "</div>"
      ],
      "text/plain": [
       "       descripcion\n",
       "0  sedan 3 puertas\n",
       "1  sedan 3 puertas\n",
       "2  sedan 3 puertas\n",
       "3  sedan 3 puertas\n",
       "4  sedan 3 puertas"
      ]
     },
     "execution_count": 60,
     "metadata": {},
     "output_type": "execute_result"
    }
   ],
   "source": [
    "df[df['descripcion'] == 'sedan 3 puertas']"
   ]
  },
  {
   "cell_type": "code",
   "execution_count": 61,
   "id": "c5c3a31f-99c3-40f9-84dd-7f725d94dea9",
   "metadata": {
    "id": "c5c3a31f-99c3-40f9-84dd-7f725d94dea9"
   },
   "outputs": [],
   "source": [
    "df['descripcion'] = df['descripcion'].apply(lambda x: (str(x).strip()).lower())\n",
    "df['descripcion'] = df['descripcion'].apply(lambda x: x.replace('.',''))\n",
    "df['descripcion'] = df['descripcion'].apply(lambda x: x.replace('ptas','puertas'))"
   ]
  },
  {
   "cell_type": "code",
   "execution_count": 62,
   "id": "0486eb6d-a271-457d-9efe-5b265b8eec31",
   "metadata": {
    "colab": {
     "base_uri": "https://localhost:8080/",
     "height": 206
    },
    "id": "0486eb6d-a271-457d-9efe-5b265b8eec31",
    "outputId": "5f43e50d-fc3a-46e2-881e-f41ffebe58c6",
    "tags": []
   },
   "outputs": [
    {
     "data": {
      "text/html": [
       "<div>\n",
       "<style scoped>\n",
       "    .dataframe tbody tr th:only-of-type {\n",
       "        vertical-align: middle;\n",
       "    }\n",
       "\n",
       "    .dataframe tbody tr th {\n",
       "        vertical-align: top;\n",
       "    }\n",
       "\n",
       "    .dataframe thead th {\n",
       "        text-align: right;\n",
       "    }\n",
       "</style>\n",
       "<table border=\"1\" class=\"dataframe\">\n",
       "  <thead>\n",
       "    <tr style=\"text-align: right;\">\n",
       "      <th></th>\n",
       "      <th>descripcion</th>\n",
       "    </tr>\n",
       "  </thead>\n",
       "  <tbody>\n",
       "    <tr>\n",
       "      <th>0</th>\n",
       "      <td>sedan 3 puertas</td>\n",
       "    </tr>\n",
       "    <tr>\n",
       "      <th>1</th>\n",
       "      <td>sedan 3 puertas</td>\n",
       "    </tr>\n",
       "    <tr>\n",
       "      <th>2</th>\n",
       "      <td>sedan 3 puertas</td>\n",
       "    </tr>\n",
       "    <tr>\n",
       "      <th>3</th>\n",
       "      <td>sedan 3 puertas</td>\n",
       "    </tr>\n",
       "    <tr>\n",
       "      <th>4</th>\n",
       "      <td>sedan 3 puertas</td>\n",
       "    </tr>\n",
       "  </tbody>\n",
       "</table>\n",
       "</div>"
      ],
      "text/plain": [
       "       descripcion\n",
       "0  sedan 3 puertas\n",
       "1  sedan 3 puertas\n",
       "2  sedan 3 puertas\n",
       "3  sedan 3 puertas\n",
       "4  sedan 3 puertas"
      ]
     },
     "execution_count": 62,
     "metadata": {},
     "output_type": "execute_result"
    }
   ],
   "source": [
    "df[df['descripcion'] == 'sedan 3 puertas']"
   ]
  }
 ],
 "metadata": {
  "colab": {
   "provenance": []
  },
  "kernelspec": {
   "display_name": "Python 3 (ipykernel)",
   "language": "python",
   "name": "python3"
  },
  "language_info": {
   "codemirror_mode": {
    "name": "ipython",
    "version": 3
   },
   "file_extension": ".py",
   "mimetype": "text/x-python",
   "name": "python",
   "nbconvert_exporter": "python",
   "pygments_lexer": "ipython3",
   "version": "3.11.7"
  }
 },
 "nbformat": 4,
 "nbformat_minor": 5
}
