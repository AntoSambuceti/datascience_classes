{
 "cells": [
  {
   "cell_type": "markdown",
   "metadata": {
    "id": "wPeVAd7OXXDq"
   },
   "source": [
    "# Expresiones Regulares"
   ]
  },
  {
   "cell_type": "code",
   "execution_count": 4,
   "metadata": {
    "id": "jtcZ74hWCsm3"
   },
   "outputs": [],
   "source": [
    "import pandas as pd\n",
    "import regex as re"
   ]
  },
  {
   "cell_type": "code",
   "execution_count": 5,
   "metadata": {
    "id": "AFltbrsd7vGb"
   },
   "outputs": [],
   "source": [
    "data = [\n",
    "    ['SEDAN 3 PUERTA '],\n",
    "    ['  SEDAN 3 PUER'],\n",
    "    ['  SEDAN 3 PU.']]\n",
    "\n",
    "df = pd.DataFrame(data, columns=['descripcion'])"
   ]
  },
  {
   "cell_type": "code",
   "execution_count": 6,
   "metadata": {
    "id": "2LYdzyAMCtEg"
   },
   "outputs": [],
   "source": [
    "df['descripcion'] = df['descripcion'].apply(lambda x: (str(x).strip()).lower())\n",
    "df['descripcion'] = df['descripcion'].apply(lambda x: x.replace('.',''))"
   ]
  },
  {
   "cell_type": "code",
   "execution_count": 7,
   "metadata": {
    "colab": {
     "base_uri": "https://localhost:8080/",
     "height": 178
    },
    "id": "MHcvCnNmC8Fp",
    "outputId": "c51b5849-9114-420b-a87c-326ad4c23717"
   },
   "outputs": [
    {
     "data": {
      "text/plain": [
       "0    sedan 3 puerta\n",
       "1      sedan 3 puer\n",
       "2        sedan 3 pu\n",
       "Name: descripcion, dtype: object"
      ]
     },
     "execution_count": 7,
     "metadata": {},
     "output_type": "execute_result"
    }
   ],
   "source": [
    "df['descripcion']"
   ]
  },
  {
   "cell_type": "code",
   "execution_count": 8,
   "metadata": {
    "colab": {
     "base_uri": "https://localhost:8080/"
    },
    "id": "1Z9cpiU4FnMw",
    "outputId": "479194be-480c-42ac-adaf-21a74f5ba073"
   },
   "outputs": [
    {
     "data": {
      "text/plain": [
       "<regex.Match object; span=(8, 12), match='puer'>"
      ]
     },
     "execution_count": 8,
     "metadata": {},
     "output_type": "execute_result"
    }
   ],
   "source": [
    "re.search('(puer)','sedan 3 puerta')"
   ]
  },
  {
   "cell_type": "code",
   "execution_count": 9,
   "metadata": {
    "colab": {
     "base_uri": "https://localhost:8080/"
    },
    "id": "bcMUeYYvDh7X",
    "outputId": "83cef1c3-6747-4c87-ddef-5f7cc76edcf9"
   },
   "outputs": [
    {
     "data": {
      "text/plain": [
       "<regex.Match object; span=(8, 14), match='puerta'>"
      ]
     },
     "execution_count": 9,
     "metadata": {},
     "output_type": "execute_result"
    }
   ],
   "source": [
    "#| indica un \"or\" es decir buscamos cualquiera de las 3 alternativas\n",
    "re.search('(puerta|puer|pu)','sedan 3 puerta')"
   ]
  },
  {
   "cell_type": "code",
   "execution_count": 10,
   "metadata": {
    "id": "Cmry9nvlGHEe"
   },
   "outputs": [],
   "source": [
    "#$ Indica el fin de la cadena\n",
    "re.search('(puer$)','sedan 3 puerta')"
   ]
  },
  {
   "cell_type": "code",
   "execution_count": 11,
   "metadata": {
    "id": "6H3VbcwsGHSd"
   },
   "outputs": [],
   "source": [
    "#^ Indica el inicio de la cadena\n",
    "re.search('^(puer)','sedan 3 puerta')"
   ]
  },
  {
   "cell_type": "code",
   "execution_count": 12,
   "metadata": {
    "colab": {
     "base_uri": "https://localhost:8080/"
    },
    "id": "U8BdCBG3Pyxl",
    "outputId": "2a5cc677-48ca-47fe-cc35-d9eec82a996e"
   },
   "outputs": [
    {
     "data": {
      "text/plain": [
       "<regex.Match object; span=(6, 7), match='3'>"
      ]
     },
     "execution_count": 12,
     "metadata": {},
     "output_type": "execute_result"
    }
   ],
   "source": [
    "#\\d coincide con dígitos numéricos. Equivalente [0-9]\n",
    "re.search('\\d','sedan 3 puerta') #re.search('[0-9]','sedan 3 puerta')"
   ]
  },
  {
   "cell_type": "code",
   "execution_count": 13,
   "metadata": {
    "colab": {
     "base_uri": "https://localhost:8080/"
    },
    "id": "q-_sZeGRPy0k",
    "outputId": "d134d916-a4bb-4bac-d947-a29bf671b9dd"
   },
   "outputs": [
    {
     "data": {
      "text/plain": [
       "<regex.Match object; span=(0, 1), match='s'>"
      ]
     },
     "execution_count": 13,
     "metadata": {},
     "output_type": "execute_result"
    }
   ],
   "source": [
    "#\\D coincide con digitos alfabeticos, es lo mismo que [^0-9]\n",
    "re.search('\\D','sedan 3 puerta') #re.search('[^0-9]','sedan 3 puerta')"
   ]
  },
  {
   "cell_type": "code",
   "execution_count": null,
   "metadata": {
    "id": "qEuUUBqIeaSd"
   },
   "outputs": [],
   "source": []
  },
  {
   "cell_type": "code",
   "execution_count": 14,
   "metadata": {
    "colab": {
     "base_uri": "https://localhost:8080/"
    },
    "id": "aybNUYqqGHYU",
    "outputId": "ceca3d77-cca5-4bcd-f86d-6cb92bb7d29c"
   },
   "outputs": [
    {
     "data": {
      "text/plain": [
       "<regex.Match object; span=(0, 14), match='sedan 3 puerta'>"
      ]
     },
     "execution_count": 14,
     "metadata": {},
     "output_type": "execute_result"
    }
   ],
   "source": [
    "#( *) puedo o no existir un espacio en blanco, {4,8} entre 4 y 8 digitos\n",
    "re.search('(\\D{4,8})( *)(\\d{1})( *)(\\D{4,8})','sedan 3 puerta')"
   ]
  },
  {
   "cell_type": "code",
   "execution_count": 15,
   "metadata": {
    "id": "AQIojKXYPy4v"
   },
   "outputs": [],
   "source": [
    "re.search('(\\D{4,8})( *)(\\d{5})( *)(\\D{4,8})','sedan 3 puerta')"
   ]
  },
  {
   "cell_type": "code",
   "execution_count": 16,
   "metadata": {
    "colab": {
     "base_uri": "https://localhost:8080/"
    },
    "id": "-Jm2Qk0TVJ14",
    "outputId": "46475a15-308f-4346-c148-cec1f5f6142a"
   },
   "outputs": [
    {
     "data": {
      "text/plain": [
       "<regex.Match object; span=(0, 16), match='sedan 345 puerta'>"
      ]
     },
     "execution_count": 16,
     "metadata": {},
     "output_type": "execute_result"
    }
   ],
   "source": [
    "re.search('(\\D{4,8})( *)(\\d{1,5})( *)(\\D{4,8})','sedan 345 puerta')"
   ]
  },
  {
   "cell_type": "code",
   "execution_count": 17,
   "metadata": {
    "colab": {
     "base_uri": "https://localhost:8080/",
     "height": 178
    },
    "id": "TgTe4ngCAyjU",
    "outputId": "77a7c604-e17c-4265-f71e-fff50e7c6dcc"
   },
   "outputs": [
    {
     "data": {
      "text/plain": [
       "0    True\n",
       "1    True\n",
       "2    True\n",
       "Name: descripcion, dtype: bool"
      ]
     },
     "execution_count": 17,
     "metadata": {},
     "output_type": "execute_result"
    }
   ],
   "source": [
    "df['descripcion'].apply(lambda x: bool(re.search('(puerta|puer|pu)($)', str(x))))"
   ]
  },
  {
   "cell_type": "code",
   "execution_count": null,
   "metadata": {
    "id": "TVCcCeGaoR3r"
   },
   "outputs": [],
   "source": []
  },
  {
   "cell_type": "code",
   "execution_count": 18,
   "metadata": {
    "colab": {
     "base_uri": "https://localhost:8080/",
     "height": 178
    },
    "id": "hTX-FzdhDSdM",
    "outputId": "c1ac73b8-7b27-4980-bb75-e523a56ef955"
   },
   "outputs": [
    {
     "data": {
      "text/plain": [
       "0    False\n",
       "1    False\n",
       "2    False\n",
       "Name: descripcion, dtype: bool"
      ]
     },
     "execution_count": 18,
     "metadata": {},
     "output_type": "execute_result"
    }
   ],
   "source": [
    "df['descripcion'].apply(lambda x: bool(re.search('^(puerta|puer|pu)', str(x))))"
   ]
  },
  {
   "cell_type": "code",
   "execution_count": 19,
   "metadata": {
    "colab": {
     "base_uri": "https://localhost:8080/",
     "height": 178
    },
    "id": "dkGAFvKOR0Wa",
    "outputId": "67ac06a0-5d79-495a-d128-a7ac8d437cfe"
   },
   "outputs": [
    {
     "data": {
      "text/plain": [
       "0    True\n",
       "1    True\n",
       "2    True\n",
       "Name: descripcion, dtype: bool"
      ]
     },
     "execution_count": 19,
     "metadata": {},
     "output_type": "execute_result"
    }
   ],
   "source": [
    "df['descripcion'].apply(lambda x: bool(re.search('(puerta|puer|pu)$', str(x))))"
   ]
  },
  {
   "cell_type": "code",
   "execution_count": 20,
   "metadata": {
    "colab": {
     "base_uri": "https://localhost:8080/",
     "height": 178
    },
    "id": "uEP0RZn4GmYl",
    "outputId": "31863673-c21c-44cd-b81e-2fad1f8d31b2"
   },
   "outputs": [
    {
     "data": {
      "text/plain": [
       "0    sedan 3 puertas\n",
       "1    sedan 3 puertas\n",
       "2    sedan 3 puertas\n",
       "Name: descripcion, dtype: object"
      ]
     },
     "execution_count": 20,
     "metadata": {},
     "output_type": "execute_result"
    }
   ],
   "source": [
    "df['descripcion'].apply(lambda x: re.sub('(puerta|puer|pu)', 'puertas', str(x)))"
   ]
  },
  {
   "cell_type": "code",
   "execution_count": null,
   "metadata": {
    "id": "8-ayakgoPbc9"
   },
   "outputs": [],
   "source": []
  },
  {
   "cell_type": "code",
   "execution_count": null,
   "metadata": {
    "id": "hbzQzRJdSAQw"
   },
   "outputs": [],
   "source": []
  }
 ],
 "metadata": {
  "colab": {
   "provenance": []
  },
  "kernelspec": {
   "display_name": "Python 3 (ipykernel)",
   "language": "python",
   "name": "python3"
  },
  "language_info": {
   "codemirror_mode": {
    "name": "ipython",
    "version": 3
   },
   "file_extension": ".py",
   "mimetype": "text/x-python",
   "name": "python",
   "nbconvert_exporter": "python",
   "pygments_lexer": "ipython3",
   "version": "3.11.7"
  }
 },
 "nbformat": 4,
 "nbformat_minor": 4
}
