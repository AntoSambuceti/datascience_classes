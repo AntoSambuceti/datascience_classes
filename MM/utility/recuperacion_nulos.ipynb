{
 "cells": [
  {
   "cell_type": "code",
   "execution_count": 1,
   "id": "36a6c39f-5d16-4f00-a084-5081df4f3c85",
   "metadata": {
    "tags": []
   },
   "outputs": [],
   "source": [
    "import pandas as pd\n",
    "\n",
    "#cremos una list con los datos\n",
    "data = [\n",
    "    ['ford fiesta', 23],\n",
    "    ['volkswagen'],\n",
    "    ['ford fiesta', 23],\n",
    "    ['ford fiesta'],\n",
    "    ['volkswagen', 26],\n",
    "    ['nissan'],\n",
    "    ['volkswagen'],\n",
    "    ['Chevrolet', 45],\n",
    "    ['ford'],\n",
    "    ['ford', 29],\n",
    "    ['toyota', 37],\n",
    "    ['nissan', 78],\n",
    "    ['bmw']\n",
    "]\n",
    "\n",
    "#cramos el dataframe\n",
    "df = pd.DataFrame(data, columns=['descripcion', 'codigo'])"
   ]
  },
  {
   "cell_type": "code",
   "execution_count": 2,
   "id": "c5021542-2fc2-467a-bd91-97f2c5253fe5",
   "metadata": {
    "tags": []
   },
   "outputs": [
    {
     "data": {
      "text/plain": [
       "['volkswagen', 'ford fiesta', 'nissan', 'ford', 'bmw']"
      ]
     },
     "execution_count": 2,
     "metadata": {},
     "output_type": "execute_result"
    }
   ],
   "source": [
    "#creamos un lista con los modelos de autos que poseen codigo nulos\n",
    "list_autos = list(df[df.codigo.isna()].descripcion.unique())\n",
    "list_autos"
   ]
  },
  {
   "cell_type": "code",
   "execution_count": 3,
   "id": "870a41a6-2938-4e79-ad48-9d7403ba30f1",
   "metadata": {
    "tags": []
   },
   "outputs": [
    {
     "data": {
      "text/plain": [
       "descripcion  codigo\n",
       "ford fiesta  23.0      2\n",
       "volkswagen   NaN       2\n",
       "bmw          NaN       1\n",
       "ford         29.0      1\n",
       "             NaN       1\n",
       "ford fiesta  NaN       1\n",
       "nissan       78.0      1\n",
       "             NaN       1\n",
       "volkswagen   26.0      1\n",
       "Name: count, dtype: int64"
      ]
     },
     "execution_count": 3,
     "metadata": {},
     "output_type": "execute_result"
    }
   ],
   "source": [
    "#observamos si esos modelos de autos tienen el dato del codigo en otras filas\n",
    "df[df.descripcion.isin(list_autos)][['descripcion','codigo']].value_counts(dropna=False)"
   ]
  },
  {
   "cell_type": "code",
   "execution_count": 4,
   "id": "b838a954-2aba-4b11-abc0-d3d77ff489a0",
   "metadata": {},
   "outputs": [],
   "source": [
    "#iteramos por los modelos de autos que tenemos en la lista, filtramos el dataset por cada uno de ellos y le asignamos el valor que se encuentra en las filas no nulas (si es que existe, primero se valid en el if)\n",
    "\n",
    "for auto in list_autos:\n",
    "    if len(df.loc[(df['descripcion'] == auto) & ~(df.codigo.isna()),'codigo']) != 0:\n",
    "        df.loc[(df['descripcion'] == auto) & (df.codigo.isna()),'codigo'] = df[(df['descripcion'] == auto) & ~(df.codigo.isna())].codigo.unique()[0]\n"
   ]
  },
  {
   "cell_type": "code",
   "execution_count": 5,
   "id": "bafc7bfb-edaf-475d-a770-b13ba2101cec",
   "metadata": {
    "tags": []
   },
   "outputs": [],
   "source": [
    "for auto in list_autos:\n",
    "    if len(df.loc[(df['descripcion'] == auto) & ~(df.codigo.isna()),'codigo']) != 0:\n",
    "        df.loc[(df['descripcion'] == auto) & (df.codigo.isna()),'codigo'] = df[(df['descripcion'] == auto) & ~(df.codigo.isna())].codigo.unique()[0]"
   ]
  },
  {
   "cell_type": "code",
   "execution_count": 6,
   "id": "273a55f7-d859-402c-83e3-60b9e7df963e",
   "metadata": {
    "tags": []
   },
   "outputs": [
    {
     "data": {
      "text/plain": [
       "descripcion  codigo\n",
       "ford fiesta  23.0      3\n",
       "volkswagen   26.0      3\n",
       "ford         29.0      2\n",
       "nissan       78.0      2\n",
       "bmw          NaN       1\n",
       "Name: count, dtype: int64"
      ]
     },
     "execution_count": 6,
     "metadata": {},
     "output_type": "execute_result"
    }
   ],
   "source": [
    "df[df.descripcion.isin(list_autos)][['descripcion','codigo']].value_counts(dropna=False)"
   ]
  },
  {
   "cell_type": "code",
   "execution_count": null,
   "id": "e5184daf-6791-42b5-8bc5-5bf990f8e5f5",
   "metadata": {},
   "outputs": [],
   "source": []
  }
 ],
 "metadata": {
  "kernelspec": {
   "display_name": "Python 3 (ipykernel)",
   "language": "python",
   "name": "python3"
  },
  "language_info": {
   "codemirror_mode": {
    "name": "ipython",
    "version": 3
   },
   "file_extension": ".py",
   "mimetype": "text/x-python",
   "name": "python",
   "nbconvert_exporter": "python",
   "pygments_lexer": "ipython3",
   "version": "3.11.7"
  }
 },
 "nbformat": 4,
 "nbformat_minor": 5
}
