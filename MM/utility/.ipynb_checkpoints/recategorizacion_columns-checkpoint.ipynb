{
 "cells": [
  {
   "cell_type": "code",
   "execution_count": 8,
   "id": "d2eeca12-768f-4cb3-88c7-66b07c8077fc",
   "metadata": {
    "tags": []
   },
   "outputs": [],
   "source": [
    "import pandas as pd"
   ]
  },
  {
   "cell_type": "code",
   "execution_count": 26,
   "id": "8801b4bf-eeab-4fc8-9d0d-04a8833df842",
   "metadata": {
    "tags": []
   },
   "outputs": [],
   "source": [
    "#cremos una list con los datos\n",
    "data = [\n",
    "'Salta',\n",
    "'Jujuy',\n",
    "'Rio Negro',\n",
    "'Santa Cruz',\n",
    "'Buenos Aires',\n",
    "'Cordoba',\n",
    "'Misiones',\n",
    "'Entre Rios'\n",
    "]\n",
    "\n",
    "#cramos el dataframe\n",
    "df = pd.DataFrame(data, columns=['location'])"
   ]
  },
  {
   "cell_type": "code",
   "execution_count": 28,
   "id": "b8eebbad-406f-4670-9757-80c084ed8a08",
   "metadata": {
    "tags": []
   },
   "outputs": [],
   "source": [
    "dic_location = {'zona_norte': ['Salta','Jujuy'],\n",
    "                'zona_sur':['Rio Negro','Santa Cruz'],\n",
    "                'zona_centro':['Buenos Aires', 'Cordoba'],\n",
    "                'zona_litoral':['Misiones', 'Entre Rios']\n",
    "}\n",
    "\n",
    "df['new_location']= df['location']"
   ]
  },
  {
   "cell_type": "code",
   "execution_count": 32,
   "id": "884820c5-bc8e-461e-96a3-859e3d76c3cc",
   "metadata": {
    "tags": []
   },
   "outputs": [
    {
     "data": {
      "text/html": [
       "<div>\n",
       "<style scoped>\n",
       "    .dataframe tbody tr th:only-of-type {\n",
       "        vertical-align: middle;\n",
       "    }\n",
       "\n",
       "    .dataframe tbody tr th {\n",
       "        vertical-align: top;\n",
       "    }\n",
       "\n",
       "    .dataframe thead th {\n",
       "        text-align: right;\n",
       "    }\n",
       "</style>\n",
       "<table border=\"1\" class=\"dataframe\">\n",
       "  <thead>\n",
       "    <tr style=\"text-align: right;\">\n",
       "      <th></th>\n",
       "      <th>location</th>\n",
       "      <th>new_location</th>\n",
       "    </tr>\n",
       "  </thead>\n",
       "  <tbody>\n",
       "    <tr>\n",
       "      <th>0</th>\n",
       "      <td>Salta</td>\n",
       "      <td>zona_norte</td>\n",
       "    </tr>\n",
       "    <tr>\n",
       "      <th>1</th>\n",
       "      <td>Jujuy</td>\n",
       "      <td>zona_norte</td>\n",
       "    </tr>\n",
       "    <tr>\n",
       "      <th>2</th>\n",
       "      <td>Rio Negro</td>\n",
       "      <td>zona_sur</td>\n",
       "    </tr>\n",
       "    <tr>\n",
       "      <th>3</th>\n",
       "      <td>Santa Cruz</td>\n",
       "      <td>zona_sur</td>\n",
       "    </tr>\n",
       "    <tr>\n",
       "      <th>4</th>\n",
       "      <td>Buenos Aires</td>\n",
       "      <td>zona_centro</td>\n",
       "    </tr>\n",
       "    <tr>\n",
       "      <th>5</th>\n",
       "      <td>Cordoba</td>\n",
       "      <td>zona_centro</td>\n",
       "    </tr>\n",
       "    <tr>\n",
       "      <th>6</th>\n",
       "      <td>Misiones</td>\n",
       "      <td>zona_litoral</td>\n",
       "    </tr>\n",
       "    <tr>\n",
       "      <th>7</th>\n",
       "      <td>Entre Rios</td>\n",
       "      <td>zona_litoral</td>\n",
       "    </tr>\n",
       "  </tbody>\n",
       "</table>\n",
       "</div>"
      ],
      "text/plain": [
       "       location  new_location\n",
       "0         Salta    zona_norte\n",
       "1         Jujuy    zona_norte\n",
       "2     Rio Negro      zona_sur\n",
       "3    Santa Cruz      zona_sur\n",
       "4  Buenos Aires   zona_centro\n",
       "5       Cordoba   zona_centro\n",
       "6      Misiones  zona_litoral\n",
       "7    Entre Rios  zona_litoral"
      ]
     },
     "execution_count": 32,
     "metadata": {},
     "output_type": "execute_result"
    }
   ],
   "source": [
    "for i in dic_location :\n",
    "    df['new_location'] = df['new_location'].replace(dic_location [i], i)\n",
    "\n",
    "#para visualizar las columnas\n",
    "df"
   ]
  },
  {
   "cell_type": "code",
   "execution_count": null,
   "id": "c959c374-ff10-42ae-9655-771fb021bff4",
   "metadata": {},
   "outputs": [],
   "source": []
  }
 ],
 "metadata": {
  "kernelspec": {
   "display_name": "Python 3 (ipykernel)",
   "language": "python",
   "name": "python3"
  },
  "language_info": {
   "codemirror_mode": {
    "name": "ipython",
    "version": 3
   },
   "file_extension": ".py",
   "mimetype": "text/x-python",
   "name": "python",
   "nbconvert_exporter": "python",
   "pygments_lexer": "ipython3",
   "version": "3.11.7"
  }
 },
 "nbformat": 4,
 "nbformat_minor": 5
}
