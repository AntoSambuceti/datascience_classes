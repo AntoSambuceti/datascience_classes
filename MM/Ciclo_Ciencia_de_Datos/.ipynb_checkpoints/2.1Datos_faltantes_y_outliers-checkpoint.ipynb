{
 "cells": [
  {
   "cell_type": "markdown",
   "id": "01e449e8-a788-47fc-97c6-e85de8002a62",
   "metadata": {
    "tags": []
   },
   "source": [
    "# Analisis y curacion de datos - Datos faltantes y ruidosos"
   ]
  },
  {
   "cell_type": "markdown",
   "id": "0ad71829-63bd-4e7e-9b74-51785d03c508",
   "metadata": {
    "tags": []
   },
   "source": [
    "## Datos Ruidosos"
   ]
  },
  {
   "cell_type": "markdown",
   "id": "23a5f5bd-b91a-4cd2-8ce7-406dbbb7f1a8",
   "metadata": {},
   "source": [
    "Casi todos los conjuntos de datos contienen algo de ruido, y cuanto menos ruido haya, mejor (\"más limpio\") será el conjunto de datos. Algunos tipos de ruido son más fáciles de corregir que otros. A veces, eliminar el ruido por completo es simplemente imposible y todo lo que puede hacer es volver a muestrear o esperar lo mejor, teniendo en cuenta que en procesamiento de datos, <span style=\"color:FireBrick\">**cuando entra basura, sale basura.**</span>"
   ]
  },
  {
   "cell_type": "markdown",
   "id": "ef007bfb-fdfa-474a-b2e0-6eff887c22d0",
   "metadata": {},
   "source": [
    "### Tipos de datos ruidosos"
   ]
  },
  {
   "cell_type": "markdown",
   "id": "ffbf98a5-f2ad-4bf8-9b1c-c7220e351a1e",
   "metadata": {},
   "source": [
    "* El <span style=\"color:FireBrick\">**dato erróneo**</span>  es un dato recolectado con algun error, que lo separa de la generalidad. Debe ser inspeccionado y tratado especialmente para determinar si es un <span style=\"color:FireBrick\">**ruido**</span> o un dato importante con baja probabilidad de ocurrir, es decir un  <span style=\"color:FireBrick\">**dato atípico**</span> o <span style=\"color:FireBrick\">**outlier**</span>."
   ]
  },
  {
   "cell_type": "markdown",
   "id": "faf5ba2b-d5a6-4044-b100-add1fb629479",
   "metadata": {},
   "source": [
    "* El <span style=\"color:FireBrick\">**dato faltante**</span> es el un dato que no esta registrado en la database. Dependiendo como se hayan recolectado los datos y escrito el archivo de datos, pueden estar marcados con un <span style=\"color:FireBrick\">**NaN**</span>, o con un número fuera de rango, como <span style=\"color:FireBrick\">**0**</span> o <span style=\"color:FireBrick\">**-1**</span>. Es muy importante reconocer la codificación de datos faltantes, para no confundirlos con un dato válido recolectado. \n",
    "\n"
   ]
  },
  {
   "cell_type": "markdown",
   "id": "8ef5a851-d568-416d-8ab4-ba01c51020b0",
   "metadata": {
    "tags": []
   },
   "source": [
    "### Datos Erróneos\n",
    "\n",
    "Los datos erróneos se dividen en <span style=\"color:FireBrick\">**datos atípicos**</span> y <span style=\"color:FireBrick\">**datos mal codificados**</span>.\n",
    "\n",
    "Los <span style=\"color:FireBrick\">**datos atípicos**</span> son datos reales, sin embargo, pueden producir demasiada desviacion sobre los estadisticos de tendencia central, lo cual los hace candidatos a ser retirados del dataset. \n",
    "\n",
    "Los <span style=\"color:FireBrick\">**datos mal codificados**</span> son la fuente de error mas comun, que en muchos casos no puede ser detectada. Es importante detectar cuando los datos faltantes fueron codificados como valores fuera de rango, por ejemplo el valor <span style=\"color:FireBrick\">**cero**</span>."
   ]
  },
  {
   "cell_type": "markdown",
   "id": "5e06cb64-e1e5-4ad9-89aa-06100efa0b82",
   "metadata": {},
   "source": [
    "### Datos Faltantes\n",
    "\n",
    "Los datos faltantes se dividen en <span style=\"color:FireBrick\">**datos perdidos**</span> y <span style=\"color:FireBrick\">**datos inexistentes**</span>. "
   ]
  },
  {
   "cell_type": "markdown",
   "id": "6ccd3e41-b84a-48c6-814f-b48520e646c5",
   "metadata": {},
   "source": [
    "* Un <span style=\"color:FireBrick\">**dato perdido**</span> es un dato que uno sabe que existe pero dada una recolección fallida o incompleta, no se conoce su valor."
   ]
  },
  {
   "cell_type": "markdown",
   "id": "4bd610cc-20e9-4008-96d0-80871e5d8cea",
   "metadata": {},
   "source": [
    "* Un  <span style=\"color:FireBrick\">**dato inexistente**</span> es un dato faltante, por lo cual es ruido, pero a la vez, no lo es, pues no existe. Esto es, no puede ser recolectado. "
   ]
  },
  {
   "cell_type": "markdown",
   "id": "e2dacfaf-2111-4b47-b3db-4e1a44fe7122",
   "metadata": {},
   "source": [
    "Python no reconoce la diferencia, por lo cual uno debe ser muy cauteloso cuando trabaja con datos de ambas clases. Al leer un archivo con espacios en blanco, automáticamente asigna a ese dato un <span style=\"color:FireBrick\">**NaN**</span> numérico con capacidad de ser imputado. \n"
   ]
  },
  {
   "cell_type": "markdown",
   "id": "f8ef9d27-b798-4bb7-be06-297290f43715",
   "metadata": {},
   "source": [
    "* <span style=\"color:FireBrick\">**NaN**</span> es Not a Number, equivalente a dato no valido. \n",
    "\n",
    "* <span style=\"color:FireBrick\">**None**</span> es un internal Python type (NoneType) y es mas parecido al ''no existente'' o \"vacio\" que al  \"numerically invalid\" en este contexto."
   ]
  },
  {
   "cell_type": "markdown",
   "id": "c2710034-8e84-4bb2-8b0c-41153333ea82",
   "metadata": {},
   "source": [
    "### Dataset: Primer mirada a los datos\n",
    "\n",
    "<span style=\"color:FireBrick\">**Para lidiar con los valores erróneos**</span>, hay que estudiar las distribuciones de las variables y detectar los valores atípicos, teniendo en cuenta la forma de recolección de los datos. Un dato atípico puede ser un valor posible de una variable, o puede ser un error al recolectar los datos. Hay valores atípicos que enmascaran valores faltantes.\n",
    "\n",
    "<span style=\"color:FireBrick\">**Para lidiar con los valores perdidos**</span>, es necesario usar la intuición para averiguar por qué falta el valor. Una de las preguntas más importantes que puede hacerse para ayudar a resolver esto es la siguiente:\n",
    "\n",
    "- <span style=\"color:FireBrick\">**¿Falta este valor porque no se registró o porque no existe?**</span>\n",
    "\n",
    "Por ejemplo\n",
    "\n",
    "- Una casa de 2 dormitorios no incluiría una respuesta para el tamaño del tercer dormitorio.\n",
    "\n",
    "\n",
    "- Alguien que está siendo encuestado puede optar por no compartir sus ingresos.\n",
    "\n",
    "Si falta un valor porque <span style=\"color:FireBrick\">**no existe**</span> (como la altura del hijo mayor de alguien que no tiene hijos), no tiene sentido intentar adivinar cuál podría ser. Estos valores que probablemente desee mantener como NaN, o codificados por un valor constante muy lejos del rango real de la variable. \n",
    "\n",
    "Por otro lado, si falta un valor <span style=\"color:FireBrick\">**porque no se registró**</span>, puede intentar adivinar cuál podría haber sido es valor basándose en los otros valores en esa columna y fila. \n",
    "\n",
    "En estadística, <span style=\"color:FireBrick\">**predecir**</span> es otorgar valor a un dato que todavia no ha sido muestreado, e <span style=\"color:FireBrick\">**imputar**</span> es estimar un valor que puede haber sido muestreado pero no se lo conoce. \n",
    "\n"
   ]
  },
  {
   "cell_type": "markdown",
   "id": "eec0a975-aaf4-4919-9e7b-1cf46df49a0d",
   "metadata": {},
   "source": [
    "### Razones que contribuyen a tener datos faltantes\n",
    "\n",
    "Es importante entender las razones de la pérdida de los datos. En general, se modela la pérdida en tres categorias\n",
    "\n",
    "<span style=\"color:Red\"> 1. Missing Completely at Random (MCAR)</span>\n",
    "\n",
    "Los valores faltantes de una variable dada (Y) no estan asociados con otras variables del dataset dado o con la misma variable (Y). \n",
    "\n",
    "<span style=\"color:Red\"> 2. Missing at Random (MAR)</span>\n",
    "\n",
    "MAR ocurre la pérdida de los datos no es aleatoria, pero puede ser explicada completamente como funcion de otras variables con informacion completa. \n",
    "\n",
    "<span style=\"color:Red\"> 3. Missing Not at Random (MNAR)</span>\n",
    "\n",
    "La pérdida depende de datos no observados o del valor perdido. \n",
    "\n",
    "\n",
    "\n"
   ]
  },
  {
   "cell_type": "markdown",
   "id": "56619bb9-f32f-4daf-ada5-1db2a47a7d1a",
   "metadata": {},
   "source": [
    "### Tratamiento del valor faltante"
   ]
  },
  {
   "cell_type": "markdown",
   "id": "fcc3d66f-8d45-49f1-b136-d70b0be79626",
   "metadata": {},
   "source": [
    "* Eliminar\n",
    "\n",
    "Si la pérdida es completamente aleatoria, MCAR, generalmente el porcentaje de casos con datos faltantes es pequeño, se elimina el caso completo. \n",
    "\n",
    "Si una columna contiene muchos valores faltantes, digamos más del 80%, y la característica no es significativa, es posible que se desee eliminar esa característica. \n",
    "\n",
    "* Imputar\n",
    "\n",
    "Técnicas básicas de imputación reemplazan el dato faltante por\n",
    "\n",
    "    - Un valor constante que tiene significado dentro del dominio, como 0, distinto de todos los demás valores.\n",
    "\n",
    "    - Un valor de otro registro seleccionado al azar.\n",
    "\n",
    "    - Un valor medio, mediano o de moda para la columna.\n",
    "\n",
    "Técnicas avanzadas de imputación reemplazan el dato faltante por\n",
    "\n",
    "    - Un valor estimado por otro modelo predictivo.\n"
   ]
  },
  {
   "cell_type": "markdown",
   "id": "4733b58c-0f4a-4f9e-8e3d-24d306d58159",
   "metadata": {
    "tags": []
   },
   "source": [
    "## Importancion de librerias"
   ]
  },
  {
   "cell_type": "code",
   "execution_count": 1,
   "id": "aca4a524-6156-422e-9cd2-6d865a975270",
   "metadata": {},
   "outputs": [],
   "source": [
    "import matplotlib.pyplot as plt\n",
    "import missingno as msno\n",
    "import numpy as np\n",
    "import pandas as pd\n",
    "import seaborn as sns\n",
    "from sklearn.impute import SimpleImputer\n",
    "\n",
    "from datetime import datetime\n",
    "from dateutil.relativedelta import relativedelta\n",
    "from sklearn.impute import SimpleImputer"
   ]
  },
  {
   "cell_type": "markdown",
   "id": "e70823b3-04e9-4d19-9fa9-6c3bd9f7f3ca",
   "metadata": {
    "tags": []
   },
   "source": [
    "## Importancion de datasets"
   ]
  },
  {
   "cell_type": "code",
   "execution_count": 2,
   "id": "0acbad3e-9e2c-4bf0-ba1b-2eb15191ee7a",
   "metadata": {},
   "outputs": [],
   "source": [
    "url = 'https://raw.githubusercontent.com/MentoriaDiploDatos/Presentacion/main/data.csv'"
   ]
  },
  {
   "cell_type": "code",
   "execution_count": 3,
   "id": "4eaa093e-a695-427c-9cb6-091da61b47ce",
   "metadata": {},
   "outputs": [
    {
     "name": "stderr",
     "output_type": "stream",
     "text": [
      "/var/folders/7p/g2x25rt54zj85__vsg7pyp3c0000gn/T/ipykernel_74723/566845790.py:1: DtypeWarning: Columns (16) have mixed types. Specify dtype option on import or set low_memory=False.\n",
      "  df = pd.read_csv(url, sep=';')\n"
     ]
    }
   ],
   "source": [
    "df = pd.read_csv(url, sep=';')"
   ]
  },
  {
   "cell_type": "code",
   "execution_count": 4,
   "id": "bb4ab10b-6b08-4b5e-b906-52d4eda7c4e0",
   "metadata": {},
   "outputs": [
    {
     "data": {
      "text/html": [
       "<div>\n",
       "<style scoped>\n",
       "    .dataframe tbody tr th:only-of-type {\n",
       "        vertical-align: middle;\n",
       "    }\n",
       "\n",
       "    .dataframe tbody tr th {\n",
       "        vertical-align: top;\n",
       "    }\n",
       "\n",
       "    .dataframe thead th {\n",
       "        text-align: right;\n",
       "    }\n",
       "</style>\n",
       "<table border=\"1\" class=\"dataframe\">\n",
       "  <thead>\n",
       "    <tr style=\"text-align: right;\">\n",
       "      <th></th>\n",
       "      <th>numero_licencia</th>\n",
       "      <th>fecha_creacion</th>\n",
       "      <th>dispositivo_acceso</th>\n",
       "      <th>dias_solicitados</th>\n",
       "      <th>fecha_inicio</th>\n",
       "      <th>fecha_fin</th>\n",
       "      <th>diagnostico</th>\n",
       "      <th>id_diagnostico</th>\n",
       "      <th>id_usuario</th>\n",
       "      <th>fecha_nacimiento</th>\n",
       "      <th>genero</th>\n",
       "      <th>tipo_licencia</th>\n",
       "      <th>estado_civil</th>\n",
       "      <th>dias_aprobados</th>\n",
       "      <th>decision_medica</th>\n",
       "      <th>id_auditor</th>\n",
       "      <th>motivo_rechazo</th>\n",
       "      <th>categoria_diagnostico</th>\n",
       "    </tr>\n",
       "  </thead>\n",
       "  <tbody>\n",
       "    <tr>\n",
       "      <th>0</th>\n",
       "      <td>1</td>\n",
       "      <td>2021-01-01 00:10:10.418</td>\n",
       "      <td>APP</td>\n",
       "      <td>2.0</td>\n",
       "      <td>2021-01-01</td>\n",
       "      <td>2021-01-01</td>\n",
       "      <td>EFECTOS ADVERSOS DE VACUNAS VIRALES</td>\n",
       "      <td>NaN</td>\n",
       "      <td>15508</td>\n",
       "      <td>1979-11-28</td>\n",
       "      <td>FEMALE</td>\n",
       "      <td>Médica</td>\n",
       "      <td>OTHER</td>\n",
       "      <td>2.0</td>\n",
       "      <td>EDITAR_Y_APROBAR</td>\n",
       "      <td>14721.0</td>\n",
       "      <td>NaN</td>\n",
       "      <td>NaN</td>\n",
       "    </tr>\n",
       "    <tr>\n",
       "      <th>1</th>\n",
       "      <td>105</td>\n",
       "      <td>2021-01-02 14:14:20.330</td>\n",
       "      <td>APP</td>\n",
       "      <td>2.0</td>\n",
       "      <td>2021-01-02</td>\n",
       "      <td>2021-01-03</td>\n",
       "      <td>EFECTOS ADVERSOS DE VACUNAS VIRALES</td>\n",
       "      <td>NaN</td>\n",
       "      <td>15508</td>\n",
       "      <td>1979-11-08</td>\n",
       "      <td>FEMALE</td>\n",
       "      <td>Médica</td>\n",
       "      <td>OTHER</td>\n",
       "      <td>2.0</td>\n",
       "      <td>EDITAR_Y_APROBAR</td>\n",
       "      <td>14721.0</td>\n",
       "      <td>NaN</td>\n",
       "      <td>NaN</td>\n",
       "    </tr>\n",
       "    <tr>\n",
       "      <th>2</th>\n",
       "      <td>113806</td>\n",
       "      <td>2021-08-26 09:32:09.396</td>\n",
       "      <td>APP</td>\n",
       "      <td>1.0</td>\n",
       "      <td>2021-08-26</td>\n",
       "      <td>2021-08-26</td>\n",
       "      <td>COLELITIASIS</td>\n",
       "      <td>NaN</td>\n",
       "      <td>3661</td>\n",
       "      <td>1980-10-25</td>\n",
       "      <td>FEMALE</td>\n",
       "      <td>Médica</td>\n",
       "      <td>SINGLE</td>\n",
       "      <td>0.0</td>\n",
       "      <td>RECHAZAR</td>\n",
       "      <td>14721.0</td>\n",
       "      <td>NaN</td>\n",
       "      <td>NaN</td>\n",
       "    </tr>\n",
       "    <tr>\n",
       "      <th>3</th>\n",
       "      <td>333787</td>\n",
       "      <td>2022-08-03 20:29:25.519</td>\n",
       "      <td>APP</td>\n",
       "      <td>1.0</td>\n",
       "      <td>2022-08-03</td>\n",
       "      <td>2022-08-03</td>\n",
       "      <td>LUMBAGO NO ESPECIFICADO. CONTRACTURA DORSAL IN...</td>\n",
       "      <td>22.0</td>\n",
       "      <td>11761</td>\n",
       "      <td>1986-12-01</td>\n",
       "      <td>MALE</td>\n",
       "      <td>Médica</td>\n",
       "      <td>SINGLE</td>\n",
       "      <td>1.0</td>\n",
       "      <td>EDITAR_Y_APROBAR</td>\n",
       "      <td>14721.0</td>\n",
       "      <td>Se aprueba la licencia</td>\n",
       "      <td>TRAUMATOLOGIA Y ORTOPEDIA</td>\n",
       "    </tr>\n",
       "    <tr>\n",
       "      <th>4</th>\n",
       "      <td>428763</td>\n",
       "      <td>2022-12-26 12:41:18.734</td>\n",
       "      <td>APP</td>\n",
       "      <td>2.0</td>\n",
       "      <td>2022-12-26</td>\n",
       "      <td>2022-12-27</td>\n",
       "      <td>COLITIS Y GASTROENTERITIS NO INFECCIOSAS</td>\n",
       "      <td>6.0</td>\n",
       "      <td>11761</td>\n",
       "      <td>1986-12-21</td>\n",
       "      <td>MALE</td>\n",
       "      <td>Médica</td>\n",
       "      <td>SINGLE</td>\n",
       "      <td>2.0</td>\n",
       "      <td>EDITAR_Y_APROBAR</td>\n",
       "      <td>14721.0</td>\n",
       "      <td>Se aprueba la licencia</td>\n",
       "      <td>GASTROINTESTINAL</td>\n",
       "    </tr>\n",
       "  </tbody>\n",
       "</table>\n",
       "</div>"
      ],
      "text/plain": [
       "   numero_licencia           fecha_creacion dispositivo_acceso  \\\n",
       "0                1  2021-01-01 00:10:10.418                APP   \n",
       "1              105  2021-01-02 14:14:20.330                APP   \n",
       "2           113806  2021-08-26 09:32:09.396                APP   \n",
       "3           333787  2022-08-03 20:29:25.519                APP   \n",
       "4           428763  2022-12-26 12:41:18.734                APP   \n",
       "\n",
       "   dias_solicitados fecha_inicio   fecha_fin  \\\n",
       "0               2.0   2021-01-01  2021-01-01   \n",
       "1               2.0   2021-01-02  2021-01-03   \n",
       "2               1.0   2021-08-26  2021-08-26   \n",
       "3               1.0   2022-08-03  2022-08-03   \n",
       "4               2.0   2022-12-26  2022-12-27   \n",
       "\n",
       "                                         diagnostico  id_diagnostico  \\\n",
       "0                EFECTOS ADVERSOS DE VACUNAS VIRALES             NaN   \n",
       "1                EFECTOS ADVERSOS DE VACUNAS VIRALES             NaN   \n",
       "2                                       COLELITIASIS             NaN   \n",
       "3  LUMBAGO NO ESPECIFICADO. CONTRACTURA DORSAL IN...            22.0   \n",
       "4           COLITIS Y GASTROENTERITIS NO INFECCIOSAS             6.0   \n",
       "\n",
       "   id_usuario fecha_nacimiento  genero tipo_licencia estado_civil  \\\n",
       "0       15508       1979-11-28  FEMALE        Médica        OTHER   \n",
       "1       15508       1979-11-08  FEMALE        Médica        OTHER   \n",
       "2        3661       1980-10-25  FEMALE        Médica       SINGLE   \n",
       "3       11761       1986-12-01    MALE        Médica       SINGLE   \n",
       "4       11761       1986-12-21    MALE        Médica       SINGLE   \n",
       "\n",
       "   dias_aprobados   decision_medica  id_auditor          motivo_rechazo  \\\n",
       "0             2.0  EDITAR_Y_APROBAR     14721.0                     NaN   \n",
       "1             2.0  EDITAR_Y_APROBAR     14721.0                     NaN   \n",
       "2             0.0          RECHAZAR     14721.0                     NaN   \n",
       "3             1.0  EDITAR_Y_APROBAR     14721.0  Se aprueba la licencia   \n",
       "4             2.0  EDITAR_Y_APROBAR     14721.0  Se aprueba la licencia   \n",
       "\n",
       "       categoria_diagnostico  \n",
       "0                        NaN  \n",
       "1                        NaN  \n",
       "2                        NaN  \n",
       "3  TRAUMATOLOGIA Y ORTOPEDIA  \n",
       "4           GASTROINTESTINAL  "
      ]
     },
     "execution_count": 4,
     "metadata": {},
     "output_type": "execute_result"
    }
   ],
   "source": [
    "df.head(5)"
   ]
  },
  {
   "cell_type": "markdown",
   "id": "9f0d2ce8-2660-4318-8343-0b9d660b50fb",
   "metadata": {},
   "source": [
    "### Visualización de datos nulos"
   ]
  },
  {
   "cell_type": "code",
   "execution_count": 5,
   "id": "4cf4142c-39c3-438f-84ae-903636c8c5f3",
   "metadata": {},
   "outputs": [
    {
     "name": "stdout",
     "output_type": "stream",
     "text": [
      "<class 'pandas.core.frame.DataFrame'>\n",
      "RangeIndex: 430081 entries, 0 to 430080\n",
      "Data columns (total 18 columns):\n",
      " #   Column                 Non-Null Count   Dtype  \n",
      "---  ------                 --------------   -----  \n",
      " 0   numero_licencia        430081 non-null  int64  \n",
      " 1   fecha_creacion         430081 non-null  object \n",
      " 2   dispositivo_acceso     430081 non-null  object \n",
      " 3   dias_solicitados       424046 non-null  float64\n",
      " 4   fecha_inicio           430081 non-null  object \n",
      " 5   fecha_fin              430080 non-null  object \n",
      " 6   diagnostico            430081 non-null  object \n",
      " 7   id_diagnostico         273060 non-null  float64\n",
      " 8   id_usuario             430081 non-null  int64  \n",
      " 9   fecha_nacimiento       430081 non-null  object \n",
      " 10  genero                 430081 non-null  object \n",
      " 11  tipo_licencia          430081 non-null  object \n",
      " 12  estado_civil           430081 non-null  object \n",
      " 13  dias_aprobados         427003 non-null  float64\n",
      " 14  decision_medica        427003 non-null  object \n",
      " 15  id_auditor             427002 non-null  float64\n",
      " 16  motivo_rechazo         187814 non-null  object \n",
      " 17  categoria_diagnostico  271153 non-null  object \n",
      "dtypes: float64(4), int64(2), object(12)\n",
      "memory usage: 59.1+ MB\n"
     ]
    }
   ],
   "source": [
    "df.info()"
   ]
  },
  {
   "cell_type": "code",
   "execution_count": 6,
   "id": "ebd50704-f505-43db-9443-eac2ac6b9be9",
   "metadata": {},
   "outputs": [
    {
     "data": {
      "text/plain": [
       "numero_licencia               0\n",
       "fecha_creacion                0\n",
       "dispositivo_acceso            0\n",
       "dias_solicitados           6035\n",
       "fecha_inicio                  0\n",
       "fecha_fin                     1\n",
       "diagnostico                   0\n",
       "id_diagnostico           157021\n",
       "id_usuario                    0\n",
       "fecha_nacimiento              0\n",
       "genero                        0\n",
       "tipo_licencia                 0\n",
       "estado_civil                  0\n",
       "dias_aprobados             3078\n",
       "decision_medica            3078\n",
       "id_auditor                 3079\n",
       "motivo_rechazo           242267\n",
       "categoria_diagnostico    158928\n",
       "dtype: int64"
      ]
     },
     "execution_count": 6,
     "metadata": {},
     "output_type": "execute_result"
    }
   ],
   "source": [
    "df.isna().sum()"
   ]
  },
  {
   "cell_type": "code",
   "execution_count": 7,
   "id": "8b3fa8f7-081b-4118-9220-45450757988c",
   "metadata": {},
   "outputs": [
    {
     "data": {
      "text/html": [
       "<div>\n",
       "<style scoped>\n",
       "    .dataframe tbody tr th:only-of-type {\n",
       "        vertical-align: middle;\n",
       "    }\n",
       "\n",
       "    .dataframe tbody tr th {\n",
       "        vertical-align: top;\n",
       "    }\n",
       "\n",
       "    .dataframe thead th {\n",
       "        text-align: right;\n",
       "    }\n",
       "</style>\n",
       "<table border=\"1\" class=\"dataframe\">\n",
       "  <thead>\n",
       "    <tr style=\"text-align: right;\">\n",
       "      <th></th>\n",
       "      <th>numero_licencia</th>\n",
       "      <th>fecha_creacion</th>\n",
       "      <th>dispositivo_acceso</th>\n",
       "      <th>dias_solicitados</th>\n",
       "      <th>fecha_inicio</th>\n",
       "      <th>fecha_fin</th>\n",
       "      <th>diagnostico</th>\n",
       "      <th>id_diagnostico</th>\n",
       "      <th>id_usuario</th>\n",
       "      <th>fecha_nacimiento</th>\n",
       "      <th>genero</th>\n",
       "      <th>tipo_licencia</th>\n",
       "      <th>estado_civil</th>\n",
       "      <th>dias_aprobados</th>\n",
       "      <th>decision_medica</th>\n",
       "      <th>id_auditor</th>\n",
       "      <th>motivo_rechazo</th>\n",
       "      <th>categoria_diagnostico</th>\n",
       "    </tr>\n",
       "  </thead>\n",
       "  <tbody>\n",
       "    <tr>\n",
       "      <th>377354</th>\n",
       "      <td>382804</td>\n",
       "      <td>2022-10-13 11:27:47.117</td>\n",
       "      <td>WEB</td>\n",
       "      <td>10.0</td>\n",
       "      <td>2022-10-13</td>\n",
       "      <td>2022-10-21</td>\n",
       "      <td>RADICULOPATIA O NEURITIS BRAQUIAL, LUMBOSACRA,...</td>\n",
       "      <td>323.0</td>\n",
       "      <td>78929</td>\n",
       "      <td>1956-07-04</td>\n",
       "      <td>MALE</td>\n",
       "      <td>Médica</td>\n",
       "      <td>OTHER</td>\n",
       "      <td>NaN</td>\n",
       "      <td>NaN</td>\n",
       "      <td>NaN</td>\n",
       "      <td>NaN</td>\n",
       "      <td>TRAUMATOLOGIA Y ORTOPEDIA</td>\n",
       "    </tr>\n",
       "    <tr>\n",
       "      <th>377355</th>\n",
       "      <td>388907</td>\n",
       "      <td>2022-10-21 00:13:40.509</td>\n",
       "      <td>APP</td>\n",
       "      <td>14.0</td>\n",
       "      <td>2022-10-21</td>\n",
       "      <td>2022-11-02</td>\n",
       "      <td>TUMOR MALIGNO DE LA VEJIGA URINARIA</td>\n",
       "      <td>374.0</td>\n",
       "      <td>74183</td>\n",
       "      <td>1961-12-26</td>\n",
       "      <td>MALE</td>\n",
       "      <td>Médica</td>\n",
       "      <td>OTHER</td>\n",
       "      <td>NaN</td>\n",
       "      <td>NaN</td>\n",
       "      <td>NaN</td>\n",
       "      <td>NaN</td>\n",
       "      <td>MALIGNOS</td>\n",
       "    </tr>\n",
       "    <tr>\n",
       "      <th>377356</th>\n",
       "      <td>423040</td>\n",
       "      <td>2022-12-14 12:07:41.758</td>\n",
       "      <td>WEB</td>\n",
       "      <td>30.0</td>\n",
       "      <td>2022-12-14</td>\n",
       "      <td>2023-01-11</td>\n",
       "      <td>TRASTORNO DE ANSIEDAD GENERALIZADA</td>\n",
       "      <td>30.0</td>\n",
       "      <td>79341</td>\n",
       "      <td>1965-07-04</td>\n",
       "      <td>MALE</td>\n",
       "      <td>Médica</td>\n",
       "      <td>OTHER</td>\n",
       "      <td>NaN</td>\n",
       "      <td>NaN</td>\n",
       "      <td>NaN</td>\n",
       "      <td>NaN</td>\n",
       "      <td>SALUD MENTAL</td>\n",
       "    </tr>\n",
       "    <tr>\n",
       "      <th>377357</th>\n",
       "      <td>427856</td>\n",
       "      <td>2022-12-22 17:06:23.539</td>\n",
       "      <td>APP</td>\n",
       "      <td>60.0</td>\n",
       "      <td>2022-12-22</td>\n",
       "      <td>2023-02-19</td>\n",
       "      <td>TRASTORNO DEPRESIVO RECURRENTE</td>\n",
       "      <td>37.0</td>\n",
       "      <td>79557</td>\n",
       "      <td>1958-08-05</td>\n",
       "      <td>FEMALE</td>\n",
       "      <td>Médica</td>\n",
       "      <td>OTHER</td>\n",
       "      <td>NaN</td>\n",
       "      <td>NaN</td>\n",
       "      <td>NaN</td>\n",
       "      <td>NaN</td>\n",
       "      <td>SALUD MENTAL</td>\n",
       "    </tr>\n",
       "    <tr>\n",
       "      <th>377358</th>\n",
       "      <td>425859</td>\n",
       "      <td>2022-12-19 12:25:51.443</td>\n",
       "      <td>APP</td>\n",
       "      <td>10.0</td>\n",
       "      <td>2022-12-19</td>\n",
       "      <td>2022-12-25</td>\n",
       "      <td>CIRUGIAS DE LA NARIZ Y DE LOS SENOS PARANASALES</td>\n",
       "      <td>229.0</td>\n",
       "      <td>65317</td>\n",
       "      <td>1989-02-11</td>\n",
       "      <td>FEMALE</td>\n",
       "      <td>Médica</td>\n",
       "      <td>SINGLE</td>\n",
       "      <td>NaN</td>\n",
       "      <td>NaN</td>\n",
       "      <td>NaN</td>\n",
       "      <td>NaN</td>\n",
       "      <td>CIRUGIA</td>\n",
       "    </tr>\n",
       "  </tbody>\n",
       "</table>\n",
       "</div>"
      ],
      "text/plain": [
       "        numero_licencia           fecha_creacion dispositivo_acceso  \\\n",
       "377354           382804  2022-10-13 11:27:47.117                WEB   \n",
       "377355           388907  2022-10-21 00:13:40.509                APP   \n",
       "377356           423040  2022-12-14 12:07:41.758                WEB   \n",
       "377357           427856  2022-12-22 17:06:23.539                APP   \n",
       "377358           425859  2022-12-19 12:25:51.443                APP   \n",
       "\n",
       "        dias_solicitados fecha_inicio   fecha_fin  \\\n",
       "377354              10.0   2022-10-13  2022-10-21   \n",
       "377355              14.0   2022-10-21  2022-11-02   \n",
       "377356              30.0   2022-12-14  2023-01-11   \n",
       "377357              60.0   2022-12-22  2023-02-19   \n",
       "377358              10.0   2022-12-19  2022-12-25   \n",
       "\n",
       "                                              diagnostico  id_diagnostico  \\\n",
       "377354  RADICULOPATIA O NEURITIS BRAQUIAL, LUMBOSACRA,...           323.0   \n",
       "377355                TUMOR MALIGNO DE LA VEJIGA URINARIA           374.0   \n",
       "377356                 TRASTORNO DE ANSIEDAD GENERALIZADA            30.0   \n",
       "377357                     TRASTORNO DEPRESIVO RECURRENTE            37.0   \n",
       "377358    CIRUGIAS DE LA NARIZ Y DE LOS SENOS PARANASALES           229.0   \n",
       "\n",
       "        id_usuario fecha_nacimiento  genero tipo_licencia estado_civil  \\\n",
       "377354       78929       1956-07-04    MALE        Médica        OTHER   \n",
       "377355       74183       1961-12-26    MALE        Médica        OTHER   \n",
       "377356       79341       1965-07-04    MALE        Médica        OTHER   \n",
       "377357       79557       1958-08-05  FEMALE        Médica        OTHER   \n",
       "377358       65317       1989-02-11  FEMALE        Médica       SINGLE   \n",
       "\n",
       "        dias_aprobados decision_medica  id_auditor motivo_rechazo  \\\n",
       "377354             NaN             NaN         NaN            NaN   \n",
       "377355             NaN             NaN         NaN            NaN   \n",
       "377356             NaN             NaN         NaN            NaN   \n",
       "377357             NaN             NaN         NaN            NaN   \n",
       "377358             NaN             NaN         NaN            NaN   \n",
       "\n",
       "            categoria_diagnostico  \n",
       "377354  TRAUMATOLOGIA Y ORTOPEDIA  \n",
       "377355                   MALIGNOS  \n",
       "377356               SALUD MENTAL  \n",
       "377357               SALUD MENTAL  \n",
       "377358                    CIRUGIA  "
      ]
     },
     "execution_count": 7,
     "metadata": {},
     "output_type": "execute_result"
    }
   ],
   "source": [
    "df[df['decision_medica'].isna()].tail(5)"
   ]
  },
  {
   "cell_type": "code",
   "execution_count": 8,
   "id": "410390fd-84c3-4edb-b1ae-a1774997e835",
   "metadata": {},
   "outputs": [
    {
     "data": {
      "text/html": [
       "<div>\n",
       "<style scoped>\n",
       "    .dataframe tbody tr th:only-of-type {\n",
       "        vertical-align: middle;\n",
       "    }\n",
       "\n",
       "    .dataframe tbody tr th {\n",
       "        vertical-align: top;\n",
       "    }\n",
       "\n",
       "    .dataframe thead th {\n",
       "        text-align: right;\n",
       "    }\n",
       "</style>\n",
       "<table border=\"1\" class=\"dataframe\">\n",
       "  <thead>\n",
       "    <tr style=\"text-align: right;\">\n",
       "      <th></th>\n",
       "      <th>numero_licencia</th>\n",
       "      <th>fecha_creacion</th>\n",
       "      <th>dispositivo_acceso</th>\n",
       "      <th>dias_solicitados</th>\n",
       "      <th>fecha_inicio</th>\n",
       "      <th>fecha_fin</th>\n",
       "      <th>diagnostico</th>\n",
       "      <th>id_diagnostico</th>\n",
       "      <th>id_usuario</th>\n",
       "      <th>fecha_nacimiento</th>\n",
       "      <th>genero</th>\n",
       "      <th>tipo_licencia</th>\n",
       "      <th>estado_civil</th>\n",
       "      <th>dias_aprobados</th>\n",
       "      <th>decision_medica</th>\n",
       "      <th>id_auditor</th>\n",
       "      <th>motivo_rechazo</th>\n",
       "      <th>categoria_diagnostico</th>\n",
       "    </tr>\n",
       "  </thead>\n",
       "  <tbody>\n",
       "    <tr>\n",
       "      <th>374497</th>\n",
       "      <td>114159</td>\n",
       "      <td>2021-08-26 10:53:34.865</td>\n",
       "      <td>WEB</td>\n",
       "      <td>9.0</td>\n",
       "      <td>2021-08-26</td>\n",
       "      <td>2021-09-03</td>\n",
       "      <td>CONTACTO ESTRECHO</td>\n",
       "      <td>NaN</td>\n",
       "      <td>32144</td>\n",
       "      <td>1969-03-30</td>\n",
       "      <td>FEMALE</td>\n",
       "      <td>Médica</td>\n",
       "      <td>MARRIED</td>\n",
       "      <td>NaN</td>\n",
       "      <td>NaN</td>\n",
       "      <td>NaN</td>\n",
       "      <td>NaN</td>\n",
       "      <td>NaN</td>\n",
       "    </tr>\n",
       "    <tr>\n",
       "      <th>376795</th>\n",
       "      <td>222990</td>\n",
       "      <td>2022-02-18 22:01:04.667</td>\n",
       "      <td>WEB</td>\n",
       "      <td>3.0</td>\n",
       "      <td>2022-02-18</td>\n",
       "      <td>2022-02-20</td>\n",
       "      <td>CIRUGIA DE HERNIA INGUINAL Y FEMORAL</td>\n",
       "      <td>227.0</td>\n",
       "      <td>68141</td>\n",
       "      <td>1979-12-16</td>\n",
       "      <td>FEMALE</td>\n",
       "      <td>Médica</td>\n",
       "      <td>OTHER</td>\n",
       "      <td>NaN</td>\n",
       "      <td>NaN</td>\n",
       "      <td>NaN</td>\n",
       "      <td>NaN</td>\n",
       "      <td>NaN</td>\n",
       "    </tr>\n",
       "    <tr>\n",
       "      <th>377208</th>\n",
       "      <td>232278</td>\n",
       "      <td>2022-03-11 13:25:24.299</td>\n",
       "      <td>APP</td>\n",
       "      <td>30.0</td>\n",
       "      <td>2022-03-11</td>\n",
       "      <td>2022-04-09</td>\n",
       "      <td>EPISODIO DEPRESIVO</td>\n",
       "      <td>63.0</td>\n",
       "      <td>59890</td>\n",
       "      <td>1979-05-12</td>\n",
       "      <td>FEMALE</td>\n",
       "      <td>Médica</td>\n",
       "      <td>MARRIED</td>\n",
       "      <td>NaN</td>\n",
       "      <td>NaN</td>\n",
       "      <td>NaN</td>\n",
       "      <td>NaN</td>\n",
       "      <td>SALUD MENTAL</td>\n",
       "    </tr>\n",
       "    <tr>\n",
       "      <th>374681</th>\n",
       "      <td>118439</td>\n",
       "      <td>2021-08-30 11:09:21.012</td>\n",
       "      <td>WEB</td>\n",
       "      <td>7.0</td>\n",
       "      <td>2021-08-30</td>\n",
       "      <td>2021-09-05</td>\n",
       "      <td>CONTACTO ESTRECHO</td>\n",
       "      <td>NaN</td>\n",
       "      <td>29852</td>\n",
       "      <td>1994-08-06</td>\n",
       "      <td>MALE</td>\n",
       "      <td>Médica</td>\n",
       "      <td>SINGLE</td>\n",
       "      <td>NaN</td>\n",
       "      <td>NaN</td>\n",
       "      <td>NaN</td>\n",
       "      <td>NaN</td>\n",
       "      <td>NaN</td>\n",
       "    </tr>\n",
       "    <tr>\n",
       "      <th>377194</th>\n",
       "      <td>210211</td>\n",
       "      <td>2022-01-19 14:10:11.252</td>\n",
       "      <td>WEB</td>\n",
       "      <td>10.0</td>\n",
       "      <td>2022-01-19</td>\n",
       "      <td>2022-01-22</td>\n",
       "      <td>COVID POSITIVO</td>\n",
       "      <td>38.0</td>\n",
       "      <td>66474</td>\n",
       "      <td>1978-11-11</td>\n",
       "      <td>FEMALE</td>\n",
       "      <td>Médica</td>\n",
       "      <td>OTHER</td>\n",
       "      <td>NaN</td>\n",
       "      <td>NaN</td>\n",
       "      <td>NaN</td>\n",
       "      <td>NaN</td>\n",
       "      <td>INFECCIONES</td>\n",
       "    </tr>\n",
       "  </tbody>\n",
       "</table>\n",
       "</div>"
      ],
      "text/plain": [
       "        numero_licencia           fecha_creacion dispositivo_acceso  \\\n",
       "374497           114159  2021-08-26 10:53:34.865                WEB   \n",
       "376795           222990  2022-02-18 22:01:04.667                WEB   \n",
       "377208           232278  2022-03-11 13:25:24.299                APP   \n",
       "374681           118439  2021-08-30 11:09:21.012                WEB   \n",
       "377194           210211  2022-01-19 14:10:11.252                WEB   \n",
       "\n",
       "        dias_solicitados fecha_inicio   fecha_fin  \\\n",
       "374497               9.0   2021-08-26  2021-09-03   \n",
       "376795               3.0   2022-02-18  2022-02-20   \n",
       "377208              30.0   2022-03-11  2022-04-09   \n",
       "374681               7.0   2021-08-30  2021-09-05   \n",
       "377194              10.0   2022-01-19  2022-01-22   \n",
       "\n",
       "                                 diagnostico  id_diagnostico  id_usuario  \\\n",
       "374497                     CONTACTO ESTRECHO             NaN       32144   \n",
       "376795  CIRUGIA DE HERNIA INGUINAL Y FEMORAL           227.0       68141   \n",
       "377208                    EPISODIO DEPRESIVO            63.0       59890   \n",
       "374681                     CONTACTO ESTRECHO             NaN       29852   \n",
       "377194                        COVID POSITIVO            38.0       66474   \n",
       "\n",
       "       fecha_nacimiento  genero tipo_licencia estado_civil  dias_aprobados  \\\n",
       "374497       1969-03-30  FEMALE        Médica      MARRIED             NaN   \n",
       "376795       1979-12-16  FEMALE        Médica        OTHER             NaN   \n",
       "377208       1979-05-12  FEMALE        Médica      MARRIED             NaN   \n",
       "374681       1994-08-06    MALE        Médica       SINGLE             NaN   \n",
       "377194       1978-11-11  FEMALE        Médica        OTHER             NaN   \n",
       "\n",
       "       decision_medica  id_auditor motivo_rechazo categoria_diagnostico  \n",
       "374497             NaN         NaN            NaN                   NaN  \n",
       "376795             NaN         NaN            NaN                   NaN  \n",
       "377208             NaN         NaN            NaN          SALUD MENTAL  \n",
       "374681             NaN         NaN            NaN                   NaN  \n",
       "377194             NaN         NaN            NaN           INFECCIONES  "
      ]
     },
     "execution_count": 8,
     "metadata": {},
     "output_type": "execute_result"
    }
   ],
   "source": [
    "df[df['id_auditor'].isna()].sample(5)"
   ]
  },
  {
   "cell_type": "markdown",
   "id": "291d8da4-e7e4-45a0-8548-a3cb7db5a48f",
   "metadata": {},
   "source": [
    "Debemos visualizar y analizar los datos nulos antes de realizar transformaciones a los datos."
   ]
  },
  {
   "cell_type": "code",
   "execution_count": 9,
   "id": "fe0f4a95-dc35-4c9b-a3f7-0e911fcbebcd",
   "metadata": {},
   "outputs": [
    {
     "data": {
      "text/plain": [
       "0"
      ]
     },
     "execution_count": 9,
     "metadata": {},
     "output_type": "execute_result"
    }
   ],
   "source": [
    "df_copy = df.copy()\n",
    "df_copy['id_auditor'] = df_copy['id_auditor'].apply(lambda x: str(x))\n",
    "df_copy['id_auditor'].isna().sum()"
   ]
  },
  {
   "cell_type": "code",
   "execution_count": 10,
   "id": "b6b9a0dc-8359-41ec-832b-71199c3626d1",
   "metadata": {},
   "outputs": [
    {
     "data": {
      "text/html": [
       "<div>\n",
       "<style scoped>\n",
       "    .dataframe tbody tr th:only-of-type {\n",
       "        vertical-align: middle;\n",
       "    }\n",
       "\n",
       "    .dataframe tbody tr th {\n",
       "        vertical-align: top;\n",
       "    }\n",
       "\n",
       "    .dataframe thead th {\n",
       "        text-align: right;\n",
       "    }\n",
       "</style>\n",
       "<table border=\"1\" class=\"dataframe\">\n",
       "  <thead>\n",
       "    <tr style=\"text-align: right;\">\n",
       "      <th></th>\n",
       "      <th>numero_licencia</th>\n",
       "      <th>fecha_creacion</th>\n",
       "      <th>dispositivo_acceso</th>\n",
       "      <th>dias_solicitados</th>\n",
       "      <th>fecha_inicio</th>\n",
       "      <th>fecha_fin</th>\n",
       "      <th>diagnostico</th>\n",
       "      <th>id_diagnostico</th>\n",
       "      <th>id_usuario</th>\n",
       "      <th>fecha_nacimiento</th>\n",
       "      <th>genero</th>\n",
       "      <th>tipo_licencia</th>\n",
       "      <th>estado_civil</th>\n",
       "      <th>dias_aprobados</th>\n",
       "      <th>decision_medica</th>\n",
       "      <th>id_auditor</th>\n",
       "      <th>motivo_rechazo</th>\n",
       "      <th>categoria_diagnostico</th>\n",
       "    </tr>\n",
       "  </thead>\n",
       "  <tbody>\n",
       "    <tr>\n",
       "      <th>374482</th>\n",
       "      <td>57437</td>\n",
       "      <td>2021-05-26 10:22:45.875</td>\n",
       "      <td>WEB</td>\n",
       "      <td>2.0</td>\n",
       "      <td>2021-05-26</td>\n",
       "      <td>2021-05-27</td>\n",
       "      <td>CONTACTO ESTRECHO</td>\n",
       "      <td>NaN</td>\n",
       "      <td>17217</td>\n",
       "      <td>1970-12-30</td>\n",
       "      <td>FEMALE</td>\n",
       "      <td>Médica</td>\n",
       "      <td>DIVORCED</td>\n",
       "      <td>NaN</td>\n",
       "      <td>NaN</td>\n",
       "      <td>NaN</td>\n",
       "      <td>NaN</td>\n",
       "      <td>NaN</td>\n",
       "    </tr>\n",
       "  </tbody>\n",
       "</table>\n",
       "</div>"
      ],
      "text/plain": [
       "        numero_licencia           fecha_creacion dispositivo_acceso  \\\n",
       "374482            57437  2021-05-26 10:22:45.875                WEB   \n",
       "\n",
       "        dias_solicitados fecha_inicio   fecha_fin        diagnostico  \\\n",
       "374482               2.0   2021-05-26  2021-05-27  CONTACTO ESTRECHO   \n",
       "\n",
       "        id_diagnostico  id_usuario fecha_nacimiento  genero tipo_licencia  \\\n",
       "374482             NaN       17217       1970-12-30  FEMALE        Médica   \n",
       "\n",
       "       estado_civil  dias_aprobados decision_medica  id_auditor  \\\n",
       "374482     DIVORCED             NaN             NaN         NaN   \n",
       "\n",
       "       motivo_rechazo categoria_diagnostico  \n",
       "374482            NaN                   NaN  "
      ]
     },
     "execution_count": 10,
     "metadata": {},
     "output_type": "execute_result"
    }
   ],
   "source": [
    "df.iloc[[374482]]"
   ]
  },
  {
   "cell_type": "markdown",
   "id": "90ff2dcd-d43c-4a97-9abd-a697aee84953",
   "metadata": {},
   "source": [
    "#### Análisis con librería missigno"
   ]
  },
  {
   "cell_type": "code",
   "execution_count": 11,
   "id": "4c378cc2-6842-462f-92d2-5b5fc2e3854d",
   "metadata": {},
   "outputs": [
    {
     "data": {
      "text/plain": [
       "<AxesSubplot:>"
      ]
     },
     "execution_count": 11,
     "metadata": {},
     "output_type": "execute_result"
    },
    {
     "data": {
      "image/png": "[encoded data removed]",
      "text/plain": [
       "<Figure size 864x432 with 3 Axes>"
      ]
     },
     "metadata": {
      "needs_background": "light"
     },
     "output_type": "display_data"
    }
   ],
   "source": [
    "msno.bar(df,figsize=(12, 6), sort=\"ascending\",fontsize=12, color='tomato',label_rotation=90) "
   ]
  },
  {
   "cell_type": "code",
   "execution_count": 12,
   "id": "61ccfe7b-079a-4f81-9f39-d497e0de3ef4",
   "metadata": {},
   "outputs": [
    {
     "data": {
      "text/plain": [
       "<AxesSubplot:>"
      ]
     },
     "execution_count": 12,
     "metadata": {},
     "output_type": "execute_result"
    },
    {
     "data": {
      "image/png": "[encoded data removed]",
      "text/plain": [
       "<Figure size 864x432 with 2 Axes>"
      ]
     },
     "metadata": {
      "needs_background": "light"
     },
     "output_type": "display_data"
    }
   ],
   "source": [
    "msno.matrix(df,figsize=(12, 6), fontsize=12, color=[0,0,0.2],label_rotation=90) "
   ]
  },
  {
   "cell_type": "code",
   "execution_count": 13,
   "id": "96bb6cbc-45bb-46b4-ac31-e6e577d7dbd2",
   "metadata": {},
   "outputs": [
    {
     "data": {
      "text/plain": [
       "<AxesSubplot:>"
      ]
     },
     "execution_count": 13,
     "metadata": {},
     "output_type": "execute_result"
    },
    {
     "data": {
      "image/png": "[encoded data removed]",
      "text/plain": [
       "<Figure size 864x432 with 2 Axes>"
      ]
     },
     "metadata": {
      "needs_background": "light"
     },
     "output_type": "display_data"
    }
   ],
   "source": [
    "msno.heatmap(df,figsize=(12, 6), fontsize=12,label_rotation=90)"
   ]
  },
  {
   "cell_type": "code",
   "execution_count": 14,
   "id": "2c3657db-f13f-4671-8b58-37343544ac2b",
   "metadata": {},
   "outputs": [
    {
     "data": {
      "text/plain": [
       "numero_licencia           0.0\n",
       "fecha_creacion            0.0\n",
       "dispositivo_acceso        0.0\n",
       "dias_solicitados          1.0\n",
       "fecha_inicio              0.0\n",
       "fecha_fin                 0.0\n",
       "diagnostico               0.0\n",
       "id_diagnostico           37.0\n",
       "id_usuario                0.0\n",
       "fecha_nacimiento          0.0\n",
       "genero                    0.0\n",
       "tipo_licencia             0.0\n",
       "estado_civil              0.0\n",
       "dias_aprobados            1.0\n",
       "decision_medica           1.0\n",
       "id_auditor                1.0\n",
       "motivo_rechazo           56.0\n",
       "categoria_diagnostico    37.0\n",
       "dtype: float64"
      ]
     },
     "execution_count": 14,
     "metadata": {},
     "output_type": "execute_result"
    }
   ],
   "source": [
    "round(df.isna().sum()/df.shape[0],2)*100"
   ]
  },
  {
   "cell_type": "markdown",
   "id": "e3bb4790-f37a-4fe6-abd1-a31d48744e77",
   "metadata": {},
   "source": [
    "#### Técnicas de imputación: Eliminar"
   ]
  },
  {
   "cell_type": "markdown",
   "id": "623d8812-e076-457b-a13b-cd33800b8440",
   "metadata": {},
   "source": [
    "Eliminar filas completas con nulos en alguna columna en particular."
   ]
  },
  {
   "cell_type": "code",
   "execution_count": 15,
   "id": "f485a469-30e0-46ca-88ec-5e9d9029f30f",
   "metadata": {},
   "outputs": [
    {
     "data": {
      "text/plain": [
       "3078"
      ]
     },
     "execution_count": 15,
     "metadata": {},
     "output_type": "execute_result"
    }
   ],
   "source": [
    "df['decision_medica'].isna().sum()"
   ]
  },
  {
   "cell_type": "code",
   "execution_count": 16,
   "id": "b20e246a-0bc8-4054-8af2-37006c6ab1b8",
   "metadata": {},
   "outputs": [
    {
     "data": {
      "text/plain": [
       "0"
      ]
     },
     "execution_count": 16,
     "metadata": {},
     "output_type": "execute_result"
    }
   ],
   "source": [
    "df.dropna(subset=['decision_medica'],how='any',inplace=True)\n",
    "df['decision_medica'].isna().sum()"
   ]
  },
  {
   "cell_type": "code",
   "execution_count": 17,
   "id": "79d28169-7319-40bc-8f8e-5b63e921d25d",
   "metadata": {},
   "outputs": [
    {
     "data": {
      "text/plain": [
       "(427003, 18)"
      ]
     },
     "execution_count": 17,
     "metadata": {},
     "output_type": "execute_result"
    }
   ],
   "source": [
    "df.shape"
   ]
  },
  {
   "cell_type": "code",
   "execution_count": 18,
   "id": "2f205b3f-ce88-46be-9fd1-5a2b379a6ac4",
   "metadata": {},
   "outputs": [
    {
     "data": {
      "text/plain": [
       "numero_licencia               0\n",
       "fecha_creacion                0\n",
       "dispositivo_acceso            0\n",
       "dias_solicitados           6034\n",
       "fecha_inicio                  0\n",
       "fecha_fin                     0\n",
       "diagnostico                   0\n",
       "id_diagnostico           155134\n",
       "id_usuario                    0\n",
       "fecha_nacimiento              0\n",
       "genero                        0\n",
       "tipo_licencia                 0\n",
       "estado_civil                  0\n",
       "dias_aprobados                0\n",
       "decision_medica               0\n",
       "id_auditor                    1\n",
       "motivo_rechazo           239189\n",
       "categoria_diagnostico    157025\n",
       "dtype: int64"
      ]
     },
     "execution_count": 18,
     "metadata": {},
     "output_type": "execute_result"
    }
   ],
   "source": [
    "df.isna().sum()"
   ]
  },
  {
   "cell_type": "code",
   "execution_count": 19,
   "id": "c58022f5-17f4-42b5-b65d-7d145dd9787f",
   "metadata": {},
   "outputs": [
    {
     "data": {
      "text/plain": [
       "3078"
      ]
     },
     "execution_count": 19,
     "metadata": {},
     "output_type": "execute_result"
    }
   ],
   "source": [
    "430081 - 427003"
   ]
  },
  {
   "cell_type": "markdown",
   "id": "4e17ca3a-cf58-4784-b405-10c2cbbb8128",
   "metadata": {},
   "source": [
    "Eliminar columnas completas que no me aportan valor y tienen alto porcentaje de datos nulos "
   ]
  },
  {
   "cell_type": "code",
   "execution_count": 20,
   "id": "56392b83-b9b7-488d-9b73-abb14e2332f3",
   "metadata": {},
   "outputs": [],
   "source": [
    "df.drop(columns=['motivo_rechazo'],inplace=True) "
   ]
  },
  {
   "cell_type": "markdown",
   "id": "8b4edfc9-9a1d-4a62-ad4a-2b6669d1263f",
   "metadata": {},
   "source": [
    "#### Técnicas de imputación: Imputar"
   ]
  },
  {
   "cell_type": "markdown",
   "id": "f44f889d-d2ef-4512-a78f-be41b76e452d",
   "metadata": {},
   "source": [
    "- De forma manual"
   ]
  },
  {
   "cell_type": "code",
   "execution_count": 21,
   "id": "775a4b9d-4de4-4de3-a4a7-703c5b7a389d",
   "metadata": {},
   "outputs": [
    {
     "data": {
      "text/plain": [
       "count    420969.000000\n",
       "mean          5.359012\n",
       "std           8.387828\n",
       "min           0.000000\n",
       "25%           2.000000\n",
       "50%           3.000000\n",
       "75%           7.000000\n",
       "max         365.000000\n",
       "Name: dias_solicitados, dtype: float64"
      ]
     },
     "execution_count": 21,
     "metadata": {},
     "output_type": "execute_result"
    }
   ],
   "source": [
    "df['dias_solicitados'].describe()"
   ]
  },
  {
   "cell_type": "code",
   "execution_count": 22,
   "id": "a9f4a3fb-dc5e-4087-a8fb-004a3d8df0cc",
   "metadata": {},
   "outputs": [],
   "source": [
    "df_mean = df.copy()\n",
    "df_const = df.copy()\n",
    "df_aprob = df.copy()"
   ]
  },
  {
   "cell_type": "code",
   "execution_count": 23,
   "id": "8038040c-eff6-4c3e-a760-c2b577323316",
   "metadata": {},
   "outputs": [
    {
     "data": {
      "text/plain": [
       "(427003, 17)"
      ]
     },
     "execution_count": 23,
     "metadata": {},
     "output_type": "execute_result"
    }
   ],
   "source": [
    "df.shape"
   ]
  },
  {
   "cell_type": "code",
   "execution_count": 24,
   "id": "46e58b2c-87db-40cf-97e5-ab5670108c22",
   "metadata": {},
   "outputs": [],
   "source": [
    "df_const.loc[df_const['dias_solicitados'].isna(),'dias_solicitados'] = df_const['dias_solicitados'].fillna(0)"
   ]
  },
  {
   "cell_type": "code",
   "execution_count": 25,
   "id": "6b29eaf7-8836-40e5-930c-9032fa335c39",
   "metadata": {
    "tags": []
   },
   "outputs": [
    {
     "data": {
      "text/plain": [
       "count    427003.000000\n",
       "mean          5.283284\n",
       "std           8.352338\n",
       "min           0.000000\n",
       "25%           2.000000\n",
       "50%           2.000000\n",
       "75%           7.000000\n",
       "max         365.000000\n",
       "Name: dias_solicitados, dtype: float64"
      ]
     },
     "execution_count": 25,
     "metadata": {},
     "output_type": "execute_result"
    }
   ],
   "source": [
    "df_const['dias_solicitados'].describe()"
   ]
  },
  {
   "cell_type": "code",
   "execution_count": 26,
   "id": "0257b38a-d1ac-4ed1-b383-64b34a2f8b3a",
   "metadata": {},
   "outputs": [],
   "source": [
    "mean = df['dias_solicitados'].mean()"
   ]
  },
  {
   "cell_type": "code",
   "execution_count": 27,
   "id": "2d1dfb03-5c99-4934-ae78-23268c187e3a",
   "metadata": {
    "tags": []
   },
   "outputs": [
    {
     "data": {
      "text/plain": [
       "count    427003.000000\n",
       "mean          5.359012\n",
       "std           8.328353\n",
       "min           0.000000\n",
       "25%           2.000000\n",
       "50%           3.000000\n",
       "75%           7.000000\n",
       "max         365.000000\n",
       "Name: dias_solicitados, dtype: float64"
      ]
     },
     "execution_count": 27,
     "metadata": {},
     "output_type": "execute_result"
    }
   ],
   "source": [
    "df_mean.loc[df_mean['dias_solicitados'].isna(),'dias_solicitados'] = df_mean['dias_solicitados'].fillna(mean)\n",
    "df_mean['dias_solicitados'].describe()"
   ]
  },
  {
   "cell_type": "code",
   "execution_count": 28,
   "id": "5052d0fe-3848-4bdf-a6ba-bc7bff6cc862",
   "metadata": {},
   "outputs": [],
   "source": [
    "df_aprob.loc[df_aprob['dias_solicitados'].isna(),'dias_solicitados'] = df_aprob.loc[df_aprob['dias_solicitados'].isna()]['dias_aprobados']"
   ]
  },
  {
   "cell_type": "code",
   "execution_count": 29,
   "id": "c056b2d6-7f41-4bd7-ab4a-b5f92e6ab598",
   "metadata": {},
   "outputs": [
    {
     "data": {
      "text/plain": [
       "count    427003.000000\n",
       "mean          5.414037\n",
       "std           8.400207\n",
       "min           0.000000\n",
       "25%           2.000000\n",
       "50%           3.000000\n",
       "75%           7.000000\n",
       "max         365.000000\n",
       "Name: dias_solicitados, dtype: float64"
      ]
     },
     "execution_count": 29,
     "metadata": {},
     "output_type": "execute_result"
    }
   ],
   "source": [
    "df_aprob['dias_solicitados'].describe()"
   ]
  },
  {
   "cell_type": "markdown",
   "id": "f273361f-e36b-4c70-b3d5-2ba17e42026b",
   "metadata": {},
   "source": [
    "- Con Simple Imputer"
   ]
  },
  {
   "cell_type": "code",
   "execution_count": 30,
   "id": "8a3ffd0c-3bfc-41e3-bdde-5d3d97dd93c8",
   "metadata": {
    "tags": []
   },
   "outputs": [
    {
     "data": {
      "text/plain": [
       "count    427003.000000\n",
       "mean          5.283284\n",
       "std           8.352338\n",
       "min           0.000000\n",
       "25%           2.000000\n",
       "50%           2.000000\n",
       "75%           7.000000\n",
       "max         365.000000\n",
       "Name: dias_solicitados, dtype: float64"
      ]
     },
     "execution_count": 30,
     "metadata": {},
     "output_type": "execute_result"
    }
   ],
   "source": [
    "const_imputer = SimpleImputer(missing_values=np.nan,strategy='constant',fill_value=0) \n",
    "\n",
    "df_const = df.copy()\n",
    "\n",
    "df_const.loc[:,'dias_solicitados'] = const_imputer.fit_transform(df_const[['dias_solicitados']])\n",
    "df_const['dias_solicitados'].describe()"
   ]
  },
  {
   "cell_type": "code",
   "execution_count": 31,
   "id": "c1493f0c-8271-4fa6-a20f-ceb83ee5c238",
   "metadata": {},
   "outputs": [
    {
     "data": {
      "text/plain": [
       "count    427003.000000\n",
       "mean          5.359012\n",
       "std           8.328353\n",
       "min           0.000000\n",
       "25%           2.000000\n",
       "50%           3.000000\n",
       "75%           7.000000\n",
       "max         365.000000\n",
       "Name: dias_solicitados, dtype: float64"
      ]
     },
     "execution_count": 31,
     "metadata": {},
     "output_type": "execute_result"
    }
   ],
   "source": [
    "mean_imputer = SimpleImputer(missing_values=np.nan,strategy='mean') \n",
    "\n",
    "df_mean = df.copy()\n",
    "\n",
    "df_mean.loc[:,'dias_solicitados'] = mean_imputer.fit_transform(df_mean[['dias_solicitados']])\n",
    "df_mean['dias_solicitados'].describe()"
   ]
  },
  {
   "cell_type": "code",
   "execution_count": null,
   "id": "f5697574-354b-4cc4-bafd-67813ada9108",
   "metadata": {},
   "outputs": [],
   "source": []
  },
  {
   "cell_type": "code",
   "execution_count": 32,
   "id": "2bf34253-6a26-4055-be44-d721b31a2943",
   "metadata": {
    "tags": []
   },
   "outputs": [],
   "source": [
    "#mean_imputer = SimpleImputer(missing_values=np.nan,strategy='mean') \n",
    "#\n",
    "#df_prueba = df.copy()\n",
    "#\n",
    "#df_prueba.loc[:,:] = mean_imputer.fit_transform(df_prueba)\n",
    "#df_prueba['dias_solicitados'].describe()"
   ]
  },
  {
   "cell_type": "code",
   "execution_count": null,
   "id": "32ffeb13-0e03-4476-9159-f33d09a2968f",
   "metadata": {},
   "outputs": [],
   "source": []
  },
  {
   "cell_type": "code",
   "execution_count": 33,
   "id": "9aa3e777-6d15-4840-8d9f-5f16ea1c804b",
   "metadata": {},
   "outputs": [
    {
     "data": {
      "image/png": "[encoded data removed]",
      "text/plain": [
       "<Figure size 1440x576 with 4 Axes>"
      ]
     },
     "metadata": {
      "needs_background": "light"
     },
     "output_type": "display_data"
    }
   ],
   "source": [
    "fig, axes = plt.subplots(1,4,figsize=(20,8))\n",
    "\n",
    "sns.boxenplot(data=df[~df['dias_solicitados'].isna()][['dias_solicitados']],color='salmon',ax=axes[0]).ticklabel_format(style='plain', axis='y')    \n",
    "axes[0].ticklabel_format(style='plain', axis='y')#para sacar la notacion cientifica, sino comentar\n",
    "axes[0].set_title(\"Dias solicitados\")\n",
    "\n",
    "sns.boxenplot(data=df_const[['dias_solicitados']],color='yellow',ax=axes[1]).ticklabel_format(style='plain', axis='y')    \n",
    "axes[1].ticklabel_format(style='plain', axis='y')#para sacar la notacion cientifica, sino comentar\n",
    "axes[1].set_title(\"Dias solicitados imputados con 0\") \n",
    "\n",
    "sns.boxenplot(data=df_mean[['dias_solicitados']],color='blue',ax=axes[2]).ticklabel_format(style='plain', axis='y')    \n",
    "axes[2].ticklabel_format(style='plain', axis='y')#para sacar la notacion cientifica, sino comentar\n",
    "axes[2].set_title(\"Dias solicitados imputados con media\")\n",
    "\n",
    "sns.boxenplot(data=df_aprob[['dias_solicitados']],color='orange',ax=axes[3]).ticklabel_format(style='plain', axis='y')    \n",
    "axes[3].ticklabel_format(style='plain', axis='y')#para sacar la notacion cientifica, sino comentar\n",
    "axes[3].set_title(\"Dias solicitados imputados con dias aprobados\")\n",
    "\n",
    "plt.show()"
   ]
  },
  {
   "cell_type": "code",
   "execution_count": 34,
   "id": "30507855-b828-4486-89e6-64a7ba9e82b6",
   "metadata": {},
   "outputs": [
    {
     "data": {
      "text/plain": [
       "count    427003.000000\n",
       "mean          5.359012\n",
       "std           8.328353\n",
       "min           0.000000\n",
       "25%           2.000000\n",
       "50%           3.000000\n",
       "75%           7.000000\n",
       "max         365.000000\n",
       "Name: dias_solicitados, dtype: float64"
      ]
     },
     "execution_count": 34,
     "metadata": {},
     "output_type": "execute_result"
    }
   ],
   "source": [
    "mean_imputer = SimpleImputer(missing_values=np.nan,strategy='mean') \n",
    "\n",
    "df.loc[:,'dias_solicitados'] = mean_imputer.fit_transform(df[['dias_solicitados']])\n",
    "df['dias_solicitados'].describe()"
   ]
  },
  {
   "cell_type": "markdown",
   "id": "7e658ec1-02dc-473c-9bcb-b8943656ca3c",
   "metadata": {},
   "source": [
    "### Asegurar tipo de variable"
   ]
  },
  {
   "cell_type": "code",
   "execution_count": 35,
   "id": "d5098e49-4216-4ffe-b845-ffbad0dee21c",
   "metadata": {},
   "outputs": [
    {
     "name": "stdout",
     "output_type": "stream",
     "text": [
      "<class 'pandas.core.frame.DataFrame'>\n",
      "Int64Index: 427003 entries, 0 to 430080\n",
      "Data columns (total 17 columns):\n",
      " #   Column                 Non-Null Count   Dtype  \n",
      "---  ------                 --------------   -----  \n",
      " 0   numero_licencia        427003 non-null  int64  \n",
      " 1   fecha_creacion         427003 non-null  object \n",
      " 2   dispositivo_acceso     427003 non-null  object \n",
      " 3   dias_solicitados       427003 non-null  float64\n",
      " 4   fecha_inicio           427003 non-null  object \n",
      " 5   fecha_fin              427003 non-null  object \n",
      " 6   diagnostico            427003 non-null  object \n",
      " 7   id_diagnostico         271869 non-null  float64\n",
      " 8   id_usuario             427003 non-null  int64  \n",
      " 9   fecha_nacimiento       427003 non-null  object \n",
      " 10  genero                 427003 non-null  object \n",
      " 11  tipo_licencia          427003 non-null  object \n",
      " 12  estado_civil           427003 non-null  object \n",
      " 13  dias_aprobados         427003 non-null  float64\n",
      " 14  decision_medica        427003 non-null  object \n",
      " 15  id_auditor             427002 non-null  float64\n",
      " 16  categoria_diagnostico  269978 non-null  object \n",
      "dtypes: float64(4), int64(2), object(11)\n",
      "memory usage: 74.8+ MB\n"
     ]
    }
   ],
   "source": [
    "df.info()"
   ]
  },
  {
   "cell_type": "code",
   "execution_count": 36,
   "id": "2ff684ba-23c8-4638-beb7-656e00870956",
   "metadata": {},
   "outputs": [],
   "source": [
    "df['numero_licencia'] = df['numero_licencia'].astype('str')\n",
    "df['fecha_creacion'] = df['fecha_creacion'].apply(pd.to_datetime)\n",
    "df['fecha_inicio'] = df['fecha_inicio'].apply(pd.to_datetime)\n",
    "df['fecha_fin'] = df['fecha_fin'].apply(pd.to_datetime)\n",
    "df['id_diagnostico'] = df['id_diagnostico'].astype('str')\n",
    "df['fecha_nacimiento'] = df['fecha_nacimiento'].apply(pd.to_datetime)\n",
    "df['id_auditor'] = df['id_auditor'].astype('str')"
   ]
  },
  {
   "cell_type": "code",
   "execution_count": 37,
   "id": "ba96ce5d-2f18-4d00-934f-35a906100f87",
   "metadata": {},
   "outputs": [
    {
     "name": "stdout",
     "output_type": "stream",
     "text": [
      "<class 'pandas.core.frame.DataFrame'>\n",
      "Int64Index: 427003 entries, 0 to 430080\n",
      "Data columns (total 17 columns):\n",
      " #   Column                 Non-Null Count   Dtype         \n",
      "---  ------                 --------------   -----         \n",
      " 0   numero_licencia        427003 non-null  object        \n",
      " 1   fecha_creacion         427003 non-null  datetime64[ns]\n",
      " 2   dispositivo_acceso     427003 non-null  object        \n",
      " 3   dias_solicitados       427003 non-null  float64       \n",
      " 4   fecha_inicio           427003 non-null  datetime64[ns]\n",
      " 5   fecha_fin              427003 non-null  datetime64[ns]\n",
      " 6   diagnostico            427003 non-null  object        \n",
      " 7   id_diagnostico         427003 non-null  object        \n",
      " 8   id_usuario             427003 non-null  int64         \n",
      " 9   fecha_nacimiento       427003 non-null  datetime64[ns]\n",
      " 10  genero                 427003 non-null  object        \n",
      " 11  tipo_licencia          427003 non-null  object        \n",
      " 12  estado_civil           427003 non-null  object        \n",
      " 13  dias_aprobados         427003 non-null  float64       \n",
      " 14  decision_medica        427003 non-null  object        \n",
      " 15  id_auditor             427003 non-null  object        \n",
      " 16  categoria_diagnostico  269978 non-null  object        \n",
      "dtypes: datetime64[ns](4), float64(2), int64(1), object(10)\n",
      "memory usage: 74.8+ MB\n"
     ]
    }
   ],
   "source": [
    "df.info()"
   ]
  },
  {
   "cell_type": "markdown",
   "id": "301d4f2d-68ff-447e-a4ce-a3df6766cecf",
   "metadata": {},
   "source": [
    "### Datos ruidosos, outliers?"
   ]
  },
  {
   "cell_type": "markdown",
   "id": "48038e2b-a4a0-432b-8fd5-63d75ce7ee54",
   "metadata": {},
   "source": [
    "Si calculamos la edad de las personas, podemos visualizar como se distruye esa variable."
   ]
  },
  {
   "cell_type": "code",
   "execution_count": 38,
   "id": "909172a0-fdb3-4a14-a1c5-e681f6953409",
   "metadata": {},
   "outputs": [],
   "source": [
    "df['edad'] = (pd.Timestamp.now() - df['fecha_nacimiento'])/np.timedelta64(1, 'Y')\n",
    "df['edad']= df.edad.apply(int)"
   ]
  },
  {
   "cell_type": "code",
   "execution_count": 39,
   "id": "dd76e036-89f1-4331-8f4d-5faba0db6307",
   "metadata": {},
   "outputs": [
    {
     "data": {
      "text/plain": [
       "count    427003.000000\n",
       "mean         45.170982\n",
       "std           9.990729\n",
       "min          19.000000\n",
       "25%          37.000000\n",
       "50%          45.000000\n",
       "75%          53.000000\n",
       "max         124.000000\n",
       "Name: edad, dtype: float64"
      ]
     },
     "execution_count": 39,
     "metadata": {},
     "output_type": "execute_result"
    }
   ],
   "source": [
    "df['edad'].describe()"
   ]
  },
  {
   "cell_type": "code",
   "execution_count": 40,
   "id": "fb648f1d-c1be-4104-9bc1-727ac3261bb0",
   "metadata": {},
   "outputs": [
    {
     "data": {
      "image/png": "[encoded data removed]",
      "text/plain": [
       "<Figure size 288x432 with 1 Axes>"
      ]
     },
     "metadata": {
      "needs_background": "light"
     },
     "output_type": "display_data"
    }
   ],
   "source": [
    "fig, ax = plt.subplots(figsize=(4,6))\n",
    "\n",
    "sns.boxenplot(data=df['edad'],color='green').ticklabel_format(style='plain', axis='y')    \n",
    "ax.ticklabel_format(style='plain', axis='y')#para sacar la notacion cientifica, sino comentar\n",
    "ax.set_title(\"Edad\") \n",
    "\n",
    "plt.show()"
   ]
  },
  {
   "cell_type": "code",
   "execution_count": 41,
   "id": "0d25e1fd-8701-46b8-b836-1752cf45eeac",
   "metadata": {},
   "outputs": [],
   "source": [
    "edad_maxima = df['edad'].quantile(0.995)"
   ]
  },
  {
   "cell_type": "code",
   "execution_count": 42,
   "id": "51bf3b5d-4dda-4cad-8473-0f3ac4b0f9cb",
   "metadata": {},
   "outputs": [
    {
     "data": {
      "text/html": [
       "<div>\n",
       "<style scoped>\n",
       "    .dataframe tbody tr th:only-of-type {\n",
       "        vertical-align: middle;\n",
       "    }\n",
       "\n",
       "    .dataframe tbody tr th {\n",
       "        vertical-align: top;\n",
       "    }\n",
       "\n",
       "    .dataframe thead th {\n",
       "        text-align: right;\n",
       "    }\n",
       "</style>\n",
       "<table border=\"1\" class=\"dataframe\">\n",
       "  <thead>\n",
       "    <tr style=\"text-align: right;\">\n",
       "      <th></th>\n",
       "      <th>numero_licencia</th>\n",
       "      <th>fecha_creacion</th>\n",
       "      <th>dispositivo_acceso</th>\n",
       "      <th>dias_solicitados</th>\n",
       "      <th>fecha_inicio</th>\n",
       "      <th>fecha_fin</th>\n",
       "      <th>diagnostico</th>\n",
       "      <th>id_diagnostico</th>\n",
       "      <th>id_usuario</th>\n",
       "      <th>fecha_nacimiento</th>\n",
       "      <th>genero</th>\n",
       "      <th>tipo_licencia</th>\n",
       "      <th>estado_civil</th>\n",
       "      <th>dias_aprobados</th>\n",
       "      <th>decision_medica</th>\n",
       "      <th>id_auditor</th>\n",
       "      <th>categoria_diagnostico</th>\n",
       "      <th>edad</th>\n",
       "    </tr>\n",
       "  </thead>\n",
       "  <tbody>\n",
       "    <tr>\n",
       "      <th>83235</th>\n",
       "      <td>240293</td>\n",
       "      <td>2022-03-25 08:38:21.645</td>\n",
       "      <td>APP</td>\n",
       "      <td>2.0</td>\n",
       "      <td>2022-03-25</td>\n",
       "      <td>2022-03-26</td>\n",
       "      <td>INFLUENZA DEBIDO A VIRUS DE LA INFLUENZA IDENT...</td>\n",
       "      <td>23.0</td>\n",
       "      <td>52705</td>\n",
       "      <td>1956-03-07</td>\n",
       "      <td>FEMALE</td>\n",
       "      <td>Médica</td>\n",
       "      <td>OTHER</td>\n",
       "      <td>2.0</td>\n",
       "      <td>APROBAR</td>\n",
       "      <td>0.0</td>\n",
       "      <td>RESPIRATORIO</td>\n",
       "      <td>68</td>\n",
       "    </tr>\n",
       "    <tr>\n",
       "      <th>294607</th>\n",
       "      <td>215866</td>\n",
       "      <td>2022-02-02 07:58:43.275</td>\n",
       "      <td>APP</td>\n",
       "      <td>7.0</td>\n",
       "      <td>2022-02-02</td>\n",
       "      <td>2022-02-08</td>\n",
       "      <td>COVID POSITIVO</td>\n",
       "      <td>38.0</td>\n",
       "      <td>58492</td>\n",
       "      <td>1956-02-27</td>\n",
       "      <td>FEMALE</td>\n",
       "      <td>Médica</td>\n",
       "      <td>OTHER</td>\n",
       "      <td>7.0</td>\n",
       "      <td>EDITAR_Y_APROBAR</td>\n",
       "      <td>5443.0</td>\n",
       "      <td>INFECCIONES</td>\n",
       "      <td>68</td>\n",
       "    </tr>\n",
       "    <tr>\n",
       "      <th>372515</th>\n",
       "      <td>229519</td>\n",
       "      <td>2022-03-07 19:39:58.467</td>\n",
       "      <td>APP</td>\n",
       "      <td>2.0</td>\n",
       "      <td>2022-03-07</td>\n",
       "      <td>2022-03-08</td>\n",
       "      <td>REUMATISMO NO ESPECIFICADO. FIBROMIALGIA Y FIB...</td>\n",
       "      <td>275.0</td>\n",
       "      <td>44859</td>\n",
       "      <td>1955-06-11</td>\n",
       "      <td>FEMALE</td>\n",
       "      <td>Médica</td>\n",
       "      <td>MARRIED</td>\n",
       "      <td>2.0</td>\n",
       "      <td>EDITAR_Y_APROBAR</td>\n",
       "      <td>802.0</td>\n",
       "      <td>TRAUMATOLOGIA Y ORTOPEDIA</td>\n",
       "      <td>68</td>\n",
       "    </tr>\n",
       "    <tr>\n",
       "      <th>127487</th>\n",
       "      <td>363910</td>\n",
       "      <td>2022-09-15 08:53:34.013</td>\n",
       "      <td>APP</td>\n",
       "      <td>15.0</td>\n",
       "      <td>2022-09-15</td>\n",
       "      <td>2022-09-27</td>\n",
       "      <td>CIRUGIA DE CATARATA</td>\n",
       "      <td>102.0</td>\n",
       "      <td>78124</td>\n",
       "      <td>1956-01-29</td>\n",
       "      <td>FEMALE</td>\n",
       "      <td>Médica</td>\n",
       "      <td>OTHER</td>\n",
       "      <td>15.0</td>\n",
       "      <td>APROBAR</td>\n",
       "      <td>0.0</td>\n",
       "      <td>CIRUGIA</td>\n",
       "      <td>68</td>\n",
       "    </tr>\n",
       "    <tr>\n",
       "      <th>127376</th>\n",
       "      <td>359961</td>\n",
       "      <td>2022-09-09 13:29:11.902</td>\n",
       "      <td>APP</td>\n",
       "      <td>2.0</td>\n",
       "      <td>2022-09-09</td>\n",
       "      <td>2022-09-10</td>\n",
       "      <td>LUMBAGO NO ESPECIFICADO. CONTRACTURA DORSAL IN...</td>\n",
       "      <td>22.0</td>\n",
       "      <td>58703</td>\n",
       "      <td>1956-04-08</td>\n",
       "      <td>MALE</td>\n",
       "      <td>Médica</td>\n",
       "      <td>MARRIED</td>\n",
       "      <td>2.0</td>\n",
       "      <td>APROBAR</td>\n",
       "      <td>0.0</td>\n",
       "      <td>TRAUMATOLOGIA Y ORTOPEDIA</td>\n",
       "      <td>68</td>\n",
       "    </tr>\n",
       "    <tr>\n",
       "      <th>...</th>\n",
       "      <td>...</td>\n",
       "      <td>...</td>\n",
       "      <td>...</td>\n",
       "      <td>...</td>\n",
       "      <td>...</td>\n",
       "      <td>...</td>\n",
       "      <td>...</td>\n",
       "      <td>...</td>\n",
       "      <td>...</td>\n",
       "      <td>...</td>\n",
       "      <td>...</td>\n",
       "      <td>...</td>\n",
       "      <td>...</td>\n",
       "      <td>...</td>\n",
       "      <td>...</td>\n",
       "      <td>...</td>\n",
       "      <td>...</td>\n",
       "      <td>...</td>\n",
       "    </tr>\n",
       "    <tr>\n",
       "      <th>127719</th>\n",
       "      <td>402959</td>\n",
       "      <td>2022-11-11 12:39:44.366</td>\n",
       "      <td>APP</td>\n",
       "      <td>1.0</td>\n",
       "      <td>2022-11-11</td>\n",
       "      <td>2022-11-11</td>\n",
       "      <td>INFLUENZA DEBIDO A VIRUS DE LA INFLUENZA IDENT...</td>\n",
       "      <td>23.0</td>\n",
       "      <td>78717</td>\n",
       "      <td>2003-08-31</td>\n",
       "      <td>FEMALE</td>\n",
       "      <td>Médica</td>\n",
       "      <td>OTHER</td>\n",
       "      <td>1.0</td>\n",
       "      <td>APROBAR</td>\n",
       "      <td>0.0</td>\n",
       "      <td>RESPIRATORIO</td>\n",
       "      <td>20</td>\n",
       "    </tr>\n",
       "    <tr>\n",
       "      <th>126019</th>\n",
       "      <td>350075</td>\n",
       "      <td>2022-08-26 13:22:16.328</td>\n",
       "      <td>APP</td>\n",
       "      <td>1.0</td>\n",
       "      <td>2022-08-26</td>\n",
       "      <td>2022-08-26</td>\n",
       "      <td>CERVICALGIA</td>\n",
       "      <td>71.0</td>\n",
       "      <td>75833</td>\n",
       "      <td>2003-06-11</td>\n",
       "      <td>FEMALE</td>\n",
       "      <td>Médica</td>\n",
       "      <td>OTHER</td>\n",
       "      <td>1.0</td>\n",
       "      <td>APROBAR</td>\n",
       "      <td>0.0</td>\n",
       "      <td>TRAUMATOLOGIA Y ORTOPEDIA</td>\n",
       "      <td>20</td>\n",
       "    </tr>\n",
       "    <tr>\n",
       "      <th>319582</th>\n",
       "      <td>317778</td>\n",
       "      <td>2022-07-04 23:13:09.099</td>\n",
       "      <td>APP</td>\n",
       "      <td>2.0</td>\n",
       "      <td>2022-07-04</td>\n",
       "      <td>2022-07-05</td>\n",
       "      <td>COVID SOSPECHOSO</td>\n",
       "      <td>32.0</td>\n",
       "      <td>73152</td>\n",
       "      <td>2003-07-22</td>\n",
       "      <td>FEMALE</td>\n",
       "      <td>Médica</td>\n",
       "      <td>OTHER</td>\n",
       "      <td>2.0</td>\n",
       "      <td>EDITAR_Y_APROBAR</td>\n",
       "      <td>177.0</td>\n",
       "      <td>INFECCIONES</td>\n",
       "      <td>20</td>\n",
       "    </tr>\n",
       "    <tr>\n",
       "      <th>137383</th>\n",
       "      <td>380395</td>\n",
       "      <td>2022-10-11 08:55:33.256</td>\n",
       "      <td>WEB</td>\n",
       "      <td>21.0</td>\n",
       "      <td>2022-10-11</td>\n",
       "      <td>2022-10-13</td>\n",
       "      <td>LUXACION,ESGUINCE Y TORCEDURA DE ARTICULACIONE...</td>\n",
       "      <td>4.0</td>\n",
       "      <td>78722</td>\n",
       "      <td>2004-07-01</td>\n",
       "      <td>FEMALE</td>\n",
       "      <td>Médica</td>\n",
       "      <td>OTHER</td>\n",
       "      <td>4.0</td>\n",
       "      <td>EDITAR_Y_APROBAR</td>\n",
       "      <td>878.0</td>\n",
       "      <td>TRAUMATISMOS</td>\n",
       "      <td>19</td>\n",
       "    </tr>\n",
       "    <tr>\n",
       "      <th>198063</th>\n",
       "      <td>387084</td>\n",
       "      <td>2022-10-19 09:49:07.152</td>\n",
       "      <td>APP</td>\n",
       "      <td>2.0</td>\n",
       "      <td>2022-10-19</td>\n",
       "      <td>2022-10-20</td>\n",
       "      <td>FARINGITIS AGUDA</td>\n",
       "      <td>54.0</td>\n",
       "      <td>76896</td>\n",
       "      <td>2004-06-19</td>\n",
       "      <td>FEMALE</td>\n",
       "      <td>Médica</td>\n",
       "      <td>OTHER</td>\n",
       "      <td>2.0</td>\n",
       "      <td>EDITAR_Y_APROBAR</td>\n",
       "      <td>14240.0</td>\n",
       "      <td>RESPIRATORIO</td>\n",
       "      <td>19</td>\n",
       "    </tr>\n",
       "  </tbody>\n",
       "</table>\n",
       "<p>424659 rows × 18 columns</p>\n",
       "</div>"
      ],
      "text/plain": [
       "       numero_licencia          fecha_creacion dispositivo_acceso  \\\n",
       "83235           240293 2022-03-25 08:38:21.645                APP   \n",
       "294607          215866 2022-02-02 07:58:43.275                APP   \n",
       "372515          229519 2022-03-07 19:39:58.467                APP   \n",
       "127487          363910 2022-09-15 08:53:34.013                APP   \n",
       "127376          359961 2022-09-09 13:29:11.902                APP   \n",
       "...                ...                     ...                ...   \n",
       "127719          402959 2022-11-11 12:39:44.366                APP   \n",
       "126019          350075 2022-08-26 13:22:16.328                APP   \n",
       "319582          317778 2022-07-04 23:13:09.099                APP   \n",
       "137383          380395 2022-10-11 08:55:33.256                WEB   \n",
       "198063          387084 2022-10-19 09:49:07.152                APP   \n",
       "\n",
       "        dias_solicitados fecha_inicio  fecha_fin  \\\n",
       "83235                2.0   2022-03-25 2022-03-26   \n",
       "294607               7.0   2022-02-02 2022-02-08   \n",
       "372515               2.0   2022-03-07 2022-03-08   \n",
       "127487              15.0   2022-09-15 2022-09-27   \n",
       "127376               2.0   2022-09-09 2022-09-10   \n",
       "...                  ...          ...        ...   \n",
       "127719               1.0   2022-11-11 2022-11-11   \n",
       "126019               1.0   2022-08-26 2022-08-26   \n",
       "319582               2.0   2022-07-04 2022-07-05   \n",
       "137383              21.0   2022-10-11 2022-10-13   \n",
       "198063               2.0   2022-10-19 2022-10-20   \n",
       "\n",
       "                                              diagnostico id_diagnostico  \\\n",
       "83235   INFLUENZA DEBIDO A VIRUS DE LA INFLUENZA IDENT...           23.0   \n",
       "294607                                     COVID POSITIVO           38.0   \n",
       "372515  REUMATISMO NO ESPECIFICADO. FIBROMIALGIA Y FIB...          275.0   \n",
       "127487                                CIRUGIA DE CATARATA          102.0   \n",
       "127376  LUMBAGO NO ESPECIFICADO. CONTRACTURA DORSAL IN...           22.0   \n",
       "...                                                   ...            ...   \n",
       "127719  INFLUENZA DEBIDO A VIRUS DE LA INFLUENZA IDENT...           23.0   \n",
       "126019                                        CERVICALGIA           71.0   \n",
       "319582                                   COVID SOSPECHOSO           32.0   \n",
       "137383  LUXACION,ESGUINCE Y TORCEDURA DE ARTICULACIONE...            4.0   \n",
       "198063                                   FARINGITIS AGUDA           54.0   \n",
       "\n",
       "        id_usuario fecha_nacimiento  genero tipo_licencia estado_civil  \\\n",
       "83235        52705       1956-03-07  FEMALE        Médica        OTHER   \n",
       "294607       58492       1956-02-27  FEMALE        Médica        OTHER   \n",
       "372515       44859       1955-06-11  FEMALE        Médica      MARRIED   \n",
       "127487       78124       1956-01-29  FEMALE        Médica        OTHER   \n",
       "127376       58703       1956-04-08    MALE        Médica      MARRIED   \n",
       "...            ...              ...     ...           ...          ...   \n",
       "127719       78717       2003-08-31  FEMALE        Médica        OTHER   \n",
       "126019       75833       2003-06-11  FEMALE        Médica        OTHER   \n",
       "319582       73152       2003-07-22  FEMALE        Médica        OTHER   \n",
       "137383       78722       2004-07-01  FEMALE        Médica        OTHER   \n",
       "198063       76896       2004-06-19  FEMALE        Médica        OTHER   \n",
       "\n",
       "        dias_aprobados   decision_medica id_auditor  \\\n",
       "83235              2.0           APROBAR        0.0   \n",
       "294607             7.0  EDITAR_Y_APROBAR     5443.0   \n",
       "372515             2.0  EDITAR_Y_APROBAR      802.0   \n",
       "127487            15.0           APROBAR        0.0   \n",
       "127376             2.0           APROBAR        0.0   \n",
       "...                ...               ...        ...   \n",
       "127719             1.0           APROBAR        0.0   \n",
       "126019             1.0           APROBAR        0.0   \n",
       "319582             2.0  EDITAR_Y_APROBAR      177.0   \n",
       "137383             4.0  EDITAR_Y_APROBAR      878.0   \n",
       "198063             2.0  EDITAR_Y_APROBAR    14240.0   \n",
       "\n",
       "            categoria_diagnostico  edad  \n",
       "83235                RESPIRATORIO    68  \n",
       "294607                INFECCIONES    68  \n",
       "372515  TRAUMATOLOGIA Y ORTOPEDIA    68  \n",
       "127487                    CIRUGIA    68  \n",
       "127376  TRAUMATOLOGIA Y ORTOPEDIA    68  \n",
       "...                           ...   ...  \n",
       "127719               RESPIRATORIO    20  \n",
       "126019  TRAUMATOLOGIA Y ORTOPEDIA    20  \n",
       "319582                INFECCIONES    20  \n",
       "137383               TRAUMATISMOS    19  \n",
       "198063               RESPIRATORIO    19  \n",
       "\n",
       "[424659 rows x 18 columns]"
      ]
     },
     "execution_count": 42,
     "metadata": {},
     "output_type": "execute_result"
    }
   ],
   "source": [
    "df[df['edad'] < edad_maxima].sort_values(by='edad',ascending=False)"
   ]
  },
  {
   "cell_type": "code",
   "execution_count": null,
   "id": "d314e234-391e-4a4a-9fb9-5084f8188ad9",
   "metadata": {},
   "outputs": [],
   "source": []
  },
  {
   "cell_type": "code",
   "execution_count": 43,
   "id": "80131327-ebd8-4e21-a937-e186400d9ed2",
   "metadata": {},
   "outputs": [
    {
     "data": {
      "text/html": [
       "<div>\n",
       "<style scoped>\n",
       "    .dataframe tbody tr th:only-of-type {\n",
       "        vertical-align: middle;\n",
       "    }\n",
       "\n",
       "    .dataframe tbody tr th {\n",
       "        vertical-align: top;\n",
       "    }\n",
       "\n",
       "    .dataframe thead th {\n",
       "        text-align: right;\n",
       "    }\n",
       "</style>\n",
       "<table border=\"1\" class=\"dataframe\">\n",
       "  <thead>\n",
       "    <tr style=\"text-align: right;\">\n",
       "      <th></th>\n",
       "      <th>dias_solicitados</th>\n",
       "      <th>dias_aprobados</th>\n",
       "    </tr>\n",
       "  </thead>\n",
       "  <tbody>\n",
       "    <tr>\n",
       "      <th>count</th>\n",
       "      <td>427003.000000</td>\n",
       "      <td>427003.000000</td>\n",
       "    </tr>\n",
       "    <tr>\n",
       "      <th>mean</th>\n",
       "      <td>5.359012</td>\n",
       "      <td>3.879624</td>\n",
       "    </tr>\n",
       "    <tr>\n",
       "      <th>std</th>\n",
       "      <td>8.328353</td>\n",
       "      <td>4.416187</td>\n",
       "    </tr>\n",
       "    <tr>\n",
       "      <th>min</th>\n",
       "      <td>0.000000</td>\n",
       "      <td>0.000000</td>\n",
       "    </tr>\n",
       "    <tr>\n",
       "      <th>25%</th>\n",
       "      <td>2.000000</td>\n",
       "      <td>1.000000</td>\n",
       "    </tr>\n",
       "    <tr>\n",
       "      <th>50%</th>\n",
       "      <td>3.000000</td>\n",
       "      <td>2.000000</td>\n",
       "    </tr>\n",
       "    <tr>\n",
       "      <th>75%</th>\n",
       "      <td>7.000000</td>\n",
       "      <td>5.000000</td>\n",
       "    </tr>\n",
       "    <tr>\n",
       "      <th>max</th>\n",
       "      <td>365.000000</td>\n",
       "      <td>60.000000</td>\n",
       "    </tr>\n",
       "  </tbody>\n",
       "</table>\n",
       "</div>"
      ],
      "text/plain": [
       "       dias_solicitados  dias_aprobados\n",
       "count     427003.000000   427003.000000\n",
       "mean           5.359012        3.879624\n",
       "std            8.328353        4.416187\n",
       "min            0.000000        0.000000\n",
       "25%            2.000000        1.000000\n",
       "50%            3.000000        2.000000\n",
       "75%            7.000000        5.000000\n",
       "max          365.000000       60.000000"
      ]
     },
     "execution_count": 43,
     "metadata": {},
     "output_type": "execute_result"
    }
   ],
   "source": [
    "df[['dias_solicitados','dias_aprobados']].describe()"
   ]
  },
  {
   "cell_type": "code",
   "execution_count": 44,
   "id": "5f7e0d09-a0ef-4109-8e56-294fbdff74bf",
   "metadata": {},
   "outputs": [
    {
     "data": {
      "image/png": "[encoded data removed]",
      "text/plain": [
       "<Figure size 864x576 with 2 Axes>"
      ]
     },
     "metadata": {
      "needs_background": "light"
     },
     "output_type": "display_data"
    }
   ],
   "source": [
    "fig, axes = plt.subplots(1,2,figsize=(12,8))\n",
    "\n",
    "sns.boxenplot(data=df['dias_solicitados'],color='salmon',ax=axes[0]).ticklabel_format(style='plain', axis='y')    \n",
    "axes[0].ticklabel_format(style='plain', axis='y')#para sacar la notacion cientifica, sino comentar\n",
    "axes[0].set_title(\"Dias solicitados\")\n",
    "\n",
    "sns.boxenplot(data=df['dias_aprobados'],color='yellow',ax=axes[1]).ticklabel_format(style='plain', axis='y')    \n",
    "axes[1].ticklabel_format(style='plain', axis='y')#para sacar la notacion cientifica, sino comentar\n",
    "axes[1].set_title(\"Dias aprobados\") \n",
    "\n",
    "plt.show()"
   ]
  },
  {
   "cell_type": "code",
   "execution_count": 45,
   "id": "761a1aa8-5247-4789-8a63-036856986a89",
   "metadata": {},
   "outputs": [
    {
     "data": {
      "text/plain": [
       "30.0"
      ]
     },
     "execution_count": 45,
     "metadata": {},
     "output_type": "execute_result"
    }
   ],
   "source": [
    "df.dias_solicitados.quantile(0.98)"
   ]
  },
  {
   "cell_type": "code",
   "execution_count": 46,
   "id": "2346179e-f90b-4a68-9b4c-4f3ba38b5c7d",
   "metadata": {},
   "outputs": [
    {
     "data": {
      "text/plain": [
       "17.0"
      ]
     },
     "execution_count": 46,
     "metadata": {},
     "output_type": "execute_result"
    }
   ],
   "source": [
    "df.dias_aprobados.quantile(0.98)"
   ]
  },
  {
   "cell_type": "code",
   "execution_count": 47,
   "id": "f13abc36-145d-4f33-b6ec-30960f3ccb53",
   "metadata": {},
   "outputs": [
    {
     "data": {
      "image/png": "[encoded data removed]",
      "text/plain": [
       "<Figure size 864x576 with 2 Axes>"
      ]
     },
     "metadata": {
      "needs_background": "light"
     },
     "output_type": "display_data"
    }
   ],
   "source": [
    "fig, axes = plt.subplots(1,2,figsize=(12,8))\n",
    "\n",
    "sns.boxenplot(data=df[df['dias_solicitados'] < df.dias_solicitados.quantile(0.98)]['dias_solicitados']\n",
    "              ,color='salmon',ax=axes[0]).ticklabel_format(style='plain', axis='y')    \n",
    "axes[0].ticklabel_format(style='plain', axis='y')#para sacar la notacion cientifica, sino comentar\n",
    "axes[0].set_title(\"Dias solicitados\")\n",
    "\n",
    "sns.boxenplot(data=df[df['dias_aprobados'] < df.dias_aprobados.quantile(0.98)]['dias_aprobados']\n",
    "              ,color='yellow',ax=axes[1]).ticklabel_format(style='plain', axis='y')    \n",
    "axes[1].ticklabel_format(style='plain', axis='y')#para sacar la notacion cientifica, sino comentar\n",
    "axes[1].set_title(\"Dias aprobados\") \n",
    "\n",
    "plt.show()"
   ]
  },
  {
   "cell_type": "code",
   "execution_count": 48,
   "id": "097ab095-f2ad-4342-bc48-1598b48f1e86",
   "metadata": {},
   "outputs": [
    {
     "data": {
      "text/plain": [
       "[1, 2, 3, 4, 5, 6, 7, 8, 9, 10, 11]"
      ]
     },
     "execution_count": 48,
     "metadata": {},
     "output_type": "execute_result"
    }
   ],
   "source": [
    "numbers = list(range(1,12,1))\n",
    "numbers"
   ]
  },
  {
   "cell_type": "code",
   "execution_count": 49,
   "id": "4937ce80-32f4-45ef-8b71-5f823db43437",
   "metadata": {},
   "outputs": [
    {
     "data": {
      "text/plain": [
       "3.5"
      ]
     },
     "execution_count": 49,
     "metadata": {},
     "output_type": "execute_result"
    }
   ],
   "source": [
    "np.quantile(numbers,0.25)"
   ]
  },
  {
   "cell_type": "code",
   "execution_count": 50,
   "id": "63dc0940-27c8-42ee-96eb-6c31d5696236",
   "metadata": {},
   "outputs": [
    {
     "data": {
      "text/plain": [
       "6.0"
      ]
     },
     "execution_count": 50,
     "metadata": {},
     "output_type": "execute_result"
    }
   ],
   "source": [
    "np.quantile(numbers,0.50)"
   ]
  },
  {
   "cell_type": "code",
   "execution_count": 51,
   "id": "7663a36c-c2f1-4276-982b-88075919d36c",
   "metadata": {},
   "outputs": [
    {
     "data": {
      "text/plain": [
       "8.5"
      ]
     },
     "execution_count": 51,
     "metadata": {},
     "output_type": "execute_result"
    }
   ],
   "source": [
    "np.quantile(numbers,0.75)"
   ]
  }
 ],
 "metadata": {
  "kernelspec": {
   "display_name": "Python 3 (ipykernel)",
   "language": "python",
   "name": "python3"
  },
  "language_info": {
   "codemirror_mode": {
    "name": "ipython",
    "version": 3
   },
   "file_extension": ".py",
   "mimetype": "text/x-python",
   "name": "python",
   "nbconvert_exporter": "python",
   "pygments_lexer": "ipython3",
   "version": "3.9.12"
  }
 },
 "nbformat": 4,
 "nbformat_minor": 5
}
