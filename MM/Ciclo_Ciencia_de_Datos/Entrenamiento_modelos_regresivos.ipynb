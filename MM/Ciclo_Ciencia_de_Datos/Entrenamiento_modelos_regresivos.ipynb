{
 "cells": [
  {
   "cell_type": "markdown",
   "id": "f9798166-7ef1-46a1-a817-526d52d8421e",
   "metadata": {},
   "source": [
    "# Aprendizaje supervisado - entrenamiento de modelos de machine learning regresion"
   ]
  },
  {
   "cell_type": "markdown",
   "id": "717d914a-2c5b-46db-9f2a-71d9286f8ece",
   "metadata": {},
   "source": [
    "## Importacion de librerias "
   ]
  },
  {
   "cell_type": "code",
   "execution_count": 120,
   "id": "c2b17dfb-0888-4e0b-838d-8c3795186f53",
   "metadata": {
    "tags": []
   },
   "outputs": [],
   "source": [
    "import pandas as pd\n",
    "import matplotlib.pyplot as plt\n",
    "import numpy as np\n",
    "import seaborn as sns\n",
    "import warnings \n",
    "from sklearn.metrics import mean_absolute_error, mean_squared_error\n",
    "\n",
    "from sklearn.model_selection import train_test_split\n",
    "from sklearn.linear_model import LinearRegression\n",
    "from sklearn.preprocessing import StandardScaler\n",
    "from sklearn.preprocessing import MinMaxScaler\n",
    "from sklearn.preprocessing import MaxAbsScaler\n",
    "from sklearn.preprocessing import LabelEncoder\n",
    "\n",
    "warnings.filterwarnings('ignore')"
   ]
  },
  {
   "cell_type": "markdown",
   "id": "122bcb84-5a7b-4d7e-9acc-e9fd3ff43a42",
   "metadata": {},
   "source": [
    "## Lectura de datos"
   ]
  },
  {
   "cell_type": "code",
   "execution_count": 122,
   "id": "f0354104-652e-4d9d-8e8b-3b94aba4816f",
   "metadata": {
    "tags": []
   },
   "outputs": [],
   "source": [
    "df = pd.read_csv('housing.csv')"
   ]
  },
  {
   "cell_type": "code",
   "execution_count": 123,
   "id": "d589190c-5c00-4587-be84-6d26331356d4",
   "metadata": {
    "tags": []
   },
   "outputs": [
    {
     "data": {
      "text/html": [
       "<div>\n",
       "<style scoped>\n",
       "    .dataframe tbody tr th:only-of-type {\n",
       "        vertical-align: middle;\n",
       "    }\n",
       "\n",
       "    .dataframe tbody tr th {\n",
       "        vertical-align: top;\n",
       "    }\n",
       "\n",
       "    .dataframe thead th {\n",
       "        text-align: right;\n",
       "    }\n",
       "</style>\n",
       "<table border=\"1\" class=\"dataframe\">\n",
       "  <thead>\n",
       "    <tr style=\"text-align: right;\">\n",
       "      <th></th>\n",
       "      <th>longitude</th>\n",
       "      <th>latitude</th>\n",
       "      <th>housing_median_age</th>\n",
       "      <th>total_rooms</th>\n",
       "      <th>total_bedrooms</th>\n",
       "      <th>population</th>\n",
       "      <th>households</th>\n",
       "      <th>median_income</th>\n",
       "      <th>median_house_value</th>\n",
       "      <th>ocean_proximity</th>\n",
       "    </tr>\n",
       "  </thead>\n",
       "  <tbody>\n",
       "    <tr>\n",
       "      <th>0</th>\n",
       "      <td>-122.23</td>\n",
       "      <td>37.88</td>\n",
       "      <td>41.0</td>\n",
       "      <td>880.0</td>\n",
       "      <td>129.0</td>\n",
       "      <td>322.0</td>\n",
       "      <td>126.0</td>\n",
       "      <td>8.3252</td>\n",
       "      <td>452600.0</td>\n",
       "      <td>NEAR BAY</td>\n",
       "    </tr>\n",
       "    <tr>\n",
       "      <th>1</th>\n",
       "      <td>-122.22</td>\n",
       "      <td>37.86</td>\n",
       "      <td>21.0</td>\n",
       "      <td>7099.0</td>\n",
       "      <td>1106.0</td>\n",
       "      <td>2401.0</td>\n",
       "      <td>1138.0</td>\n",
       "      <td>8.3014</td>\n",
       "      <td>358500.0</td>\n",
       "      <td>NEAR BAY</td>\n",
       "    </tr>\n",
       "    <tr>\n",
       "      <th>2</th>\n",
       "      <td>-122.24</td>\n",
       "      <td>37.85</td>\n",
       "      <td>52.0</td>\n",
       "      <td>1467.0</td>\n",
       "      <td>190.0</td>\n",
       "      <td>496.0</td>\n",
       "      <td>177.0</td>\n",
       "      <td>7.2574</td>\n",
       "      <td>352100.0</td>\n",
       "      <td>NEAR BAY</td>\n",
       "    </tr>\n",
       "    <tr>\n",
       "      <th>3</th>\n",
       "      <td>-122.25</td>\n",
       "      <td>37.85</td>\n",
       "      <td>52.0</td>\n",
       "      <td>1274.0</td>\n",
       "      <td>235.0</td>\n",
       "      <td>558.0</td>\n",
       "      <td>219.0</td>\n",
       "      <td>5.6431</td>\n",
       "      <td>341300.0</td>\n",
       "      <td>NEAR BAY</td>\n",
       "    </tr>\n",
       "    <tr>\n",
       "      <th>4</th>\n",
       "      <td>-122.25</td>\n",
       "      <td>37.85</td>\n",
       "      <td>52.0</td>\n",
       "      <td>1627.0</td>\n",
       "      <td>280.0</td>\n",
       "      <td>565.0</td>\n",
       "      <td>259.0</td>\n",
       "      <td>3.8462</td>\n",
       "      <td>342200.0</td>\n",
       "      <td>NEAR BAY</td>\n",
       "    </tr>\n",
       "    <tr>\n",
       "      <th>...</th>\n",
       "      <td>...</td>\n",
       "      <td>...</td>\n",
       "      <td>...</td>\n",
       "      <td>...</td>\n",
       "      <td>...</td>\n",
       "      <td>...</td>\n",
       "      <td>...</td>\n",
       "      <td>...</td>\n",
       "      <td>...</td>\n",
       "      <td>...</td>\n",
       "    </tr>\n",
       "    <tr>\n",
       "      <th>20635</th>\n",
       "      <td>-121.09</td>\n",
       "      <td>39.48</td>\n",
       "      <td>25.0</td>\n",
       "      <td>1665.0</td>\n",
       "      <td>374.0</td>\n",
       "      <td>845.0</td>\n",
       "      <td>330.0</td>\n",
       "      <td>1.5603</td>\n",
       "      <td>78100.0</td>\n",
       "      <td>INLAND</td>\n",
       "    </tr>\n",
       "    <tr>\n",
       "      <th>20636</th>\n",
       "      <td>-121.21</td>\n",
       "      <td>39.49</td>\n",
       "      <td>18.0</td>\n",
       "      <td>697.0</td>\n",
       "      <td>150.0</td>\n",
       "      <td>356.0</td>\n",
       "      <td>114.0</td>\n",
       "      <td>2.5568</td>\n",
       "      <td>77100.0</td>\n",
       "      <td>INLAND</td>\n",
       "    </tr>\n",
       "    <tr>\n",
       "      <th>20637</th>\n",
       "      <td>-121.22</td>\n",
       "      <td>39.43</td>\n",
       "      <td>17.0</td>\n",
       "      <td>2254.0</td>\n",
       "      <td>485.0</td>\n",
       "      <td>1007.0</td>\n",
       "      <td>433.0</td>\n",
       "      <td>1.7000</td>\n",
       "      <td>92300.0</td>\n",
       "      <td>INLAND</td>\n",
       "    </tr>\n",
       "    <tr>\n",
       "      <th>20638</th>\n",
       "      <td>-121.32</td>\n",
       "      <td>39.43</td>\n",
       "      <td>18.0</td>\n",
       "      <td>1860.0</td>\n",
       "      <td>409.0</td>\n",
       "      <td>741.0</td>\n",
       "      <td>349.0</td>\n",
       "      <td>1.8672</td>\n",
       "      <td>84700.0</td>\n",
       "      <td>INLAND</td>\n",
       "    </tr>\n",
       "    <tr>\n",
       "      <th>20639</th>\n",
       "      <td>-121.24</td>\n",
       "      <td>39.37</td>\n",
       "      <td>16.0</td>\n",
       "      <td>2785.0</td>\n",
       "      <td>616.0</td>\n",
       "      <td>1387.0</td>\n",
       "      <td>530.0</td>\n",
       "      <td>2.3886</td>\n",
       "      <td>89400.0</td>\n",
       "      <td>INLAND</td>\n",
       "    </tr>\n",
       "  </tbody>\n",
       "</table>\n",
       "<p>20640 rows × 10 columns</p>\n",
       "</div>"
      ],
      "text/plain": [
       "       longitude  latitude  housing_median_age  total_rooms  total_bedrooms  \\\n",
       "0        -122.23     37.88                41.0        880.0           129.0   \n",
       "1        -122.22     37.86                21.0       7099.0          1106.0   \n",
       "2        -122.24     37.85                52.0       1467.0           190.0   \n",
       "3        -122.25     37.85                52.0       1274.0           235.0   \n",
       "4        -122.25     37.85                52.0       1627.0           280.0   \n",
       "...          ...       ...                 ...          ...             ...   \n",
       "20635    -121.09     39.48                25.0       1665.0           374.0   \n",
       "20636    -121.21     39.49                18.0        697.0           150.0   \n",
       "20637    -121.22     39.43                17.0       2254.0           485.0   \n",
       "20638    -121.32     39.43                18.0       1860.0           409.0   \n",
       "20639    -121.24     39.37                16.0       2785.0           616.0   \n",
       "\n",
       "       population  households  median_income  median_house_value  \\\n",
       "0           322.0       126.0         8.3252            452600.0   \n",
       "1          2401.0      1138.0         8.3014            358500.0   \n",
       "2           496.0       177.0         7.2574            352100.0   \n",
       "3           558.0       219.0         5.6431            341300.0   \n",
       "4           565.0       259.0         3.8462            342200.0   \n",
       "...           ...         ...            ...                 ...   \n",
       "20635       845.0       330.0         1.5603             78100.0   \n",
       "20636       356.0       114.0         2.5568             77100.0   \n",
       "20637      1007.0       433.0         1.7000             92300.0   \n",
       "20638       741.0       349.0         1.8672             84700.0   \n",
       "20639      1387.0       530.0         2.3886             89400.0   \n",
       "\n",
       "      ocean_proximity  \n",
       "0            NEAR BAY  \n",
       "1            NEAR BAY  \n",
       "2            NEAR BAY  \n",
       "3            NEAR BAY  \n",
       "4            NEAR BAY  \n",
       "...               ...  \n",
       "20635          INLAND  \n",
       "20636          INLAND  \n",
       "20637          INLAND  \n",
       "20638          INLAND  \n",
       "20639          INLAND  \n",
       "\n",
       "[20640 rows x 10 columns]"
      ]
     },
     "execution_count": 123,
     "metadata": {},
     "output_type": "execute_result"
    }
   ],
   "source": [
    "df"
   ]
  },
  {
   "cell_type": "markdown",
   "id": "ef81989a-1210-469d-92cc-5ee91bbee14b",
   "metadata": {},
   "source": [
    "## Eda : Analisis exploratorio"
   ]
  },
  {
   "cell_type": "markdown",
   "id": "419514af-0eeb-4af1-9778-795bd5e7daa2",
   "metadata": {},
   "source": [
    "### Analisis univariados"
   ]
  },
  {
   "cell_type": "code",
   "execution_count": 126,
   "id": "f4ab80df-0c63-4ffb-b549-a3071310df1a",
   "metadata": {
    "tags": []
   },
   "outputs": [
    {
     "data": {
      "image/png": "[encoded data removed]",
      "text/plain": [
       "<Figure size 1000x600 with 1 Axes>"
      ]
     },
     "metadata": {},
     "output_type": "display_data"
    }
   ],
   "source": [
    "fig = plt.figure(figsize=(10,6))\n",
    "\n",
    "sns.boxenplot(data=df, x='median_house_value')  \n",
    "plt.title(\"\")\n",
    "plt.xticks(rotation=45)\n",
    "plt.show()"
   ]
  },
  {
   "cell_type": "code",
   "execution_count": 127,
   "id": "5829406c-d0cb-4e76-a486-7b3dc4d2a0cd",
   "metadata": {
    "tags": []
   },
   "outputs": [
    {
     "data": {
      "text/plain": [
       "count     20640.000000\n",
       "mean     206855.816909\n",
       "std      115395.615874\n",
       "min       14999.000000\n",
       "25%      119600.000000\n",
       "50%      179700.000000\n",
       "75%      264725.000000\n",
       "max      500001.000000\n",
       "Name: median_house_value, dtype: float64"
      ]
     },
     "execution_count": 127,
     "metadata": {},
     "output_type": "execute_result"
    }
   ],
   "source": [
    "df.median_house_value.describe()"
   ]
  },
  {
   "cell_type": "code",
   "execution_count": 128,
   "id": "7ea4fd6e-4b4c-4462-9421-1ff0def8888d",
   "metadata": {
    "tags": []
   },
   "outputs": [
    {
     "data": {
      "image/png": "[encoded data removed]",
      "text/plain": [
       "<Figure size 1000x600 with 1 Axes>"
      ]
     },
     "metadata": {},
     "output_type": "display_data"
    }
   ],
   "source": [
    "fig = plt.figure(figsize=(10,6))\n",
    "\n",
    "sns.boxenplot(data=df, x='housing_median_age')  \n",
    "plt.title(\"\")\n",
    "plt.xticks(rotation=45)\n",
    "plt.show()"
   ]
  },
  {
   "cell_type": "code",
   "execution_count": 129,
   "id": "3e077a04-15b1-4f35-a357-8f25fe5007bd",
   "metadata": {
    "tags": []
   },
   "outputs": [
    {
     "data": {
      "image/png": "[encoded data removed]",
      "text/plain": [
       "<Figure size 1000x600 with 1 Axes>"
      ]
     },
     "metadata": {},
     "output_type": "display_data"
    }
   ],
   "source": [
    "fig = plt.figure(figsize=(10,6))\n",
    "\n",
    "sns.boxenplot(data=df, x='population')  \n",
    "plt.title(\"\")\n",
    "plt.xticks(rotation=45)\n",
    "plt.show()"
   ]
  },
  {
   "cell_type": "code",
   "execution_count": 130,
   "id": "d9938663-07a0-4dd4-9454-f36c501af5a9",
   "metadata": {
    "tags": []
   },
   "outputs": [
    {
     "data": {
      "text/plain": [
       "count    20640.000000\n",
       "mean      1425.476744\n",
       "std       1132.462122\n",
       "min          3.000000\n",
       "25%        787.000000\n",
       "50%       1166.000000\n",
       "75%       1725.000000\n",
       "max      35682.000000\n",
       "Name: population, dtype: float64"
      ]
     },
     "execution_count": 130,
     "metadata": {},
     "output_type": "execute_result"
    }
   ],
   "source": [
    "df.population.describe()"
   ]
  },
  {
   "cell_type": "code",
   "execution_count": 131,
   "id": "8e292117-1df0-48df-93e1-96fedbecef7b",
   "metadata": {
    "tags": []
   },
   "outputs": [
    {
     "data": {
      "text/plain": [
       "5805.830000000002"
      ]
     },
     "execution_count": 131,
     "metadata": {},
     "output_type": "execute_result"
    }
   ],
   "source": [
    "df.population.quantile(0.99)"
   ]
  },
  {
   "cell_type": "code",
   "execution_count": 132,
   "id": "f5de2daf-7c23-4e05-9bd1-7c0c76bd8bb7",
   "metadata": {
    "tags": []
   },
   "outputs": [
    {
     "data": {
      "image/png": "[encoded data removed]",
      "text/plain": [
       "<Figure size 1000x600 with 1 Axes>"
      ]
     },
     "metadata": {},
     "output_type": "display_data"
    }
   ],
   "source": [
    "fig = plt.figure(figsize=(10,6))\n",
    "\n",
    "sns.boxenplot(data=df, x='median_income')  \n",
    "plt.title(\"\")\n",
    "plt.xticks(rotation=45)\n",
    "plt.show()"
   ]
  },
  {
   "cell_type": "code",
   "execution_count": 133,
   "id": "c71a6900-d893-4565-aee8-f8307bfdbdcd",
   "metadata": {
    "tags": []
   },
   "outputs": [
    {
     "data": {
      "image/png": "[encoded data removed]",
      "text/plain": [
       "<Figure size 2200x1000 with 1 Axes>"
      ]
     },
     "metadata": {},
     "output_type": "display_data"
    }
   ],
   "source": [
    "fig = plt.figure(figsize=(22,10))\n",
    "sns.countplot(data=df, x='ocean_proximity',\n",
    "                color='blue')\n",
    "plt.xticks(rotation=45)\n",
    "plt.title(\"\")\n",
    "plt.ticklabel_format(style='plain', axis='y')"
   ]
  },
  {
   "cell_type": "markdown",
   "id": "8dbb9029-00c6-4a84-8ee1-f4b7a88194f5",
   "metadata": {},
   "source": [
    "### Analisis bivariados"
   ]
  },
  {
   "cell_type": "markdown",
   "id": "9eca4507-e4ba-475f-9ab9-cc95e82a8dc0",
   "metadata": {},
   "source": [
    "Asumimos que el dataset contiene datos del valor medio del precio de una casa por manzana/cuadra, en una zona centrica. "
   ]
  },
  {
   "cell_type": "code",
   "execution_count": 136,
   "id": "ae59fbdb-741d-4a25-adce-ee55e782a405",
   "metadata": {
    "tags": []
   },
   "outputs": [
    {
     "data": {
      "image/png": "[encoded data removed]",
      "text/plain": [
       "<Figure size 800x800 with 1 Axes>"
      ]
     },
     "metadata": {},
     "output_type": "display_data"
    }
   ],
   "source": [
    "fig = plt.figure(figsize=(8,8))\n",
    "sns.scatterplot(data=df, x='total_rooms', y='total_bedrooms')  \n",
    "plt.title(f'')\n",
    "plt.show()"
   ]
  },
  {
   "cell_type": "code",
   "execution_count": 137,
   "id": "e53ed49f-f9f3-4932-bb1a-ddf904b88f5b",
   "metadata": {
    "tags": []
   },
   "outputs": [
    {
     "data": {
      "text/html": [
       "<div>\n",
       "<style scoped>\n",
       "    .dataframe tbody tr th:only-of-type {\n",
       "        vertical-align: middle;\n",
       "    }\n",
       "\n",
       "    .dataframe tbody tr th {\n",
       "        vertical-align: top;\n",
       "    }\n",
       "\n",
       "    .dataframe thead th {\n",
       "        text-align: right;\n",
       "    }\n",
       "</style>\n",
       "<table border=\"1\" class=\"dataframe\">\n",
       "  <thead>\n",
       "    <tr style=\"text-align: right;\">\n",
       "      <th></th>\n",
       "      <th>total_rooms</th>\n",
       "      <th>total_bedrooms</th>\n",
       "    </tr>\n",
       "  </thead>\n",
       "  <tbody>\n",
       "    <tr>\n",
       "      <th>total_rooms</th>\n",
       "      <td>1.00000</td>\n",
       "      <td>0.93038</td>\n",
       "    </tr>\n",
       "    <tr>\n",
       "      <th>total_bedrooms</th>\n",
       "      <td>0.93038</td>\n",
       "      <td>1.00000</td>\n",
       "    </tr>\n",
       "  </tbody>\n",
       "</table>\n",
       "</div>"
      ],
      "text/plain": [
       "                total_rooms  total_bedrooms\n",
       "total_rooms         1.00000         0.93038\n",
       "total_bedrooms      0.93038         1.00000"
      ]
     },
     "execution_count": 137,
     "metadata": {},
     "output_type": "execute_result"
    }
   ],
   "source": [
    "df[['total_rooms','total_bedrooms']].corr()"
   ]
  },
  {
   "cell_type": "code",
   "execution_count": 138,
   "id": "43a7723e-fa76-4cc5-81ee-7dd8217a9dbb",
   "metadata": {
    "tags": []
   },
   "outputs": [
    {
     "data": {
      "image/png": "[encoded data removed]",
      "text/plain": [
       "<Figure size 800x800 with 1 Axes>"
      ]
     },
     "metadata": {},
     "output_type": "display_data"
    }
   ],
   "source": [
    "fig = plt.figure(figsize=(8,8))\n",
    "sns.scatterplot(data=df, x='total_rooms', y='total_bedrooms', hue='median_house_value',legend=\"auto\")  \n",
    "plt.title(f'')\n",
    "plt.show()"
   ]
  },
  {
   "cell_type": "code",
   "execution_count": 139,
   "id": "066c22dd-3475-4c68-91eb-56fd3c208c1a",
   "metadata": {
    "tags": []
   },
   "outputs": [],
   "source": [
    "df_corr = df.copy()"
   ]
  },
  {
   "cell_type": "code",
   "execution_count": 140,
   "id": "1d2d978d-a722-47c3-9671-a68a3cb811b3",
   "metadata": {
    "tags": []
   },
   "outputs": [],
   "source": [
    "df_corr.drop(columns={'ocean_proximity'}, inplace=True)"
   ]
  },
  {
   "cell_type": "code",
   "execution_count": 141,
   "id": "441bea14-73c6-4665-9791-005947d00102",
   "metadata": {
    "tags": []
   },
   "outputs": [
    {
     "data": {
      "text/html": [
       "<div>\n",
       "<style scoped>\n",
       "    .dataframe tbody tr th:only-of-type {\n",
       "        vertical-align: middle;\n",
       "    }\n",
       "\n",
       "    .dataframe tbody tr th {\n",
       "        vertical-align: top;\n",
       "    }\n",
       "\n",
       "    .dataframe thead th {\n",
       "        text-align: right;\n",
       "    }\n",
       "</style>\n",
       "<table border=\"1\" class=\"dataframe\">\n",
       "  <thead>\n",
       "    <tr style=\"text-align: right;\">\n",
       "      <th></th>\n",
       "      <th>longitude</th>\n",
       "      <th>latitude</th>\n",
       "      <th>housing_median_age</th>\n",
       "      <th>total_rooms</th>\n",
       "      <th>total_bedrooms</th>\n",
       "      <th>population</th>\n",
       "      <th>households</th>\n",
       "      <th>median_income</th>\n",
       "      <th>median_house_value</th>\n",
       "    </tr>\n",
       "  </thead>\n",
       "  <tbody>\n",
       "    <tr>\n",
       "      <th>longitude</th>\n",
       "      <td>1.000000</td>\n",
       "      <td>-0.924664</td>\n",
       "      <td>-0.108197</td>\n",
       "      <td>0.044568</td>\n",
       "      <td>0.069608</td>\n",
       "      <td>0.099773</td>\n",
       "      <td>0.055310</td>\n",
       "      <td>-0.015176</td>\n",
       "      <td>-0.045967</td>\n",
       "    </tr>\n",
       "    <tr>\n",
       "      <th>latitude</th>\n",
       "      <td>-0.924664</td>\n",
       "      <td>1.000000</td>\n",
       "      <td>0.011173</td>\n",
       "      <td>-0.036100</td>\n",
       "      <td>-0.066983</td>\n",
       "      <td>-0.108785</td>\n",
       "      <td>-0.071035</td>\n",
       "      <td>-0.079809</td>\n",
       "      <td>-0.144160</td>\n",
       "    </tr>\n",
       "    <tr>\n",
       "      <th>housing_median_age</th>\n",
       "      <td>-0.108197</td>\n",
       "      <td>0.011173</td>\n",
       "      <td>1.000000</td>\n",
       "      <td>-0.361262</td>\n",
       "      <td>-0.320451</td>\n",
       "      <td>-0.296244</td>\n",
       "      <td>-0.302916</td>\n",
       "      <td>-0.119034</td>\n",
       "      <td>0.105623</td>\n",
       "    </tr>\n",
       "    <tr>\n",
       "      <th>total_rooms</th>\n",
       "      <td>0.044568</td>\n",
       "      <td>-0.036100</td>\n",
       "      <td>-0.361262</td>\n",
       "      <td>1.000000</td>\n",
       "      <td>0.930380</td>\n",
       "      <td>0.857126</td>\n",
       "      <td>0.918484</td>\n",
       "      <td>0.198050</td>\n",
       "      <td>0.134153</td>\n",
       "    </tr>\n",
       "    <tr>\n",
       "      <th>total_bedrooms</th>\n",
       "      <td>0.069608</td>\n",
       "      <td>-0.066983</td>\n",
       "      <td>-0.320451</td>\n",
       "      <td>0.930380</td>\n",
       "      <td>1.000000</td>\n",
       "      <td>0.877747</td>\n",
       "      <td>0.979728</td>\n",
       "      <td>-0.007723</td>\n",
       "      <td>0.049686</td>\n",
       "    </tr>\n",
       "    <tr>\n",
       "      <th>population</th>\n",
       "      <td>0.099773</td>\n",
       "      <td>-0.108785</td>\n",
       "      <td>-0.296244</td>\n",
       "      <td>0.857126</td>\n",
       "      <td>0.877747</td>\n",
       "      <td>1.000000</td>\n",
       "      <td>0.907222</td>\n",
       "      <td>0.004834</td>\n",
       "      <td>-0.024650</td>\n",
       "    </tr>\n",
       "    <tr>\n",
       "      <th>households</th>\n",
       "      <td>0.055310</td>\n",
       "      <td>-0.071035</td>\n",
       "      <td>-0.302916</td>\n",
       "      <td>0.918484</td>\n",
       "      <td>0.979728</td>\n",
       "      <td>0.907222</td>\n",
       "      <td>1.000000</td>\n",
       "      <td>0.013033</td>\n",
       "      <td>0.065843</td>\n",
       "    </tr>\n",
       "    <tr>\n",
       "      <th>median_income</th>\n",
       "      <td>-0.015176</td>\n",
       "      <td>-0.079809</td>\n",
       "      <td>-0.119034</td>\n",
       "      <td>0.198050</td>\n",
       "      <td>-0.007723</td>\n",
       "      <td>0.004834</td>\n",
       "      <td>0.013033</td>\n",
       "      <td>1.000000</td>\n",
       "      <td>0.688075</td>\n",
       "    </tr>\n",
       "    <tr>\n",
       "      <th>median_house_value</th>\n",
       "      <td>-0.045967</td>\n",
       "      <td>-0.144160</td>\n",
       "      <td>0.105623</td>\n",
       "      <td>0.134153</td>\n",
       "      <td>0.049686</td>\n",
       "      <td>-0.024650</td>\n",
       "      <td>0.065843</td>\n",
       "      <td>0.688075</td>\n",
       "      <td>1.000000</td>\n",
       "    </tr>\n",
       "  </tbody>\n",
       "</table>\n",
       "</div>"
      ],
      "text/plain": [
       "                    longitude  latitude  housing_median_age  total_rooms  \\\n",
       "longitude            1.000000 -0.924664           -0.108197     0.044568   \n",
       "latitude            -0.924664  1.000000            0.011173    -0.036100   \n",
       "housing_median_age  -0.108197  0.011173            1.000000    -0.361262   \n",
       "total_rooms          0.044568 -0.036100           -0.361262     1.000000   \n",
       "total_bedrooms       0.069608 -0.066983           -0.320451     0.930380   \n",
       "population           0.099773 -0.108785           -0.296244     0.857126   \n",
       "households           0.055310 -0.071035           -0.302916     0.918484   \n",
       "median_income       -0.015176 -0.079809           -0.119034     0.198050   \n",
       "median_house_value  -0.045967 -0.144160            0.105623     0.134153   \n",
       "\n",
       "                    total_bedrooms  population  households  median_income  \\\n",
       "longitude                 0.069608    0.099773    0.055310      -0.015176   \n",
       "latitude                 -0.066983   -0.108785   -0.071035      -0.079809   \n",
       "housing_median_age       -0.320451   -0.296244   -0.302916      -0.119034   \n",
       "total_rooms               0.930380    0.857126    0.918484       0.198050   \n",
       "total_bedrooms            1.000000    0.877747    0.979728      -0.007723   \n",
       "population                0.877747    1.000000    0.907222       0.004834   \n",
       "households                0.979728    0.907222    1.000000       0.013033   \n",
       "median_income            -0.007723    0.004834    0.013033       1.000000   \n",
       "median_house_value        0.049686   -0.024650    0.065843       0.688075   \n",
       "\n",
       "                    median_house_value  \n",
       "longitude                    -0.045967  \n",
       "latitude                     -0.144160  \n",
       "housing_median_age            0.105623  \n",
       "total_rooms                   0.134153  \n",
       "total_bedrooms                0.049686  \n",
       "population                   -0.024650  \n",
       "households                    0.065843  \n",
       "median_income                 0.688075  \n",
       "median_house_value            1.000000  "
      ]
     },
     "execution_count": 141,
     "metadata": {},
     "output_type": "execute_result"
    }
   ],
   "source": [
    "df_corr.corr()"
   ]
  },
  {
   "cell_type": "code",
   "execution_count": 142,
   "id": "3e04e7be-fd71-43e9-9c83-8ea9be22a76e",
   "metadata": {
    "tags": []
   },
   "outputs": [
    {
     "data": {
      "image/png": "[encoded data removed]",
      "text/plain": [
       "<Figure size 800x800 with 1 Axes>"
      ]
     },
     "metadata": {},
     "output_type": "display_data"
    }
   ],
   "source": [
    "fig = plt.figure(figsize=(8,8))\n",
    "sns.scatterplot(data=df, x='population', y='households')  \n",
    "plt.title(f'')\n",
    "plt.show()"
   ]
  },
  {
   "cell_type": "code",
   "execution_count": 143,
   "id": "50b6350c-dd7f-4d38-b55b-b3825fd2d018",
   "metadata": {
    "tags": []
   },
   "outputs": [
    {
     "data": {
      "text/plain": [
       "count    20640.000000\n",
       "mean         3.870671\n",
       "std          1.899822\n",
       "min          0.499900\n",
       "25%          2.563400\n",
       "50%          3.534800\n",
       "75%          4.743250\n",
       "max         15.000100\n",
       "Name: median_income, dtype: float64"
      ]
     },
     "execution_count": 143,
     "metadata": {},
     "output_type": "execute_result"
    }
   ],
   "source": [
    "df['median_income'].describe()"
   ]
  },
  {
   "cell_type": "code",
   "execution_count": 144,
   "id": "0e2625c5-82d4-47c4-bfa0-fe4f8fe31b86",
   "metadata": {
    "tags": []
   },
   "outputs": [],
   "source": [
    "df['median_income_fix'] = df['median_income'] * 10000"
   ]
  },
  {
   "cell_type": "code",
   "execution_count": 145,
   "id": "22cdb2ff-902f-4bfc-b911-65bd704e07ec",
   "metadata": {
    "tags": []
   },
   "outputs": [
    {
     "data": {
      "text/html": [
       "<div>\n",
       "<style scoped>\n",
       "    .dataframe tbody tr th:only-of-type {\n",
       "        vertical-align: middle;\n",
       "    }\n",
       "\n",
       "    .dataframe tbody tr th {\n",
       "        vertical-align: top;\n",
       "    }\n",
       "\n",
       "    .dataframe thead th {\n",
       "        text-align: right;\n",
       "    }\n",
       "</style>\n",
       "<table border=\"1\" class=\"dataframe\">\n",
       "  <thead>\n",
       "    <tr style=\"text-align: right;\">\n",
       "      <th></th>\n",
       "      <th>longitude</th>\n",
       "      <th>latitude</th>\n",
       "      <th>housing_median_age</th>\n",
       "      <th>total_rooms</th>\n",
       "      <th>total_bedrooms</th>\n",
       "      <th>population</th>\n",
       "      <th>households</th>\n",
       "      <th>median_income</th>\n",
       "      <th>median_house_value</th>\n",
       "      <th>ocean_proximity</th>\n",
       "      <th>median_income_fix</th>\n",
       "    </tr>\n",
       "  </thead>\n",
       "  <tbody>\n",
       "    <tr>\n",
       "      <th>4352</th>\n",
       "      <td>-118.37</td>\n",
       "      <td>34.10</td>\n",
       "      <td>37.0</td>\n",
       "      <td>407.0</td>\n",
       "      <td>67.0</td>\n",
       "      <td>100.0</td>\n",
       "      <td>47.0</td>\n",
       "      <td>15.0001</td>\n",
       "      <td>500001.0</td>\n",
       "      <td>&lt;1H OCEAN</td>\n",
       "      <td>150001.0</td>\n",
       "    </tr>\n",
       "    <tr>\n",
       "      <th>8850</th>\n",
       "      <td>-118.41</td>\n",
       "      <td>34.09</td>\n",
       "      <td>37.0</td>\n",
       "      <td>2716.0</td>\n",
       "      <td>302.0</td>\n",
       "      <td>809.0</td>\n",
       "      <td>291.0</td>\n",
       "      <td>15.0001</td>\n",
       "      <td>500001.0</td>\n",
       "      <td>&lt;1H OCEAN</td>\n",
       "      <td>150001.0</td>\n",
       "    </tr>\n",
       "    <tr>\n",
       "      <th>8851</th>\n",
       "      <td>-118.42</td>\n",
       "      <td>34.09</td>\n",
       "      <td>40.0</td>\n",
       "      <td>3552.0</td>\n",
       "      <td>392.0</td>\n",
       "      <td>1024.0</td>\n",
       "      <td>370.0</td>\n",
       "      <td>15.0001</td>\n",
       "      <td>500001.0</td>\n",
       "      <td>&lt;1H OCEAN</td>\n",
       "      <td>150001.0</td>\n",
       "    </tr>\n",
       "    <tr>\n",
       "      <th>8852</th>\n",
       "      <td>-118.42</td>\n",
       "      <td>34.08</td>\n",
       "      <td>48.0</td>\n",
       "      <td>2413.0</td>\n",
       "      <td>261.0</td>\n",
       "      <td>770.0</td>\n",
       "      <td>248.0</td>\n",
       "      <td>15.0001</td>\n",
       "      <td>500001.0</td>\n",
       "      <td>&lt;1H OCEAN</td>\n",
       "      <td>150001.0</td>\n",
       "    </tr>\n",
       "    <tr>\n",
       "      <th>8853</th>\n",
       "      <td>-118.41</td>\n",
       "      <td>34.07</td>\n",
       "      <td>52.0</td>\n",
       "      <td>3562.0</td>\n",
       "      <td>394.0</td>\n",
       "      <td>1163.0</td>\n",
       "      <td>361.0</td>\n",
       "      <td>15.0001</td>\n",
       "      <td>500001.0</td>\n",
       "      <td>&lt;1H OCEAN</td>\n",
       "      <td>150001.0</td>\n",
       "    </tr>\n",
       "    <tr>\n",
       "      <th>8854</th>\n",
       "      <td>-118.41</td>\n",
       "      <td>34.07</td>\n",
       "      <td>52.0</td>\n",
       "      <td>1202.0</td>\n",
       "      <td>142.0</td>\n",
       "      <td>408.0</td>\n",
       "      <td>138.0</td>\n",
       "      <td>15.0001</td>\n",
       "      <td>500001.0</td>\n",
       "      <td>&lt;1H OCEAN</td>\n",
       "      <td>150001.0</td>\n",
       "    </tr>\n",
       "    <tr>\n",
       "      <th>8878</th>\n",
       "      <td>-118.50</td>\n",
       "      <td>34.04</td>\n",
       "      <td>52.0</td>\n",
       "      <td>3000.0</td>\n",
       "      <td>374.0</td>\n",
       "      <td>1143.0</td>\n",
       "      <td>375.0</td>\n",
       "      <td>15.0001</td>\n",
       "      <td>500001.0</td>\n",
       "      <td>&lt;1H OCEAN</td>\n",
       "      <td>150001.0</td>\n",
       "    </tr>\n",
       "    <tr>\n",
       "      <th>10673</th>\n",
       "      <td>-117.85</td>\n",
       "      <td>33.62</td>\n",
       "      <td>13.0</td>\n",
       "      <td>5192.0</td>\n",
       "      <td>658.0</td>\n",
       "      <td>1865.0</td>\n",
       "      <td>662.0</td>\n",
       "      <td>15.0001</td>\n",
       "      <td>500001.0</td>\n",
       "      <td>&lt;1H OCEAN</td>\n",
       "      <td>150001.0</td>\n",
       "    </tr>\n",
       "    <tr>\n",
       "      <th>10760</th>\n",
       "      <td>-117.87</td>\n",
       "      <td>33.62</td>\n",
       "      <td>15.0</td>\n",
       "      <td>2209.0</td>\n",
       "      <td>275.0</td>\n",
       "      <td>735.0</td>\n",
       "      <td>274.0</td>\n",
       "      <td>15.0001</td>\n",
       "      <td>500001.0</td>\n",
       "      <td>&lt;1H OCEAN</td>\n",
       "      <td>150001.0</td>\n",
       "    </tr>\n",
       "    <tr>\n",
       "      <th>11520</th>\n",
       "      <td>-118.06</td>\n",
       "      <td>33.72</td>\n",
       "      <td>14.0</td>\n",
       "      <td>2665.0</td>\n",
       "      <td>331.0</td>\n",
       "      <td>964.0</td>\n",
       "      <td>319.0</td>\n",
       "      <td>15.0001</td>\n",
       "      <td>500001.0</td>\n",
       "      <td>NEAR OCEAN</td>\n",
       "      <td>150001.0</td>\n",
       "    </tr>\n",
       "    <tr>\n",
       "      <th>15241</th>\n",
       "      <td>-117.23</td>\n",
       "      <td>32.99</td>\n",
       "      <td>17.0</td>\n",
       "      <td>2718.0</td>\n",
       "      <td>326.0</td>\n",
       "      <td>1011.0</td>\n",
       "      <td>319.0</td>\n",
       "      <td>15.0001</td>\n",
       "      <td>500001.0</td>\n",
       "      <td>NEAR OCEAN</td>\n",
       "      <td>150001.0</td>\n",
       "    </tr>\n",
       "    <tr>\n",
       "      <th>15693</th>\n",
       "      <td>-122.44</td>\n",
       "      <td>37.79</td>\n",
       "      <td>52.0</td>\n",
       "      <td>1447.0</td>\n",
       "      <td>186.0</td>\n",
       "      <td>483.0</td>\n",
       "      <td>181.0</td>\n",
       "      <td>15.0001</td>\n",
       "      <td>500001.0</td>\n",
       "      <td>NEAR BAY</td>\n",
       "      <td>150001.0</td>\n",
       "    </tr>\n",
       "    <tr>\n",
       "      <th>16171</th>\n",
       "      <td>-122.50</td>\n",
       "      <td>37.79</td>\n",
       "      <td>52.0</td>\n",
       "      <td>8.0</td>\n",
       "      <td>1.0</td>\n",
       "      <td>13.0</td>\n",
       "      <td>1.0</td>\n",
       "      <td>15.0001</td>\n",
       "      <td>500001.0</td>\n",
       "      <td>NEAR BAY</td>\n",
       "      <td>150001.0</td>\n",
       "    </tr>\n",
       "    <tr>\n",
       "      <th>16910</th>\n",
       "      <td>-122.36</td>\n",
       "      <td>37.56</td>\n",
       "      <td>32.0</td>\n",
       "      <td>4684.0</td>\n",
       "      <td>540.0</td>\n",
       "      <td>1512.0</td>\n",
       "      <td>511.0</td>\n",
       "      <td>15.0001</td>\n",
       "      <td>500001.0</td>\n",
       "      <td>NEAR OCEAN</td>\n",
       "      <td>150001.0</td>\n",
       "    </tr>\n",
       "    <tr>\n",
       "      <th>17107</th>\n",
       "      <td>-122.20</td>\n",
       "      <td>37.44</td>\n",
       "      <td>31.0</td>\n",
       "      <td>2328.0</td>\n",
       "      <td>270.0</td>\n",
       "      <td>722.0</td>\n",
       "      <td>247.0</td>\n",
       "      <td>15.0001</td>\n",
       "      <td>500001.0</td>\n",
       "      <td>NEAR OCEAN</td>\n",
       "      <td>150001.0</td>\n",
       "    </tr>\n",
       "    <tr>\n",
       "      <th>17108</th>\n",
       "      <td>-122.22</td>\n",
       "      <td>37.44</td>\n",
       "      <td>32.0</td>\n",
       "      <td>4281.0</td>\n",
       "      <td>501.0</td>\n",
       "      <td>1318.0</td>\n",
       "      <td>484.0</td>\n",
       "      <td>15.0001</td>\n",
       "      <td>500001.0</td>\n",
       "      <td>NEAR OCEAN</td>\n",
       "      <td>150001.0</td>\n",
       "    </tr>\n",
       "    <tr>\n",
       "      <th>17110</th>\n",
       "      <td>-122.21</td>\n",
       "      <td>37.46</td>\n",
       "      <td>40.0</td>\n",
       "      <td>1777.0</td>\n",
       "      <td>207.0</td>\n",
       "      <td>577.0</td>\n",
       "      <td>207.0</td>\n",
       "      <td>15.0001</td>\n",
       "      <td>500001.0</td>\n",
       "      <td>NEAR OCEAN</td>\n",
       "      <td>150001.0</td>\n",
       "    </tr>\n",
       "    <tr>\n",
       "      <th>17111</th>\n",
       "      <td>-122.18</td>\n",
       "      <td>37.46</td>\n",
       "      <td>40.0</td>\n",
       "      <td>2529.0</td>\n",
       "      <td>293.0</td>\n",
       "      <td>831.0</td>\n",
       "      <td>258.0</td>\n",
       "      <td>15.0001</td>\n",
       "      <td>500001.0</td>\n",
       "      <td>NEAR BAY</td>\n",
       "      <td>150001.0</td>\n",
       "    </tr>\n",
       "    <tr>\n",
       "      <th>17118</th>\n",
       "      <td>-122.14</td>\n",
       "      <td>37.50</td>\n",
       "      <td>46.0</td>\n",
       "      <td>30.0</td>\n",
       "      <td>4.0</td>\n",
       "      <td>13.0</td>\n",
       "      <td>5.0</td>\n",
       "      <td>15.0001</td>\n",
       "      <td>500001.0</td>\n",
       "      <td>NEAR BAY</td>\n",
       "      <td>150001.0</td>\n",
       "    </tr>\n",
       "    <tr>\n",
       "      <th>17166</th>\n",
       "      <td>-122.22</td>\n",
       "      <td>37.40</td>\n",
       "      <td>32.0</td>\n",
       "      <td>2297.0</td>\n",
       "      <td>287.0</td>\n",
       "      <td>814.0</td>\n",
       "      <td>283.0</td>\n",
       "      <td>15.0001</td>\n",
       "      <td>500001.0</td>\n",
       "      <td>NEAR OCEAN</td>\n",
       "      <td>150001.0</td>\n",
       "    </tr>\n",
       "    <tr>\n",
       "      <th>8849</th>\n",
       "      <td>-118.40</td>\n",
       "      <td>34.08</td>\n",
       "      <td>52.0</td>\n",
       "      <td>3815.0</td>\n",
       "      <td>439.0</td>\n",
       "      <td>1266.0</td>\n",
       "      <td>413.0</td>\n",
       "      <td>15.0001</td>\n",
       "      <td>500001.0</td>\n",
       "      <td>&lt;1H OCEAN</td>\n",
       "      <td>150001.0</td>\n",
       "    </tr>\n",
       "    <tr>\n",
       "      <th>8848</th>\n",
       "      <td>-118.39</td>\n",
       "      <td>34.08</td>\n",
       "      <td>52.0</td>\n",
       "      <td>3759.0</td>\n",
       "      <td>464.0</td>\n",
       "      <td>1407.0</td>\n",
       "      <td>422.0</td>\n",
       "      <td>15.0001</td>\n",
       "      <td>500001.0</td>\n",
       "      <td>&lt;1H OCEAN</td>\n",
       "      <td>150001.0</td>\n",
       "    </tr>\n",
       "    <tr>\n",
       "      <th>8847</th>\n",
       "      <td>-118.40</td>\n",
       "      <td>34.09</td>\n",
       "      <td>45.0</td>\n",
       "      <td>2686.0</td>\n",
       "      <td>283.0</td>\n",
       "      <td>857.0</td>\n",
       "      <td>259.0</td>\n",
       "      <td>15.0001</td>\n",
       "      <td>500001.0</td>\n",
       "      <td>&lt;1H OCEAN</td>\n",
       "      <td>150001.0</td>\n",
       "    </tr>\n",
       "    <tr>\n",
       "      <th>8846</th>\n",
       "      <td>-118.40</td>\n",
       "      <td>34.10</td>\n",
       "      <td>27.0</td>\n",
       "      <td>3979.0</td>\n",
       "      <td>510.0</td>\n",
       "      <td>1351.0</td>\n",
       "      <td>520.0</td>\n",
       "      <td>15.0001</td>\n",
       "      <td>500001.0</td>\n",
       "      <td>&lt;1H OCEAN</td>\n",
       "      <td>150001.0</td>\n",
       "    </tr>\n",
       "    <tr>\n",
       "      <th>4604</th>\n",
       "      <td>-118.33</td>\n",
       "      <td>34.06</td>\n",
       "      <td>52.0</td>\n",
       "      <td>1841.0</td>\n",
       "      <td>240.0</td>\n",
       "      <td>693.0</td>\n",
       "      <td>218.0</td>\n",
       "      <td>15.0001</td>\n",
       "      <td>500001.0</td>\n",
       "      <td>&lt;1H OCEAN</td>\n",
       "      <td>150001.0</td>\n",
       "    </tr>\n",
       "    <tr>\n",
       "      <th>4605</th>\n",
       "      <td>-118.33</td>\n",
       "      <td>34.07</td>\n",
       "      <td>52.0</td>\n",
       "      <td>2248.0</td>\n",
       "      <td>255.0</td>\n",
       "      <td>813.0</td>\n",
       "      <td>265.0</td>\n",
       "      <td>15.0001</td>\n",
       "      <td>500001.0</td>\n",
       "      <td>&lt;1H OCEAN</td>\n",
       "      <td>150001.0</td>\n",
       "    </tr>\n",
       "    <tr>\n",
       "      <th>4606</th>\n",
       "      <td>-118.33</td>\n",
       "      <td>34.07</td>\n",
       "      <td>52.0</td>\n",
       "      <td>1482.0</td>\n",
       "      <td>171.0</td>\n",
       "      <td>531.0</td>\n",
       "      <td>161.0</td>\n",
       "      <td>15.0001</td>\n",
       "      <td>500001.0</td>\n",
       "      <td>&lt;1H OCEAN</td>\n",
       "      <td>150001.0</td>\n",
       "    </tr>\n",
       "    <tr>\n",
       "      <th>4626</th>\n",
       "      <td>-118.32</td>\n",
       "      <td>34.06</td>\n",
       "      <td>52.0</td>\n",
       "      <td>955.0</td>\n",
       "      <td>100.0</td>\n",
       "      <td>457.0</td>\n",
       "      <td>120.0</td>\n",
       "      <td>15.0001</td>\n",
       "      <td>500001.0</td>\n",
       "      <td>&lt;1H OCEAN</td>\n",
       "      <td>150001.0</td>\n",
       "    </tr>\n",
       "    <tr>\n",
       "      <th>4678</th>\n",
       "      <td>-118.34</td>\n",
       "      <td>34.08</td>\n",
       "      <td>52.0</td>\n",
       "      <td>1721.0</td>\n",
       "      <td>195.0</td>\n",
       "      <td>688.0</td>\n",
       "      <td>196.0</td>\n",
       "      <td>15.0001</td>\n",
       "      <td>500001.0</td>\n",
       "      <td>&lt;1H OCEAN</td>\n",
       "      <td>150001.0</td>\n",
       "    </tr>\n",
       "    <tr>\n",
       "      <th>5242</th>\n",
       "      <td>-118.40</td>\n",
       "      <td>34.11</td>\n",
       "      <td>32.0</td>\n",
       "      <td>5578.0</td>\n",
       "      <td>753.0</td>\n",
       "      <td>1567.0</td>\n",
       "      <td>697.0</td>\n",
       "      <td>15.0001</td>\n",
       "      <td>500001.0</td>\n",
       "      <td>&lt;1H OCEAN</td>\n",
       "      <td>150001.0</td>\n",
       "    </tr>\n",
       "    <tr>\n",
       "      <th>5247</th>\n",
       "      <td>-118.44</td>\n",
       "      <td>34.09</td>\n",
       "      <td>36.0</td>\n",
       "      <td>3129.0</td>\n",
       "      <td>392.0</td>\n",
       "      <td>862.0</td>\n",
       "      <td>334.0</td>\n",
       "      <td>15.0001</td>\n",
       "      <td>500001.0</td>\n",
       "      <td>&lt;1H OCEAN</td>\n",
       "      <td>150001.0</td>\n",
       "    </tr>\n",
       "    <tr>\n",
       "      <th>5248</th>\n",
       "      <td>-118.43</td>\n",
       "      <td>34.08</td>\n",
       "      <td>46.0</td>\n",
       "      <td>778.0</td>\n",
       "      <td>90.0</td>\n",
       "      <td>238.0</td>\n",
       "      <td>93.0</td>\n",
       "      <td>15.0001</td>\n",
       "      <td>500001.0</td>\n",
       "      <td>&lt;1H OCEAN</td>\n",
       "      <td>150001.0</td>\n",
       "    </tr>\n",
       "    <tr>\n",
       "      <th>5257</th>\n",
       "      <td>-118.49</td>\n",
       "      <td>34.06</td>\n",
       "      <td>42.0</td>\n",
       "      <td>2861.0</td>\n",
       "      <td>360.0</td>\n",
       "      <td>829.0</td>\n",
       "      <td>310.0</td>\n",
       "      <td>15.0001</td>\n",
       "      <td>500001.0</td>\n",
       "      <td>&lt;1H OCEAN</td>\n",
       "      <td>150001.0</td>\n",
       "    </tr>\n",
       "    <tr>\n",
       "      <th>17170</th>\n",
       "      <td>-122.27</td>\n",
       "      <td>37.43</td>\n",
       "      <td>33.0</td>\n",
       "      <td>1601.0</td>\n",
       "      <td>223.0</td>\n",
       "      <td>629.0</td>\n",
       "      <td>215.0</td>\n",
       "      <td>15.0001</td>\n",
       "      <td>500001.0</td>\n",
       "      <td>NEAR OCEAN</td>\n",
       "      <td>150001.0</td>\n",
       "    </tr>\n",
       "    <tr>\n",
       "      <th>5275</th>\n",
       "      <td>-118.50</td>\n",
       "      <td>34.05</td>\n",
       "      <td>36.0</td>\n",
       "      <td>4152.0</td>\n",
       "      <td>542.0</td>\n",
       "      <td>1461.0</td>\n",
       "      <td>550.0</td>\n",
       "      <td>15.0001</td>\n",
       "      <td>500001.0</td>\n",
       "      <td>&lt;1H OCEAN</td>\n",
       "      <td>150001.0</td>\n",
       "    </tr>\n",
       "    <tr>\n",
       "      <th>5291</th>\n",
       "      <td>-118.42</td>\n",
       "      <td>34.08</td>\n",
       "      <td>46.0</td>\n",
       "      <td>1399.0</td>\n",
       "      <td>148.0</td>\n",
       "      <td>410.0</td>\n",
       "      <td>152.0</td>\n",
       "      <td>15.0001</td>\n",
       "      <td>500001.0</td>\n",
       "      <td>&lt;1H OCEAN</td>\n",
       "      <td>150001.0</td>\n",
       "    </tr>\n",
       "    <tr>\n",
       "      <th>6391</th>\n",
       "      <td>-118.06</td>\n",
       "      <td>34.15</td>\n",
       "      <td>37.0</td>\n",
       "      <td>1980.0</td>\n",
       "      <td>226.0</td>\n",
       "      <td>697.0</td>\n",
       "      <td>226.0</td>\n",
       "      <td>15.0001</td>\n",
       "      <td>500001.0</td>\n",
       "      <td>INLAND</td>\n",
       "      <td>150001.0</td>\n",
       "    </tr>\n",
       "    <tr>\n",
       "      <th>6399</th>\n",
       "      <td>-118.04</td>\n",
       "      <td>34.13</td>\n",
       "      <td>35.0</td>\n",
       "      <td>249.0</td>\n",
       "      <td>31.0</td>\n",
       "      <td>268.0</td>\n",
       "      <td>29.0</td>\n",
       "      <td>15.0001</td>\n",
       "      <td>500001.0</td>\n",
       "      <td>INLAND</td>\n",
       "      <td>150001.0</td>\n",
       "    </tr>\n",
       "    <tr>\n",
       "      <th>6590</th>\n",
       "      <td>-118.18</td>\n",
       "      <td>34.19</td>\n",
       "      <td>48.0</td>\n",
       "      <td>1371.0</td>\n",
       "      <td>NaN</td>\n",
       "      <td>528.0</td>\n",
       "      <td>155.0</td>\n",
       "      <td>15.0001</td>\n",
       "      <td>500001.0</td>\n",
       "      <td>&lt;1H OCEAN</td>\n",
       "      <td>150001.0</td>\n",
       "    </tr>\n",
       "    <tr>\n",
       "      <th>6591</th>\n",
       "      <td>-118.19</td>\n",
       "      <td>34.19</td>\n",
       "      <td>34.0</td>\n",
       "      <td>2061.0</td>\n",
       "      <td>260.0</td>\n",
       "      <td>825.0</td>\n",
       "      <td>254.0</td>\n",
       "      <td>15.0001</td>\n",
       "      <td>500001.0</td>\n",
       "      <td>&lt;1H OCEAN</td>\n",
       "      <td>150001.0</td>\n",
       "    </tr>\n",
       "    <tr>\n",
       "      <th>6592</th>\n",
       "      <td>-118.20</td>\n",
       "      <td>34.19</td>\n",
       "      <td>38.0</td>\n",
       "      <td>2176.0</td>\n",
       "      <td>266.0</td>\n",
       "      <td>798.0</td>\n",
       "      <td>243.0</td>\n",
       "      <td>15.0001</td>\n",
       "      <td>500001.0</td>\n",
       "      <td>&lt;1H OCEAN</td>\n",
       "      <td>150001.0</td>\n",
       "    </tr>\n",
       "    <tr>\n",
       "      <th>6727</th>\n",
       "      <td>-118.12</td>\n",
       "      <td>34.12</td>\n",
       "      <td>52.0</td>\n",
       "      <td>2907.0</td>\n",
       "      <td>317.0</td>\n",
       "      <td>956.0</td>\n",
       "      <td>279.0</td>\n",
       "      <td>15.0001</td>\n",
       "      <td>500001.0</td>\n",
       "      <td>&lt;1H OCEAN</td>\n",
       "      <td>150001.0</td>\n",
       "    </tr>\n",
       "    <tr>\n",
       "      <th>6736</th>\n",
       "      <td>-118.10</td>\n",
       "      <td>34.13</td>\n",
       "      <td>47.0</td>\n",
       "      <td>2234.0</td>\n",
       "      <td>276.0</td>\n",
       "      <td>749.0</td>\n",
       "      <td>260.0</td>\n",
       "      <td>15.0001</td>\n",
       "      <td>500001.0</td>\n",
       "      <td>&lt;1H OCEAN</td>\n",
       "      <td>150001.0</td>\n",
       "    </tr>\n",
       "    <tr>\n",
       "      <th>8805</th>\n",
       "      <td>-118.34</td>\n",
       "      <td>33.76</td>\n",
       "      <td>34.0</td>\n",
       "      <td>5586.0</td>\n",
       "      <td>674.0</td>\n",
       "      <td>1871.0</td>\n",
       "      <td>636.0</td>\n",
       "      <td>15.0001</td>\n",
       "      <td>500001.0</td>\n",
       "      <td>NEAR OCEAN</td>\n",
       "      <td>150001.0</td>\n",
       "    </tr>\n",
       "    <tr>\n",
       "      <th>5281</th>\n",
       "      <td>-118.49</td>\n",
       "      <td>34.05</td>\n",
       "      <td>42.0</td>\n",
       "      <td>1918.0</td>\n",
       "      <td>216.0</td>\n",
       "      <td>632.0</td>\n",
       "      <td>224.0</td>\n",
       "      <td>15.0001</td>\n",
       "      <td>500001.0</td>\n",
       "      <td>&lt;1H OCEAN</td>\n",
       "      <td>150001.0</td>\n",
       "    </tr>\n",
       "    <tr>\n",
       "      <th>17858</th>\n",
       "      <td>-121.87</td>\n",
       "      <td>37.46</td>\n",
       "      <td>43.0</td>\n",
       "      <td>91.0</td>\n",
       "      <td>12.0</td>\n",
       "      <td>58.0</td>\n",
       "      <td>16.0</td>\n",
       "      <td>15.0001</td>\n",
       "      <td>500001.0</td>\n",
       "      <td>&lt;1H OCEAN</td>\n",
       "      <td>150001.0</td>\n",
       "    </tr>\n",
       "  </tbody>\n",
       "</table>\n",
       "</div>"
      ],
      "text/plain": [
       "       longitude  latitude  housing_median_age  total_rooms  total_bedrooms  \\\n",
       "4352     -118.37     34.10                37.0        407.0            67.0   \n",
       "8850     -118.41     34.09                37.0       2716.0           302.0   \n",
       "8851     -118.42     34.09                40.0       3552.0           392.0   \n",
       "8852     -118.42     34.08                48.0       2413.0           261.0   \n",
       "8853     -118.41     34.07                52.0       3562.0           394.0   \n",
       "8854     -118.41     34.07                52.0       1202.0           142.0   \n",
       "8878     -118.50     34.04                52.0       3000.0           374.0   \n",
       "10673    -117.85     33.62                13.0       5192.0           658.0   \n",
       "10760    -117.87     33.62                15.0       2209.0           275.0   \n",
       "11520    -118.06     33.72                14.0       2665.0           331.0   \n",
       "15241    -117.23     32.99                17.0       2718.0           326.0   \n",
       "15693    -122.44     37.79                52.0       1447.0           186.0   \n",
       "16171    -122.50     37.79                52.0          8.0             1.0   \n",
       "16910    -122.36     37.56                32.0       4684.0           540.0   \n",
       "17107    -122.20     37.44                31.0       2328.0           270.0   \n",
       "17108    -122.22     37.44                32.0       4281.0           501.0   \n",
       "17110    -122.21     37.46                40.0       1777.0           207.0   \n",
       "17111    -122.18     37.46                40.0       2529.0           293.0   \n",
       "17118    -122.14     37.50                46.0         30.0             4.0   \n",
       "17166    -122.22     37.40                32.0       2297.0           287.0   \n",
       "8849     -118.40     34.08                52.0       3815.0           439.0   \n",
       "8848     -118.39     34.08                52.0       3759.0           464.0   \n",
       "8847     -118.40     34.09                45.0       2686.0           283.0   \n",
       "8846     -118.40     34.10                27.0       3979.0           510.0   \n",
       "4604     -118.33     34.06                52.0       1841.0           240.0   \n",
       "4605     -118.33     34.07                52.0       2248.0           255.0   \n",
       "4606     -118.33     34.07                52.0       1482.0           171.0   \n",
       "4626     -118.32     34.06                52.0        955.0           100.0   \n",
       "4678     -118.34     34.08                52.0       1721.0           195.0   \n",
       "5242     -118.40     34.11                32.0       5578.0           753.0   \n",
       "5247     -118.44     34.09                36.0       3129.0           392.0   \n",
       "5248     -118.43     34.08                46.0        778.0            90.0   \n",
       "5257     -118.49     34.06                42.0       2861.0           360.0   \n",
       "17170    -122.27     37.43                33.0       1601.0           223.0   \n",
       "5275     -118.50     34.05                36.0       4152.0           542.0   \n",
       "5291     -118.42     34.08                46.0       1399.0           148.0   \n",
       "6391     -118.06     34.15                37.0       1980.0           226.0   \n",
       "6399     -118.04     34.13                35.0        249.0            31.0   \n",
       "6590     -118.18     34.19                48.0       1371.0             NaN   \n",
       "6591     -118.19     34.19                34.0       2061.0           260.0   \n",
       "6592     -118.20     34.19                38.0       2176.0           266.0   \n",
       "6727     -118.12     34.12                52.0       2907.0           317.0   \n",
       "6736     -118.10     34.13                47.0       2234.0           276.0   \n",
       "8805     -118.34     33.76                34.0       5586.0           674.0   \n",
       "5281     -118.49     34.05                42.0       1918.0           216.0   \n",
       "17858    -121.87     37.46                43.0         91.0            12.0   \n",
       "\n",
       "       population  households  median_income  median_house_value  \\\n",
       "4352        100.0        47.0        15.0001            500001.0   \n",
       "8850        809.0       291.0        15.0001            500001.0   \n",
       "8851       1024.0       370.0        15.0001            500001.0   \n",
       "8852        770.0       248.0        15.0001            500001.0   \n",
       "8853       1163.0       361.0        15.0001            500001.0   \n",
       "8854        408.0       138.0        15.0001            500001.0   \n",
       "8878       1143.0       375.0        15.0001            500001.0   \n",
       "10673      1865.0       662.0        15.0001            500001.0   \n",
       "10760       735.0       274.0        15.0001            500001.0   \n",
       "11520       964.0       319.0        15.0001            500001.0   \n",
       "15241      1011.0       319.0        15.0001            500001.0   \n",
       "15693       483.0       181.0        15.0001            500001.0   \n",
       "16171        13.0         1.0        15.0001            500001.0   \n",
       "16910      1512.0       511.0        15.0001            500001.0   \n",
       "17107       722.0       247.0        15.0001            500001.0   \n",
       "17108      1318.0       484.0        15.0001            500001.0   \n",
       "17110       577.0       207.0        15.0001            500001.0   \n",
       "17111       831.0       258.0        15.0001            500001.0   \n",
       "17118        13.0         5.0        15.0001            500001.0   \n",
       "17166       814.0       283.0        15.0001            500001.0   \n",
       "8849       1266.0       413.0        15.0001            500001.0   \n",
       "8848       1407.0       422.0        15.0001            500001.0   \n",
       "8847        857.0       259.0        15.0001            500001.0   \n",
       "8846       1351.0       520.0        15.0001            500001.0   \n",
       "4604        693.0       218.0        15.0001            500001.0   \n",
       "4605        813.0       265.0        15.0001            500001.0   \n",
       "4606        531.0       161.0        15.0001            500001.0   \n",
       "4626        457.0       120.0        15.0001            500001.0   \n",
       "4678        688.0       196.0        15.0001            500001.0   \n",
       "5242       1567.0       697.0        15.0001            500001.0   \n",
       "5247        862.0       334.0        15.0001            500001.0   \n",
       "5248        238.0        93.0        15.0001            500001.0   \n",
       "5257        829.0       310.0        15.0001            500001.0   \n",
       "17170       629.0       215.0        15.0001            500001.0   \n",
       "5275       1461.0       550.0        15.0001            500001.0   \n",
       "5291        410.0       152.0        15.0001            500001.0   \n",
       "6391        697.0       226.0        15.0001            500001.0   \n",
       "6399        268.0        29.0        15.0001            500001.0   \n",
       "6590        528.0       155.0        15.0001            500001.0   \n",
       "6591        825.0       254.0        15.0001            500001.0   \n",
       "6592        798.0       243.0        15.0001            500001.0   \n",
       "6727        956.0       279.0        15.0001            500001.0   \n",
       "6736        749.0       260.0        15.0001            500001.0   \n",
       "8805       1871.0       636.0        15.0001            500001.0   \n",
       "5281        632.0       224.0        15.0001            500001.0   \n",
       "17858        58.0        16.0        15.0001            500001.0   \n",
       "\n",
       "      ocean_proximity  median_income_fix  \n",
       "4352        <1H OCEAN           150001.0  \n",
       "8850        <1H OCEAN           150001.0  \n",
       "8851        <1H OCEAN           150001.0  \n",
       "8852        <1H OCEAN           150001.0  \n",
       "8853        <1H OCEAN           150001.0  \n",
       "8854        <1H OCEAN           150001.0  \n",
       "8878        <1H OCEAN           150001.0  \n",
       "10673       <1H OCEAN           150001.0  \n",
       "10760       <1H OCEAN           150001.0  \n",
       "11520      NEAR OCEAN           150001.0  \n",
       "15241      NEAR OCEAN           150001.0  \n",
       "15693        NEAR BAY           150001.0  \n",
       "16171        NEAR BAY           150001.0  \n",
       "16910      NEAR OCEAN           150001.0  \n",
       "17107      NEAR OCEAN           150001.0  \n",
       "17108      NEAR OCEAN           150001.0  \n",
       "17110      NEAR OCEAN           150001.0  \n",
       "17111        NEAR BAY           150001.0  \n",
       "17118        NEAR BAY           150001.0  \n",
       "17166      NEAR OCEAN           150001.0  \n",
       "8849        <1H OCEAN           150001.0  \n",
       "8848        <1H OCEAN           150001.0  \n",
       "8847        <1H OCEAN           150001.0  \n",
       "8846        <1H OCEAN           150001.0  \n",
       "4604        <1H OCEAN           150001.0  \n",
       "4605        <1H OCEAN           150001.0  \n",
       "4606        <1H OCEAN           150001.0  \n",
       "4626        <1H OCEAN           150001.0  \n",
       "4678        <1H OCEAN           150001.0  \n",
       "5242        <1H OCEAN           150001.0  \n",
       "5247        <1H OCEAN           150001.0  \n",
       "5248        <1H OCEAN           150001.0  \n",
       "5257        <1H OCEAN           150001.0  \n",
       "17170      NEAR OCEAN           150001.0  \n",
       "5275        <1H OCEAN           150001.0  \n",
       "5291        <1H OCEAN           150001.0  \n",
       "6391           INLAND           150001.0  \n",
       "6399           INLAND           150001.0  \n",
       "6590        <1H OCEAN           150001.0  \n",
       "6591        <1H OCEAN           150001.0  \n",
       "6592        <1H OCEAN           150001.0  \n",
       "6727        <1H OCEAN           150001.0  \n",
       "6736        <1H OCEAN           150001.0  \n",
       "8805       NEAR OCEAN           150001.0  \n",
       "5281        <1H OCEAN           150001.0  \n",
       "17858       <1H OCEAN           150001.0  "
      ]
     },
     "execution_count": 145,
     "metadata": {},
     "output_type": "execute_result"
    }
   ],
   "source": [
    "df[(df['median_house_value'] == 500001.0) &\n",
    "   (df['median_income_fix'] == 150001.0)].sort_values(by='median_income_fix',ascending=True)"
   ]
  },
  {
   "cell_type": "code",
   "execution_count": 146,
   "id": "af2b3ae9-10c1-41f3-ab4f-cb8382d0967a",
   "metadata": {
    "tags": []
   },
   "outputs": [
    {
     "data": {
      "image/png": "[encoded data removed]",
      "text/plain": [
       "<Figure size 600x600 with 1 Axes>"
      ]
     },
     "metadata": {},
     "output_type": "display_data"
    }
   ],
   "source": [
    "fig = plt.figure(figsize=(6,6))\n",
    "sns.barplot(data=df,\n",
    "                x='ocean_proximity', y='median_house_value',\n",
    "                estimator=np.mean)\n",
    "plt.title(\"\")\n",
    "plt.xticks(rotation=45)\n",
    "plt.show()"
   ]
  },
  {
   "cell_type": "markdown",
   "id": "fa5caee2-7fd4-492a-8163-a75f328d7a30",
   "metadata": {},
   "source": [
    "### Conclusiones "
   ]
  },
  {
   "cell_type": "markdown",
   "id": "3fcc9890-9c08-4176-88b9-a4da18d8d30d",
   "metadata": {},
   "source": [
    "- Variable median_income es la mas correlacionada con la variable a predecir. \n",
    "- Room y bebrooms estan muy correlacionadas, al igual que populations y households.\n",
    "- ocean_proximity parece ser una variable importante a la hora de predecir el precio mediano de una casa. \n",
    "- Populations es una variable que posee outliers, evaluar si conviene eliminarlos. "
   ]
  },
  {
   "cell_type": "code",
   "execution_count": 149,
   "id": "8cb653c4-2da7-42ce-8b09-b78eafdf1887",
   "metadata": {
    "tags": []
   },
   "outputs": [
    {
     "data": {
      "text/html": [
       "<div>\n",
       "<style scoped>\n",
       "    .dataframe tbody tr th:only-of-type {\n",
       "        vertical-align: middle;\n",
       "    }\n",
       "\n",
       "    .dataframe tbody tr th {\n",
       "        vertical-align: top;\n",
       "    }\n",
       "\n",
       "    .dataframe thead th {\n",
       "        text-align: right;\n",
       "    }\n",
       "</style>\n",
       "<table border=\"1\" class=\"dataframe\">\n",
       "  <thead>\n",
       "    <tr style=\"text-align: right;\">\n",
       "      <th></th>\n",
       "      <th>longitude</th>\n",
       "      <th>latitude</th>\n",
       "      <th>housing_median_age</th>\n",
       "      <th>total_rooms</th>\n",
       "      <th>total_bedrooms</th>\n",
       "      <th>population</th>\n",
       "      <th>households</th>\n",
       "      <th>median_income</th>\n",
       "      <th>median_house_value</th>\n",
       "      <th>ocean_proximity</th>\n",
       "      <th>median_income_fix</th>\n",
       "    </tr>\n",
       "  </thead>\n",
       "  <tbody>\n",
       "    <tr>\n",
       "      <th>3130</th>\n",
       "      <td>-117.95</td>\n",
       "      <td>35.08</td>\n",
       "      <td>1.0</td>\n",
       "      <td>83.0</td>\n",
       "      <td>15.0</td>\n",
       "      <td>32.0</td>\n",
       "      <td>15.0</td>\n",
       "      <td>4.8750</td>\n",
       "      <td>141700.0</td>\n",
       "      <td>INLAND</td>\n",
       "      <td>48750.0</td>\n",
       "    </tr>\n",
       "    <tr>\n",
       "      <th>12286</th>\n",
       "      <td>-116.95</td>\n",
       "      <td>33.86</td>\n",
       "      <td>1.0</td>\n",
       "      <td>6.0</td>\n",
       "      <td>2.0</td>\n",
       "      <td>8.0</td>\n",
       "      <td>2.0</td>\n",
       "      <td>1.6250</td>\n",
       "      <td>55000.0</td>\n",
       "      <td>INLAND</td>\n",
       "      <td>16250.0</td>\n",
       "    </tr>\n",
       "    <tr>\n",
       "      <th>18972</th>\n",
       "      <td>-122.00</td>\n",
       "      <td>38.23</td>\n",
       "      <td>1.0</td>\n",
       "      <td>2062.0</td>\n",
       "      <td>343.0</td>\n",
       "      <td>872.0</td>\n",
       "      <td>268.0</td>\n",
       "      <td>5.2636</td>\n",
       "      <td>191300.0</td>\n",
       "      <td>INLAND</td>\n",
       "      <td>52636.0</td>\n",
       "    </tr>\n",
       "    <tr>\n",
       "      <th>19536</th>\n",
       "      <td>-120.93</td>\n",
       "      <td>37.65</td>\n",
       "      <td>1.0</td>\n",
       "      <td>2254.0</td>\n",
       "      <td>328.0</td>\n",
       "      <td>402.0</td>\n",
       "      <td>112.0</td>\n",
       "      <td>4.2500</td>\n",
       "      <td>189200.0</td>\n",
       "      <td>INLAND</td>\n",
       "      <td>42500.0</td>\n",
       "    </tr>\n",
       "  </tbody>\n",
       "</table>\n",
       "</div>"
      ],
      "text/plain": [
       "       longitude  latitude  housing_median_age  total_rooms  total_bedrooms  \\\n",
       "3130     -117.95     35.08                 1.0         83.0            15.0   \n",
       "12286    -116.95     33.86                 1.0          6.0             2.0   \n",
       "18972    -122.00     38.23                 1.0       2062.0           343.0   \n",
       "19536    -120.93     37.65                 1.0       2254.0           328.0   \n",
       "\n",
       "       population  households  median_income  median_house_value  \\\n",
       "3130         32.0        15.0         4.8750            141700.0   \n",
       "12286         8.0         2.0         1.6250             55000.0   \n",
       "18972       872.0       268.0         5.2636            191300.0   \n",
       "19536       402.0       112.0         4.2500            189200.0   \n",
       "\n",
       "      ocean_proximity  median_income_fix  \n",
       "3130           INLAND            48750.0  \n",
       "12286          INLAND            16250.0  \n",
       "18972          INLAND            52636.0  \n",
       "19536          INLAND            42500.0  "
      ]
     },
     "execution_count": 149,
     "metadata": {},
     "output_type": "execute_result"
    }
   ],
   "source": [
    "df[df['housing_median_age'] == 1]"
   ]
  },
  {
   "cell_type": "markdown",
   "id": "d259619a-83db-438f-bcbb-38a3f53cd53e",
   "metadata": {},
   "source": [
    "## Seleccion de variables"
   ]
  },
  {
   "cell_type": "code",
   "execution_count": 151,
   "id": "88c5a6ad-818f-40fe-b36b-995e85c2deb1",
   "metadata": {
    "tags": []
   },
   "outputs": [],
   "source": [
    "colums = ['latitude', 'housing_median_age', 'total_rooms','population',\n",
    "       'median_house_value', 'ocean_proximity', 'median_income_fix']"
   ]
  },
  {
   "cell_type": "code",
   "execution_count": 152,
   "id": "96f3f590-0a1b-419b-bf7d-293f287e1ee4",
   "metadata": {
    "tags": []
   },
   "outputs": [],
   "source": [
    "df = df[colums]"
   ]
  },
  {
   "cell_type": "markdown",
   "id": "bcf3bc5a-3c0f-4039-a0b6-ce17c9bc2439",
   "metadata": {},
   "source": [
    "### Codificacion variable categorica"
   ]
  },
  {
   "cell_type": "code",
   "execution_count": 154,
   "id": "201b9c2b-fb8f-446e-8b20-be5176cb110e",
   "metadata": {
    "tags": []
   },
   "outputs": [],
   "source": [
    "label_encoder = LabelEncoder()"
   ]
  },
  {
   "cell_type": "code",
   "execution_count": 155,
   "id": "5baf4669-8760-4c9d-a1d9-c0fe63559767",
   "metadata": {},
   "outputs": [
    {
     "data": {
      "text/html": [
       "<div>\n",
       "<style scoped>\n",
       "    .dataframe tbody tr th:only-of-type {\n",
       "        vertical-align: middle;\n",
       "    }\n",
       "\n",
       "    .dataframe tbody tr th {\n",
       "        vertical-align: top;\n",
       "    }\n",
       "\n",
       "    .dataframe thead th {\n",
       "        text-align: right;\n",
       "    }\n",
       "</style>\n",
       "<table border=\"1\" class=\"dataframe\">\n",
       "  <thead>\n",
       "    <tr style=\"text-align: right;\">\n",
       "      <th></th>\n",
       "      <th>latitude</th>\n",
       "      <th>housing_median_age</th>\n",
       "      <th>total_rooms</th>\n",
       "      <th>population</th>\n",
       "      <th>median_house_value</th>\n",
       "      <th>ocean_proximity</th>\n",
       "      <th>median_income_fix</th>\n",
       "    </tr>\n",
       "  </thead>\n",
       "  <tbody>\n",
       "    <tr>\n",
       "      <th>0</th>\n",
       "      <td>37.88</td>\n",
       "      <td>41.0</td>\n",
       "      <td>880.0</td>\n",
       "      <td>322.0</td>\n",
       "      <td>452600.0</td>\n",
       "      <td>3</td>\n",
       "      <td>83252.0</td>\n",
       "    </tr>\n",
       "    <tr>\n",
       "      <th>1</th>\n",
       "      <td>37.86</td>\n",
       "      <td>21.0</td>\n",
       "      <td>7099.0</td>\n",
       "      <td>2401.0</td>\n",
       "      <td>358500.0</td>\n",
       "      <td>3</td>\n",
       "      <td>83014.0</td>\n",
       "    </tr>\n",
       "    <tr>\n",
       "      <th>2</th>\n",
       "      <td>37.85</td>\n",
       "      <td>52.0</td>\n",
       "      <td>1467.0</td>\n",
       "      <td>496.0</td>\n",
       "      <td>352100.0</td>\n",
       "      <td>3</td>\n",
       "      <td>72574.0</td>\n",
       "    </tr>\n",
       "    <tr>\n",
       "      <th>3</th>\n",
       "      <td>37.85</td>\n",
       "      <td>52.0</td>\n",
       "      <td>1274.0</td>\n",
       "      <td>558.0</td>\n",
       "      <td>341300.0</td>\n",
       "      <td>3</td>\n",
       "      <td>56431.0</td>\n",
       "    </tr>\n",
       "    <tr>\n",
       "      <th>4</th>\n",
       "      <td>37.85</td>\n",
       "      <td>52.0</td>\n",
       "      <td>1627.0</td>\n",
       "      <td>565.0</td>\n",
       "      <td>342200.0</td>\n",
       "      <td>3</td>\n",
       "      <td>38462.0</td>\n",
       "    </tr>\n",
       "  </tbody>\n",
       "</table>\n",
       "</div>"
      ],
      "text/plain": [
       "   latitude  housing_median_age  total_rooms  population  median_house_value  \\\n",
       "0     37.88                41.0        880.0       322.0            452600.0   \n",
       "1     37.86                21.0       7099.0      2401.0            358500.0   \n",
       "2     37.85                52.0       1467.0       496.0            352100.0   \n",
       "3     37.85                52.0       1274.0       558.0            341300.0   \n",
       "4     37.85                52.0       1627.0       565.0            342200.0   \n",
       "\n",
       "   ocean_proximity  median_income_fix  \n",
       "0                3            83252.0  \n",
       "1                3            83014.0  \n",
       "2                3            72574.0  \n",
       "3                3            56431.0  \n",
       "4                3            38462.0  "
      ]
     },
     "execution_count": 155,
     "metadata": {},
     "output_type": "execute_result"
    }
   ],
   "source": [
    "df['ocean_proximity'] = label_encoder.fit_transform(df['ocean_proximity'])\n",
    "\n",
    "df.head()"
   ]
  },
  {
   "cell_type": "code",
   "execution_count": 156,
   "id": "d88d1dab-5e90-4611-8b3c-671de671acad",
   "metadata": {
    "tags": []
   },
   "outputs": [
    {
     "data": {
      "text/plain": [
       "array([3, 0, 1, 4, 2])"
      ]
     },
     "execution_count": 156,
     "metadata": {},
     "output_type": "execute_result"
    }
   ],
   "source": [
    "df.ocean_proximity.unique()"
   ]
  },
  {
   "cell_type": "code",
   "execution_count": 157,
   "id": "4dcebbc3-fbbe-486d-a022-a68316bdd8c3",
   "metadata": {
    "tags": []
   },
   "outputs": [
    {
     "data": {
      "text/plain": [
       "array(['NEAR BAY', '<1H OCEAN'], dtype=object)"
      ]
     },
     "execution_count": 157,
     "metadata": {},
     "output_type": "execute_result"
    }
   ],
   "source": [
    "label_encoder.inverse_transform([3,0])"
   ]
  },
  {
   "cell_type": "markdown",
   "id": "6610c7d6-3032-4640-a490-8e9c7e682268",
   "metadata": {},
   "source": [
    "## Entrenamiento"
   ]
  },
  {
   "cell_type": "markdown",
   "id": "ca0acc50-fcf5-436b-ac77-44729fbe8a83",
   "metadata": {},
   "source": [
    "Division entre train y test"
   ]
  },
  {
   "cell_type": "code",
   "execution_count": 160,
   "id": "4d1b2b44-ad6c-4b98-b6e8-4ce11ed05378",
   "metadata": {
    "tags": []
   },
   "outputs": [],
   "source": [
    "scaler = StandardScaler()"
   ]
  },
  {
   "cell_type": "code",
   "execution_count": 161,
   "id": "de3e92a9-18c2-4c43-bb84-6f5808a7183e",
   "metadata": {
    "tags": []
   },
   "outputs": [],
   "source": [
    "x=df.drop(['median_house_value'],axis=1)\n",
    "y=df[['median_house_value']]"
   ]
  },
  {
   "cell_type": "code",
   "execution_count": 162,
   "id": "429a5e99-ce59-4bd6-93f6-4a5205a1d10a",
   "metadata": {
    "tags": []
   },
   "outputs": [],
   "source": [
    "X_train, X_test, Y_train, Y_test = train_test_split(x, y, test_size=0.20, random_state=0, shuffle=True)"
   ]
  },
  {
   "cell_type": "code",
   "execution_count": 163,
   "id": "66081759-62d5-407d-9475-428899741643",
   "metadata": {
    "tags": []
   },
   "outputs": [],
   "source": [
    "x_train = scaler.fit_transform(X_train)"
   ]
  },
  {
   "cell_type": "code",
   "execution_count": 164,
   "id": "3ed55aa6-7c4b-4e72-848f-810d1e9e3737",
   "metadata": {
    "tags": []
   },
   "outputs": [],
   "source": [
    "regr = LinearRegression()"
   ]
  },
  {
   "cell_type": "code",
   "execution_count": 165,
   "id": "85d66cde-ef18-4e1c-964d-0210552a4106",
   "metadata": {
    "tags": []
   },
   "outputs": [
    {
     "data": {
      "text/html": [
       "<style>#sk-container-id-1 {color: black;background-color: white;}#sk-container-id-1 pre{padding: 0;}#sk-container-id-1 div.sk-toggleable {background-color: white;}#sk-container-id-1 label.sk-toggleable__label {cursor: pointer;display: block;width: 100%;margin-bottom: 0;padding: 0.3em;box-sizing: border-box;text-align: center;}#sk-container-id-1 label.sk-toggleable__label-arrow:before {content: \"▸\";float: left;margin-right: 0.25em;color: #696969;}#sk-container-id-1 label.sk-toggleable__label-arrow:hover:before {color: black;}#sk-container-id-1 div.sk-estimator:hover label.sk-toggleable__label-arrow:before {color: black;}#sk-container-id-1 div.sk-toggleable__content {max-height: 0;max-width: 0;overflow: hidden;text-align: left;background-color: #f0f8ff;}#sk-container-id-1 div.sk-toggleable__content pre {margin: 0.2em;color: black;border-radius: 0.25em;background-color: #f0f8ff;}#sk-container-id-1 input.sk-toggleable__control:checked~div.sk-toggleable__content {max-height: 200px;max-width: 100%;overflow: auto;}#sk-container-id-1 input.sk-toggleable__control:checked~label.sk-toggleable__label-arrow:before {content: \"▾\";}#sk-container-id-1 div.sk-estimator input.sk-toggleable__control:checked~label.sk-toggleable__label {background-color: #d4ebff;}#sk-container-id-1 div.sk-label input.sk-toggleable__control:checked~label.sk-toggleable__label {background-color: #d4ebff;}#sk-container-id-1 input.sk-hidden--visually {border: 0;clip: rect(1px 1px 1px 1px);clip: rect(1px, 1px, 1px, 1px);height: 1px;margin: -1px;overflow: hidden;padding: 0;position: absolute;width: 1px;}#sk-container-id-1 div.sk-estimator {font-family: monospace;background-color: #f0f8ff;border: 1px dotted black;border-radius: 0.25em;box-sizing: border-box;margin-bottom: 0.5em;}#sk-container-id-1 div.sk-estimator:hover {background-color: #d4ebff;}#sk-container-id-1 div.sk-parallel-item::after {content: \"\";width: 100%;border-bottom: 1px solid gray;flex-grow: 1;}#sk-container-id-1 div.sk-label:hover label.sk-toggleable__label {background-color: #d4ebff;}#sk-container-id-1 div.sk-serial::before {content: \"\";position: absolute;border-left: 1px solid gray;box-sizing: border-box;top: 0;bottom: 0;left: 50%;z-index: 0;}#sk-container-id-1 div.sk-serial {display: flex;flex-direction: column;align-items: center;background-color: white;padding-right: 0.2em;padding-left: 0.2em;position: relative;}#sk-container-id-1 div.sk-item {position: relative;z-index: 1;}#sk-container-id-1 div.sk-parallel {display: flex;align-items: stretch;justify-content: center;background-color: white;position: relative;}#sk-container-id-1 div.sk-item::before, #sk-container-id-1 div.sk-parallel-item::before {content: \"\";position: absolute;border-left: 1px solid gray;box-sizing: border-box;top: 0;bottom: 0;left: 50%;z-index: -1;}#sk-container-id-1 div.sk-parallel-item {display: flex;flex-direction: column;z-index: 1;position: relative;background-color: white;}#sk-container-id-1 div.sk-parallel-item:first-child::after {align-self: flex-end;width: 50%;}#sk-container-id-1 div.sk-parallel-item:last-child::after {align-self: flex-start;width: 50%;}#sk-container-id-1 div.sk-parallel-item:only-child::after {width: 0;}#sk-container-id-1 div.sk-dashed-wrapped {border: 1px dashed gray;margin: 0 0.4em 0.5em 0.4em;box-sizing: border-box;padding-bottom: 0.4em;background-color: white;}#sk-container-id-1 div.sk-label label {font-family: monospace;font-weight: bold;display: inline-block;line-height: 1.2em;}#sk-container-id-1 div.sk-label-container {text-align: center;}#sk-container-id-1 div.sk-container {/* jupyter's `normalize.less` sets `[hidden] { display: none; }` but bootstrap.min.css set `[hidden] { display: none !important; }` so we also need the `!important` here to be able to override the default hidden behavior on the sphinx rendered scikit-learn.org. See: https://github.com/scikit-learn/scikit-learn/issues/21755 */display: inline-block !important;position: relative;}#sk-container-id-1 div.sk-text-repr-fallback {display: none;}</style><div id=\"sk-container-id-1\" class=\"sk-top-container\"><div class=\"sk-text-repr-fallback\"><pre>LinearRegression()</pre><b>In a Jupyter environment, please rerun this cell to show the HTML representation or trust the notebook. <br />On GitHub, the HTML representation is unable to render, please try loading this page with nbviewer.org.</b></div><div class=\"sk-container\" hidden><div class=\"sk-item\"><div class=\"sk-estimator sk-toggleable\"><input class=\"sk-toggleable__control sk-hidden--visually\" id=\"sk-estimator-id-1\" type=\"checkbox\" checked><label for=\"sk-estimator-id-1\" class=\"sk-toggleable__label sk-toggleable__label-arrow\">LinearRegression</label><div class=\"sk-toggleable__content\"><pre>LinearRegression()</pre></div></div></div></div></div>"
      ],
      "text/plain": [
       "LinearRegression()"
      ]
     },
     "execution_count": 165,
     "metadata": {},
     "output_type": "execute_result"
    }
   ],
   "source": [
    "regr.fit(x_train,Y_train)"
   ]
  },
  {
   "cell_type": "code",
   "execution_count": 166,
   "id": "5a0cda6d-6563-4817-8037-487ab1134fe9",
   "metadata": {
    "tags": []
   },
   "outputs": [],
   "source": [
    "y_train_predict = regr.predict(x_train)"
   ]
  },
  {
   "cell_type": "code",
   "execution_count": 168,
   "id": "b8a9e554-c4f2-4e20-8801-8f8bcf738252",
   "metadata": {
    "tags": []
   },
   "outputs": [],
   "source": [
    "mse = mean_squared_error(Y_train,y_train_predict)"
   ]
  },
  {
   "cell_type": "code",
   "execution_count": 169,
   "id": "bc55e362-dc42-48b7-9c2f-14d61e35c220",
   "metadata": {
    "tags": []
   },
   "outputs": [
    {
     "data": {
      "text/plain": [
       "58865.3685498913"
      ]
     },
     "execution_count": 169,
     "metadata": {},
     "output_type": "execute_result"
    }
   ],
   "source": [
    "mean_absolute_error(Y_train,y_train_predict)"
   ]
  },
  {
   "cell_type": "code",
   "execution_count": 170,
   "id": "9fcb84d3-4143-4a62-9cf1-c12e71d8bf42",
   "metadata": {
    "tags": []
   },
   "outputs": [],
   "source": [
    "rmse = np.sqrt(mse)"
   ]
  },
  {
   "cell_type": "code",
   "execution_count": 171,
   "id": "feec7581-f557-40dc-b4cc-95d735469508",
   "metadata": {
    "tags": []
   },
   "outputs": [
    {
     "data": {
      "text/plain": [
       "78522.94476733613"
      ]
     },
     "execution_count": 171,
     "metadata": {},
     "output_type": "execute_result"
    }
   ],
   "source": [
    "rmse"
   ]
  },
  {
   "cell_type": "markdown",
   "id": "ed556a0a-fe04-446a-a2d6-17842a4fc635",
   "metadata": {},
   "source": [
    "Evaluamos el modelo en test"
   ]
  },
  {
   "cell_type": "code",
   "execution_count": 172,
   "id": "c9bc5aad-182b-4681-92c2-ee88b9baf212",
   "metadata": {
    "tags": []
   },
   "outputs": [],
   "source": [
    "x_test = scaler.transform(X_test)"
   ]
  },
  {
   "cell_type": "code",
   "execution_count": 173,
   "id": "2f8a0b5b-777f-4d93-b697-d36747ca5c3f",
   "metadata": {
    "tags": []
   },
   "outputs": [],
   "source": [
    "y_test_predict = regr.predict(x_test)"
   ]
  },
  {
   "cell_type": "code",
   "execution_count": 174,
   "id": "db21b9ef-bdea-4b55-8e70-6aad9dd4f062",
   "metadata": {
    "tags": []
   },
   "outputs": [],
   "source": [
    "mse = mean_squared_error(Y_test,y_test_predict)"
   ]
  },
  {
   "cell_type": "code",
   "execution_count": 175,
   "id": "8dcae434-2c3d-4479-849c-b66f2336edfa",
   "metadata": {
    "tags": []
   },
   "outputs": [
    {
     "data": {
      "text/plain": [
       "59423.74672766247"
      ]
     },
     "execution_count": 175,
     "metadata": {},
     "output_type": "execute_result"
    }
   ],
   "source": [
    "mean_absolute_error(Y_test,y_test_predict)"
   ]
  },
  {
   "cell_type": "code",
   "execution_count": 176,
   "id": "4da8ed8e-8077-4307-b684-26c93da66a54",
   "metadata": {
    "tags": []
   },
   "outputs": [],
   "source": [
    "rmse = np.sqrt(mse)"
   ]
  },
  {
   "cell_type": "code",
   "execution_count": 177,
   "id": "e61ebabc-d38b-45e9-a8db-c9fa840d7026",
   "metadata": {
    "tags": []
   },
   "outputs": [
    {
     "data": {
      "text/plain": [
       "79835.65692167124"
      ]
     },
     "execution_count": 177,
     "metadata": {},
     "output_type": "execute_result"
    }
   ],
   "source": [
    "rmse"
   ]
  },
  {
   "cell_type": "code",
   "execution_count": 178,
   "id": "dfa3a48b-efc1-4124-9f67-3f96b2857e8d",
   "metadata": {
    "tags": []
   },
   "outputs": [
    {
     "data": {
      "text/html": [
       "<div>\n",
       "<style scoped>\n",
       "    .dataframe tbody tr th:only-of-type {\n",
       "        vertical-align: middle;\n",
       "    }\n",
       "\n",
       "    .dataframe tbody tr th {\n",
       "        vertical-align: top;\n",
       "    }\n",
       "\n",
       "    .dataframe thead th {\n",
       "        text-align: right;\n",
       "    }\n",
       "</style>\n",
       "<table border=\"1\" class=\"dataframe\">\n",
       "  <thead>\n",
       "    <tr style=\"text-align: right;\">\n",
       "      <th></th>\n",
       "      <th>median_house_value</th>\n",
       "    </tr>\n",
       "  </thead>\n",
       "  <tbody>\n",
       "    <tr>\n",
       "      <th>count</th>\n",
       "      <td>4128.000000</td>\n",
       "    </tr>\n",
       "    <tr>\n",
       "      <th>mean</th>\n",
       "      <td>205279.500969</td>\n",
       "    </tr>\n",
       "    <tr>\n",
       "      <th>std</th>\n",
       "      <td>114204.678512</td>\n",
       "    </tr>\n",
       "    <tr>\n",
       "      <th>min</th>\n",
       "      <td>14999.000000</td>\n",
       "    </tr>\n",
       "    <tr>\n",
       "      <th>25%</th>\n",
       "      <td>118800.000000</td>\n",
       "    </tr>\n",
       "    <tr>\n",
       "      <th>50%</th>\n",
       "      <td>177800.000000</td>\n",
       "    </tr>\n",
       "    <tr>\n",
       "      <th>75%</th>\n",
       "      <td>265600.000000</td>\n",
       "    </tr>\n",
       "    <tr>\n",
       "      <th>max</th>\n",
       "      <td>500001.000000</td>\n",
       "    </tr>\n",
       "  </tbody>\n",
       "</table>\n",
       "</div>"
      ],
      "text/plain": [
       "       median_house_value\n",
       "count         4128.000000\n",
       "mean        205279.500969\n",
       "std         114204.678512\n",
       "min          14999.000000\n",
       "25%         118800.000000\n",
       "50%         177800.000000\n",
       "75%         265600.000000\n",
       "max         500001.000000"
      ]
     },
     "execution_count": 178,
     "metadata": {},
     "output_type": "execute_result"
    }
   ],
   "source": [
    "Y_test.describe()"
   ]
  },
  {
   "cell_type": "markdown",
   "id": "038f58b6-92c1-4e74-9ddc-dc4baf7169f1",
   "metadata": {},
   "source": [
    "Recordamos que un modelo regresivo es \"bueno\" cuando el error no supera la desviacion estandar de la variable a predecir. Es decir, debemos evaluar la magnitud del error en la misma magnitud de la variable que estamos intentando explicar. "
   ]
  }
 ],
 "metadata": {
  "kernelspec": {
   "display_name": "Python 3 (ipykernel)",
   "language": "python",
   "name": "python3"
  },
  "language_info": {
   "codemirror_mode": {
    "name": "ipython",
    "version": 3
   },
   "file_extension": ".py",
   "mimetype": "text/x-python",
   "name": "python",
   "nbconvert_exporter": "python",
   "pygments_lexer": "ipython3",
   "version": "3.11.7"
  }
 },
 "nbformat": 4,
 "nbformat_minor": 5
}
